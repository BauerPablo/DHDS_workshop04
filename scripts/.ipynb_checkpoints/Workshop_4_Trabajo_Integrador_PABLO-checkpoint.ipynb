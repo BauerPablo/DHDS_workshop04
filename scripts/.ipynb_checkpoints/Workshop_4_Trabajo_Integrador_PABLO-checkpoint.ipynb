{
 "cells": [
  {
   "cell_type": "markdown",
   "id": "eb600fa0",
   "metadata": {},
   "source": [
    "<div float: center>\n",
    "    <img src=\"../common/../common/logo_DH.png\" width=\"30%\" height=\"30%\" style=\"text-align: left;\">\n",
    "    <img src=\"../common/wipro_logo.png\"  width=\"20%\" height=\"20%\" style=\"text-align: right; margin-left:400px;\">\n",
    "<div/>\n",
    "\n",
    "---\n",
    "\n",
    "# WORKSHOP 4 - Trabajo integrador de DataScience\n",
    "\n",
    "## GRUPO 8\n",
    "\n",
    "Integrantes:\n",
    "- Agustín García \n",
    "- Florencia Mosconi\n",
    "- Ezequiel López Mondo \n",
    "- Pablo Bauer \n",
    "\n",
    "<a id=\"tabla_contenidos\"></a> \n",
    "## Tabla de Contenidos\n",
    "\n",
    "### <a href='#section_repaso'>1. Introducción</a>\n",
    "- #### <a href='#explicacion_dataset'>1.1. Presentación del caso</a>\n",
    "- #### <a href='#metodologia'>1.2. La metodología de trabajo</a>\n",
    "\n",
    "### <a href='#section_import_lib'>2. Importación de librerías para casos de Clasificación</a>\n",
    "\n",
    "\n",
    "### <a href='#importar_dataset'>3. Importando el DataSet</a> \n",
    "- #### <a href='#imputacion'>3.1. Imputación de datos</a>\n",
    "\n",
    "### <a  href='#preparacion_entrenamiento'>4. Preparación y Entrenamiento del DataSet</a>\n",
    "- #### <a href='#features'>4.1. Features y dummies</a>\n",
    "- #### <a href='#split'>4.2. Split del set de entrenamiento</a>\n",
    "- #### <a href='#matrix_corr'>4.3. Matriz de correlación</a>\n",
    "- #### <a href='#analisis_corr'>4.4. Analisis preliminar de correlación</a>\n",
    "\n",
    "### <a  href='#evaluacion_modelos'>5. Evaluación de los Modelos Métricas</a>\n",
    "- #### <a href='#pipeline_rfr'>5.1. PipeLine [RandomForestRegressor]</a>\n",
    "- #### <a href='#features_imp_rfr'>5.2. Features Importance [RandomForestRegressor]</a>\n",
    "- #### <a href='#pipeline_ada'>5.3. PipeLine [Ada Boost Regressor]</a>\n",
    "- #### <a href='#features_imp_ada'>5.4. Features Importance [Ada Boost Regressor]</a>\n",
    "- #### <a href='#best_performance'>5.5. Entrenamiento con los parámetros de mejor performance [DataSet Completo]</a>\n",
    "    \n",
    "### <a href='#section_curva_roc'>6. Curva ROC</a>\n",
    "- #### <a href='#section_umbrales'>6.1. Ajustando los umbrales</a>\n",
    "- #### <a href='#section_imp_croc'>6.2. Implementación Curva ROC y AUC</a>\n",
    "\n",
    "### <a href='#export_pickle'>7. Expostarndo en Pickle</a>\n",
    "    \n",
    "### <a href='#conclusiones'>8. Conclusuiones</a>\n",
    "---"
   ]
  },
  {
   "cell_type": "markdown",
   "id": "9b21a51e",
   "metadata": {},
   "source": [
    "<a id=\"section_repaso\"></a> \n",
    "## 1. Introducción\n",
    "---\n",
    "<a href='#tabla_contenidos'>Volver a la Tabla de Contenidos</a>"
   ]
  },
  {
   "cell_type": "markdown",
   "id": "a3c3be2d",
   "metadata": {},
   "source": [
    "<a id=\"explicacion_dataset\"></a> \n",
    "### 1.1 Presentación del caso\n",
    "\n",
    "<img src=\"../common/solar_farms.png\"  width=\"100%\" height=\"100%\">\n",
    "\n",
    ":es:\n",
    "\n",
    "**Objetivo del Poryecto**\n",
    "\n",
    "El objetivo de este proyecto es optimizar la producción de energía solar de una empresa de líder en el campo. Para ello, se requiere desarrollar un modelo de predicción capaz de predecir los valores de 'Clearsky DHI', 'Clearsky DNI' y 'Clearsky GHI', que son índices de incidencia solar clave.\n",
    "\n",
    "Utilizando un conjunto de datos recopilados durante 10 años con un intervalo de 30 minutos, se entrenará el modelo de predicción. Este modelo permitirá predecir la capacidad de producción de una granja solar en función de ciertos parámetros meteorológicos relevantes.\n",
    "\n",
    "El objetivo final es proporcionar a la empresa de generación de energía solar una herramienta precisa y confiable para optimizar la producción. Esto permitirá una planificación más eficiente de las operaciones, una mejor gestión de los recursos disponibles y proporcionar valores de entrega de energía, basados en predicciones meteorológicas a través de los servicios de Meteorología Nacionales.\n",
    "\n",
    "Con este proyecto, se busca aprovechar al máximo el potencial de la energía solar y contribuir a un enfoque más sostenible y respetuoso con el medio ambiente en la generación de energía.\n",
    "\n",
    "---\n",
    "\n",
    ":us:\n",
    "\n",
    "**Goal of the Project**\n",
    "\n",
    "*The objective of this project is to optimize the solar energy production of a leading company in the field. For this, it is necessary to develop a prediction model capable of predicting the values of 'Clearsky DHI', 'Clearsky DNI' and 'Clearsky GHI', which are key solar incidence indices.\n",
    "\n",
    "*Using a data set collected over 10 years with an interval of 30 minutes, the prediction model will be trained. This model will make it possible to predict the production capacity of a solar farm based on certain relevant meteorological parameters.\n",
    "\n",
    "*The ultimate goal is to provide the solar power generation company with an accurate and reliable tool to optimize production. This will allow for more efficient planning, better management of available resources and will provide energy delivery values, based on weather predictions through the National Meteorology services.\n",
    "\n",
    "*This project seeks to make the most of the potential of solar energy and contribute to a more sustainable and environmentally friendly approach to power generation.\n",
    "\n",
    "\n",
    ":es:\n",
    "\n",
    "#### Contexto\n",
    "\n",
    "Wipro Limited (NYSE: WIT, BSE: 507685, NSE: WIPRO) es una empresa líder mundial en servicios de tecnología de la información, consultoría y procesos comerciales. Aprovechamos el poder de la computación cognitiva, la hiperautomatización, la robótica, nubes, el análisis y las tecnologías emergentes para ayudar a nuestros clientes a adaptarse al mundo digital y hacerlos exitosos. Una empresa reconocida a nivel mundial por su cartera integral de servicios, fuerte compromiso con la sostenibilidad y capital humano comprometido, tenemos más de 220 000 empleados dedicados, que atienden a clientes en seis continentes. Juntos, descubrimos ideas y conectamos los puntos para construir un futuro mejor y más audaz.\n",
    "\n",
    "Además de ser un líder mundial en servicios de inteligencia artificial según los últimos informes de analistas como Forrester, IDC y Everest Group, Wipro ha sido calificada como la segunda mejor organización para que los científicos de datos trabajen en India en 2021 por Analytics India Magazine. La compañía también se ha comprometido a alcanzar unas emisiones netas de gases de efecto invernadero cero para 2040.\n",
    "\n",
    "Aunque un poco tarde, el mundo se está dando cuenta del efecto nocivo de los combustibles fósiles en nuestro medio ambiente. A medida que avanza el reloj del fin del mundo, los seres humanos recurren a las energías renovables para evitar un posible apocalipsis. Afortunadamente, el sol es un manantial de energía limpia. Siguiendo el ejemplo, Wipro, en asociación con MachineHack, ha diseñado un desafío de pronóstico para optimizar la generación de energía solar utilizando modelos ML.\n",
    "\n",
    "---\n",
    ":us:\n",
    "\n",
    "#### Context\n",
    "\n",
    "*Wipro Limited (NYSE: WIT, BSE: 507685, NSE: WIPRO) is a leading global information technology, consulting and business process services company. We harness the power of cognitive computing, hyper-automation, robotics, cloud, analytics and emerging technologies to help our clients adapt to the digital world and make them successful. A company recognized globally for its comprehensive portfolio of services, strong commitment to sustainability and good corporate citizenship, we have over 220,000 dedicated employees serving clients across six continents. Together, we discover ideas and connect the dots to build a better and a bold new future.*\n",
    "\n",
    "*Along with being a global leader in artificial intelligence services from the latest reports of analysts like Forrester, IDC and Everest Group, Wipro has been rated as the second-best organization for data scientists to work in India in 2021 by Analytics India Magazine. The company has also been committed to reaching a Net-Zero Greenhouse Gas Emissions by 2040.*\n",
    "\n",
    "*Though a little late in the day, the world is waking up to the deleterious effect of fossil fuels on our environment. As the doomsday clock ticks away, human beings are turning to renewable energy to avert a possible apocalypse. Fortunately, the sun is a well-spring of clean energy. Taking the cue, Wipro, in association with MachineHack, has designed a forecasting challenge to optimise solar power generation using ML models.*\n",
    "\n",
    "---\n",
    "\n",
    "['Year', 'Month', 'Day', 'Hour', 'Minute', 'Temperature', 'Clearsky DHI', 'Clearsky DNI', 'Clearsky GHI', 'Cloud Type', 'Dew Point', 'Fill Flag', 'Relative Humidity', 'Solar Zenith Angle', 'Pressure', 'Precipitable Water', 'Wind Direction', 'Wind Speed']\n",
    "\n",
    "#### Columnas\n",
    "- **Year** - Año de toma de datos\n",
    "- **Month** - Mes de toma de datos\n",
    "- **Day** - Día de toma de datos\n",
    "- **Hour** - Hora de toma de datos\n",
    "- **Minute** - Minuto de toma de datos\n",
    "- **Temperature** - Temperatura local\n",
    "- **Clearsky_DHI** - Diffuese Horizontal Irradiance w/m2\n",
    "- **Clearsky_DNI** - Direct Normal Irradiance w/m2\n",
    "- **Clearsky_GHI** - Global Horizontal Irradiance w/m2\n",
    "- **Cloud_Type** - Tipo de Nubosidad en el ambiente\n",
    "    - Cloud Type 0 Clear\n",
    "    - Cloud Type 1 Probably Clear\n",
    "    - Cloud Type 2 Fog\n",
    "    - Cloud Type 3 Water\n",
    "    - Cloud Type 4 Super-Cooled Water\n",
    "    - Cloud Type 5 Mixed\n",
    "    - Cloud Type 6 Opaque Ice\n",
    "    - Cloud Type 7 Cirrus\n",
    "    - Cloud Type 8 Overlapping\n",
    "    - Cloud Type 9 Overshooting\n",
    "    - Cloud Type 10 Unknown\n",
    "    - Cloud Type 11 Dust\n",
    "    - Cloud Type 12 Smoke\n",
    "    - Cloud Type -15 N/A\n",
    "- **Dew_Point** - Punto de rocío\n",
    "- **Fill_Flag** - \n",
    "    - Fill Flag 0 N/A\n",
    "    - Fill Flag 1 Missing Image\n",
    "    - Fill Flag 2 Low Irradiance\n",
    "    - Fill Flag 3 Exceeds Clearsky\n",
    "    - Fill Flag 4 Missing Cloud Properties\n",
    "    - Fill Flag 5 Rayleigh Violation\n",
    "    - Fill Flag any N/A\n",
    "- **Relative_Humidity** - Humedad relativa\n",
    "- **Solar_Zenith_Angle** - Ángulo de zenit solar\n",
    "- **Pressure** - Presión atomsférica\n",
    "- **Precipitable_Water** - Precipitación de lluvia en mm\n",
    "- **Wind_Direction** - Dirección del viento\n",
    "- **Wind_Speed** - Velocidad del viento\n",
    "\n",
    "<a id=\"metodologia\"></a> \n",
    "### 1.2 La metodología de trabajo\n",
    "\n",
    "Hemos estructurado nuestra metodología de trabajo en varias tareas con el fin de cumplir con nuestros objetivos principales. El objetivo primario es desarrollar un sistema predictivo en la notebook y crear una presentación en PowerPoint, tal como se requiere en el curso.\n",
    "\n",
    "Además de esto, hemos definido una serie de tareas complementarias para cumplir con nuestro objetivo secundario. Este objetivo implica poner en producción una pequeña página web en un servidor local, la cual contará con las funcionalidades mínimas necesarias para el funcionamiento del sistema y permitirá realizar consultas.\n",
    "\n",
    "A través de esta metodología, aseguramos un enfoque ordenado y organizado para alcanzar tanto el objetivo primario como el secundario. Cada tarea predictiva se realizará de manera paralela, permitiendo una progresión lógica en el desarrollo del proyecto y permitiendo un proceso comparativo de distintos modelos de aprendizaje. De esta manera, podremos cumplir con los requisitos del curso y también lograr la puesta en funcionamiento del sistema en una página web, brindando una solución más completa y accesible para los usuarios.\n",
    "\n",
    "Esta metodología nos permite maximizar la eficiencia y garantizar la entrega exitosa de los resultados esperados en los plazos establecidos."
   ]
  },
  {
   "cell_type": "markdown",
   "id": "55d39e17",
   "metadata": {},
   "source": [
    "<a id=\"section_import_lib\"></a>\n",
    "## 2. Importación de librerías para casos de Clasificación\n",
    "---\n",
    "<a href='#tabla_contenidos'>Volver a la Tabla de Contenidos</a>"
   ]
  },
  {
   "cell_type": "code",
   "execution_count": 71,
   "id": "c804e440",
   "metadata": {},
   "outputs": [],
   "source": [
    "import pandas as pd\n",
    "import numpy as np\n",
    "import seaborn as sns\n",
    "import matplotlib.pyplot as plt\n",
    "import pickle\n",
    "import plotly.express as px\n",
    "\n",
    "from sklearn.model_selection import train_test_split\n",
    "from sklearn.preprocessing import OneHotEncoder, StandardScaler, MinMaxScaler\n",
    "from sklearn.ensemble import BaggingRegressor, RandomForestRegressor, AdaBoostRegressor\n",
    "from sklearn.tree import DecisionTreeRegressor\n",
    "from sklearn.linear_model import LinearRegression\n",
    "from sklearn.model_selection import GridSearchCV, StratifiedKFold\n",
    "from sklearn.pipeline import Pipeline\n",
    "from sklearn.metrics import confusion_matrix, r2_score, mean_absolute_error, mean_squared_error\n",
    "from sklearn.utils import resample"
   ]
  },
  {
   "cell_type": "markdown",
   "id": "40008ee0",
   "metadata": {},
   "source": [
    "<a id=\"importar_dataset\"></a>\n",
    "## 3. Importando el DataSet\n",
    "---\n",
    "<a href='#tabla_contenidos'>Volver a la Tabla de Contenidos</a>"
   ]
  },
  {
   "cell_type": "code",
   "execution_count": 2,
   "id": "1f672953",
   "metadata": {},
   "outputs": [
    {
     "name": "stdout",
     "output_type": "stream",
     "text": [
      "(175296, 18)\n",
      "(17520, 18)\n"
     ]
    }
   ],
   "source": [
    "ruta_X_train = \"../data/train.csv\"\n",
    "ruta_X_test = \"../data/test.csv\"\n",
    "ruta_sample_submission = \"../data/sample_submission.csv\"\n",
    "\n",
    "# Con este data set crearemos los DF de entrenamiento y testeo\n",
    "data = pd.read_csv(ruta_X_train, sep=',')\n",
    "\n",
    "# Este data set quedará como set de prediciones\n",
    "X_test_ = pd.read_csv(ruta_X_test, sep=',')\n",
    "\n",
    "# VER QUE HACEMOS CON ESTO, YO LO ELIMINARÍA\n",
    "sample_submission = pd.read_csv(ruta_sample_submission, sep=',')\n",
    "\n",
    "print(data.shape)\n",
    "print(X_test_.shape)"
   ]
  },
  {
   "cell_type": "code",
   "execution_count": 3,
   "id": "b6722436",
   "metadata": {},
   "outputs": [
    {
     "data": {
      "text/plain": [
       "Year                  0.0\n",
       "Month                 0.0\n",
       "Day                   0.0\n",
       "Hour                  0.0\n",
       "Minute                0.0\n",
       "Clearsky DHI          0.0\n",
       "Clearsky DNI          0.0\n",
       "Clearsky GHI          0.0\n",
       "Cloud Type            0.0\n",
       "Dew Point             0.0\n",
       "Temperature           0.0\n",
       "Pressure              0.0\n",
       "Relative Humidity     0.0\n",
       "Solar Zenith Angle    0.0\n",
       "Precipitable Water    0.0\n",
       "Wind Direction        0.0\n",
       "Wind Speed            0.0\n",
       "Fill Flag             0.0\n",
       "dtype: float64"
      ]
     },
     "execution_count": 3,
     "metadata": {},
     "output_type": "execute_result"
    }
   ],
   "source": [
    "data_nan = data.apply(lambda x: x.isnull().sum()/x.shape[0], axis=0)\n",
    "data_nan"
   ]
  },
  {
   "cell_type": "markdown",
   "id": "1a0668fd",
   "metadata": {},
   "source": [
    "Podemos observar que el DataSet no contiene ningún nulo, ya que este fue tomado por una computadore de manera continua de los datos climaticos de la zona."
   ]
  },
  {
   "cell_type": "markdown",
   "id": "bcc39f6a",
   "metadata": {},
   "source": [
    "<a id=\"imputacion\"></a> \n",
    "### 3.1 Imputación de datos"
   ]
  },
  {
   "cell_type": "markdown",
   "id": "1cb7bcae",
   "metadata": {},
   "source": [
    "En esta imputación encontramos una discrepancia en la organización de las columnas y hacemos un arreglo para que tengan el  mismo orden del DataSet que utilizaremos al final de trabajo para realizar predicciones futuras."
   ]
  },
  {
   "cell_type": "code",
   "execution_count": 4,
   "id": "c5181d23",
   "metadata": {},
   "outputs": [
    {
     "data": {
      "text/plain": [
       "array(['Year', 'Month', 'Day', 'Hour', 'Minute', 'Cloud Type',\n",
       "       'Dew Point', 'Temperature', 'Pressure', 'Relative Humidity',\n",
       "       'Solar Zenith Angle', 'Precipitable Water', 'Wind Direction',\n",
       "       'Wind Speed', 'Fill Flag', 'Clearsky DHI', 'Clearsky DNI',\n",
       "       'Clearsky GHI'], dtype=object)"
      ]
     },
     "execution_count": 4,
     "metadata": {},
     "output_type": "execute_result"
    }
   ],
   "source": [
    "X_test_.columns.values"
   ]
  },
  {
   "cell_type": "code",
   "execution_count": 5,
   "id": "193f808f",
   "metadata": {
    "scrolled": true
   },
   "outputs": [
    {
     "data": {
      "text/html": [
       "<div>\n",
       "<style scoped>\n",
       "    .dataframe tbody tr th:only-of-type {\n",
       "        vertical-align: middle;\n",
       "    }\n",
       "\n",
       "    .dataframe tbody tr th {\n",
       "        vertical-align: top;\n",
       "    }\n",
       "\n",
       "    .dataframe thead th {\n",
       "        text-align: right;\n",
       "    }\n",
       "</style>\n",
       "<table border=\"1\" class=\"dataframe\">\n",
       "  <thead>\n",
       "    <tr style=\"text-align: right;\">\n",
       "      <th></th>\n",
       "      <th>Year</th>\n",
       "      <th>Month</th>\n",
       "      <th>Day</th>\n",
       "      <th>Hour</th>\n",
       "      <th>Minute</th>\n",
       "      <th>Cloud Type</th>\n",
       "      <th>Dew Point</th>\n",
       "      <th>Temperature</th>\n",
       "      <th>Pressure</th>\n",
       "      <th>Relative Humidity</th>\n",
       "      <th>Solar Zenith Angle</th>\n",
       "      <th>Precipitable Water</th>\n",
       "      <th>Wind Direction</th>\n",
       "      <th>Wind Speed</th>\n",
       "      <th>Fill Flag</th>\n",
       "      <th>Clearsky DHI</th>\n",
       "      <th>Clearsky DNI</th>\n",
       "      <th>Clearsky GHI</th>\n",
       "    </tr>\n",
       "  </thead>\n",
       "  <tbody>\n",
       "    <tr>\n",
       "      <th>82777</th>\n",
       "      <td>2013</td>\n",
       "      <td>9</td>\n",
       "      <td>21</td>\n",
       "      <td>12</td>\n",
       "      <td>30</td>\n",
       "      <td>4</td>\n",
       "      <td>20.0</td>\n",
       "      <td>21.0</td>\n",
       "      <td>1000</td>\n",
       "      <td>97.90</td>\n",
       "      <td>76.68</td>\n",
       "      <td>4.980</td>\n",
       "      <td>178.8</td>\n",
       "      <td>2.4</td>\n",
       "      <td>0</td>\n",
       "      <td>64</td>\n",
       "      <td>448</td>\n",
       "      <td>167</td>\n",
       "    </tr>\n",
       "    <tr>\n",
       "      <th>68398</th>\n",
       "      <td>2012</td>\n",
       "      <td>11</td>\n",
       "      <td>25</td>\n",
       "      <td>23</td>\n",
       "      <td>0</td>\n",
       "      <td>0</td>\n",
       "      <td>-3.0</td>\n",
       "      <td>10.0</td>\n",
       "      <td>1000</td>\n",
       "      <td>40.18</td>\n",
       "      <td>96.32</td>\n",
       "      <td>0.595</td>\n",
       "      <td>239.9</td>\n",
       "      <td>1.3</td>\n",
       "      <td>0</td>\n",
       "      <td>0</td>\n",
       "      <td>0</td>\n",
       "      <td>0</td>\n",
       "    </tr>\n",
       "    <tr>\n",
       "      <th>157081</th>\n",
       "      <td>2017</td>\n",
       "      <td>12</td>\n",
       "      <td>17</td>\n",
       "      <td>12</td>\n",
       "      <td>30</td>\n",
       "      <td>4</td>\n",
       "      <td>1.0</td>\n",
       "      <td>5.0</td>\n",
       "      <td>1010</td>\n",
       "      <td>79.70</td>\n",
       "      <td>90.73</td>\n",
       "      <td>2.923</td>\n",
       "      <td>112.4</td>\n",
       "      <td>1.6</td>\n",
       "      <td>0</td>\n",
       "      <td>0</td>\n",
       "      <td>0</td>\n",
       "      <td>0</td>\n",
       "    </tr>\n",
       "    <tr>\n",
       "      <th>78359</th>\n",
       "      <td>2013</td>\n",
       "      <td>6</td>\n",
       "      <td>21</td>\n",
       "      <td>11</td>\n",
       "      <td>30</td>\n",
       "      <td>0</td>\n",
       "      <td>20.0</td>\n",
       "      <td>22.0</td>\n",
       "      <td>1010</td>\n",
       "      <td>93.58</td>\n",
       "      <td>79.32</td>\n",
       "      <td>3.782</td>\n",
       "      <td>59.4</td>\n",
       "      <td>3.4</td>\n",
       "      <td>0</td>\n",
       "      <td>58</td>\n",
       "      <td>342</td>\n",
       "      <td>121</td>\n",
       "    </tr>\n",
       "    <tr>\n",
       "      <th>140967</th>\n",
       "      <td>2017</td>\n",
       "      <td>1</td>\n",
       "      <td>15</td>\n",
       "      <td>19</td>\n",
       "      <td>30</td>\n",
       "      <td>8</td>\n",
       "      <td>14.0</td>\n",
       "      <td>21.0</td>\n",
       "      <td>1010</td>\n",
       "      <td>70.67</td>\n",
       "      <td>58.49</td>\n",
       "      <td>2.029</td>\n",
       "      <td>213.1</td>\n",
       "      <td>1.0</td>\n",
       "      <td>0</td>\n",
       "      <td>104</td>\n",
       "      <td>799</td>\n",
       "      <td>521</td>\n",
       "    </tr>\n",
       "  </tbody>\n",
       "</table>\n",
       "</div>"
      ],
      "text/plain": [
       "        Year  Month  Day  Hour  Minute  Cloud Type  Dew Point  Temperature  \\\n",
       "82777   2013      9   21    12      30           4       20.0         21.0   \n",
       "68398   2012     11   25    23       0           0       -3.0         10.0   \n",
       "157081  2017     12   17    12      30           4        1.0          5.0   \n",
       "78359   2013      6   21    11      30           0       20.0         22.0   \n",
       "140967  2017      1   15    19      30           8       14.0         21.0   \n",
       "\n",
       "        Pressure  Relative Humidity  Solar Zenith Angle  Precipitable Water  \\\n",
       "82777       1000              97.90               76.68               4.980   \n",
       "68398       1000              40.18               96.32               0.595   \n",
       "157081      1010              79.70               90.73               2.923   \n",
       "78359       1010              93.58               79.32               3.782   \n",
       "140967      1010              70.67               58.49               2.029   \n",
       "\n",
       "        Wind Direction  Wind Speed  Fill Flag  Clearsky DHI  Clearsky DNI  \\\n",
       "82777            178.8         2.4          0            64           448   \n",
       "68398            239.9         1.3          0             0             0   \n",
       "157081           112.4         1.6          0             0             0   \n",
       "78359             59.4         3.4          0            58           342   \n",
       "140967           213.1         1.0          0           104           799   \n",
       "\n",
       "        Clearsky GHI  \n",
       "82777            167  \n",
       "68398              0  \n",
       "157081             0  \n",
       "78359            121  \n",
       "140967           521  "
      ]
     },
     "execution_count": 5,
     "metadata": {},
     "output_type": "execute_result"
    }
   ],
   "source": [
    "data = data[['Year', 'Month', 'Day', 'Hour', 'Minute', 'Cloud Type',\n",
    "       'Dew Point', 'Temperature', 'Pressure', 'Relative Humidity',\n",
    "       'Solar Zenith Angle', 'Precipitable Water', 'Wind Direction',\n",
    "       'Wind Speed', 'Fill Flag', 'Clearsky DHI', 'Clearsky DNI',\n",
    "       'Clearsky GHI']]\n",
    "\n",
    "data.sample(5)"
   ]
  },
  {
   "cell_type": "code",
   "execution_count": 6,
   "id": "c12135c4",
   "metadata": {},
   "outputs": [
    {
     "data": {
      "text/plain": [
       "<AxesSubplot:>"
      ]
     },
     "execution_count": 6,
     "metadata": {},
     "output_type": "execute_result"
    },
    {
     "data": {
      "image/png": "[encoded data removed]",
      "text/plain": [
       "<Figure size 640x480 with 1 Axes>"
      ]
     },
     "metadata": {},
     "output_type": "display_data"
    }
   ],
   "source": [
    "data.boxplot(column=['Dew Point', 'Temperature', 'Precipitable Water',\n",
    "       'Wind Speed'], \n",
    "                  by=None, \n",
    "                  ax=None, \n",
    "                  fontsize=None, \n",
    "                  rot=0, \n",
    "                  grid=True, \n",
    "                  figsize=None, \n",
    "                  layout=None, \n",
    "                  return_type=None, \n",
    "                  backend=None)\n"
   ]
  },
  {
   "cell_type": "code",
   "execution_count": 7,
   "id": "fb4a7d24",
   "metadata": {},
   "outputs": [
    {
     "data": {
      "text/plain": [
       "<AxesSubplot:>"
      ]
     },
     "execution_count": 7,
     "metadata": {},
     "output_type": "execute_result"
    },
    {
     "data": {
      "image/png": "[encoded data removed]",
      "text/plain": [
       "<Figure size 640x480 with 1 Axes>"
      ]
     },
     "metadata": {},
     "output_type": "display_data"
    }
   ],
   "source": [
    "data.boxplot(column=['Pressure'], \n",
    "                  by=None, \n",
    "                  ax=None, \n",
    "                  fontsize=None, \n",
    "                  rot=0, \n",
    "                  grid=True, \n",
    "                  figsize=None, \n",
    "                  layout=None, \n",
    "                  return_type=None, \n",
    "                  backend=None)"
   ]
  },
  {
   "cell_type": "code",
   "execution_count": 8,
   "id": "f41ea0cb",
   "metadata": {},
   "outputs": [
    {
     "data": {
      "text/plain": [
       "<AxesSubplot:>"
      ]
     },
     "execution_count": 8,
     "metadata": {},
     "output_type": "execute_result"
    },
    {
     "data": {
      "image/png": "[encoded data removed]",
      "text/plain": [
       "<Figure size 640x480 with 1 Axes>"
      ]
     },
     "metadata": {},
     "output_type": "display_data"
    }
   ],
   "source": [
    "data.boxplot(column=['Clearsky DHI', 'Clearsky DNI',\n",
    "       'Clearsky GHI'], \n",
    "                  by=None, \n",
    "                  ax=None, \n",
    "                  fontsize=None, \n",
    "                  rot=0, \n",
    "                  grid=True, \n",
    "                  figsize=None, \n",
    "                  layout=None, \n",
    "                  return_type=None, \n",
    "                  backend=None)"
   ]
  },
  {
   "cell_type": "code",
   "execution_count": 9,
   "id": "e233452e",
   "metadata": {},
   "outputs": [
    {
     "data": {
      "text/plain": [
       "<AxesSubplot:>"
      ]
     },
     "execution_count": 9,
     "metadata": {},
     "output_type": "execute_result"
    },
    {
     "data": {
      "image/png": "[encoded data removed]",
      "text/plain": [
       "<Figure size 640x480 with 1 Axes>"
      ]
     },
     "metadata": {},
     "output_type": "display_data"
    }
   ],
   "source": [
    "data.boxplot(column=['Relative Humidity',\n",
    "       'Solar Zenith Angle', 'Wind Direction'], \n",
    "                  by=None, \n",
    "                  ax=None, \n",
    "                  fontsize=None, \n",
    "                  rot=0, \n",
    "                  grid=True, \n",
    "                  figsize=None, \n",
    "                  layout=None, \n",
    "                  return_type=None, \n",
    "                  backend=None)"
   ]
  },
  {
   "cell_type": "code",
   "execution_count": 10,
   "id": "9ed03b72",
   "metadata": {
    "scrolled": true
   },
   "outputs": [
    {
     "data": {
      "text/html": [
       "<div>\n",
       "<style scoped>\n",
       "    .dataframe tbody tr th:only-of-type {\n",
       "        vertical-align: middle;\n",
       "    }\n",
       "\n",
       "    .dataframe tbody tr th {\n",
       "        vertical-align: top;\n",
       "    }\n",
       "\n",
       "    .dataframe thead th {\n",
       "        text-align: right;\n",
       "    }\n",
       "</style>\n",
       "<table border=\"1\" class=\"dataframe\">\n",
       "  <thead>\n",
       "    <tr style=\"text-align: right;\">\n",
       "      <th></th>\n",
       "      <th>Year</th>\n",
       "      <th>Month</th>\n",
       "      <th>Day</th>\n",
       "      <th>Hour</th>\n",
       "      <th>Minute</th>\n",
       "      <th>Cloud Type</th>\n",
       "      <th>Dew Point</th>\n",
       "      <th>Temperature</th>\n",
       "      <th>Pressure</th>\n",
       "      <th>Relative Humidity</th>\n",
       "      <th>Solar Zenith Angle</th>\n",
       "      <th>Precipitable Water</th>\n",
       "      <th>Wind Direction</th>\n",
       "      <th>Wind Speed</th>\n",
       "      <th>Fill Flag</th>\n",
       "      <th>Clearsky DHI</th>\n",
       "      <th>Clearsky DNI</th>\n",
       "      <th>Clearsky GHI</th>\n",
       "    </tr>\n",
       "  </thead>\n",
       "  <tbody>\n",
       "    <tr>\n",
       "      <th>count</th>\n",
       "      <td>175296.000000</td>\n",
       "      <td>175296.000000</td>\n",
       "      <td>175296.000000</td>\n",
       "      <td>175296.000000</td>\n",
       "      <td>175296.000000</td>\n",
       "      <td>175296.000000</td>\n",
       "      <td>175296.000000</td>\n",
       "      <td>175296.000000</td>\n",
       "      <td>175296.000000</td>\n",
       "      <td>175296.000000</td>\n",
       "      <td>175296.000000</td>\n",
       "      <td>175296.000000</td>\n",
       "      <td>175296.000000</td>\n",
       "      <td>175296.000000</td>\n",
       "      <td>175296.000000</td>\n",
       "      <td>175296.000000</td>\n",
       "      <td>175296.000000</td>\n",
       "      <td>175296.000000</td>\n",
       "    </tr>\n",
       "    <tr>\n",
       "      <th>mean</th>\n",
       "      <td>2013.500274</td>\n",
       "      <td>6.523549</td>\n",
       "      <td>15.727820</td>\n",
       "      <td>11.500000</td>\n",
       "      <td>15.000000</td>\n",
       "      <td>2.540474</td>\n",
       "      <td>13.564431</td>\n",
       "      <td>18.266769</td>\n",
       "      <td>1003.185230</td>\n",
       "      <td>79.376366</td>\n",
       "      <td>89.729463</td>\n",
       "      <td>2.903732</td>\n",
       "      <td>188.877796</td>\n",
       "      <td>2.262871</td>\n",
       "      <td>0.740433</td>\n",
       "      <td>53.065426</td>\n",
       "      <td>330.065295</td>\n",
       "      <td>254.365490</td>\n",
       "    </tr>\n",
       "    <tr>\n",
       "      <th>std</th>\n",
       "      <td>2.871908</td>\n",
       "      <td>3.448543</td>\n",
       "      <td>8.799349</td>\n",
       "      <td>6.922206</td>\n",
       "      <td>15.000043</td>\n",
       "      <td>3.021879</td>\n",
       "      <td>8.196787</td>\n",
       "      <td>8.943096</td>\n",
       "      <td>5.935749</td>\n",
       "      <td>19.678235</td>\n",
       "      <td>40.085451</td>\n",
       "      <td>1.546979</td>\n",
       "      <td>99.014733</td>\n",
       "      <td>1.281902</td>\n",
       "      <td>6.575655</td>\n",
       "      <td>64.201407</td>\n",
       "      <td>370.030821</td>\n",
       "      <td>327.705006</td>\n",
       "    </tr>\n",
       "    <tr>\n",
       "      <th>min</th>\n",
       "      <td>2009.000000</td>\n",
       "      <td>1.000000</td>\n",
       "      <td>1.000000</td>\n",
       "      <td>0.000000</td>\n",
       "      <td>0.000000</td>\n",
       "      <td>0.000000</td>\n",
       "      <td>-17.000000</td>\n",
       "      <td>-9.000000</td>\n",
       "      <td>970.000000</td>\n",
       "      <td>7.190000</td>\n",
       "      <td>8.550000</td>\n",
       "      <td>0.122000</td>\n",
       "      <td>0.000000</td>\n",
       "      <td>0.000000</td>\n",
       "      <td>0.000000</td>\n",
       "      <td>0.000000</td>\n",
       "      <td>0.000000</td>\n",
       "      <td>0.000000</td>\n",
       "    </tr>\n",
       "    <tr>\n",
       "      <th>25%</th>\n",
       "      <td>2011.000000</td>\n",
       "      <td>4.000000</td>\n",
       "      <td>8.000000</td>\n",
       "      <td>5.750000</td>\n",
       "      <td>0.000000</td>\n",
       "      <td>0.000000</td>\n",
       "      <td>8.000000</td>\n",
       "      <td>12.000000</td>\n",
       "      <td>1000.000000</td>\n",
       "      <td>65.590000</td>\n",
       "      <td>56.450000</td>\n",
       "      <td>1.534000</td>\n",
       "      <td>97.400000</td>\n",
       "      <td>1.300000</td>\n",
       "      <td>0.000000</td>\n",
       "      <td>0.000000</td>\n",
       "      <td>0.000000</td>\n",
       "      <td>0.000000</td>\n",
       "    </tr>\n",
       "    <tr>\n",
       "      <th>50%</th>\n",
       "      <td>2013.500000</td>\n",
       "      <td>7.000000</td>\n",
       "      <td>16.000000</td>\n",
       "      <td>11.500000</td>\n",
       "      <td>15.000000</td>\n",
       "      <td>1.000000</td>\n",
       "      <td>15.000000</td>\n",
       "      <td>20.000000</td>\n",
       "      <td>1000.000000</td>\n",
       "      <td>84.230000</td>\n",
       "      <td>89.860000</td>\n",
       "      <td>2.866000</td>\n",
       "      <td>200.000000</td>\n",
       "      <td>2.000000</td>\n",
       "      <td>0.000000</td>\n",
       "      <td>0.000000</td>\n",
       "      <td>0.000000</td>\n",
       "      <td>0.000000</td>\n",
       "    </tr>\n",
       "    <tr>\n",
       "      <th>75%</th>\n",
       "      <td>2016.000000</td>\n",
       "      <td>10.000000</td>\n",
       "      <td>23.000000</td>\n",
       "      <td>17.250000</td>\n",
       "      <td>30.000000</td>\n",
       "      <td>6.000000</td>\n",
       "      <td>21.000000</td>\n",
       "      <td>25.000000</td>\n",
       "      <td>1010.000000</td>\n",
       "      <td>97.950000</td>\n",
       "      <td>123.060000</td>\n",
       "      <td>4.223000</td>\n",
       "      <td>272.000000</td>\n",
       "      <td>3.000000</td>\n",
       "      <td>0.000000</td>\n",
       "      <td>103.000000</td>\n",
       "      <td>736.000000</td>\n",
       "      <td>535.000000</td>\n",
       "    </tr>\n",
       "    <tr>\n",
       "      <th>max</th>\n",
       "      <td>2018.000000</td>\n",
       "      <td>12.000000</td>\n",
       "      <td>31.000000</td>\n",
       "      <td>23.000000</td>\n",
       "      <td>30.000000</td>\n",
       "      <td>10.000000</td>\n",
       "      <td>26.900000</td>\n",
       "      <td>40.000000</td>\n",
       "      <td>1024.000000</td>\n",
       "      <td>100.000000</td>\n",
       "      <td>171.550000</td>\n",
       "      <td>7.700000</td>\n",
       "      <td>360.000000</td>\n",
       "      <td>12.900000</td>\n",
       "      <td>100.000000</td>\n",
       "      <td>565.000000</td>\n",
       "      <td>1040.000000</td>\n",
       "      <td>1063.000000</td>\n",
       "    </tr>\n",
       "  </tbody>\n",
       "</table>\n",
       "</div>"
      ],
      "text/plain": [
       "                Year          Month            Day           Hour  \\\n",
       "count  175296.000000  175296.000000  175296.000000  175296.000000   \n",
       "mean     2013.500274       6.523549      15.727820      11.500000   \n",
       "std         2.871908       3.448543       8.799349       6.922206   \n",
       "min      2009.000000       1.000000       1.000000       0.000000   \n",
       "25%      2011.000000       4.000000       8.000000       5.750000   \n",
       "50%      2013.500000       7.000000      16.000000      11.500000   \n",
       "75%      2016.000000      10.000000      23.000000      17.250000   \n",
       "max      2018.000000      12.000000      31.000000      23.000000   \n",
       "\n",
       "              Minute     Cloud Type      Dew Point    Temperature  \\\n",
       "count  175296.000000  175296.000000  175296.000000  175296.000000   \n",
       "mean       15.000000       2.540474      13.564431      18.266769   \n",
       "std        15.000043       3.021879       8.196787       8.943096   \n",
       "min         0.000000       0.000000     -17.000000      -9.000000   \n",
       "25%         0.000000       0.000000       8.000000      12.000000   \n",
       "50%        15.000000       1.000000      15.000000      20.000000   \n",
       "75%        30.000000       6.000000      21.000000      25.000000   \n",
       "max        30.000000      10.000000      26.900000      40.000000   \n",
       "\n",
       "            Pressure  Relative Humidity  Solar Zenith Angle  \\\n",
       "count  175296.000000      175296.000000       175296.000000   \n",
       "mean     1003.185230          79.376366           89.729463   \n",
       "std         5.935749          19.678235           40.085451   \n",
       "min       970.000000           7.190000            8.550000   \n",
       "25%      1000.000000          65.590000           56.450000   \n",
       "50%      1000.000000          84.230000           89.860000   \n",
       "75%      1010.000000          97.950000          123.060000   \n",
       "max      1024.000000         100.000000          171.550000   \n",
       "\n",
       "       Precipitable Water  Wind Direction     Wind Speed      Fill Flag  \\\n",
       "count       175296.000000   175296.000000  175296.000000  175296.000000   \n",
       "mean             2.903732      188.877796       2.262871       0.740433   \n",
       "std              1.546979       99.014733       1.281902       6.575655   \n",
       "min              0.122000        0.000000       0.000000       0.000000   \n",
       "25%              1.534000       97.400000       1.300000       0.000000   \n",
       "50%              2.866000      200.000000       2.000000       0.000000   \n",
       "75%              4.223000      272.000000       3.000000       0.000000   \n",
       "max              7.700000      360.000000      12.900000     100.000000   \n",
       "\n",
       "        Clearsky DHI   Clearsky DNI   Clearsky GHI  \n",
       "count  175296.000000  175296.000000  175296.000000  \n",
       "mean       53.065426     330.065295     254.365490  \n",
       "std        64.201407     370.030821     327.705006  \n",
       "min         0.000000       0.000000       0.000000  \n",
       "25%         0.000000       0.000000       0.000000  \n",
       "50%         0.000000       0.000000       0.000000  \n",
       "75%       103.000000     736.000000     535.000000  \n",
       "max       565.000000    1040.000000    1063.000000  "
      ]
     },
     "execution_count": 10,
     "metadata": {},
     "output_type": "execute_result"
    }
   ],
   "source": [
    "data.describe()"
   ]
  },
  {
   "cell_type": "markdown",
   "id": "0af7edd6",
   "metadata": {},
   "source": [
    "<a id=\"preparacion_entrenamiento\"></a>\n",
    "## 4. Preparación y Entrenamiento del DataSet\n",
    "---\n",
    "<a href='#tabla_contenidos'>Volver a la Tabla de Contenidos</a>"
   ]
  },
  {
   "cell_type": "markdown",
   "id": "ffba22cb",
   "metadata": {},
   "source": [
    "En esta sección trabajaremos el DataSet con profundidad para dejarlo listo y en condiciones, con la intención de enfocarnos en las distintas estrategias de entrenameinto, como veremos más adelante."
   ]
  },
  {
   "cell_type": "markdown",
   "id": "e426e67a",
   "metadata": {},
   "source": [
    "<a id=\"features\"></a> \n",
    "### 4.1 Features y dummies\n",
    "\n",
    "En el DataSet paraeciera no haber Features de clasificación, pero estás si están. Se encuentran establecidas con valores numéricos identificando las categorías que representan. Las columnas categóricas de las que estamos hablando son, **Cloud Type** y **Fill Flag**. Dentro de las mismas hay un total de 22 clasificadores. Por este motivo será necesario identificar dummies que puedan estar relacionadas a nuestros vectores Target de los datos meteorológicos.\n",
    "\n",
    "Para una mayor facilidad de comprensión, cambiaremos los valores por los nombres correspondientes. Nos ayudara a saber de que estamos hablando en cada caso, sin tener que estar recurriendo a las referencias más arriba."
   ]
  },
  {
   "cell_type": "markdown",
   "id": "12b7c6c8",
   "metadata": {},
   "source": [
    "#### 4.1.1 Creación de columnas con nombres de categoria\n",
    "Primero se necesita renombrar a cada una de las categorias. Para eso crearemos un método condicional que renombre según el número asignado."
   ]
  },
  {
   "cell_type": "code",
   "execution_count": 11,
   "id": "b037816c",
   "metadata": {},
   "outputs": [
    {
     "data": {
      "text/plain": [
       "array(['Year', 'Month', 'Day', 'Hour', 'Minute', 'Cloud Type',\n",
       "       'Dew Point', 'Temperature', 'Pressure', 'Relative Humidity',\n",
       "       'Solar Zenith Angle', 'Precipitable Water', 'Wind Direction',\n",
       "       'Wind Speed', 'Fill Flag', 'Clearsky DHI', 'Clearsky DNI',\n",
       "       'Clearsky GHI'], dtype=object)"
      ]
     },
     "execution_count": 11,
     "metadata": {},
     "output_type": "execute_result"
    }
   ],
   "source": [
    "data.columns.values"
   ]
  },
  {
   "cell_type": "markdown",
   "id": "82d59183",
   "metadata": {},
   "source": [
    "Hay valores dentro de las columnas categoricas y para eso vamos a crear una fila para cada una de las faltantes. El objetivo es que con el OnhotEncoder pueda interpretarlas e ignorarlas en los set de testeo o información distinta."
   ]
  },
  {
   "cell_type": "code",
   "execution_count": 12,
   "id": "0853bf58",
   "metadata": {},
   "outputs": [],
   "source": [
    "data = data.append({'Year':0,\n",
    "             'Month':0,\n",
    "             'Day':0,\n",
    "             'Hour':0,\n",
    "             'Minute':0,\n",
    "             'Cloud Type':-15,\n",
    "             'Dew Point':0,\n",
    "             'Temperature':0,\n",
    "             'Pressure':0,\n",
    "             'Relative Humidity':0,\n",
    "             'Solar Zenith Angle':0,\n",
    "             'Precipitable Water':0,\n",
    "             'Wind Direction':0,\n",
    "             'Wind Speed':0,\n",
    "             'Fill Flag':2,\n",
    "             'Clearsky DHI':0,\n",
    "             'Clearsky DNI':0,\n",
    "             'Clearsky GHI':0}, ignore_index=True)\n",
    "data = data.append({'Year':0,\n",
    "             'Month':0,\n",
    "             'Day':0,\n",
    "             'Hour':0,\n",
    "             'Minute':0,\n",
    "             'Cloud Type':12,\n",
    "             'Dew Point':0,\n",
    "             'Temperature':0,\n",
    "             'Pressure':0,\n",
    "             'Relative Humidity':0,\n",
    "             'Solar Zenith Angle':0,\n",
    "             'Precipitable Water':0,\n",
    "             'Wind Direction':0,\n",
    "             'Wind Speed':0,\n",
    "             'Fill Flag':5,\n",
    "             'Clearsky DHI':0,\n",
    "             'Clearsky DNI':0,\n",
    "             'Clearsky GHI':0}, ignore_index=True)\n",
    "data = data.append({'Year':0,\n",
    "             'Month':0,\n",
    "             'Day':0,\n",
    "             'Hour':0,\n",
    "             'Minute':0,\n",
    "             'Cloud Type':11,\n",
    "             'Dew Point':0,\n",
    "             'Temperature':0,\n",
    "             'Pressure':0,\n",
    "             'Relative Humidity':0,\n",
    "             'Solar Zenith Angle':0,\n",
    "             'Precipitable Water':0,\n",
    "             'Wind Direction':0,\n",
    "             'Wind Speed':0,\n",
    "             'Fill Flag':5,\n",
    "             'Clearsky DHI':0,\n",
    "             'Clearsky DNI':0,\n",
    "             'Clearsky GHI':0}, ignore_index=True)\n",
    "data = data.append({'Year':0,\n",
    "             'Month':0,\n",
    "             'Day':0,\n",
    "             'Hour':0,\n",
    "             'Minute':0,\n",
    "             'Cloud Type':9,\n",
    "             'Dew Point':0,\n",
    "             'Temperature':0,\n",
    "             'Pressure':0,\n",
    "             'Relative Humidity':0,\n",
    "             'Solar Zenith Angle':0,\n",
    "             'Precipitable Water':0,\n",
    "             'Wind Direction':0,\n",
    "             'Wind Speed':0,\n",
    "             'Fill Flag':5,\n",
    "             'Clearsky DHI':0,\n",
    "             'Clearsky DNI':0,\n",
    "             'Clearsky GHI':0}, ignore_index=True)\n",
    "data = data.append({'Year':0,\n",
    "             'Month':0,\n",
    "             'Day':0,\n",
    "             'Hour':0,\n",
    "             'Minute':0,\n",
    "             'Cloud Type':5,\n",
    "             'Dew Point':0,\n",
    "             'Temperature':0,\n",
    "             'Pressure':0,\n",
    "             'Relative Humidity':0,\n",
    "             'Solar Zenith Angle':0,\n",
    "             'Precipitable Water':0,\n",
    "             'Wind Direction':0,\n",
    "             'Wind Speed':0,\n",
    "             'Fill Flag':5,\n",
    "             'Clearsky DHI':0,\n",
    "             'Clearsky DNI':0,\n",
    "             'Clearsky GHI':0}, ignore_index=True)"
   ]
  },
  {
   "cell_type": "code",
   "execution_count": 13,
   "id": "32fa6927",
   "metadata": {},
   "outputs": [
    {
     "data": {
      "text/plain": [
       "Clear                 82788\n",
       "Cirrus                23163\n",
       "Water                 16255\n",
       "Probably_Clear        15698\n",
       "Overlapping           14276\n",
       "Super_Cooled_Water    11738\n",
       "Opaque_Ice             7902\n",
       "Fog                    3018\n",
       "Overshooting            458\n",
       "Dust                      1\n",
       "N/A_cloud                 1\n",
       "Unknown                   1\n",
       "Mixed                     1\n",
       "Smoke                     1\n",
       "Name: cloud_type_cat, dtype: int64"
      ]
     },
     "execution_count": 13,
     "metadata": {},
     "output_type": "execute_result"
    }
   ],
   "source": [
    "def cloud_type_cat(x):\n",
    "    if x == 0:\n",
    "        return 'Clear'\n",
    "    elif x == 1:\n",
    "        return 'Probably_Clear'\n",
    "    elif x == 2:\n",
    "        return 'Fog'\n",
    "    elif x == 3:\n",
    "        return 'Water'\n",
    "    elif x == 4:\n",
    "        return 'Super_Cooled_Water'\n",
    "    elif x == 5:\n",
    "        return 'Mixed'\n",
    "    elif x == 6:\n",
    "        return 'Opaque_Ice'\n",
    "    elif x == 7:\n",
    "        return 'Cirrus'\n",
    "    elif x == 8:\n",
    "        return 'Overlapping'\n",
    "    elif x == 9:\n",
    "        return 'Overshooting'\n",
    "    elif x == 10:\n",
    "        return 'Unknown'\n",
    "    elif x == 11:\n",
    "        return 'Dust'\n",
    "    elif x == 12:\n",
    "        return 'Smoke'\n",
    "    elif x == -15:\n",
    "        return 'N/A_cloud'\n",
    "    else:\n",
    "        return np.nan\n",
    "\n",
    "\n",
    "data['cloud_type_cat'] = data['Cloud Type'].apply(cloud_type_cat)\n",
    "data['cloud_type_cat'].value_counts()"
   ]
  },
  {
   "cell_type": "code",
   "execution_count": 14,
   "id": "c786f4d0",
   "metadata": {},
   "outputs": [
    {
     "data": {
      "text/plain": [
       "N/A_flag                    164285\n",
       "Missing_Cloud_Properties      6864\n",
       "Missing_Image                 2046\n",
       "Other                         1811\n",
       "Exceeds_Clearsky               290\n",
       "Rayleigh_Violation               4\n",
       "Low_Irradiance                   1\n",
       "Name: fill_flag_cat, dtype: int64"
      ]
     },
     "execution_count": 14,
     "metadata": {},
     "output_type": "execute_result"
    }
   ],
   "source": [
    "def flag_cat(x):\n",
    "    if x == 0:\n",
    "        return 'N/A_flag'\n",
    "    elif x == 1:\n",
    "        return 'Missing_Image'\n",
    "    elif x == 2:\n",
    "        return 'Low_Irradiance'\n",
    "    elif x == 3:\n",
    "        return 'Exceeds_Clearsky'\n",
    "    elif x == 4:\n",
    "        return 'Missing_Cloud_Properties'\n",
    "    elif x == 5:\n",
    "        return 'Rayleigh_Violation'\n",
    "    else:\n",
    "        return 'Other'\n",
    "\n",
    "data['fill_flag_cat'] = data['Fill Flag'].apply(flag_cat)\n",
    "data['fill_flag_cat'].value_counts()"
   ]
  },
  {
   "cell_type": "markdown",
   "id": "31ab0512",
   "metadata": {},
   "source": [
    "#### 4.1.2 Preparación de las dummies\n",
    "Ahora con las columnas renombradas utilizaremos la librería **OneHotEncoder** de sci-kit learn,  para obtener los dummies. "
   ]
  },
  {
   "cell_type": "code",
   "execution_count": 15,
   "id": "f0dbbcdf",
   "metadata": {},
   "outputs": [],
   "source": [
    "encoder = OneHotEncoder(sparse=False, handle_unknown='ignore')\n",
    "dummies = encoder.fit_transform(data[['cloud_type_cat', 'fill_flag_cat']])"
   ]
  },
  {
   "cell_type": "code",
   "execution_count": 16,
   "id": "f6a1c3d5",
   "metadata": {},
   "outputs": [
    {
     "data": {
      "text/html": [
       "<div>\n",
       "<style scoped>\n",
       "    .dataframe tbody tr th:only-of-type {\n",
       "        vertical-align: middle;\n",
       "    }\n",
       "\n",
       "    .dataframe tbody tr th {\n",
       "        vertical-align: top;\n",
       "    }\n",
       "\n",
       "    .dataframe thead th {\n",
       "        text-align: right;\n",
       "    }\n",
       "</style>\n",
       "<table border=\"1\" class=\"dataframe\">\n",
       "  <thead>\n",
       "    <tr style=\"text-align: right;\">\n",
       "      <th></th>\n",
       "      <th>Cirrus</th>\n",
       "      <th>Clear</th>\n",
       "      <th>Dust</th>\n",
       "      <th>Fog</th>\n",
       "      <th>Mixed</th>\n",
       "      <th>N/A_cloud</th>\n",
       "      <th>Opaque_Ice</th>\n",
       "      <th>Overlapping</th>\n",
       "      <th>Overshooting</th>\n",
       "      <th>Probably_Clear</th>\n",
       "      <th>...</th>\n",
       "      <th>Super_Cooled_Water</th>\n",
       "      <th>Unknown</th>\n",
       "      <th>Water</th>\n",
       "      <th>Exceeds_Clearsky</th>\n",
       "      <th>Low_Irradiance</th>\n",
       "      <th>Missing_Cloud_Properties</th>\n",
       "      <th>Missing_Image</th>\n",
       "      <th>N/A_flag</th>\n",
       "      <th>Other</th>\n",
       "      <th>Rayleigh_Violation</th>\n",
       "    </tr>\n",
       "  </thead>\n",
       "  <tbody>\n",
       "    <tr>\n",
       "      <th>131117</th>\n",
       "      <td>0</td>\n",
       "      <td>1</td>\n",
       "      <td>0</td>\n",
       "      <td>0</td>\n",
       "      <td>0</td>\n",
       "      <td>0</td>\n",
       "      <td>0</td>\n",
       "      <td>0</td>\n",
       "      <td>0</td>\n",
       "      <td>0</td>\n",
       "      <td>...</td>\n",
       "      <td>0</td>\n",
       "      <td>0</td>\n",
       "      <td>0</td>\n",
       "      <td>0</td>\n",
       "      <td>0</td>\n",
       "      <td>0</td>\n",
       "      <td>0</td>\n",
       "      <td>1</td>\n",
       "      <td>0</td>\n",
       "      <td>0</td>\n",
       "    </tr>\n",
       "    <tr>\n",
       "      <th>159446</th>\n",
       "      <td>1</td>\n",
       "      <td>0</td>\n",
       "      <td>0</td>\n",
       "      <td>0</td>\n",
       "      <td>0</td>\n",
       "      <td>0</td>\n",
       "      <td>0</td>\n",
       "      <td>0</td>\n",
       "      <td>0</td>\n",
       "      <td>0</td>\n",
       "      <td>...</td>\n",
       "      <td>0</td>\n",
       "      <td>0</td>\n",
       "      <td>0</td>\n",
       "      <td>0</td>\n",
       "      <td>0</td>\n",
       "      <td>0</td>\n",
       "      <td>0</td>\n",
       "      <td>1</td>\n",
       "      <td>0</td>\n",
       "      <td>0</td>\n",
       "    </tr>\n",
       "    <tr>\n",
       "      <th>101709</th>\n",
       "      <td>0</td>\n",
       "      <td>0</td>\n",
       "      <td>0</td>\n",
       "      <td>0</td>\n",
       "      <td>0</td>\n",
       "      <td>0</td>\n",
       "      <td>0</td>\n",
       "      <td>1</td>\n",
       "      <td>0</td>\n",
       "      <td>0</td>\n",
       "      <td>...</td>\n",
       "      <td>0</td>\n",
       "      <td>0</td>\n",
       "      <td>0</td>\n",
       "      <td>0</td>\n",
       "      <td>0</td>\n",
       "      <td>1</td>\n",
       "      <td>0</td>\n",
       "      <td>0</td>\n",
       "      <td>0</td>\n",
       "      <td>0</td>\n",
       "    </tr>\n",
       "    <tr>\n",
       "      <th>153436</th>\n",
       "      <td>0</td>\n",
       "      <td>0</td>\n",
       "      <td>0</td>\n",
       "      <td>0</td>\n",
       "      <td>0</td>\n",
       "      <td>0</td>\n",
       "      <td>0</td>\n",
       "      <td>0</td>\n",
       "      <td>0</td>\n",
       "      <td>0</td>\n",
       "      <td>...</td>\n",
       "      <td>0</td>\n",
       "      <td>0</td>\n",
       "      <td>1</td>\n",
       "      <td>0</td>\n",
       "      <td>0</td>\n",
       "      <td>0</td>\n",
       "      <td>0</td>\n",
       "      <td>1</td>\n",
       "      <td>0</td>\n",
       "      <td>0</td>\n",
       "    </tr>\n",
       "    <tr>\n",
       "      <th>41875</th>\n",
       "      <td>0</td>\n",
       "      <td>0</td>\n",
       "      <td>0</td>\n",
       "      <td>0</td>\n",
       "      <td>0</td>\n",
       "      <td>0</td>\n",
       "      <td>0</td>\n",
       "      <td>0</td>\n",
       "      <td>0</td>\n",
       "      <td>1</td>\n",
       "      <td>...</td>\n",
       "      <td>0</td>\n",
       "      <td>0</td>\n",
       "      <td>0</td>\n",
       "      <td>0</td>\n",
       "      <td>0</td>\n",
       "      <td>0</td>\n",
       "      <td>0</td>\n",
       "      <td>1</td>\n",
       "      <td>0</td>\n",
       "      <td>0</td>\n",
       "    </tr>\n",
       "    <tr>\n",
       "      <th>38820</th>\n",
       "      <td>0</td>\n",
       "      <td>1</td>\n",
       "      <td>0</td>\n",
       "      <td>0</td>\n",
       "      <td>0</td>\n",
       "      <td>0</td>\n",
       "      <td>0</td>\n",
       "      <td>0</td>\n",
       "      <td>0</td>\n",
       "      <td>0</td>\n",
       "      <td>...</td>\n",
       "      <td>0</td>\n",
       "      <td>0</td>\n",
       "      <td>0</td>\n",
       "      <td>0</td>\n",
       "      <td>0</td>\n",
       "      <td>0</td>\n",
       "      <td>0</td>\n",
       "      <td>1</td>\n",
       "      <td>0</td>\n",
       "      <td>0</td>\n",
       "    </tr>\n",
       "    <tr>\n",
       "      <th>31987</th>\n",
       "      <td>0</td>\n",
       "      <td>1</td>\n",
       "      <td>0</td>\n",
       "      <td>0</td>\n",
       "      <td>0</td>\n",
       "      <td>0</td>\n",
       "      <td>0</td>\n",
       "      <td>0</td>\n",
       "      <td>0</td>\n",
       "      <td>0</td>\n",
       "      <td>...</td>\n",
       "      <td>0</td>\n",
       "      <td>0</td>\n",
       "      <td>0</td>\n",
       "      <td>0</td>\n",
       "      <td>0</td>\n",
       "      <td>0</td>\n",
       "      <td>0</td>\n",
       "      <td>1</td>\n",
       "      <td>0</td>\n",
       "      <td>0</td>\n",
       "    </tr>\n",
       "    <tr>\n",
       "      <th>51692</th>\n",
       "      <td>0</td>\n",
       "      <td>1</td>\n",
       "      <td>0</td>\n",
       "      <td>0</td>\n",
       "      <td>0</td>\n",
       "      <td>0</td>\n",
       "      <td>0</td>\n",
       "      <td>0</td>\n",
       "      <td>0</td>\n",
       "      <td>0</td>\n",
       "      <td>...</td>\n",
       "      <td>0</td>\n",
       "      <td>0</td>\n",
       "      <td>0</td>\n",
       "      <td>0</td>\n",
       "      <td>0</td>\n",
       "      <td>0</td>\n",
       "      <td>0</td>\n",
       "      <td>1</td>\n",
       "      <td>0</td>\n",
       "      <td>0</td>\n",
       "    </tr>\n",
       "    <tr>\n",
       "      <th>20552</th>\n",
       "      <td>0</td>\n",
       "      <td>1</td>\n",
       "      <td>0</td>\n",
       "      <td>0</td>\n",
       "      <td>0</td>\n",
       "      <td>0</td>\n",
       "      <td>0</td>\n",
       "      <td>0</td>\n",
       "      <td>0</td>\n",
       "      <td>0</td>\n",
       "      <td>...</td>\n",
       "      <td>0</td>\n",
       "      <td>0</td>\n",
       "      <td>0</td>\n",
       "      <td>0</td>\n",
       "      <td>0</td>\n",
       "      <td>0</td>\n",
       "      <td>1</td>\n",
       "      <td>0</td>\n",
       "      <td>0</td>\n",
       "      <td>0</td>\n",
       "    </tr>\n",
       "    <tr>\n",
       "      <th>63654</th>\n",
       "      <td>0</td>\n",
       "      <td>0</td>\n",
       "      <td>0</td>\n",
       "      <td>0</td>\n",
       "      <td>0</td>\n",
       "      <td>0</td>\n",
       "      <td>1</td>\n",
       "      <td>0</td>\n",
       "      <td>0</td>\n",
       "      <td>0</td>\n",
       "      <td>...</td>\n",
       "      <td>0</td>\n",
       "      <td>0</td>\n",
       "      <td>0</td>\n",
       "      <td>0</td>\n",
       "      <td>0</td>\n",
       "      <td>0</td>\n",
       "      <td>0</td>\n",
       "      <td>1</td>\n",
       "      <td>0</td>\n",
       "      <td>0</td>\n",
       "    </tr>\n",
       "  </tbody>\n",
       "</table>\n",
       "<p>10 rows × 21 columns</p>\n",
       "</div>"
      ],
      "text/plain": [
       "        Cirrus  Clear  Dust  Fog  Mixed  N/A_cloud  Opaque_Ice  Overlapping  \\\n",
       "131117       0      1     0    0      0          0           0            0   \n",
       "159446       1      0     0    0      0          0           0            0   \n",
       "101709       0      0     0    0      0          0           0            1   \n",
       "153436       0      0     0    0      0          0           0            0   \n",
       "41875        0      0     0    0      0          0           0            0   \n",
       "38820        0      1     0    0      0          0           0            0   \n",
       "31987        0      1     0    0      0          0           0            0   \n",
       "51692        0      1     0    0      0          0           0            0   \n",
       "20552        0      1     0    0      0          0           0            0   \n",
       "63654        0      0     0    0      0          0           1            0   \n",
       "\n",
       "        Overshooting  Probably_Clear  ...  Super_Cooled_Water  Unknown  Water  \\\n",
       "131117             0               0  ...                   0        0      0   \n",
       "159446             0               0  ...                   0        0      0   \n",
       "101709             0               0  ...                   0        0      0   \n",
       "153436             0               0  ...                   0        0      1   \n",
       "41875              0               1  ...                   0        0      0   \n",
       "38820              0               0  ...                   0        0      0   \n",
       "31987              0               0  ...                   0        0      0   \n",
       "51692              0               0  ...                   0        0      0   \n",
       "20552              0               0  ...                   0        0      0   \n",
       "63654              0               0  ...                   0        0      0   \n",
       "\n",
       "        Exceeds_Clearsky  Low_Irradiance  Missing_Cloud_Properties  \\\n",
       "131117                 0               0                         0   \n",
       "159446                 0               0                         0   \n",
       "101709                 0               0                         1   \n",
       "153436                 0               0                         0   \n",
       "41875                  0               0                         0   \n",
       "38820                  0               0                         0   \n",
       "31987                  0               0                         0   \n",
       "51692                  0               0                         0   \n",
       "20552                  0               0                         0   \n",
       "63654                  0               0                         0   \n",
       "\n",
       "        Missing_Image  N/A_flag  Other  Rayleigh_Violation  \n",
       "131117              0         1      0                   0  \n",
       "159446              0         1      0                   0  \n",
       "101709              0         0      0                   0  \n",
       "153436              0         1      0                   0  \n",
       "41875               0         1      0                   0  \n",
       "38820               0         1      0                   0  \n",
       "31987               0         1      0                   0  \n",
       "51692               0         1      0                   0  \n",
       "20552               1         0      0                   0  \n",
       "63654               0         1      0                   0  \n",
       "\n",
       "[10 rows x 21 columns]"
      ]
     },
     "execution_count": 16,
     "metadata": {},
     "output_type": "execute_result"
    }
   ],
   "source": [
    "dummies = pd.DataFrame(dummies.astype(int), columns=np.concatenate(encoder.categories_))\n",
    "dummies.sample(10)"
   ]
  },
  {
   "cell_type": "code",
   "execution_count": 17,
   "id": "1a73168c",
   "metadata": {},
   "outputs": [
    {
     "data": {
      "text/plain": [
       "(175301, 37)"
      ]
     },
     "execution_count": 17,
     "metadata": {},
     "output_type": "execute_result"
    }
   ],
   "source": [
    "data = data.join(dummies)\n",
    "data = data.drop(columns=['Cloud Type','Fill Flag','cloud_type_cat','fill_flag_cat'])\n",
    "\n",
    "columns_name = ['Clear',\n",
    "                'Probably_Clear',\n",
    "                'Fog',\n",
    "                'Water',\n",
    "                'Super_Cooled_Water',\n",
    "                'Mixed',\n",
    "                'Opaque_Ice',\n",
    "                'Cirrus',\n",
    "                'Overlapping',\n",
    "                'Overshooting',\n",
    "                'Unknown',\n",
    "                'Dust',\n",
    "                'Smoke',\n",
    "                'N/A_cloud',\n",
    "                'N/A_flag',\n",
    "                'Missing_Image',\n",
    "                'Low_Irradiance',\n",
    "                'Exceeds_Clearsky',\n",
    "                'Missing_Cloud_Properties',\n",
    "                'Rayleigh_Violation',\n",
    "                'Other']\n",
    "data.shape"
   ]
  },
  {
   "cell_type": "code",
   "execution_count": 18,
   "id": "e4c9d860",
   "metadata": {},
   "outputs": [],
   "source": [
    "def col_creator(data):\n",
    "    for col in columns_name:\n",
    "        if not(col in np.concatenate(encoder.categories_)):\n",
    "            data[col] = 0"
   ]
  },
  {
   "cell_type": "code",
   "execution_count": 19,
   "id": "71717993",
   "metadata": {},
   "outputs": [
    {
     "ename": "NameError",
     "evalue": "name 'w' is not defined",
     "output_type": "error",
     "traceback": [
      "\u001b[1;31m---------------------------------------------------------------------------\u001b[0m",
      "\u001b[1;31mNameError\u001b[0m                                 Traceback (most recent call last)",
      "Cell \u001b[1;32mIn[19], line 1\u001b[0m\n\u001b[1;32m----> 1\u001b[0m \u001b[43mw\u001b[49m\n",
      "\u001b[1;31mNameError\u001b[0m: name 'w' is not defined"
     ]
    }
   ],
   "source": [
    "w"
   ]
  },
  {
   "cell_type": "code",
   "execution_count": 20,
   "id": "167b86ea",
   "metadata": {},
   "outputs": [
    {
     "data": {
      "text/html": [
       "<div>\n",
       "<style scoped>\n",
       "    .dataframe tbody tr th:only-of-type {\n",
       "        vertical-align: middle;\n",
       "    }\n",
       "\n",
       "    .dataframe tbody tr th {\n",
       "        vertical-align: top;\n",
       "    }\n",
       "\n",
       "    .dataframe thead th {\n",
       "        text-align: right;\n",
       "    }\n",
       "</style>\n",
       "<table border=\"1\" class=\"dataframe\">\n",
       "  <thead>\n",
       "    <tr style=\"text-align: right;\">\n",
       "      <th></th>\n",
       "      <th>Year</th>\n",
       "      <th>Month</th>\n",
       "      <th>Day</th>\n",
       "      <th>Hour</th>\n",
       "      <th>Minute</th>\n",
       "      <th>Dew Point</th>\n",
       "      <th>Temperature</th>\n",
       "      <th>Pressure</th>\n",
       "      <th>Relative Humidity</th>\n",
       "      <th>Solar Zenith Angle</th>\n",
       "      <th>...</th>\n",
       "      <th>Super_Cooled_Water</th>\n",
       "      <th>Unknown</th>\n",
       "      <th>Water</th>\n",
       "      <th>Exceeds_Clearsky</th>\n",
       "      <th>Low_Irradiance</th>\n",
       "      <th>Missing_Cloud_Properties</th>\n",
       "      <th>Missing_Image</th>\n",
       "      <th>N/A_flag</th>\n",
       "      <th>Other</th>\n",
       "      <th>Rayleigh_Violation</th>\n",
       "    </tr>\n",
       "  </thead>\n",
       "  <tbody>\n",
       "    <tr>\n",
       "      <th>41873</th>\n",
       "      <td>2011</td>\n",
       "      <td>5</td>\n",
       "      <td>23</td>\n",
       "      <td>8</td>\n",
       "      <td>30</td>\n",
       "      <td>15.0</td>\n",
       "      <td>20.0</td>\n",
       "      <td>1000</td>\n",
       "      <td>76.51</td>\n",
       "      <td>112.49</td>\n",
       "      <td>...</td>\n",
       "      <td>0</td>\n",
       "      <td>0</td>\n",
       "      <td>0</td>\n",
       "      <td>0</td>\n",
       "      <td>0</td>\n",
       "      <td>0</td>\n",
       "      <td>0</td>\n",
       "      <td>1</td>\n",
       "      <td>0</td>\n",
       "      <td>0</td>\n",
       "    </tr>\n",
       "    <tr>\n",
       "      <th>114449</th>\n",
       "      <td>2015</td>\n",
       "      <td>7</td>\n",
       "      <td>13</td>\n",
       "      <td>8</td>\n",
       "      <td>30</td>\n",
       "      <td>21.0</td>\n",
       "      <td>23.0</td>\n",
       "      <td>1000</td>\n",
       "      <td>88.65</td>\n",
       "      <td>112.80</td>\n",
       "      <td>...</td>\n",
       "      <td>0</td>\n",
       "      <td>0</td>\n",
       "      <td>0</td>\n",
       "      <td>0</td>\n",
       "      <td>0</td>\n",
       "      <td>0</td>\n",
       "      <td>0</td>\n",
       "      <td>1</td>\n",
       "      <td>0</td>\n",
       "      <td>0</td>\n",
       "    </tr>\n",
       "    <tr>\n",
       "      <th>168804</th>\n",
       "      <td>2018</td>\n",
       "      <td>8</td>\n",
       "      <td>18</td>\n",
       "      <td>18</td>\n",
       "      <td>0</td>\n",
       "      <td>23.7</td>\n",
       "      <td>30.7</td>\n",
       "      <td>1006</td>\n",
       "      <td>66.24</td>\n",
       "      <td>19.51</td>\n",
       "      <td>...</td>\n",
       "      <td>0</td>\n",
       "      <td>0</td>\n",
       "      <td>0</td>\n",
       "      <td>0</td>\n",
       "      <td>0</td>\n",
       "      <td>0</td>\n",
       "      <td>0</td>\n",
       "      <td>1</td>\n",
       "      <td>0</td>\n",
       "      <td>0</td>\n",
       "    </tr>\n",
       "  </tbody>\n",
       "</table>\n",
       "<p>3 rows × 37 columns</p>\n",
       "</div>"
      ],
      "text/plain": [
       "        Year  Month  Day  Hour  Minute  Dew Point  Temperature  Pressure  \\\n",
       "41873   2011      5   23     8      30       15.0         20.0      1000   \n",
       "114449  2015      7   13     8      30       21.0         23.0      1000   \n",
       "168804  2018      8   18    18       0       23.7         30.7      1006   \n",
       "\n",
       "        Relative Humidity  Solar Zenith Angle  ...  Super_Cooled_Water  \\\n",
       "41873               76.51              112.49  ...                   0   \n",
       "114449              88.65              112.80  ...                   0   \n",
       "168804              66.24               19.51  ...                   0   \n",
       "\n",
       "        Unknown  Water  Exceeds_Clearsky  Low_Irradiance  \\\n",
       "41873         0      0                 0               0   \n",
       "114449        0      0                 0               0   \n",
       "168804        0      0                 0               0   \n",
       "\n",
       "        Missing_Cloud_Properties  Missing_Image  N/A_flag  Other  \\\n",
       "41873                          0              0         1      0   \n",
       "114449                         0              0         1      0   \n",
       "168804                         0              0         1      0   \n",
       "\n",
       "        Rayleigh_Violation  \n",
       "41873                    0  \n",
       "114449                   0  \n",
       "168804                   0  \n",
       "\n",
       "[3 rows x 37 columns]"
      ]
     },
     "execution_count": 20,
     "metadata": {},
     "output_type": "execute_result"
    }
   ],
   "source": [
    "data.sample(3)"
   ]
  },
  {
   "cell_type": "code",
   "execution_count": 21,
   "id": "320dca50",
   "metadata": {},
   "outputs": [
    {
     "data": {
      "text/plain": [
       "(175301, 37)"
      ]
     },
     "execution_count": 21,
     "metadata": {},
     "output_type": "execute_result"
    }
   ],
   "source": [
    "data.shape"
   ]
  },
  {
   "cell_type": "markdown",
   "id": "909fbb2e",
   "metadata": {},
   "source": [
    "**Resampleo - downsampling**\n",
    "\n",
    "Con el fin de facilitar el analisis y las pruebas del DataSet bajo estudio, se decidió realizar un recorte en la cantidad de datos."
   ]
  },
  {
   "cell_type": "code",
   "execution_count": 22,
   "id": "49d4d07b",
   "metadata": {},
   "outputs": [],
   "source": [
    "data_resample = resample(data, replace=True, n_samples=1000, random_state=127)"
   ]
  },
  {
   "cell_type": "code",
   "execution_count": 23,
   "id": "63c4138d",
   "metadata": {},
   "outputs": [
    {
     "name": "stdout",
     "output_type": "stream",
     "text": [
      "(175301, 37)\n",
      "(17520, 18)\n"
     ]
    }
   ],
   "source": [
    "print(data.shape)\n",
    "print(X_test_.shape)"
   ]
  },
  {
   "cell_type": "markdown",
   "id": "be880f26",
   "metadata": {},
   "source": [
    "**Dummies de DataSet de testeo final**"
   ]
  },
  {
   "cell_type": "code",
   "execution_count": 24,
   "id": "bc8f7ce4",
   "metadata": {},
   "outputs": [
    {
     "data": {
      "text/plain": [
       "N/A_flag                    15670\n",
       "Other                        1703\n",
       "Missing_Cloud_Properties      147\n",
       "Name: fill_flag_cat, dtype: int64"
      ]
     },
     "execution_count": 24,
     "metadata": {},
     "output_type": "execute_result"
    }
   ],
   "source": [
    "X_test_['fill_flag_cat'] = X_test_['Fill Flag'].apply(flag_cat)\n",
    "X_test_['fill_flag_cat'].value_counts()"
   ]
  },
  {
   "cell_type": "code",
   "execution_count": 25,
   "id": "66e47063",
   "metadata": {},
   "outputs": [
    {
     "data": {
      "text/plain": [
       "Clear                 9339\n",
       "Cirrus                4044\n",
       "Water                 1629\n",
       "Super_Cooled_Water     858\n",
       "Opaque_Ice             768\n",
       "Overlapping            661\n",
       "Fog                    133\n",
       "Overshooting            88\n",
       "Name: cloud_type_cat, dtype: int64"
      ]
     },
     "execution_count": 25,
     "metadata": {},
     "output_type": "execute_result"
    }
   ],
   "source": [
    "X_test_['cloud_type_cat'] = X_test_['Cloud Type'].apply(cloud_type_cat)\n",
    "X_test_['cloud_type_cat'].value_counts()"
   ]
  },
  {
   "cell_type": "code",
   "execution_count": 26,
   "id": "f56de478",
   "metadata": {},
   "outputs": [],
   "source": [
    "\n",
    "dummies_test = encoder.transform(X_test_[['cloud_type_cat', 'fill_flag_cat']])\n",
    "dummies_test = pd.DataFrame(dummies_test.astype(int), columns=np.concatenate(encoder.categories_))\n",
    "X_test_ = X_test_.join(dummies_test)\n",
    "X_test_ = X_test_.drop(columns=['Cloud Type','Fill Flag','cloud_type_cat','fill_flag_cat'])"
   ]
  },
  {
   "cell_type": "code",
   "execution_count": 27,
   "id": "3c1c5383",
   "metadata": {},
   "outputs": [
    {
     "data": {
      "text/plain": [
       "Index(['Year', 'Month', 'Day', 'Hour', 'Minute', 'Dew Point', 'Temperature',\n",
       "       'Pressure', 'Relative Humidity', 'Solar Zenith Angle',\n",
       "       'Precipitable Water', 'Wind Direction', 'Wind Speed', 'Clearsky DHI',\n",
       "       'Clearsky DNI', 'Clearsky GHI', 'Cirrus', 'Clear', 'Dust', 'Fog',\n",
       "       'Mixed', 'N/A_cloud', 'Opaque_Ice', 'Overlapping', 'Overshooting',\n",
       "       'Probably_Clear', 'Smoke', 'Super_Cooled_Water', 'Unknown', 'Water',\n",
       "       'Exceeds_Clearsky', 'Low_Irradiance', 'Missing_Cloud_Properties',\n",
       "       'Missing_Image', 'N/A_flag', 'Other', 'Rayleigh_Violation'],\n",
       "      dtype='object')"
      ]
     },
     "execution_count": 27,
     "metadata": {},
     "output_type": "execute_result"
    }
   ],
   "source": [
    "X_test_.columns"
   ]
  },
  {
   "cell_type": "code",
   "execution_count": 28,
   "id": "19c6ae39",
   "metadata": {},
   "outputs": [
    {
     "name": "stdout",
     "output_type": "stream",
     "text": [
      "(17520, 37)\n"
     ]
    }
   ],
   "source": [
    "print(X_test_.shape)"
   ]
  },
  {
   "cell_type": "markdown",
   "id": "bc04deaa",
   "metadata": {},
   "source": [
    "<a id=\"split\"></a> \n",
    "### 4.2 Split del set de entrenamiento\n",
    "En esta seccion crearemos los datos de entrenamiento y los vectores objetivos multi nivel, para finalemente comenzar con las estrategias de entrenamiento."
   ]
  },
  {
   "cell_type": "code",
   "execution_count": 29,
   "id": "62f26488",
   "metadata": {},
   "outputs": [],
   "source": [
    "X = data_resample.drop(['Clearsky DHI', 'Clearsky DNI',\n",
    "       'Clearsky GHI'], axis=1)\n",
    "y = data_resample[['Clearsky DHI', 'Clearsky DNI',\n",
    "       'Clearsky GHI']]\n",
    "\n",
    "X_train, X_test, y_train, y_test = train_test_split(X, y, random_state=12,  test_size=0.3)"
   ]
  },
  {
   "cell_type": "code",
   "execution_count": 30,
   "id": "6c792114",
   "metadata": {},
   "outputs": [
    {
     "name": "stdout",
     "output_type": "stream",
     "text": [
      "X_train: (700, 34)\n",
      "y_train: (700, 3)\n",
      "X_test: (300, 34)\n",
      "y_test: (300, 3)\n"
     ]
    }
   ],
   "source": [
    "print(f'X_train: {X_train.shape}')\n",
    "print(f'y_train: {y_train.shape}')\n",
    "print(f'X_test: {X_test.shape}')\n",
    "print(f'y_test: {y_test.shape}')"
   ]
  },
  {
   "cell_type": "markdown",
   "id": "1791fb1d",
   "metadata": {},
   "source": [
    "<a id=\"matrix_corr\"></a> \n",
    "### 4.3. Matriz de correlación\n",
    "Escribir aquí...  **# TO-DO**"
   ]
  },
  {
   "cell_type": "code",
   "execution_count": 31,
   "id": "6bbfe874",
   "metadata": {},
   "outputs": [
    {
     "data": {
      "text/plain": [
       "<AxesSubplot:>"
      ]
     },
     "execution_count": 31,
     "metadata": {},
     "output_type": "execute_result"
    },
    {
     "data": {
      "image/png": "[encoded data removed]",
      "text/plain": [
       "<Figure size 1100x900 with 2 Axes>"
      ]
     },
     "metadata": {},
     "output_type": "display_data"
    }
   ],
   "source": [
    "correlacion = data.corr()\n",
    "\n",
    "# Generate a mask for the upper triangle\n",
    "mask = np.triu(np.ones_like(correlacion, dtype=bool))\n",
    "\n",
    "# Set up the matplotlib figure\n",
    "f, ax = plt.subplots(figsize=(11, 9))\n",
    "\n",
    "# Generate a custom diverging colormap\n",
    "cmap = sns.diverging_palette(200, 120, as_cmap=True)\n",
    "\n",
    "# Draw the heatmap with the mask and correct aspect ratio\n",
    "sns.heatmap(correlacion, mask=mask, cmap=cmap, vmax=1, center=0,\n",
    "            square=True, linewidths=.5, cbar_kws={\"shrink\": .5})"
   ]
  },
  {
   "cell_type": "markdown",
   "id": "1300628b",
   "metadata": {},
   "source": [
    "<a id=\"analisis_corr\"></a> \n",
    "### 4.4. Analisis preliminar de correlación\n",
    "\n",
    "En esta seccion podemos observar que antes de comenzar analizar diferentes modelos y métodos, es importante tener en cuenta que ya existe una relación entre las variables. Y puede ser determinante a la hora de utilizar un método u otro:\n",
    "\n",
    "#### Hora\n",
    "- relative humidity/ Hour\n",
    "- Solar Zenith Angle/ Hour\n",
    "- Clearsky DHI/ Hour\n",
    "- Clearsky DNI/ Hour\n",
    "- Clearsky GHI/ Hour\n",
    "\n",
    "#### Punto de rocío\n",
    "- Temperature/ Dew Point\n",
    "- Precipitable Water/ Dew Point\n",
    "\n",
    "#### Temperatura\n",
    "- Solar Zenith Angle/ Temperature\n",
    "- Precipitable Water/ Temperature\n",
    "- Clearsky DHI/ Temperature\n",
    "- Clearsky GHI/ Temperature\n",
    "\n",
    "#### Humedad relativa\n",
    "- Solar Zenith Angle/ Relative Humidity\n",
    "- Clearsky DHI/ Relative Humidity\n",
    "- Clearsky DNI/ Relative Humidity\n",
    "- Clearsky GHI/ Relative Humidity\n",
    "\n",
    "#### Ángulo de incidencia solar\n",
    "- Clearsky DHI/ Solar Zenith Angle\n",
    "- Clearsky DNI/ Solar Zenith Angle\n",
    "- Clearsky GHI/ Solar Zenith Angle\n",
    "\n",
    "#### Correlación entre los vectores objetivos\n",
    "- Clearsky DNI/ Clearsky DHI\n",
    "- Clearsky GHI/ Clearsky DHI\n",
    "- Clearsky GHI/ Clearsky DNI."
   ]
  },
  {
   "cell_type": "markdown",
   "id": "3559e066",
   "metadata": {},
   "source": [
    "<a id=\"evaluacion_modelos\"></a>\n",
    "## 5. Evaluación de los Modelos\n",
    "---\n",
    "<a href='#tabla_contenidos'>Volver a la Tabla de Contenidos</a>"
   ]
  },
  {
   "cell_type": "code",
   "execution_count": null,
   "id": "d1fa28bd",
   "metadata": {},
   "outputs": [],
   "source": [
    "import warnings\n",
    "#warnings.filterwarnings('ignore')"
   ]
  },
  {
   "cell_type": "markdown",
   "id": "af27d81e",
   "metadata": {},
   "source": [
    "<a id=\"pipeline_rfr\"></a> \n",
    "### 5.1. PipeLine [RandomForestRegressor]"
   ]
  },
  {
   "cell_type": "code",
   "execution_count": null,
   "id": "e19e02d2",
   "metadata": {},
   "outputs": [],
   "source": [
    "steps_rfr = [('scaler', StandardScaler()),\n",
    "             ('ensamble', RandomForestRegressor(bootstrap=True, n_jobs = -1, random_state = 127, max_samples= 0.3))]"
   ]
  },
  {
   "cell_type": "code",
   "execution_count": null,
   "id": "6a2414ea",
   "metadata": {},
   "outputs": [],
   "source": [
    "pipe_rfr = Pipeline(steps_rfr)"
   ]
  },
  {
   "cell_type": "code",
   "execution_count": null,
   "id": "c830cf36",
   "metadata": {},
   "outputs": [],
   "source": [
    "folds_rfr = StratifiedKFold(n_splits=5,shuffle=True, random_state=42)"
   ]
  },
  {
   "cell_type": "code",
   "execution_count": null,
   "id": "dd258a9c",
   "metadata": {},
   "outputs": [],
   "source": [
    "params_rfr = {'scaler': [StandardScaler(), MinMaxScaler(), None],\n",
    "              'ensamble__n_estimators': [100, 500, 1000],\n",
    "              'ensamble__max_depth': range(2,10,1),\n",
    "              'ensamble__max_samples': range(1,10,1)}"
   ]
  },
  {
   "cell_type": "code",
   "execution_count": null,
   "id": "7e5317f0",
   "metadata": {},
   "outputs": [],
   "source": [
    "grid_rfr = GridSearchCV(pipe_rfr, params_rfr, cv=folds_rfr)"
   ]
  },
  {
   "cell_type": "code",
   "execution_count": null,
   "id": "115f0cae",
   "metadata": {},
   "outputs": [],
   "source": [
    "dhi = grid_rfr.fit(X_train, y_train['Clearsky DHI'])"
   ]
  },
  {
   "cell_type": "code",
   "execution_count": null,
   "id": "ea9d9852",
   "metadata": {},
   "outputs": [],
   "source": [
    "dhi.best_estimator_"
   ]
  },
  {
   "cell_type": "code",
   "execution_count": null,
   "id": "cf52581d",
   "metadata": {},
   "outputs": [],
   "source": [
    "dhi.best_score_"
   ]
  },
  {
   "cell_type": "code",
   "execution_count": null,
   "id": "c3c9b793",
   "metadata": {},
   "outputs": [],
   "source": [
    "dhi.best_params_"
   ]
  },
  {
   "cell_type": "code",
   "execution_count": null,
   "id": "0bcac745",
   "metadata": {},
   "outputs": [],
   "source": [
    "dni = grid_rfr.fit(X_train, y_train['Clearsky DNI'])"
   ]
  },
  {
   "cell_type": "code",
   "execution_count": null,
   "id": "606c7e94",
   "metadata": {},
   "outputs": [],
   "source": [
    "dni.best_estimator_"
   ]
  },
  {
   "cell_type": "code",
   "execution_count": null,
   "id": "401d67a5",
   "metadata": {},
   "outputs": [],
   "source": [
    "dni.best_score_"
   ]
  },
  {
   "cell_type": "code",
   "execution_count": null,
   "id": "b2de7563",
   "metadata": {},
   "outputs": [],
   "source": [
    "dni.best_params_"
   ]
  },
  {
   "cell_type": "code",
   "execution_count": null,
   "id": "a93d08bd",
   "metadata": {},
   "outputs": [],
   "source": [
    "ghi = grid_rfr.fit(X_train, y_train['Clearsky GHI'])"
   ]
  },
  {
   "cell_type": "code",
   "execution_count": null,
   "id": "7497932c",
   "metadata": {},
   "outputs": [],
   "source": [
    "ghi.best_estimator_"
   ]
  },
  {
   "cell_type": "code",
   "execution_count": null,
   "id": "764ab34e",
   "metadata": {},
   "outputs": [],
   "source": [
    "ghi.best_score_"
   ]
  },
  {
   "cell_type": "code",
   "execution_count": null,
   "id": "6a3d46bb",
   "metadata": {},
   "outputs": [],
   "source": [
    "ghi.best_params_"
   ]
  },
  {
   "cell_type": "markdown",
   "id": "e0020843",
   "metadata": {},
   "source": [
    "<a id=\"features_imp_rfr\"></a> \n",
    "### 5.2. Features Importance [RandomForestRegressor]"
   ]
  },
  {
   "cell_type": "code",
   "execution_count": null,
   "id": "eadb0269",
   "metadata": {},
   "outputs": [],
   "source": [
    "dhi_features_rfr = pd.DataFrame({'atributo':X_train.columns, 'importancia': dhi.best_estimator_.steps[1][1].feature_importances_})\n",
    "dhi_features_rfr.sort_values('importancia', ascending = False).iloc[0:5, :]"
   ]
  },
  {
   "cell_type": "code",
   "execution_count": null,
   "id": "86dabb31",
   "metadata": {},
   "outputs": [],
   "source": [
    "dni_features_rfr = pd.DataFrame({'atributo':X_train.columns, 'importancia': dni.best_estimator_.steps[1][1].feature_importances_})\n",
    "dni_features_rfr.sort_values('importancia', ascending = False).iloc[0:5, :]"
   ]
  },
  {
   "cell_type": "code",
   "execution_count": null,
   "id": "4b7ad393",
   "metadata": {},
   "outputs": [],
   "source": [
    "ghi_features_rfr = pd.DataFrame({'atributo':X_train.columns, 'importancia': ghi.best_estimator_.steps[1][1].feature_importances_})\n",
    "ghi_features_rfr.sort_values('importancia', ascending = False).iloc[0:5, :]"
   ]
  },
  {
   "cell_type": "markdown",
   "id": "293ab95c",
   "metadata": {},
   "source": [
    "<a id=\"pipeline_ada\"></a> \n",
    "### 5.3. PipeLine [Ada Boost Regressor]"
   ]
  },
  {
   "cell_type": "code",
   "execution_count": null,
   "id": "186f2d2d",
   "metadata": {},
   "outputs": [],
   "source": [
    "steps_ada = [('scaler', StandardScaler()),\n",
    "             ('ada', AdaBoostRegressor(random_state = 127, base_estimator=None))]"
   ]
  },
  {
   "cell_type": "code",
   "execution_count": null,
   "id": "4c72bd8e",
   "metadata": {},
   "outputs": [],
   "source": [
    "pipe_ada = Pipeline(steps_ada)"
   ]
  },
  {
   "cell_type": "code",
   "execution_count": null,
   "id": "bae6280b",
   "metadata": {},
   "outputs": [],
   "source": [
    "folds_ada = StratifiedKFold(n_splits=5,shuffle=True, random_state=42)"
   ]
  },
  {
   "cell_type": "code",
   "execution_count": null,
   "id": "37bda664",
   "metadata": {},
   "outputs": [],
   "source": [
    "params_ada = {'scaler': [StandardScaler(), MinMaxScaler(), None],\n",
    "              'ada__n_estimators': [100, 500, 1000],\n",
    "              'ada__learning_rate': np.arange(1,10,1.0),\n",
    "              'ada__loss': ['linear', 'square', 'exponential']}"
   ]
  },
  {
   "cell_type": "code",
   "execution_count": null,
   "id": "605722a0",
   "metadata": {},
   "outputs": [],
   "source": [
    "grid_ada = GridSearchCV(pipe_ada, params_ada, cv=folds_ada)"
   ]
  },
  {
   "cell_type": "code",
   "execution_count": null,
   "id": "9bfefec0",
   "metadata": {},
   "outputs": [],
   "source": [
    "dhi_ada = grid_ada.fit(X_train, y_train['Clearsky DHI'])"
   ]
  },
  {
   "cell_type": "code",
   "execution_count": null,
   "id": "0ec05aee",
   "metadata": {},
   "outputs": [],
   "source": [
    "dni_ada = grid_ada.fit(X_train, y_train['Clearsky DNI'])"
   ]
  },
  {
   "cell_type": "code",
   "execution_count": null,
   "id": "13fde11e",
   "metadata": {},
   "outputs": [],
   "source": [
    "ghi_ada = grid_ada.fit(X_train, y_train['Clearsky GHI'])"
   ]
  },
  {
   "cell_type": "markdown",
   "id": "a4e00c9d",
   "metadata": {},
   "source": [
    "**DHI AdaBoost Performance**"
   ]
  },
  {
   "cell_type": "code",
   "execution_count": null,
   "id": "06e0d842",
   "metadata": {},
   "outputs": [],
   "source": [
    "dhi_ada.best_estimator_"
   ]
  },
  {
   "cell_type": "code",
   "execution_count": null,
   "id": "0a4df132",
   "metadata": {},
   "outputs": [],
   "source": [
    "dhi_ada.best_score_"
   ]
  },
  {
   "cell_type": "code",
   "execution_count": null,
   "id": "198a80a2",
   "metadata": {},
   "outputs": [],
   "source": [
    "dhi_ada.best_params_"
   ]
  },
  {
   "cell_type": "markdown",
   "id": "c709a3f3",
   "metadata": {},
   "source": [
    "**DNI AdaBoost Performance**"
   ]
  },
  {
   "cell_type": "code",
   "execution_count": null,
   "id": "6a0297da",
   "metadata": {},
   "outputs": [],
   "source": [
    "dni_ada.best_estimator_"
   ]
  },
  {
   "cell_type": "code",
   "execution_count": null,
   "id": "5d18b99d",
   "metadata": {},
   "outputs": [],
   "source": [
    "dni_ada.best_score_"
   ]
  },
  {
   "cell_type": "code",
   "execution_count": null,
   "id": "0df20885",
   "metadata": {},
   "outputs": [],
   "source": [
    "dni_ada.best_params_"
   ]
  },
  {
   "cell_type": "markdown",
   "id": "96bc8552",
   "metadata": {},
   "source": [
    "**GHI AdaBoost Performance**"
   ]
  },
  {
   "cell_type": "code",
   "execution_count": null,
   "id": "885942c5",
   "metadata": {},
   "outputs": [],
   "source": [
    "ghi_ada.best_estimator_"
   ]
  },
  {
   "cell_type": "code",
   "execution_count": null,
   "id": "0353dc17",
   "metadata": {},
   "outputs": [],
   "source": [
    "ghi_ada.best_score_"
   ]
  },
  {
   "cell_type": "code",
   "execution_count": null,
   "id": "df39b9d2",
   "metadata": {},
   "outputs": [],
   "source": [
    "ghi_ada.best_params_"
   ]
  },
  {
   "cell_type": "markdown",
   "id": "42d8a241",
   "metadata": {},
   "source": [
    "<a id=\"features_imp_ada\"></a> \n",
    "### 5.4. Features Importance [Ada Boost Regressor]"
   ]
  },
  {
   "cell_type": "code",
   "execution_count": null,
   "id": "ef6b2dfe",
   "metadata": {},
   "outputs": [],
   "source": [
    "dhi_features_ada = pd.DataFrame({'atributo':X_train.columns, 'importancia': dhi_ada.best_estimator_.steps[1][1].feature_importances_})\n",
    "dhi_features_rfr.sort_values('importancia', ascending = False).iloc[0:5, :]"
   ]
  },
  {
   "cell_type": "code",
   "execution_count": null,
   "id": "61c4ab01",
   "metadata": {},
   "outputs": [],
   "source": [
    "dni_features_rfr = pd.DataFrame({'atributo':X_train.columns, 'importancia': dni_ada.best_estimator_.steps[1][1].feature_importances_})\n",
    "dni_features_rfr.sort_values('importancia', ascending = False).iloc[0:5, :]"
   ]
  },
  {
   "cell_type": "code",
   "execution_count": null,
   "id": "b80bb425",
   "metadata": {},
   "outputs": [],
   "source": [
    "dni_features_rfr = pd.DataFrame({'atributo':X_train.columns, 'importancia': ghi_ada.best_estimator_.steps[1][1].feature_importances_})\n",
    "dni_features_rfr.sort_values('importancia', ascending = False).iloc[0:5, :]"
   ]
  },
  {
   "cell_type": "markdown",
   "id": "56d8cbc3",
   "metadata": {},
   "source": [
    "<a id=\"best_performance\"></a> \n",
    "### 5.5. Entrenamiento con los parámetros de mejor performance [DataSet Completo]"
   ]
  },
  {
   "cell_type": "markdown",
   "id": "e94861a7",
   "metadata": {},
   "source": []
  },
  {
   "cell_type": "code",
   "execution_count": 32,
   "id": "8828927d",
   "metadata": {},
   "outputs": [],
   "source": [
    "X = data.drop(['Clearsky DHI', 'Clearsky DNI',\n",
    "       'Clearsky GHI'], axis=1)\n",
    "y = data[['Clearsky DHI', 'Clearsky DNI',\n",
    "       'Clearsky GHI']]\n",
    "\n",
    "X_train, X_test, y_train, y_test = train_test_split(X, y, random_state=12,  test_size=0.3)"
   ]
  },
  {
   "cell_type": "code",
   "execution_count": 33,
   "id": "10db7275",
   "metadata": {},
   "outputs": [
    {
     "name": "stdout",
     "output_type": "stream",
     "text": [
      "X_train: (122710, 34)\n",
      "y_train: (122710, 3)\n",
      "X_test: (52591, 34)\n",
      "y_test: (52591, 3)\n"
     ]
    }
   ],
   "source": [
    "print(f'X_train: {X_train.shape}')\n",
    "print(f'y_train: {y_train.shape}')\n",
    "print(f'X_test: {X_test.shape}')\n",
    "print(f'y_test: {y_test.shape}')"
   ]
  },
  {
   "cell_type": "markdown",
   "id": "b51ebcbc",
   "metadata": {},
   "source": [
    "**RandomForestRegressor**\n",
    "\n",
    "---"
   ]
  },
  {
   "cell_type": "code",
   "execution_count": 34,
   "id": "a5819f65",
   "metadata": {},
   "outputs": [],
   "source": [
    "dhi_steps_rfr = [('scaler', None),\n",
    "             ('ensamble', RandomForestRegressor())]"
   ]
  },
  {
   "cell_type": "code",
   "execution_count": 35,
   "id": "36511696",
   "metadata": {},
   "outputs": [],
   "source": [
    "dhi_pipe_rfr = Pipeline(dhi_steps_rfr)"
   ]
  },
  {
   "cell_type": "code",
   "execution_count": 36,
   "id": "0ecd1bc2",
   "metadata": {},
   "outputs": [
    {
     "data": {
      "text/plain": [
       "Pipeline(steps=[('scaler', None),\n",
       "                ('ensamble',\n",
       "                 RandomForestRegressor(max_depth=5, max_samples=9, n_jobs=-1,\n",
       "                                       random_state=127))])"
      ]
     },
     "execution_count": 36,
     "metadata": {},
     "output_type": "execute_result"
    }
   ],
   "source": [
    "dhi_pipe_rfr.set_params(ensamble__bootstrap=True,\n",
    "                        ensamble__n_jobs = -1,\n",
    "                        ensamble__random_state = 127,\n",
    "                        ensamble__max_samples= 9,\n",
    "                        ensamble__max_depth=5,\n",
    "                        ensamble__n_estimators=100)"
   ]
  },
  {
   "cell_type": "code",
   "execution_count": 37,
   "id": "66c4301d",
   "metadata": {},
   "outputs": [],
   "source": [
    "dhi_complet_rfr = dhi_pipe_rfr.fit(X_train, y_train['Clearsky DHI'])"
   ]
  },
  {
   "cell_type": "code",
   "execution_count": 38,
   "id": "7ffc30a0",
   "metadata": {},
   "outputs": [
    {
     "data": {
      "text/plain": [
       "0.8175588604160919"
      ]
     },
     "execution_count": 38,
     "metadata": {},
     "output_type": "execute_result"
    }
   ],
   "source": [
    "dhi_complet_rfr.score(X_test, y_test['Clearsky DHI'])"
   ]
  },
  {
   "cell_type": "markdown",
   "id": "1673fa41",
   "metadata": {},
   "source": [
    "---"
   ]
  },
  {
   "cell_type": "code",
   "execution_count": 39,
   "id": "af1b20a0",
   "metadata": {},
   "outputs": [],
   "source": [
    "dni_steps_rfr = [('scaler', None),\n",
    "             ('ensamble', RandomForestRegressor())]"
   ]
  },
  {
   "cell_type": "code",
   "execution_count": 40,
   "id": "1f5bc3ed",
   "metadata": {},
   "outputs": [],
   "source": [
    "dni_pipe_rfr = Pipeline(dni_steps_rfr)"
   ]
  },
  {
   "cell_type": "code",
   "execution_count": 41,
   "id": "7308e147",
   "metadata": {},
   "outputs": [
    {
     "data": {
      "text/plain": [
       "Pipeline(steps=[('scaler', None),\n",
       "                ('ensamble',\n",
       "                 RandomForestRegressor(max_depth=6, max_samples=9, n_jobs=-1,\n",
       "                                       random_state=127))])"
      ]
     },
     "execution_count": 41,
     "metadata": {},
     "output_type": "execute_result"
    }
   ],
   "source": [
    "dni_pipe_rfr.set_params(ensamble__bootstrap=True,\n",
    "                        ensamble__n_jobs = -1,\n",
    "                        ensamble__random_state = 127,\n",
    "                        ensamble__max_samples= 9,\n",
    "                        ensamble__max_depth=6,\n",
    "                        ensamble__n_estimators=100)"
   ]
  },
  {
   "cell_type": "code",
   "execution_count": 42,
   "id": "436299df",
   "metadata": {},
   "outputs": [],
   "source": [
    "dni_complet_rfr = dni_pipe_rfr.fit(X_train, y_train['Clearsky DNI'])"
   ]
  },
  {
   "cell_type": "code",
   "execution_count": 43,
   "id": "eff9e767",
   "metadata": {},
   "outputs": [
    {
     "data": {
      "text/plain": [
       "0.9106250047719145"
      ]
     },
     "execution_count": 43,
     "metadata": {},
     "output_type": "execute_result"
    }
   ],
   "source": [
    "dni_complet_rfr.score(X_test, y_test['Clearsky DNI'])"
   ]
  },
  {
   "cell_type": "markdown",
   "id": "90f31526",
   "metadata": {},
   "source": [
    "---"
   ]
  },
  {
   "cell_type": "code",
   "execution_count": 44,
   "id": "6c271aa7",
   "metadata": {},
   "outputs": [],
   "source": [
    "ghi_steps_rfr = [('scaler', MinMaxScaler()),\n",
    "             ('ensamble', RandomForestRegressor())]"
   ]
  },
  {
   "cell_type": "code",
   "execution_count": 45,
   "id": "55f8717b",
   "metadata": {},
   "outputs": [],
   "source": [
    "ghi_pipe_rfr = Pipeline(ghi_steps_rfr)"
   ]
  },
  {
   "cell_type": "code",
   "execution_count": 46,
   "id": "8d78ae76",
   "metadata": {},
   "outputs": [
    {
     "data": {
      "text/plain": [
       "Pipeline(steps=[('scaler', MinMaxScaler()),\n",
       "                ('ensamble',\n",
       "                 RandomForestRegressor(max_depth=4, max_samples=9,\n",
       "                                       n_estimators=500, n_jobs=-1,\n",
       "                                       random_state=127))])"
      ]
     },
     "execution_count": 46,
     "metadata": {},
     "output_type": "execute_result"
    }
   ],
   "source": [
    "ghi_pipe_rfr.set_params(ensamble__bootstrap=True,\n",
    "                        ensamble__n_jobs = -1,\n",
    "                        ensamble__random_state = 127,\n",
    "                        ensamble__max_samples= 9,\n",
    "                        ensamble__max_depth=4,\n",
    "                        ensamble__n_estimators=500)"
   ]
  },
  {
   "cell_type": "code",
   "execution_count": 47,
   "id": "ace9d65a",
   "metadata": {},
   "outputs": [],
   "source": [
    "ghi_complet_rfr = ghi_pipe_rfr.fit(X_train, y_train['Clearsky GHI'])"
   ]
  },
  {
   "cell_type": "code",
   "execution_count": 48,
   "id": "c47881d3",
   "metadata": {},
   "outputs": [
    {
     "data": {
      "text/plain": [
       "0.8719260987824577"
      ]
     },
     "execution_count": 48,
     "metadata": {},
     "output_type": "execute_result"
    }
   ],
   "source": [
    "ghi_complet_rfr.score(X_test, y_test['Clearsky GHI'])"
   ]
  },
  {
   "cell_type": "markdown",
   "id": "c72a571d",
   "metadata": {},
   "source": [
    "**Ada Boost Regressor**\n",
    "\n",
    "---"
   ]
  },
  {
   "cell_type": "code",
   "execution_count": 49,
   "id": "d7a20840",
   "metadata": {},
   "outputs": [],
   "source": [
    "dhi_steps_ada = [('scaler', None),\n",
    "             ('ada', AdaBoostRegressor())]"
   ]
  },
  {
   "cell_type": "code",
   "execution_count": 50,
   "id": "807a7904",
   "metadata": {},
   "outputs": [],
   "source": [
    "dhi_pipe_ada = Pipeline(dhi_steps_ada)"
   ]
  },
  {
   "cell_type": "code",
   "execution_count": 51,
   "id": "692ca738",
   "metadata": {},
   "outputs": [
    {
     "data": {
      "text/plain": [
       "Pipeline(steps=[('scaler', None),\n",
       "                ('ada',\n",
       "                 AdaBoostRegressor(learning_rate=2, loss='square',\n",
       "                                   n_estimators=100, random_state=127))])"
      ]
     },
     "execution_count": 51,
     "metadata": {},
     "output_type": "execute_result"
    }
   ],
   "source": [
    "dhi_pipe_ada.set_params(ada__random_state = 127,\n",
    "                    ada__base_estimator=None,\n",
    "                    ada__loss='square',\n",
    "                    ada__learning_rate=2,\n",
    "                    ada__n_estimators=100)"
   ]
  },
  {
   "cell_type": "code",
   "execution_count": 52,
   "id": "b33e4268",
   "metadata": {},
   "outputs": [],
   "source": [
    "dhi_complet_ada = dhi_pipe_ada.fit(X_train, y_train['Clearsky DHI'])"
   ]
  },
  {
   "cell_type": "code",
   "execution_count": 53,
   "id": "08504f13",
   "metadata": {},
   "outputs": [],
   "source": [
    "dni_steps_ada = [('scaler', None),\n",
    "             ('ada', AdaBoostRegressor())]"
   ]
  },
  {
   "cell_type": "code",
   "execution_count": 54,
   "id": "f5e08f39",
   "metadata": {},
   "outputs": [],
   "source": [
    "dni_pipe_ada = Pipeline(dni_steps_ada)"
   ]
  },
  {
   "cell_type": "code",
   "execution_count": 55,
   "id": "4e9e8395",
   "metadata": {},
   "outputs": [
    {
     "data": {
      "text/plain": [
       "Pipeline(steps=[('scaler', None),\n",
       "                ('ada',\n",
       "                 AdaBoostRegressor(learning_rate=2, loss='square',\n",
       "                                   n_estimators=100, random_state=127))])"
      ]
     },
     "execution_count": 55,
     "metadata": {},
     "output_type": "execute_result"
    }
   ],
   "source": [
    "dni_pipe_ada.set_params(ada__random_state = 127,\n",
    "                    ada__base_estimator=None,\n",
    "                    ada__loss='square',\n",
    "                    ada__learning_rate=2,\n",
    "                    ada__n_estimators=100)"
   ]
  },
  {
   "cell_type": "code",
   "execution_count": 56,
   "id": "3a039ced",
   "metadata": {},
   "outputs": [],
   "source": [
    "dni_complet_ada = dni_pipe_ada.fit(X_train, y_train['Clearsky DNI'])"
   ]
  },
  {
   "cell_type": "code",
   "execution_count": 57,
   "id": "d1c6890b",
   "metadata": {},
   "outputs": [],
   "source": [
    "ghi_steps_ada = [('scaler', None),\n",
    "             ('ada', AdaBoostRegressor())]"
   ]
  },
  {
   "cell_type": "code",
   "execution_count": 58,
   "id": "eeba0db0",
   "metadata": {},
   "outputs": [],
   "source": [
    "ghi_pipe_ada = Pipeline(ghi_steps_ada)"
   ]
  },
  {
   "cell_type": "code",
   "execution_count": 59,
   "id": "253af67f",
   "metadata": {},
   "outputs": [
    {
     "data": {
      "text/plain": [
       "Pipeline(steps=[('scaler', None),\n",
       "                ('ada',\n",
       "                 AdaBoostRegressor(learning_rate=2, loss='square',\n",
       "                                   n_estimators=100, random_state=127))])"
      ]
     },
     "execution_count": 59,
     "metadata": {},
     "output_type": "execute_result"
    }
   ],
   "source": [
    "ghi_pipe_ada.set_params(ada__random_state = 127,\n",
    "                    ada__base_estimator=None,\n",
    "                    ada__loss='square',\n",
    "                    ada__learning_rate=2,\n",
    "                    ada__n_estimators=100)"
   ]
  },
  {
   "cell_type": "code",
   "execution_count": 60,
   "id": "74b25fdf",
   "metadata": {},
   "outputs": [],
   "source": [
    "ghi_complet_ada = ghi_pipe_ada.fit(X_train, y_train['Clearsky GHI'])"
   ]
  },
  {
   "cell_type": "markdown",
   "id": "0f768edf",
   "metadata": {},
   "source": [
    "<a id=\"metrics\"></a>\n",
    "### 5.5. Resumen de métricas"
   ]
  },
  {
   "cell_type": "markdown",
   "id": "c738a4f9",
   "metadata": {},
   "source": [
    "**Metrics - RandomForestRegressor**\n",
    "\n",
    "---"
   ]
  },
  {
   "cell_type": "code",
   "execution_count": 61,
   "id": "f47a27a7",
   "metadata": {},
   "outputs": [
    {
     "name": "stdout",
     "output_type": "stream",
     "text": [
      "Random Forest Regressor\n",
      "-------------------------------\n",
      "DHI score: 0.8175588604160919\n",
      "DNI score: 0.9106250047719145\n",
      "GHI score: 0.8719260987824577\n"
     ]
    }
   ],
   "source": [
    "print('Random Forest Regressor')\n",
    "print('-------------------------------')\n",
    "print('DHI score:', dhi_complet_rfr.score(X_test, y_test['Clearsky DHI']))\n",
    "print('DNI score:', dni_complet_rfr.score(X_test, y_test['Clearsky DNI']))\n",
    "print('GHI score:', ghi_complet_rfr.score(X_test, y_test['Clearsky GHI']))"
   ]
  },
  {
   "cell_type": "markdown",
   "id": "750ebd2a",
   "metadata": {},
   "source": [
    "**Metrics - Ada Boost Regressor**\n",
    "\n",
    "---"
   ]
  },
  {
   "cell_type": "code",
   "execution_count": 62,
   "id": "208fb42b",
   "metadata": {},
   "outputs": [
    {
     "name": "stdout",
     "output_type": "stream",
     "text": [
      "Ada Boost Regressor\n",
      "-------------------------------\n",
      "DHI score: 0.765145567398322\n",
      "DNI score: 0.9659071925176673\n",
      "GHI score: 0.9884969929216707\n"
     ]
    }
   ],
   "source": [
    "print('Ada Boost Regressor')\n",
    "print('-------------------------------')\n",
    "print('DHI score:', dhi_complet_ada.score(X_test, y_test['Clearsky DHI']))\n",
    "print('DNI score:', dni_complet_ada.score(X_test, y_test['Clearsky DNI']))\n",
    "print('GHI score:', ghi_complet_ada.score(X_test, y_test['Clearsky GHI']))"
   ]
  },
  {
   "cell_type": "markdown",
   "id": "946405e3",
   "metadata": {},
   "source": [
    "<a id=\"section_curva_roc\"></a> \n",
    "## 6. Curva ROC\n",
    "---\n",
    "<a href='#tabla_contenidos'>Volver a la Tabla de Contenidos</a>"
   ]
  },
  {
   "cell_type": "code",
   "execution_count": null,
   "id": "7b893a80",
   "metadata": {},
   "outputs": [],
   "source": []
  },
  {
   "cell_type": "markdown",
   "id": "779ebad2",
   "metadata": {},
   "source": [
    "<a id=\"section_umbrales\"></a> \n",
    "### 6.1 Ajustando los umbrales"
   ]
  },
  {
   "cell_type": "code",
   "execution_count": null,
   "id": "698a6918",
   "metadata": {},
   "outputs": [],
   "source": []
  },
  {
   "cell_type": "markdown",
   "id": "5165bf95",
   "metadata": {},
   "source": [
    "<a id=\"section_imp_croc\"></a> \n",
    "### 6.2 Implementación Curva ROC y AUC"
   ]
  },
  {
   "cell_type": "code",
   "execution_count": null,
   "id": "56a5c918",
   "metadata": {},
   "outputs": [],
   "source": []
  },
  {
   "cell_type": "markdown",
   "id": "94e97b81",
   "metadata": {},
   "source": [
    "<a id=\"export_pickle\"></a> \n",
    "## 7. Exportarndo en Pickle\n",
    "---\n",
    "<a href='#tabla_contenidos'>Volver a la Tabla de Contenidos</a>"
   ]
  },
  {
   "cell_type": "markdown",
   "id": "1df91739",
   "metadata": {},
   "source": [
    "**TO-DO"
   ]
  },
  {
   "cell_type": "code",
   "execution_count": 68,
   "id": "f9f37f59",
   "metadata": {},
   "outputs": [],
   "source": [
    "model_file_name_dhi = '../predictors/dhi_model.pickle'\n",
    "model_file_name_dni = '../predictors/dni_model.pickle'\n",
    "model_file_name_ghi = '../predictors/ghi_model.pickle'\n",
    "encoder_file_name = '../predictors/encoder.pickle'"
   ]
  },
  {
   "cell_type": "code",
   "execution_count": 69,
   "id": "4499e563",
   "metadata": {},
   "outputs": [],
   "source": [
    "model_dhi = dhi_complet_rfr\n",
    "model_dni = dni_complet_ada\n",
    "model_ghi = ghi_complet_ada\n",
    "encoder_export = encoder"
   ]
  },
  {
   "cell_type": "code",
   "execution_count": 70,
   "id": "f1a9dd9e",
   "metadata": {},
   "outputs": [],
   "source": [
    "pickle.dump(model_dhi, open(model_file_name_dhi, 'wb'))\n",
    "pickle.dump(model_dni, open(model_file_name_dni, 'wb'))\n",
    "pickle.dump(model_ghi, open(model_file_name_ghi, 'wb'))\n",
    "pickle.dump(encoder_export, open(encoder_file_name, 'wb'))"
   ]
  },
  {
   "cell_type": "code",
   "execution_count": 66,
   "id": "f9d4e76c",
   "metadata": {},
   "outputs": [],
   "source": [
    "model_dhi = pickle.load(open(model_file_name_dhi, 'rb'))\n",
    "model_dni = pickle.load(open(model_file_name_dni, 'rb'))\n",
    "model_ghi = pickle.load(open(model_file_name_ghi, 'rb'))"
   ]
  },
  {
   "cell_type": "code",
   "execution_count": 67,
   "id": "f709fece",
   "metadata": {},
   "outputs": [],
   "source": [
    "pred_dhi = model_dhi.predict(X_test_.drop(['Clearsky DHI', 'Clearsky DNI','Clearsky GHI'], axis=1))\n",
    "pred_dni = model_dni.predict(X_test_.drop(['Clearsky DHI', 'Clearsky DNI','Clearsky GHI'], axis=1))\n",
    "pred_ghi = model_ghi.predict(X_test_.drop(['Clearsky DHI', 'Clearsky DNI','Clearsky GHI'], axis=1))"
   ]
  },
  {
   "cell_type": "code",
   "execution_count": 76,
   "id": "a5dc2013",
   "metadata": {},
   "outputs": [
    {
     "data": {
      "text/plain": [
       "<AxesSubplot:xlabel='Month'>"
      ]
     },
     "execution_count": 76,
     "metadata": {},
     "output_type": "execute_result"
    },
    {
     "data": {
      "image/png": "[encoded data removed]",
      "text/plain": [
       "<Figure size 640x480 with 1 Axes>"
      ]
     },
     "metadata": {},
     "output_type": "display_data"
    }
   ],
   "source": [
    "sns.lineplot(x=X_test_.Month, y=pred_dhi, marker='v')\n",
    "sns.lineplot(x=X_test_.Month, y=pred_dni, marker='.')\n",
    "sns.lineplot(x=X_test_.Month, y=pred_ghi, marker='o')"
   ]
  },
  {
   "cell_type": "code",
   "execution_count": null,
   "id": "faa6023e",
   "metadata": {},
   "outputs": [],
   "source": []
  },
  {
   "cell_type": "code",
   "execution_count": null,
   "id": "8648dd86",
   "metadata": {},
   "outputs": [],
   "source": []
  },
  {
   "cell_type": "markdown",
   "id": "52fe41a5",
   "metadata": {},
   "source": [
    "<a id=\"conclusiones\"></a> \n",
    "## 8. Conclusiones\n",
    "---\n",
    "<a href='#tabla_contenidos'>Volver a la Tabla de Contenidos</a>"
   ]
  },
  {
   "cell_type": "code",
   "execution_count": null,
   "id": "f17e72d7",
   "metadata": {},
   "outputs": [],
   "source": []
  },
  {
   "cell_type": "code",
   "execution_count": null,
   "id": "356dc931",
   "metadata": {},
   "outputs": [],
   "source": []
  }
 ],
 "metadata": {
  "kernelspec": {
   "display_name": "Python [conda env:dhdsblend2022] *",
   "language": "python",
   "name": "conda-env-dhdsblend2022-py"
  },
  "language_info": {
   "codemirror_mode": {
    "name": "ipython",
    "version": 3
   },
   "file_extension": ".py",
   "mimetype": "text/x-python",
   "name": "python",
   "nbconvert_exporter": "python",
   "pygments_lexer": "ipython3",
   "version": "3.8.15"
  }
 },
 "nbformat": 4,
 "nbformat_minor": 5
}
