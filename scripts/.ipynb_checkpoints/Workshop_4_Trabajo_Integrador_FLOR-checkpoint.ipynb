{
 "cells": [
  {
   "cell_type": "markdown",
   "id": "08524bb6",
   "metadata": {},
   "source": [
    "<div float: center>\n",
    "    <img src=\"../common/../common/logo_DH.png\" width=\"30%\" height=\"30%\" style=\"text-align: left;\">\n",
    "    <img src=\"../common/wipro_logo.png\"  width=\"20%\" height=\"20%\" style=\"text-align: right; margin-left:400px;\">\n",
    "<div/>\n",
    "\n",
    "---\n",
    "\n",
    "# WORKSHOP 4 - Trabajo integrador de DataScience\n",
    "\n",
    "## GRUPO 8\n",
    "\n",
    "Integrantes:\n",
    "- Agustín García \n",
    "- Florencia Mosconi\n",
    "- Ezequiel López Mondo \n",
    "- Pablo Bauer \n",
    "\n",
    "<a id=\"tabla_contenidos\"></a> \n",
    "## Tabla de Contenidos\n",
    "\n",
    "### <a href='#section_repaso'>1. Introducción</a>\n",
    "- #### <a href='#explicacion_dataset'>1.1. Presentación del caso</a>\n",
    "- #### <a href='#metodologia'>1.2. La metodología de trabajo</a>\n",
    "\n",
    "### <a href='#section_import_lib'>2. Importación de librerías para casos de Clasificación</a>\n",
    "\n",
    "\n",
    "### <a href='#importar_dataset'>3. Importando el DataSet</a> \n",
    "- #### <a href='#imputacion'>3.1. Imputación de datos</a>\n",
    "\n",
    "### <a  href='#preparacion_entrenamiento'>4. Preparación y Entrenamiento del DataSet</a>\n",
    "- #### <a href='#features'>4.1. Features y dummies</a>\n",
    "- #### <a href='#split'>4.2. Split del set de entrenamiento</a>\n",
    "- #### <a href='#matrix_corr'>4.3. Matriz de correlación</a>\n",
    "- #### <a href='#analisis_corr'>4.4. Analisis preliminar de correlación</a>\n",
    "\n",
    "### <a  href='#evaluacion_modelos'>5. Evaluación de los Modelos Métricas</a>\n",
    "- #### <a href='#pipeline_rfr'>5.1. PipeLine [RandomForestRegressor]</a>\n",
    "- #### <a href='#features_imp_rfr'>5.2. Features Importance [RandomForestRegressor]</a>\n",
    "    \n",
    "### <a href='#section_curva_roc'>6. Curva ROC</a>\n",
    "- #### <a href='#section_umbrales'>6.1. Ajustando los umbrales</a>\n",
    "- #### <a href='#section_imp_croc'>6.2. Implementación Curva ROC y AUC</a>\n",
    "\n",
    "### <a href='#conclusiones'>7. Conclusuiones</a>\n",
    "---"
   ]
  },
  {
   "cell_type": "markdown",
   "id": "c2b72f3e",
   "metadata": {},
   "source": [
    "<a id=\"section_repaso\"></a> \n",
    "## 1. Introducción\n",
    "---\n",
    "<a href='#tabla_contenidos'>Volver a la Tabla de Contenidos</a>"
   ]
  },
  {
   "cell_type": "markdown",
   "id": "d7c91db1",
   "metadata": {},
   "source": [
    "<a id=\"explicacion_dataset\"></a> \n",
    "### 1.1 Presentación del caso\n",
    "\n",
    "<img src=\"../common/solar_farms.png\"  width=\"100%\" height=\"100%\">\n",
    "\n",
    ":es:\n",
    "\n",
    "**Objetivo del Proyecto**\n",
    "\n",
    "El objetivo de este proyecto es optimizar la producción de energía solar de una empresa de líder en el campo. Para ello, se requiere desarrollar un modelo de predicción capaz de predecir los valores de 'Clearsky DHI', 'Clearsky DNI' y 'Clearsky GHI', que son índices de incidencia solar clave.\n",
    "\n",
    "Utilizando un conjunto de datos recopilados durante 10 años con un intervalo de 30 minutos, se entrenará el modelo de predicción. Este modelo permitirá predecir la capacidad de producción de una granja solar en función de ciertos parámetros meteorológicos relevantes.\n",
    "\n",
    "El objetivo final es proporcionar a la empresa de generación de energía solar una herramienta precisa y confiable para optimizar la producción. Esto permitirá una planificación más eficiente de las operaciones, una mejor gestión de los recursos disponibles y proporcionar valores de entrega de energía, basados en predicciones meteorológicas a través de los servicios de Meteorología Nacionales.\n",
    "\n",
    "Con este proyecto, se busca aprovechar al máximo el potencial de la energía solar y contribuir a un enfoque más sostenible y respetuoso con el medio ambiente en la generación de energía.\n",
    "\n",
    "---\n",
    "\n",
    ":us:\n",
    "\n",
    "**Goal of the Project**\n",
    "\n",
    "*The objective of this project is to optimize the solar energy production of a leading company in the field. For this, it is necessary to develop a prediction model capable of predicting the values of 'Clearsky DHI', 'Clearsky DNI' and 'Clearsky GHI', which are key solar incidence indices.\n",
    "\n",
    "*Using a data set collected over 10 years with an interval of 30 minutes, the prediction model will be trained. This model will make it possible to predict the production capacity of a solar farm based on certain relevant meteorological parameters.\n",
    "\n",
    "*The ultimate goal is to provide the solar power generation company with an accurate and reliable tool to optimize production. This will allow for more efficient planning, better management of available resources and will provide energy delivery values, based on weather predictions through the National Meteorology services.\n",
    "\n",
    "*This project seeks to make the most of the potential of solar energy and contribute to a more sustainable and environmentally friendly approach to power generation.\n",
    "\n",
    "\n",
    ":es:\n",
    "\n",
    "#### Contexto\n",
    "\n",
    "Wipro Limited (NYSE: WIT, BSE: 507685, NSE: WIPRO) es una empresa líder mundial en servicios de tecnología de la información, consultoría y procesos comerciales. Aprovechamos el poder de la computación cognitiva, la hiperautomatización, la robótica, nubes, el análisis y las tecnologías emergentes para ayudar a nuestros clientes a adaptarse al mundo digital y hacerlos exitosos. Una empresa reconocida a nivel mundial por su cartera integral de servicios, fuerte compromiso con la sostenibilidad y capital humano comprometido, tenemos más de 220 000 empleados dedicados, que atienden a clientes en seis continentes. Juntos, descubrimos ideas y conectamos los puntos para construir un futuro mejor y más audaz.\n",
    "\n",
    "Además de ser un líder mundial en servicios de inteligencia artificial según los últimos informes de analistas como Forrester, IDC y Everest Group, Wipro ha sido calificada como la segunda mejor organización para que los científicos de datos trabajen en India en 2021 por Analytics India Magazine. La compañía también se ha comprometido a alcanzar unas emisiones netas de gases de efecto invernadero cero para 2040.\n",
    "\n",
    "Aunque un poco tarde, el mundo se está dando cuenta del efecto nocivo de los combustibles fósiles en nuestro medio ambiente. A medida que avanza el reloj del fin del mundo, los seres humanos recurren a las energías renovables para evitar un posible apocalipsis. Afortunadamente, el sol es un manantial de energía limpia. Siguiendo el ejemplo, Wipro, en asociación con MachineHack, ha diseñado un desafío de pronóstico para optimizar la generación de energía solar utilizando modelos ML.\n",
    "\n",
    "---\n",
    ":us:\n",
    "\n",
    "#### Context\n",
    "\n",
    "*Wipro Limited (NYSE: WIT, BSE: 507685, NSE: WIPRO) is a leading global information technology, consulting and business process services company. We harness the power of cognitive computing, hyper-automation, robotics, cloud, analytics and emerging technologies to help our clients adapt to the digital world and make them successful. A company recognized globally for its comprehensive portfolio of services, strong commitment to sustainability and good corporate citizenship, we have over 220,000 dedicated employees serving clients across six continents. Together, we discover ideas and connect the dots to build a better and a bold new future.*\n",
    "\n",
    "*Along with being a global leader in artificial intelligence services from the latest reports of analysts like Forrester, IDC and Everest Group, Wipro has been rated as the second-best organization for data scientists to work in India in 2021 by Analytics India Magazine. The company has also been committed to reaching a Net-Zero Greenhouse Gas Emissions by 2040.*\n",
    "\n",
    "*Though a little late in the day, the world is waking up to the deleterious effect of fossil fuels on our environment. As the doomsday clock ticks away, human beings are turning to renewable energy to avert a possible apocalypse. Fortunately, the sun is a well-spring of clean energy. Taking the cue, Wipro, in association with MachineHack, has designed a forecasting challenge to optimise solar power generation using ML models.*\n",
    "\n",
    "---\n",
    "\n",
    "['Year', 'Month', 'Day', 'Hour', 'Minute', 'Temperature', 'Clearsky DHI', 'Clearsky DNI', 'Clearsky GHI', 'Cloud Type', 'Dew Point', 'Fill Flag', 'Relative Humidity', 'Solar Zenith Angle', 'Pressure', 'Precipitable Water', 'Wind Direction', 'Wind Speed']\n",
    "\n",
    "#### Columnas\n",
    "- **Year** - Año de toma de datos\n",
    "- **Month** - Mes de toma de datos\n",
    "- **Day** - Día de toma de datos\n",
    "- **Hour** - Hora de toma de datos\n",
    "- **Minute** - Minuto de toma de datos\n",
    "- **Temperature** - Temperatura local\n",
    "- **Clearsky_DHI** - Diffuese Horizontal Irradiance w/m2\n",
    "- **Clearsky_DNI** - Direct Normal Irradiance w/m2\n",
    "- **Clearsky_GHI** - Global Horizontal Irradiance w/m2\n",
    "- **Cloud_Type** - Tipo de Nubosidad en el ambiente\n",
    "    - Cloud Type 0 Clear\n",
    "    - Cloud Type 1 Probably Clear\n",
    "    - Cloud Type 2 Fog\n",
    "    - Cloud Type 3 Water\n",
    "    - Cloud Type 4 Super-Cooled Water\n",
    "    - Cloud Type 5 Mixed\n",
    "    - Cloud Type 6 Opaque Ice\n",
    "    - Cloud Type 7 Cirrus\n",
    "    - Cloud Type 8 Overlapping\n",
    "    - Cloud Type 9 Overshooting\n",
    "    - Cloud Type 10 Unknown\n",
    "    - Cloud Type 11 Dust\n",
    "    - Cloud Type 12 Smoke\n",
    "    - Cloud Type -15 N/A\n",
    "- **Dew_Point** - Punto de rocío\n",
    "- **Fill_Flag** - \n",
    "    - Fill Flag 0 N/A\n",
    "    - Fill Flag 1 Missing Image\n",
    "    - Fill Flag 2 Low Irradiance\n",
    "    - Fill Flag 3 Exceeds Clearsky\n",
    "    - Fill Flag 4 Missing Cloud Properties\n",
    "    - Fill Flag 5 Rayleigh Violation\n",
    "    - Fill Flag any N/A\n",
    "- **Relative_Humidity** - Humedad relativa\n",
    "- **Solar_Zenith_Angle** - Ángulo de zenit solar\n",
    "- **Pressure** - Presión atomsférica\n",
    "- **Precipitable_Water** - Precipitación de lluvia en mm\n",
    "- **Wind_Direction** - Dirección del viento\n",
    "- **Wind_Speed** - Velocidad del viento\n",
    "\n",
    "<a id=\"metodologia\"></a> \n",
    "### 1.2 La metodología de trabajo\n",
    "\n",
    "Hemos estructurado nuestra metodología de trabajo en varias tareas con el fin de cumplir con nuestros objetivos principales. El objetivo primario es desarrollar un sistema predictivo en la notebook y crear una presentación en PowerPoint, tal como se requiere en el curso.\n",
    "\n",
    "Además de esto, hemos definido una serie de tareas complementarias para cumplir con nuestro objetivo secundario. Este objetivo implica poner en producción una pequeña página web en un servidor local, la cual contará con las funcionalidades mínimas necesarias para el funcionamiento del sistema y permitirá realizar consultas.\n",
    "\n",
    "A través de esta metodología, aseguramos un enfoque ordenado y organizado para alcanzar tanto el objetivo primario como el secundario. Cada tarea predictiva se realizará de manera paralela, permitiendo una progresión lógica en el desarrollo del proyecto y permitiendo un proceso comparativo de distintos modelos de aprendizaje. De esta manera, podremos cumplir con los requisitos del curso y también lograr la puesta en funcionamiento del sistema en una página web, brindando una solución más completa y accesible para los usuarios.\n",
    "\n",
    "Esta metodología nos permite maximizar la eficiencia y garantizar la entrega exitosa de los resultados esperados en los plazos establecidos."
   ]
  },
  {
   "cell_type": "markdown",
   "id": "151b908b",
   "metadata": {},
   "source": [
    "<a id=\"section_import_lib\"></a>\n",
    "## 2. Importación de librerías para casos de Clasificación\n",
    "---\n",
    "<a href='#tabla_contenidos'>Volver a la Tabla de Contenidos</a>"
   ]
  },
  {
   "cell_type": "code",
   "execution_count": 1,
   "id": "8563b451",
   "metadata": {},
   "outputs": [],
   "source": [
    "import pandas as pd\n",
    "import numpy as np\n",
    "import seaborn as sns\n",
    "import matplotlib.pyplot as plt\n",
    "\n",
    "from sklearn.model_selection import train_test_split\n",
    "from sklearn.preprocessing import OneHotEncoder, StandardScaler, MinMaxScaler\n",
    "from sklearn.ensemble import BaggingRegressor, RandomForestRegressor\n",
    "from sklearn.model_selection import GridSearchCV, StratifiedKFold\n",
    "from sklearn.pipeline import Pipeline\n",
    "from sklearn.metrics import confusion_matrix"
   ]
  },
  {
   "cell_type": "markdown",
   "id": "cb4eefda",
   "metadata": {},
   "source": [
    "<a id=\"importar_dataset\"></a>\n",
    "## 3. Importando el DataSet\n",
    "---\n",
    "<a href='#tabla_contenidos'>Volver a la Tabla de Contenidos</a>"
   ]
  },
  {
   "cell_type": "code",
   "execution_count": 2,
   "id": "8c847cbb",
   "metadata": {},
   "outputs": [
    {
     "name": "stdout",
     "output_type": "stream",
     "text": [
      "(175296, 18)\n",
      "(17520, 18)\n"
     ]
    }
   ],
   "source": [
    "ruta_X_train = \"train.csv\"\n",
    "ruta_X_test = \"test.csv\"\n",
    "ruta_sample_submission = \"sample_submission.csv\"\n",
    "\n",
    "# Con este data set crearemos los DF de entrenamiento y testeo\n",
    "data = pd.read_csv(ruta_X_train, sep=',')\n",
    "\n",
    "# Este data set quedará como set de prediciones\n",
    "X_test_ = pd.read_csv(ruta_X_test, sep=',')\n",
    "\n",
    "# VER QUE HACEMOS CON ESTO, YO LO ELIMINARÍA\n",
    "sample_submission = pd.read_csv(ruta_sample_submission, sep=',')\n",
    "\n",
    "print(data.shape)\n",
    "print(X_test_.shape)"
   ]
  },
  {
   "cell_type": "code",
   "execution_count": 3,
   "id": "78687626",
   "metadata": {},
   "outputs": [
    {
     "data": {
      "text/plain": [
       "Year                  0.0\n",
       "Month                 0.0\n",
       "Day                   0.0\n",
       "Hour                  0.0\n",
       "Minute                0.0\n",
       "Clearsky DHI          0.0\n",
       "Clearsky DNI          0.0\n",
       "Clearsky GHI          0.0\n",
       "Cloud Type            0.0\n",
       "Dew Point             0.0\n",
       "Temperature           0.0\n",
       "Pressure              0.0\n",
       "Relative Humidity     0.0\n",
       "Solar Zenith Angle    0.0\n",
       "Precipitable Water    0.0\n",
       "Wind Direction        0.0\n",
       "Wind Speed            0.0\n",
       "Fill Flag             0.0\n",
       "dtype: float64"
      ]
     },
     "execution_count": 3,
     "metadata": {},
     "output_type": "execute_result"
    }
   ],
   "source": [
    "data_nan = data.apply(lambda x: x.isnull().sum()/x.shape[0], axis=0)\n",
    "data_nan"
   ]
  },
  {
   "cell_type": "markdown",
   "id": "4692f7a0",
   "metadata": {},
   "source": [
    "Podemos observar que el DataSet no contiene ningún nulo, ya que este fue tomado por una computadore de manera continua de los datos climaticos de la zona."
   ]
  },
  {
   "cell_type": "markdown",
   "id": "67c70524",
   "metadata": {},
   "source": [
    "<a id=\"imputacion\"></a> \n",
    "### 3.1 Imputación de datos"
   ]
  },
  {
   "cell_type": "markdown",
   "id": "5d586545",
   "metadata": {},
   "source": [
    "En esta imputación encontramos una discrepancia en la organización de las columnas y hacemos un arreglo para que tengan el  mismo orden del DataSet que utilizaremos al final de trabajo para realizar predicciones futuras."
   ]
  },
  {
   "cell_type": "code",
   "execution_count": 4,
   "id": "3c3eaf92",
   "metadata": {},
   "outputs": [
    {
     "data": {
      "text/plain": [
       "array(['Year', 'Month', 'Day', 'Hour', 'Minute', 'Cloud Type',\n",
       "       'Dew Point', 'Temperature', 'Pressure', 'Relative Humidity',\n",
       "       'Solar Zenith Angle', 'Precipitable Water', 'Wind Direction',\n",
       "       'Wind Speed', 'Fill Flag', 'Clearsky DHI', 'Clearsky DNI',\n",
       "       'Clearsky GHI'], dtype=object)"
      ]
     },
     "execution_count": 4,
     "metadata": {},
     "output_type": "execute_result"
    }
   ],
   "source": [
    "X_test_.columns.values"
   ]
  },
  {
   "cell_type": "code",
   "execution_count": 5,
   "id": "4574f0f7",
   "metadata": {
    "scrolled": true
   },
   "outputs": [
    {
     "data": {
      "text/html": [
       "<div>\n",
       "<style scoped>\n",
       "    .dataframe tbody tr th:only-of-type {\n",
       "        vertical-align: middle;\n",
       "    }\n",
       "\n",
       "    .dataframe tbody tr th {\n",
       "        vertical-align: top;\n",
       "    }\n",
       "\n",
       "    .dataframe thead th {\n",
       "        text-align: right;\n",
       "    }\n",
       "</style>\n",
       "<table border=\"1\" class=\"dataframe\">\n",
       "  <thead>\n",
       "    <tr style=\"text-align: right;\">\n",
       "      <th></th>\n",
       "      <th>Year</th>\n",
       "      <th>Month</th>\n",
       "      <th>Day</th>\n",
       "      <th>Hour</th>\n",
       "      <th>Minute</th>\n",
       "      <th>Cloud Type</th>\n",
       "      <th>Dew Point</th>\n",
       "      <th>Temperature</th>\n",
       "      <th>Pressure</th>\n",
       "      <th>Relative Humidity</th>\n",
       "      <th>Solar Zenith Angle</th>\n",
       "      <th>Precipitable Water</th>\n",
       "      <th>Wind Direction</th>\n",
       "      <th>Wind Speed</th>\n",
       "      <th>Fill Flag</th>\n",
       "      <th>Clearsky DHI</th>\n",
       "      <th>Clearsky DNI</th>\n",
       "      <th>Clearsky GHI</th>\n",
       "    </tr>\n",
       "  </thead>\n",
       "  <tbody>\n",
       "    <tr>\n",
       "      <th>102774</th>\n",
       "      <td>2014</td>\n",
       "      <td>11</td>\n",
       "      <td>12</td>\n",
       "      <td>3</td>\n",
       "      <td>0</td>\n",
       "      <td>3</td>\n",
       "      <td>5.0</td>\n",
       "      <td>12.0</td>\n",
       "      <td>1000</td>\n",
       "      <td>65.97</td>\n",
       "      <td>145.47</td>\n",
       "      <td>0.873</td>\n",
       "      <td>298.4</td>\n",
       "      <td>1.2</td>\n",
       "      <td>0</td>\n",
       "      <td>0</td>\n",
       "      <td>0</td>\n",
       "      <td>0</td>\n",
       "    </tr>\n",
       "    <tr>\n",
       "      <th>21731</th>\n",
       "      <td>2010</td>\n",
       "      <td>3</td>\n",
       "      <td>29</td>\n",
       "      <td>17</td>\n",
       "      <td>30</td>\n",
       "      <td>2</td>\n",
       "      <td>9.0</td>\n",
       "      <td>15.0</td>\n",
       "      <td>990</td>\n",
       "      <td>69.03</td>\n",
       "      <td>28.41</td>\n",
       "      <td>1.504</td>\n",
       "      <td>298.5</td>\n",
       "      <td>4.7</td>\n",
       "      <td>4</td>\n",
       "      <td>176</td>\n",
       "      <td>851</td>\n",
       "      <td>925</td>\n",
       "    </tr>\n",
       "    <tr>\n",
       "      <th>21660</th>\n",
       "      <td>2010</td>\n",
       "      <td>3</td>\n",
       "      <td>28</td>\n",
       "      <td>6</td>\n",
       "      <td>0</td>\n",
       "      <td>1</td>\n",
       "      <td>9.0</td>\n",
       "      <td>9.0</td>\n",
       "      <td>1000</td>\n",
       "      <td>100.00</td>\n",
       "      <td>144.89</td>\n",
       "      <td>1.702</td>\n",
       "      <td>115.2</td>\n",
       "      <td>3.3</td>\n",
       "      <td>0</td>\n",
       "      <td>0</td>\n",
       "      <td>0</td>\n",
       "      <td>0</td>\n",
       "    </tr>\n",
       "    <tr>\n",
       "      <th>31951</th>\n",
       "      <td>2010</td>\n",
       "      <td>10</td>\n",
       "      <td>28</td>\n",
       "      <td>15</td>\n",
       "      <td>30</td>\n",
       "      <td>8</td>\n",
       "      <td>22.0</td>\n",
       "      <td>25.0</td>\n",
       "      <td>1000</td>\n",
       "      <td>88.32</td>\n",
       "      <td>52.12</td>\n",
       "      <td>4.758</td>\n",
       "      <td>280.0</td>\n",
       "      <td>3.0</td>\n",
       "      <td>0</td>\n",
       "      <td>132</td>\n",
       "      <td>728</td>\n",
       "      <td>579</td>\n",
       "    </tr>\n",
       "    <tr>\n",
       "      <th>89504</th>\n",
       "      <td>2014</td>\n",
       "      <td>2</td>\n",
       "      <td>8</td>\n",
       "      <td>16</td>\n",
       "      <td>0</td>\n",
       "      <td>3</td>\n",
       "      <td>7.0</td>\n",
       "      <td>12.0</td>\n",
       "      <td>1010</td>\n",
       "      <td>74.66</td>\n",
       "      <td>53.59</td>\n",
       "      <td>1.704</td>\n",
       "      <td>344.3</td>\n",
       "      <td>1.4</td>\n",
       "      <td>0</td>\n",
       "      <td>95</td>\n",
       "      <td>875</td>\n",
       "      <td>614</td>\n",
       "    </tr>\n",
       "  </tbody>\n",
       "</table>\n",
       "</div>"
      ],
      "text/plain": [
       "        Year  Month  Day  Hour  Minute  Cloud Type  Dew Point  Temperature  \\\n",
       "102774  2014     11   12     3       0           3        5.0         12.0   \n",
       "21731   2010      3   29    17      30           2        9.0         15.0   \n",
       "21660   2010      3   28     6       0           1        9.0          9.0   \n",
       "31951   2010     10   28    15      30           8       22.0         25.0   \n",
       "89504   2014      2    8    16       0           3        7.0         12.0   \n",
       "\n",
       "        Pressure  Relative Humidity  Solar Zenith Angle  Precipitable Water  \\\n",
       "102774      1000              65.97              145.47               0.873   \n",
       "21731        990              69.03               28.41               1.504   \n",
       "21660       1000             100.00              144.89               1.702   \n",
       "31951       1000              88.32               52.12               4.758   \n",
       "89504       1010              74.66               53.59               1.704   \n",
       "\n",
       "        Wind Direction  Wind Speed  Fill Flag  Clearsky DHI  Clearsky DNI  \\\n",
       "102774           298.4         1.2          0             0             0   \n",
       "21731            298.5         4.7          4           176           851   \n",
       "21660            115.2         3.3          0             0             0   \n",
       "31951            280.0         3.0          0           132           728   \n",
       "89504            344.3         1.4          0            95           875   \n",
       "\n",
       "        Clearsky GHI  \n",
       "102774             0  \n",
       "21731            925  \n",
       "21660              0  \n",
       "31951            579  \n",
       "89504            614  "
      ]
     },
     "execution_count": 5,
     "metadata": {},
     "output_type": "execute_result"
    }
   ],
   "source": [
    "data = data[['Year', 'Month', 'Day', 'Hour', 'Minute', 'Cloud Type',\n",
    "       'Dew Point', 'Temperature', 'Pressure', 'Relative Humidity',\n",
    "       'Solar Zenith Angle', 'Precipitable Water', 'Wind Direction',\n",
    "       'Wind Speed', 'Fill Flag', 'Clearsky DHI', 'Clearsky DNI',\n",
    "       'Clearsky GHI']]\n",
    "\n",
    "data.sample(5)"
   ]
  },
  {
   "cell_type": "code",
   "execution_count": 6,
   "id": "dce50318",
   "metadata": {},
   "outputs": [
    {
     "data": {
      "text/plain": [
       "<AxesSubplot:>"
      ]
     },
     "execution_count": 6,
     "metadata": {},
     "output_type": "execute_result"
    },
    {
     "data": {
      "image/png": "[encoded data removed]",
      "text/plain": [
       "<Figure size 432x288 with 1 Axes>"
      ]
     },
     "metadata": {
      "needs_background": "light"
     },
     "output_type": "display_data"
    }
   ],
   "source": [
    "data.boxplot(column=['Dew Point', 'Temperature', 'Precipitable Water',\n",
    "       'Wind Speed'], \n",
    "                  by=None, \n",
    "                  ax=None, \n",
    "                  fontsize=None, \n",
    "                  rot=0, \n",
    "                  grid=True, \n",
    "                  figsize=None, \n",
    "                  layout=None, \n",
    "                  return_type=None, \n",
    "                  backend=None)\n"
   ]
  },
  {
   "cell_type": "code",
   "execution_count": 7,
   "id": "f57ec85f",
   "metadata": {},
   "outputs": [
    {
     "data": {
      "text/plain": [
       "<AxesSubplot:>"
      ]
     },
     "execution_count": 7,
     "metadata": {},
     "output_type": "execute_result"
    },
    {
     "data": {
      "image/png": "[encoded data removed]",
      "text/plain": [
       "<Figure size 432x288 with 1 Axes>"
      ]
     },
     "metadata": {
      "needs_background": "light"
     },
     "output_type": "display_data"
    }
   ],
   "source": [
    "data.boxplot(column=['Pressure'], \n",
    "                  by=None, \n",
    "                  ax=None, \n",
    "                  fontsize=None, \n",
    "                  rot=0, \n",
    "                  grid=True, \n",
    "                  figsize=None, \n",
    "                  layout=None, \n",
    "                  return_type=None, \n",
    "                  backend=None)"
   ]
  },
  {
   "cell_type": "code",
   "execution_count": 8,
   "id": "be7566fd",
   "metadata": {},
   "outputs": [
    {
     "data": {
      "text/plain": [
       "<AxesSubplot:>"
      ]
     },
     "execution_count": 8,
     "metadata": {},
     "output_type": "execute_result"
    },
    {
     "data": {
      "image/png": "[encoded data removed]",
      "text/plain": [
       "<Figure size 432x288 with 1 Axes>"
      ]
     },
     "metadata": {
      "needs_background": "light"
     },
     "output_type": "display_data"
    }
   ],
   "source": [
    "data.boxplot(column=['Clearsky DHI', 'Clearsky DNI',\n",
    "       'Clearsky GHI'], \n",
    "                  by=None, \n",
    "                  ax=None, \n",
    "                  fontsize=None, \n",
    "                  rot=0, \n",
    "                  grid=True, \n",
    "                  figsize=None, \n",
    "                  layout=None, \n",
    "                  return_type=None, \n",
    "                  backend=None)"
   ]
  },
  {
   "cell_type": "code",
   "execution_count": 9,
   "id": "8886a0dd",
   "metadata": {},
   "outputs": [
    {
     "data": {
      "text/plain": [
       "<AxesSubplot:>"
      ]
     },
     "execution_count": 9,
     "metadata": {},
     "output_type": "execute_result"
    },
    {
     "data": {
      "image/png": "[encoded data removed]",
      "text/plain": [
       "<Figure size 432x288 with 1 Axes>"
      ]
     },
     "metadata": {
      "needs_background": "light"
     },
     "output_type": "display_data"
    }
   ],
   "source": [
    "data.boxplot(column=['Relative Humidity',\n",
    "       'Solar Zenith Angle', 'Wind Direction'], \n",
    "                  by=None, \n",
    "                  ax=None, \n",
    "                  fontsize=None, \n",
    "                  rot=0, \n",
    "                  grid=True, \n",
    "                  figsize=None, \n",
    "                  layout=None, \n",
    "                  return_type=None, \n",
    "                  backend=None)"
   ]
  },
  {
   "cell_type": "code",
   "execution_count": 10,
   "id": "a49ee4aa",
   "metadata": {
    "scrolled": true
   },
   "outputs": [
    {
     "data": {
      "text/html": [
       "<div>\n",
       "<style scoped>\n",
       "    .dataframe tbody tr th:only-of-type {\n",
       "        vertical-align: middle;\n",
       "    }\n",
       "\n",
       "    .dataframe tbody tr th {\n",
       "        vertical-align: top;\n",
       "    }\n",
       "\n",
       "    .dataframe thead th {\n",
       "        text-align: right;\n",
       "    }\n",
       "</style>\n",
       "<table border=\"1\" class=\"dataframe\">\n",
       "  <thead>\n",
       "    <tr style=\"text-align: right;\">\n",
       "      <th></th>\n",
       "      <th>Year</th>\n",
       "      <th>Month</th>\n",
       "      <th>Day</th>\n",
       "      <th>Hour</th>\n",
       "      <th>Minute</th>\n",
       "      <th>Cloud Type</th>\n",
       "      <th>Dew Point</th>\n",
       "      <th>Temperature</th>\n",
       "      <th>Pressure</th>\n",
       "      <th>Relative Humidity</th>\n",
       "      <th>Solar Zenith Angle</th>\n",
       "      <th>Precipitable Water</th>\n",
       "      <th>Wind Direction</th>\n",
       "      <th>Wind Speed</th>\n",
       "      <th>Fill Flag</th>\n",
       "      <th>Clearsky DHI</th>\n",
       "      <th>Clearsky DNI</th>\n",
       "      <th>Clearsky GHI</th>\n",
       "    </tr>\n",
       "  </thead>\n",
       "  <tbody>\n",
       "    <tr>\n",
       "      <th>count</th>\n",
       "      <td>175296.000000</td>\n",
       "      <td>175296.000000</td>\n",
       "      <td>175296.000000</td>\n",
       "      <td>175296.000000</td>\n",
       "      <td>175296.000000</td>\n",
       "      <td>175296.000000</td>\n",
       "      <td>175296.000000</td>\n",
       "      <td>175296.000000</td>\n",
       "      <td>175296.000000</td>\n",
       "      <td>175296.000000</td>\n",
       "      <td>175296.000000</td>\n",
       "      <td>175296.000000</td>\n",
       "      <td>175296.000000</td>\n",
       "      <td>175296.000000</td>\n",
       "      <td>175296.000000</td>\n",
       "      <td>175296.000000</td>\n",
       "      <td>175296.000000</td>\n",
       "      <td>175296.000000</td>\n",
       "    </tr>\n",
       "    <tr>\n",
       "      <th>mean</th>\n",
       "      <td>2013.500274</td>\n",
       "      <td>6.523549</td>\n",
       "      <td>15.727820</td>\n",
       "      <td>11.500000</td>\n",
       "      <td>15.000000</td>\n",
       "      <td>2.540474</td>\n",
       "      <td>13.564431</td>\n",
       "      <td>18.266769</td>\n",
       "      <td>1003.185230</td>\n",
       "      <td>79.376366</td>\n",
       "      <td>89.729463</td>\n",
       "      <td>2.903732</td>\n",
       "      <td>188.877796</td>\n",
       "      <td>2.262871</td>\n",
       "      <td>0.740433</td>\n",
       "      <td>53.065426</td>\n",
       "      <td>330.065295</td>\n",
       "      <td>254.365490</td>\n",
       "    </tr>\n",
       "    <tr>\n",
       "      <th>std</th>\n",
       "      <td>2.871908</td>\n",
       "      <td>3.448543</td>\n",
       "      <td>8.799349</td>\n",
       "      <td>6.922206</td>\n",
       "      <td>15.000043</td>\n",
       "      <td>3.021879</td>\n",
       "      <td>8.196787</td>\n",
       "      <td>8.943096</td>\n",
       "      <td>5.935749</td>\n",
       "      <td>19.678235</td>\n",
       "      <td>40.085451</td>\n",
       "      <td>1.546979</td>\n",
       "      <td>99.014733</td>\n",
       "      <td>1.281902</td>\n",
       "      <td>6.575655</td>\n",
       "      <td>64.201407</td>\n",
       "      <td>370.030821</td>\n",
       "      <td>327.705006</td>\n",
       "    </tr>\n",
       "    <tr>\n",
       "      <th>min</th>\n",
       "      <td>2009.000000</td>\n",
       "      <td>1.000000</td>\n",
       "      <td>1.000000</td>\n",
       "      <td>0.000000</td>\n",
       "      <td>0.000000</td>\n",
       "      <td>0.000000</td>\n",
       "      <td>-17.000000</td>\n",
       "      <td>-9.000000</td>\n",
       "      <td>970.000000</td>\n",
       "      <td>7.190000</td>\n",
       "      <td>8.550000</td>\n",
       "      <td>0.122000</td>\n",
       "      <td>0.000000</td>\n",
       "      <td>0.000000</td>\n",
       "      <td>0.000000</td>\n",
       "      <td>0.000000</td>\n",
       "      <td>0.000000</td>\n",
       "      <td>0.000000</td>\n",
       "    </tr>\n",
       "    <tr>\n",
       "      <th>25%</th>\n",
       "      <td>2011.000000</td>\n",
       "      <td>4.000000</td>\n",
       "      <td>8.000000</td>\n",
       "      <td>5.750000</td>\n",
       "      <td>0.000000</td>\n",
       "      <td>0.000000</td>\n",
       "      <td>8.000000</td>\n",
       "      <td>12.000000</td>\n",
       "      <td>1000.000000</td>\n",
       "      <td>65.590000</td>\n",
       "      <td>56.450000</td>\n",
       "      <td>1.534000</td>\n",
       "      <td>97.400000</td>\n",
       "      <td>1.300000</td>\n",
       "      <td>0.000000</td>\n",
       "      <td>0.000000</td>\n",
       "      <td>0.000000</td>\n",
       "      <td>0.000000</td>\n",
       "    </tr>\n",
       "    <tr>\n",
       "      <th>50%</th>\n",
       "      <td>2013.500000</td>\n",
       "      <td>7.000000</td>\n",
       "      <td>16.000000</td>\n",
       "      <td>11.500000</td>\n",
       "      <td>15.000000</td>\n",
       "      <td>1.000000</td>\n",
       "      <td>15.000000</td>\n",
       "      <td>20.000000</td>\n",
       "      <td>1000.000000</td>\n",
       "      <td>84.230000</td>\n",
       "      <td>89.860000</td>\n",
       "      <td>2.866000</td>\n",
       "      <td>200.000000</td>\n",
       "      <td>2.000000</td>\n",
       "      <td>0.000000</td>\n",
       "      <td>0.000000</td>\n",
       "      <td>0.000000</td>\n",
       "      <td>0.000000</td>\n",
       "    </tr>\n",
       "    <tr>\n",
       "      <th>75%</th>\n",
       "      <td>2016.000000</td>\n",
       "      <td>10.000000</td>\n",
       "      <td>23.000000</td>\n",
       "      <td>17.250000</td>\n",
       "      <td>30.000000</td>\n",
       "      <td>6.000000</td>\n",
       "      <td>21.000000</td>\n",
       "      <td>25.000000</td>\n",
       "      <td>1010.000000</td>\n",
       "      <td>97.950000</td>\n",
       "      <td>123.060000</td>\n",
       "      <td>4.223000</td>\n",
       "      <td>272.000000</td>\n",
       "      <td>3.000000</td>\n",
       "      <td>0.000000</td>\n",
       "      <td>103.000000</td>\n",
       "      <td>736.000000</td>\n",
       "      <td>535.000000</td>\n",
       "    </tr>\n",
       "    <tr>\n",
       "      <th>max</th>\n",
       "      <td>2018.000000</td>\n",
       "      <td>12.000000</td>\n",
       "      <td>31.000000</td>\n",
       "      <td>23.000000</td>\n",
       "      <td>30.000000</td>\n",
       "      <td>10.000000</td>\n",
       "      <td>26.900000</td>\n",
       "      <td>40.000000</td>\n",
       "      <td>1024.000000</td>\n",
       "      <td>100.000000</td>\n",
       "      <td>171.550000</td>\n",
       "      <td>7.700000</td>\n",
       "      <td>360.000000</td>\n",
       "      <td>12.900000</td>\n",
       "      <td>100.000000</td>\n",
       "      <td>565.000000</td>\n",
       "      <td>1040.000000</td>\n",
       "      <td>1063.000000</td>\n",
       "    </tr>\n",
       "  </tbody>\n",
       "</table>\n",
       "</div>"
      ],
      "text/plain": [
       "                Year          Month            Day           Hour  \\\n",
       "count  175296.000000  175296.000000  175296.000000  175296.000000   \n",
       "mean     2013.500274       6.523549      15.727820      11.500000   \n",
       "std         2.871908       3.448543       8.799349       6.922206   \n",
       "min      2009.000000       1.000000       1.000000       0.000000   \n",
       "25%      2011.000000       4.000000       8.000000       5.750000   \n",
       "50%      2013.500000       7.000000      16.000000      11.500000   \n",
       "75%      2016.000000      10.000000      23.000000      17.250000   \n",
       "max      2018.000000      12.000000      31.000000      23.000000   \n",
       "\n",
       "              Minute     Cloud Type      Dew Point    Temperature  \\\n",
       "count  175296.000000  175296.000000  175296.000000  175296.000000   \n",
       "mean       15.000000       2.540474      13.564431      18.266769   \n",
       "std        15.000043       3.021879       8.196787       8.943096   \n",
       "min         0.000000       0.000000     -17.000000      -9.000000   \n",
       "25%         0.000000       0.000000       8.000000      12.000000   \n",
       "50%        15.000000       1.000000      15.000000      20.000000   \n",
       "75%        30.000000       6.000000      21.000000      25.000000   \n",
       "max        30.000000      10.000000      26.900000      40.000000   \n",
       "\n",
       "            Pressure  Relative Humidity  Solar Zenith Angle  \\\n",
       "count  175296.000000      175296.000000       175296.000000   \n",
       "mean     1003.185230          79.376366           89.729463   \n",
       "std         5.935749          19.678235           40.085451   \n",
       "min       970.000000           7.190000            8.550000   \n",
       "25%      1000.000000          65.590000           56.450000   \n",
       "50%      1000.000000          84.230000           89.860000   \n",
       "75%      1010.000000          97.950000          123.060000   \n",
       "max      1024.000000         100.000000          171.550000   \n",
       "\n",
       "       Precipitable Water  Wind Direction     Wind Speed      Fill Flag  \\\n",
       "count       175296.000000   175296.000000  175296.000000  175296.000000   \n",
       "mean             2.903732      188.877796       2.262871       0.740433   \n",
       "std              1.546979       99.014733       1.281902       6.575655   \n",
       "min              0.122000        0.000000       0.000000       0.000000   \n",
       "25%              1.534000       97.400000       1.300000       0.000000   \n",
       "50%              2.866000      200.000000       2.000000       0.000000   \n",
       "75%              4.223000      272.000000       3.000000       0.000000   \n",
       "max              7.700000      360.000000      12.900000     100.000000   \n",
       "\n",
       "        Clearsky DHI   Clearsky DNI   Clearsky GHI  \n",
       "count  175296.000000  175296.000000  175296.000000  \n",
       "mean       53.065426     330.065295     254.365490  \n",
       "std        64.201407     370.030821     327.705006  \n",
       "min         0.000000       0.000000       0.000000  \n",
       "25%         0.000000       0.000000       0.000000  \n",
       "50%         0.000000       0.000000       0.000000  \n",
       "75%       103.000000     736.000000     535.000000  \n",
       "max       565.000000    1040.000000    1063.000000  "
      ]
     },
     "execution_count": 10,
     "metadata": {},
     "output_type": "execute_result"
    }
   ],
   "source": [
    "data.describe()"
   ]
  },
  {
   "cell_type": "markdown",
   "id": "49c532ff",
   "metadata": {},
   "source": [
    "<a id=\"preparacion_entrenamiento\"></a>\n",
    "## 4. Preparación y Entrenamiento del DataSet\n",
    "---\n",
    "<a href='#tabla_contenidos'>Volver a la Tabla de Contenidos</a>"
   ]
  },
  {
   "cell_type": "markdown",
   "id": "58aa1971",
   "metadata": {},
   "source": [
    "En esta sección trabajaremos el DataSet con profundidad para dejarlo listo y en condiciones, con la intención de enfocarnos en las distintas estrategias de entrenameinto, como veremos más adelante."
   ]
  },
  {
   "cell_type": "markdown",
   "id": "456c7f8d",
   "metadata": {},
   "source": [
    "<a id=\"features\"></a> \n",
    "### 4.1 Features y dummies\n",
    "\n",
    "En el DataSet paraeciera no haber Features de clasificación, pero estás si están. Se encuentran establecidas con valores numéricos identificando las categorías que representan. Las columnas categóricas de las que estamos hablando son, **Cloud Type** y **Fill Flag**. Dentro de las mismas hay un total de 22 clasificadores. Por este motivo será necesario identificar dummies que puedan estar relacionadas a nuestros vectores Target de los datos meteorológicos.\n",
    "\n",
    "Para una mayor facilidad de comprensión, cambiaremos los valores por los nombres correspondientes. Nos ayudara a saber de que estamos hablando en cada caso, sin tener que estar recurriendo a las referencias más arriba."
   ]
  },
  {
   "cell_type": "markdown",
   "id": "7b386c6c",
   "metadata": {},
   "source": [
    "#### 4.1.1 Creación de columnas con nombres de categoria\n",
    "Primero se necesita renombrar a cada una de las categorias. Para eso crearemos un método condicional que renombre según el número asignado."
   ]
  },
  {
   "cell_type": "code",
   "execution_count": 11,
   "id": "74053c8f",
   "metadata": {},
   "outputs": [
    {
     "data": {
      "text/plain": [
       "array(['Year', 'Month', 'Day', 'Hour', 'Minute', 'Cloud Type',\n",
       "       'Dew Point', 'Temperature', 'Pressure', 'Relative Humidity',\n",
       "       'Solar Zenith Angle', 'Precipitable Water', 'Wind Direction',\n",
       "       'Wind Speed', 'Fill Flag', 'Clearsky DHI', 'Clearsky DNI',\n",
       "       'Clearsky GHI'], dtype=object)"
      ]
     },
     "execution_count": 11,
     "metadata": {},
     "output_type": "execute_result"
    }
   ],
   "source": [
    "data.columns.values"
   ]
  },
  {
   "cell_type": "code",
   "execution_count": 12,
   "id": "484fd619",
   "metadata": {},
   "outputs": [
    {
     "data": {
      "text/plain": [
       "Clear                 82788\n",
       "Cirrus                23163\n",
       "Water                 16255\n",
       "Probably_Clear        15698\n",
       "Overlapping           14276\n",
       "Super_Cooled_Water    11738\n",
       "Opaque_Ice             7902\n",
       "Fog                    3018\n",
       "Overshooting            457\n",
       "Unknown                   1\n",
       "Name: cloud_type_cat, dtype: int64"
      ]
     },
     "execution_count": 12,
     "metadata": {},
     "output_type": "execute_result"
    }
   ],
   "source": [
    "def cloud_type_cat(x):\n",
    "    if x == 0:\n",
    "        return 'Clear'\n",
    "    elif x == 1:\n",
    "        return 'Probably_Clear'\n",
    "    elif x == 2:\n",
    "        return 'Fog'\n",
    "    elif x == 3:\n",
    "        return 'Water'\n",
    "    elif x == 4:\n",
    "        return 'Super_Cooled_Water'\n",
    "    elif x == 5:\n",
    "        return 'Mixed'\n",
    "    elif x == 6:\n",
    "        return 'Opaque_Ice'\n",
    "    elif x == 7:\n",
    "        return 'Cirrus'\n",
    "    elif x == 8:\n",
    "        return 'Overlapping'\n",
    "    elif x == 9:\n",
    "        return 'Overshooting'\n",
    "    elif x == 10:\n",
    "        return 'Unknown'\n",
    "    elif x == 11:\n",
    "        return 'Dust'\n",
    "    elif x == 12:\n",
    "        return 'Smoke'\n",
    "    elif x == -15:\n",
    "        return 'N/A'\n",
    "    else:\n",
    "        return np.nan\n",
    "        \n",
    "data['cloud_type_cat'] = data['Cloud Type'].apply(cloud_type_cat)\n",
    "data['cloud_type_cat'].value_counts()"
   ]
  },
  {
   "cell_type": "code",
   "execution_count": 13,
   "id": "17dba5cf",
   "metadata": {},
   "outputs": [
    {
     "data": {
      "text/plain": [
       "N/A                         164285\n",
       "Missing_Cloud_Properties      6864\n",
       "Missing_Image                 2046\n",
       "Other                         1811\n",
       "Exceeds_Clearsky               290\n",
       "Name: fill_flag_cat, dtype: int64"
      ]
     },
     "execution_count": 13,
     "metadata": {},
     "output_type": "execute_result"
    }
   ],
   "source": [
    "def flag_cat(x):\n",
    "    if x == 0:\n",
    "        return 'N/A'\n",
    "    elif x == 1:\n",
    "        return 'Missing_Image'\n",
    "    elif x == 2:\n",
    "        return 'Low_Irradiance'\n",
    "    elif x == 3:\n",
    "        return 'Exceeds_Clearsky'\n",
    "    elif x == 4:\n",
    "        return 'Missing_Cloud_Properties'\n",
    "    elif x == 5:\n",
    "        return 'Rayleigh_Violation'\n",
    "    else:\n",
    "        return 'Other'\n",
    "\n",
    "data['fill_flag_cat'] = data['Fill Flag'].apply(flag_cat)\n",
    "data['fill_flag_cat'].value_counts()"
   ]
  },
  {
   "cell_type": "markdown",
   "id": "dfac2195",
   "metadata": {},
   "source": [
    "#### 4.1.2 Preparación de las dummies\n",
    "Ahora con las columnas renombradas utilizaremos la librería **OneHotEncoder** de sci-kit learn,  para obtener los dummies. "
   ]
  },
  {
   "cell_type": "code",
   "execution_count": 14,
   "id": "51f6933d",
   "metadata": {},
   "outputs": [
    {
     "data": {
      "text/plain": [
       "[array(['Cirrus', 'Clear', 'Fog', 'Opaque_Ice', 'Overlapping',\n",
       "        'Overshooting', 'Probably_Clear', 'Super_Cooled_Water', 'Unknown',\n",
       "        'Water'], dtype=object),\n",
       " array(['Exceeds_Clearsky', 'Missing_Cloud_Properties', 'Missing_Image',\n",
       "        'N/A', 'Other'], dtype=object)]"
      ]
     },
     "execution_count": 14,
     "metadata": {},
     "output_type": "execute_result"
    }
   ],
   "source": [
    "encoder = OneHotEncoder(drop='first', sparse=False)\n",
    "dummies = encoder.fit_transform(data[['cloud_type_cat', 'fill_flag_cat']])\n",
    "encoder.categories_"
   ]
  },
  {
   "cell_type": "code",
   "execution_count": 15,
   "id": "0ff55d91",
   "metadata": {},
   "outputs": [
    {
     "data": {
      "text/html": [
       "<div>\n",
       "<style scoped>\n",
       "    .dataframe tbody tr th:only-of-type {\n",
       "        vertical-align: middle;\n",
       "    }\n",
       "\n",
       "    .dataframe tbody tr th {\n",
       "        vertical-align: top;\n",
       "    }\n",
       "\n",
       "    .dataframe thead th {\n",
       "        text-align: right;\n",
       "    }\n",
       "</style>\n",
       "<table border=\"1\" class=\"dataframe\">\n",
       "  <thead>\n",
       "    <tr style=\"text-align: right;\">\n",
       "      <th></th>\n",
       "      <th>Clear</th>\n",
       "      <th>Fog</th>\n",
       "      <th>Opaque_Ice</th>\n",
       "      <th>Overlapping</th>\n",
       "      <th>Overshooting</th>\n",
       "      <th>Probably_Clear</th>\n",
       "      <th>Super_Cooled_Water</th>\n",
       "      <th>Unknown</th>\n",
       "      <th>Water</th>\n",
       "      <th>Missing_Cloud_Properties</th>\n",
       "      <th>Missing_Image</th>\n",
       "      <th>N/A</th>\n",
       "      <th>Other</th>\n",
       "    </tr>\n",
       "  </thead>\n",
       "  <tbody>\n",
       "    <tr>\n",
       "      <th>13427</th>\n",
       "      <td>0.0</td>\n",
       "      <td>0.0</td>\n",
       "      <td>0.0</td>\n",
       "      <td>0.0</td>\n",
       "      <td>0.0</td>\n",
       "      <td>1.0</td>\n",
       "      <td>0.0</td>\n",
       "      <td>0.0</td>\n",
       "      <td>0.0</td>\n",
       "      <td>0.0</td>\n",
       "      <td>0.0</td>\n",
       "      <td>1.0</td>\n",
       "      <td>0.0</td>\n",
       "    </tr>\n",
       "    <tr>\n",
       "      <th>163574</th>\n",
       "      <td>1.0</td>\n",
       "      <td>0.0</td>\n",
       "      <td>0.0</td>\n",
       "      <td>0.0</td>\n",
       "      <td>0.0</td>\n",
       "      <td>0.0</td>\n",
       "      <td>0.0</td>\n",
       "      <td>0.0</td>\n",
       "      <td>0.0</td>\n",
       "      <td>0.0</td>\n",
       "      <td>0.0</td>\n",
       "      <td>1.0</td>\n",
       "      <td>0.0</td>\n",
       "    </tr>\n",
       "  </tbody>\n",
       "</table>\n",
       "</div>"
      ],
      "text/plain": [
       "        Clear  Fog  Opaque_Ice  Overlapping  Overshooting  Probably_Clear  \\\n",
       "13427     0.0  0.0         0.0          0.0           0.0             1.0   \n",
       "163574    1.0  0.0         0.0          0.0           0.0             0.0   \n",
       "\n",
       "        Super_Cooled_Water  Unknown  Water  Missing_Cloud_Properties  \\\n",
       "13427                  0.0      0.0    0.0                       0.0   \n",
       "163574                 0.0      0.0    0.0                       0.0   \n",
       "\n",
       "        Missing_Image  N/A  Other  \n",
       "13427             0.0  1.0    0.0  \n",
       "163574            0.0  1.0    0.0  "
      ]
     },
     "execution_count": 15,
     "metadata": {},
     "output_type": "execute_result"
    }
   ],
   "source": [
    "dummies = pd.DataFrame(dummies)\n",
    "dummies.columns = [x for cat_list in encoder.categories_ for x in cat_list[1:]]\n",
    "dummies.sample(2)"
   ]
  },
  {
   "cell_type": "code",
   "execution_count": 16,
   "id": "d5de1d2f",
   "metadata": {},
   "outputs": [],
   "source": [
    "data = data.join(dummies)\n",
    "data = data.drop(columns=['Cloud Type','Fill Flag','cloud_type_cat','fill_flag_cat'])"
   ]
  },
  {
   "cell_type": "code",
   "execution_count": 17,
   "id": "90db8e6a",
   "metadata": {},
   "outputs": [
    {
     "data": {
      "text/html": [
       "<div>\n",
       "<style scoped>\n",
       "    .dataframe tbody tr th:only-of-type {\n",
       "        vertical-align: middle;\n",
       "    }\n",
       "\n",
       "    .dataframe tbody tr th {\n",
       "        vertical-align: top;\n",
       "    }\n",
       "\n",
       "    .dataframe thead th {\n",
       "        text-align: right;\n",
       "    }\n",
       "</style>\n",
       "<table border=\"1\" class=\"dataframe\">\n",
       "  <thead>\n",
       "    <tr style=\"text-align: right;\">\n",
       "      <th></th>\n",
       "      <th>Year</th>\n",
       "      <th>Month</th>\n",
       "      <th>Day</th>\n",
       "      <th>Hour</th>\n",
       "      <th>Minute</th>\n",
       "      <th>Dew Point</th>\n",
       "      <th>Temperature</th>\n",
       "      <th>Pressure</th>\n",
       "      <th>Relative Humidity</th>\n",
       "      <th>Solar Zenith Angle</th>\n",
       "      <th>...</th>\n",
       "      <th>Overlapping</th>\n",
       "      <th>Overshooting</th>\n",
       "      <th>Probably_Clear</th>\n",
       "      <th>Super_Cooled_Water</th>\n",
       "      <th>Unknown</th>\n",
       "      <th>Water</th>\n",
       "      <th>Missing_Cloud_Properties</th>\n",
       "      <th>Missing_Image</th>\n",
       "      <th>N/A</th>\n",
       "      <th>Other</th>\n",
       "    </tr>\n",
       "  </thead>\n",
       "  <tbody>\n",
       "    <tr>\n",
       "      <th>67781</th>\n",
       "      <td>2012</td>\n",
       "      <td>11</td>\n",
       "      <td>13</td>\n",
       "      <td>2</td>\n",
       "      <td>30</td>\n",
       "      <td>16.0</td>\n",
       "      <td>16.0</td>\n",
       "      <td>1010</td>\n",
       "      <td>100.00</td>\n",
       "      <td>139.41</td>\n",
       "      <td>...</td>\n",
       "      <td>0.0</td>\n",
       "      <td>0.0</td>\n",
       "      <td>0.0</td>\n",
       "      <td>1.0</td>\n",
       "      <td>0.0</td>\n",
       "      <td>0.0</td>\n",
       "      <td>0.0</td>\n",
       "      <td>0.0</td>\n",
       "      <td>1.0</td>\n",
       "      <td>0.0</td>\n",
       "    </tr>\n",
       "    <tr>\n",
       "      <th>33616</th>\n",
       "      <td>2010</td>\n",
       "      <td>12</td>\n",
       "      <td>2</td>\n",
       "      <td>8</td>\n",
       "      <td>0</td>\n",
       "      <td>-2.0</td>\n",
       "      <td>0.0</td>\n",
       "      <td>1010</td>\n",
       "      <td>83.08</td>\n",
       "      <td>144.21</td>\n",
       "      <td>...</td>\n",
       "      <td>0.0</td>\n",
       "      <td>0.0</td>\n",
       "      <td>0.0</td>\n",
       "      <td>0.0</td>\n",
       "      <td>0.0</td>\n",
       "      <td>0.0</td>\n",
       "      <td>0.0</td>\n",
       "      <td>0.0</td>\n",
       "      <td>1.0</td>\n",
       "      <td>0.0</td>\n",
       "    </tr>\n",
       "    <tr>\n",
       "      <th>21183</th>\n",
       "      <td>2010</td>\n",
       "      <td>3</td>\n",
       "      <td>18</td>\n",
       "      <td>7</td>\n",
       "      <td>30</td>\n",
       "      <td>6.0</td>\n",
       "      <td>7.0</td>\n",
       "      <td>1000</td>\n",
       "      <td>100.00</td>\n",
       "      <td>140.19</td>\n",
       "      <td>...</td>\n",
       "      <td>0.0</td>\n",
       "      <td>0.0</td>\n",
       "      <td>0.0</td>\n",
       "      <td>1.0</td>\n",
       "      <td>0.0</td>\n",
       "      <td>0.0</td>\n",
       "      <td>0.0</td>\n",
       "      <td>0.0</td>\n",
       "      <td>1.0</td>\n",
       "      <td>0.0</td>\n",
       "    </tr>\n",
       "    <tr>\n",
       "      <th>59878</th>\n",
       "      <td>2012</td>\n",
       "      <td>6</td>\n",
       "      <td>1</td>\n",
       "      <td>11</td>\n",
       "      <td>0</td>\n",
       "      <td>19.0</td>\n",
       "      <td>21.0</td>\n",
       "      <td>1000</td>\n",
       "      <td>91.36</td>\n",
       "      <td>85.13</td>\n",
       "      <td>...</td>\n",
       "      <td>0.0</td>\n",
       "      <td>0.0</td>\n",
       "      <td>0.0</td>\n",
       "      <td>0.0</td>\n",
       "      <td>0.0</td>\n",
       "      <td>0.0</td>\n",
       "      <td>0.0</td>\n",
       "      <td>0.0</td>\n",
       "      <td>1.0</td>\n",
       "      <td>0.0</td>\n",
       "    </tr>\n",
       "    <tr>\n",
       "      <th>131003</th>\n",
       "      <td>2016</td>\n",
       "      <td>6</td>\n",
       "      <td>22</td>\n",
       "      <td>5</td>\n",
       "      <td>30</td>\n",
       "      <td>17.0</td>\n",
       "      <td>22.0</td>\n",
       "      <td>1000</td>\n",
       "      <td>79.61</td>\n",
       "      <td>124.68</td>\n",
       "      <td>...</td>\n",
       "      <td>0.0</td>\n",
       "      <td>0.0</td>\n",
       "      <td>0.0</td>\n",
       "      <td>0.0</td>\n",
       "      <td>0.0</td>\n",
       "      <td>0.0</td>\n",
       "      <td>0.0</td>\n",
       "      <td>0.0</td>\n",
       "      <td>1.0</td>\n",
       "      <td>0.0</td>\n",
       "    </tr>\n",
       "  </tbody>\n",
       "</table>\n",
       "<p>5 rows × 29 columns</p>\n",
       "</div>"
      ],
      "text/plain": [
       "        Year  Month  Day  Hour  Minute  Dew Point  Temperature  Pressure  \\\n",
       "67781   2012     11   13     2      30       16.0         16.0      1010   \n",
       "33616   2010     12    2     8       0       -2.0          0.0      1010   \n",
       "21183   2010      3   18     7      30        6.0          7.0      1000   \n",
       "59878   2012      6    1    11       0       19.0         21.0      1000   \n",
       "131003  2016      6   22     5      30       17.0         22.0      1000   \n",
       "\n",
       "        Relative Humidity  Solar Zenith Angle  ...  Overlapping  Overshooting  \\\n",
       "67781              100.00              139.41  ...          0.0           0.0   \n",
       "33616               83.08              144.21  ...          0.0           0.0   \n",
       "21183              100.00              140.19  ...          0.0           0.0   \n",
       "59878               91.36               85.13  ...          0.0           0.0   \n",
       "131003              79.61              124.68  ...          0.0           0.0   \n",
       "\n",
       "        Probably_Clear  Super_Cooled_Water  Unknown  Water  \\\n",
       "67781              0.0                 1.0      0.0    0.0   \n",
       "33616              0.0                 0.0      0.0    0.0   \n",
       "21183              0.0                 1.0      0.0    0.0   \n",
       "59878              0.0                 0.0      0.0    0.0   \n",
       "131003             0.0                 0.0      0.0    0.0   \n",
       "\n",
       "        Missing_Cloud_Properties  Missing_Image  N/A  Other  \n",
       "67781                        0.0            0.0  1.0    0.0  \n",
       "33616                        0.0            0.0  1.0    0.0  \n",
       "21183                        0.0            0.0  1.0    0.0  \n",
       "59878                        0.0            0.0  1.0    0.0  \n",
       "131003                       0.0            0.0  1.0    0.0  \n",
       "\n",
       "[5 rows x 29 columns]"
      ]
     },
     "execution_count": 17,
     "metadata": {},
     "output_type": "execute_result"
    }
   ],
   "source": [
    "data.sample(5)"
   ]
  },
  {
   "cell_type": "code",
   "execution_count": 18,
   "id": "3489adbe",
   "metadata": {},
   "outputs": [],
   "source": [
    "#RESAMPLING\n",
    "from sklearn.utils import resample"
   ]
  },
  {
   "cell_type": "code",
   "execution_count": 19,
   "id": "f44e63b1",
   "metadata": {},
   "outputs": [
    {
     "name": "stdout",
     "output_type": "stream",
     "text": [
      "(175296, 29)\n",
      "(17520, 18)\n"
     ]
    }
   ],
   "source": [
    "data_resample= resample(data, replace=True, n_samples=1000, random_state=127)\n",
    "print(data.shape)\n",
    "\n",
    "print(X_test_.shape)"
   ]
  },
  {
   "cell_type": "markdown",
   "id": "ff5a8e78",
   "metadata": {},
   "source": [
    "<a id=\"split\"></a> \n",
    "### 4.2 Split del set de entrenamiento\n",
    "En esta seccion crearemos los datos de entrenamiento y los vectores objetivos multi nivel, para finalemente comenzar con las estrategias de entrenamiento."
   ]
  },
  {
   "cell_type": "code",
   "execution_count": 20,
   "id": "7901341d",
   "metadata": {},
   "outputs": [],
   "source": [
    "X = data_resample.drop(['Clearsky DHI', 'Clearsky DNI',\n",
    "       'Clearsky GHI','Solar Zenith Angle'], axis=1)\n",
    "y = data_resample[['Clearsky DHI', 'Clearsky DNI',\n",
    "       'Clearsky GHI']]\n",
    "\n",
    "X_train, X_test, y_train, y_test = train_test_split(X, y, random_state=12,  test_size=0.3)"
   ]
  },
  {
   "cell_type": "markdown",
   "id": "f3026383",
   "metadata": {},
   "source": [
    "<a id=\"matrix_corr\"></a> \n",
    "### 4.3. Matriz de correlación\n",
    "Escribir aquí...  **# TO-DO**"
   ]
  },
  {
   "cell_type": "code",
   "execution_count": 21,
   "id": "4ecad1c3",
   "metadata": {},
   "outputs": [
    {
     "data": {
      "text/plain": [
       "<AxesSubplot:>"
      ]
     },
     "execution_count": 21,
     "metadata": {},
     "output_type": "execute_result"
    },
    {
     "data": {
      "image/png": "[encoded data removed]",
      "text/plain": [
       "<Figure size 792x648 with 2 Axes>"
      ]
     },
     "metadata": {
      "needs_background": "light"
     },
     "output_type": "display_data"
    }
   ],
   "source": [
    "correlacion = data.corr()\n",
    "\n",
    "# Generate a mask for the upper triangle\n",
    "mask = np.triu(np.ones_like(correlacion, dtype=bool))\n",
    "\n",
    "# Set up the matplotlib figure\n",
    "f, ax = plt.subplots(figsize=(11, 9))\n",
    "\n",
    "# Generate a custom diverging colormap\n",
    "cmap = sns.diverging_palette(200, 120, as_cmap=True)\n",
    "\n",
    "# Draw the heatmap with the mask and correct aspect ratio\n",
    "sns.heatmap(correlacion, mask=mask, cmap=cmap, vmax=1, center=0,\n",
    "            square=True, linewidths=.5, cbar_kws={\"shrink\": .5})"
   ]
  },
  {
   "cell_type": "markdown",
   "id": "7ca2033a",
   "metadata": {},
   "source": [
    "<a id=\"analisis_corr\"></a> \n",
    "### 4.4. Analisis preliminar de correlación\n",
    "\n",
    "En esta seccion podemos observar que antes de comenzar analizar diferentes modelos y métodos, es importante tener en cuenta que ya existe una relación entre las variables. Y puede ser determinante a la hora de utilizar un método u otro:\n",
    "\n",
    "#### Hora\n",
    "- relative humidity/ Hour\n",
    "- Solar Zenith Angle/ Hour\n",
    "- Clearsky DHI/ Hour\n",
    "- Clearsky DNI/ Hour\n",
    "- Clearsky GHI/ Hour\n",
    "\n",
    "#### Punto de rocío\n",
    "- Temperature/ Dew Point\n",
    "- Precipitable Water/ Dew Point\n",
    "\n",
    "#### Temperatura\n",
    "- Solar Zenith Angle/ Temperature\n",
    "- Precipitable Water/ Temperature\n",
    "- Clearsky DHI/ Temperature\n",
    "- Clearsky GHI/ Temperature\n",
    "\n",
    "#### Humedad relativa\n",
    "- Solar Zenith Angle/ Relative Humidity\n",
    "- Clearsky DHI/ Relative Humidity\n",
    "- Clearsky DNI/ Relative Humidity\n",
    "- Clearsky GHI/ Relative Humidity\n",
    "\n",
    "#### Ángulo de incidencia solar\n",
    "- Clearsky DHI/ Solar Zenith Angle\n",
    "- Clearsky DNI/ Solar Zenith Angle\n",
    "- Clearsky GHI/ Solar Zenith Angle\n",
    "\n",
    "#### Correlación entre los vectores objetivos\n",
    "- Clearsky DNI/ Clearsky DHI\n",
    "- Clearsky GHI/ Clearsky DHI\n",
    "- Clearsky GHI/ Clearsky DNI."
   ]
  },
  {
   "cell_type": "markdown",
   "id": "de3e0eeb",
   "metadata": {},
   "source": [
    "<a id=\"evaluacion_modelos\"></a>\n",
    "## 5. Evaluación de los Modelos\n",
    "---\n",
    "<a href='#tabla_contenidos'>Volver a la Tabla de Contenidos</a>"
   ]
  },
  {
   "cell_type": "markdown",
   "id": "ddb950f1",
   "metadata": {},
   "source": [
    "<a id=\"pipeline_rfr\"></a> \n",
    "### 5.1. PipeLine [RandomForestRegressor]"
   ]
  },
  {
   "cell_type": "code",
   "execution_count": 22,
   "id": "9f6b6e1a",
   "metadata": {},
   "outputs": [],
   "source": [
    "steps_rfr = [('scaler', StandardScaler()),\n",
    "             ('ensamble', RandomForestRegressor(bootstrap=True, n_jobs = -1, random_state = 127, max_samples= 0.3))]"
   ]
  },
  {
   "cell_type": "code",
   "execution_count": 23,
   "id": "70598d5a",
   "metadata": {},
   "outputs": [],
   "source": [
    "pipe_rfr = Pipeline(steps_rfr)"
   ]
  },
  {
   "cell_type": "code",
   "execution_count": 24,
   "id": "c6c1b969",
   "metadata": {},
   "outputs": [],
   "source": [
    "folds_rfr = StratifiedKFold(n_splits=5,shuffle=True, random_state=42)"
   ]
  },
  {
   "cell_type": "code",
   "execution_count": 25,
   "id": "dc01cf10",
   "metadata": {},
   "outputs": [],
   "source": [
    "params_rfr = {'scaler': [StandardScaler(), MinMaxScaler(), None],\n",
    "              'ensamble__n_estimators': range(50,100,10),\n",
    "              'ensamble__max_depth': range(2,10,1),\n",
    "              'ensamble__max_samples': range(1,10,1)}"
   ]
  },
  {
   "cell_type": "code",
   "execution_count": 26,
   "id": "da6f9cc6",
   "metadata": {},
   "outputs": [],
   "source": [
    "grid_rfr = GridSearchCV(pipe_rfr, params_rfr, cv=folds_rfr)"
   ]
  },
  {
   "cell_type": "code",
   "execution_count": 27,
   "id": "6055cb5a",
   "metadata": {},
   "outputs": [
    {
     "name": "stderr",
     "output_type": "stream",
     "text": [
      "C:\\Users\\RY28167\\Anaconda3\\lib\\site-packages\\sklearn\\model_selection\\_split.py:676: UserWarning: The least populated class in y has only 1 members, which is less than n_splits=5.\n",
      "  warnings.warn(\n"
     ]
    },
    {
     "ename": "KeyboardInterrupt",
     "evalue": "",
     "output_type": "error",
     "traceback": [
      "\u001b[1;31m---------------------------------------------------------------------------\u001b[0m",
      "\u001b[1;31mKeyboardInterrupt\u001b[0m                         Traceback (most recent call last)",
      "Input \u001b[1;32mIn [27]\u001b[0m, in \u001b[0;36m<cell line: 1>\u001b[1;34m()\u001b[0m\n\u001b[1;32m----> 1\u001b[0m dhi \u001b[38;5;241m=\u001b[39m \u001b[43mgrid_rfr\u001b[49m\u001b[38;5;241;43m.\u001b[39;49m\u001b[43mfit\u001b[49m\u001b[43m(\u001b[49m\u001b[43mX_train\u001b[49m\u001b[43m,\u001b[49m\u001b[43m \u001b[49m\u001b[43my_train\u001b[49m\u001b[43m[\u001b[49m\u001b[38;5;124;43m'\u001b[39;49m\u001b[38;5;124;43mClearsky DHI\u001b[39;49m\u001b[38;5;124;43m'\u001b[39;49m\u001b[43m]\u001b[49m\u001b[43m)\u001b[49m\n",
      "File \u001b[1;32m~\\Anaconda3\\lib\\site-packages\\sklearn\\model_selection\\_search.py:891\u001b[0m, in \u001b[0;36mBaseSearchCV.fit\u001b[1;34m(self, X, y, groups, **fit_params)\u001b[0m\n\u001b[0;32m    885\u001b[0m     results \u001b[38;5;241m=\u001b[39m \u001b[38;5;28mself\u001b[39m\u001b[38;5;241m.\u001b[39m_format_results(\n\u001b[0;32m    886\u001b[0m         all_candidate_params, n_splits, all_out, all_more_results\n\u001b[0;32m    887\u001b[0m     )\n\u001b[0;32m    889\u001b[0m     \u001b[38;5;28;01mreturn\u001b[39;00m results\n\u001b[1;32m--> 891\u001b[0m \u001b[38;5;28;43mself\u001b[39;49m\u001b[38;5;241;43m.\u001b[39;49m\u001b[43m_run_search\u001b[49m\u001b[43m(\u001b[49m\u001b[43mevaluate_candidates\u001b[49m\u001b[43m)\u001b[49m\n\u001b[0;32m    893\u001b[0m \u001b[38;5;66;03m# multimetric is determined here because in the case of a callable\u001b[39;00m\n\u001b[0;32m    894\u001b[0m \u001b[38;5;66;03m# self.scoring the return type is only known after calling\u001b[39;00m\n\u001b[0;32m    895\u001b[0m first_test_score \u001b[38;5;241m=\u001b[39m all_out[\u001b[38;5;241m0\u001b[39m][\u001b[38;5;124m\"\u001b[39m\u001b[38;5;124mtest_scores\u001b[39m\u001b[38;5;124m\"\u001b[39m]\n",
      "File \u001b[1;32m~\\Anaconda3\\lib\\site-packages\\sklearn\\model_selection\\_search.py:1392\u001b[0m, in \u001b[0;36mGridSearchCV._run_search\u001b[1;34m(self, evaluate_candidates)\u001b[0m\n\u001b[0;32m   1390\u001b[0m \u001b[38;5;28;01mdef\u001b[39;00m \u001b[38;5;21m_run_search\u001b[39m(\u001b[38;5;28mself\u001b[39m, evaluate_candidates):\n\u001b[0;32m   1391\u001b[0m     \u001b[38;5;124;03m\"\"\"Search all candidates in param_grid\"\"\"\u001b[39;00m\n\u001b[1;32m-> 1392\u001b[0m     \u001b[43mevaluate_candidates\u001b[49m\u001b[43m(\u001b[49m\u001b[43mParameterGrid\u001b[49m\u001b[43m(\u001b[49m\u001b[38;5;28;43mself\u001b[39;49m\u001b[38;5;241;43m.\u001b[39;49m\u001b[43mparam_grid\u001b[49m\u001b[43m)\u001b[49m\u001b[43m)\u001b[49m\n",
      "File \u001b[1;32m~\\Anaconda3\\lib\\site-packages\\sklearn\\model_selection\\_search.py:838\u001b[0m, in \u001b[0;36mBaseSearchCV.fit.<locals>.evaluate_candidates\u001b[1;34m(candidate_params, cv, more_results)\u001b[0m\n\u001b[0;32m    830\u001b[0m \u001b[38;5;28;01mif\u001b[39;00m \u001b[38;5;28mself\u001b[39m\u001b[38;5;241m.\u001b[39mverbose \u001b[38;5;241m>\u001b[39m \u001b[38;5;241m0\u001b[39m:\n\u001b[0;32m    831\u001b[0m     \u001b[38;5;28mprint\u001b[39m(\n\u001b[0;32m    832\u001b[0m         \u001b[38;5;124m\"\u001b[39m\u001b[38;5;124mFitting \u001b[39m\u001b[38;5;132;01m{0}\u001b[39;00m\u001b[38;5;124m folds for each of \u001b[39m\u001b[38;5;132;01m{1}\u001b[39;00m\u001b[38;5;124m candidates,\u001b[39m\u001b[38;5;124m\"\u001b[39m\n\u001b[0;32m    833\u001b[0m         \u001b[38;5;124m\"\u001b[39m\u001b[38;5;124m totalling \u001b[39m\u001b[38;5;132;01m{2}\u001b[39;00m\u001b[38;5;124m fits\u001b[39m\u001b[38;5;124m\"\u001b[39m\u001b[38;5;241m.\u001b[39mformat(\n\u001b[0;32m    834\u001b[0m             n_splits, n_candidates, n_candidates \u001b[38;5;241m*\u001b[39m n_splits\n\u001b[0;32m    835\u001b[0m         )\n\u001b[0;32m    836\u001b[0m     )\n\u001b[1;32m--> 838\u001b[0m out \u001b[38;5;241m=\u001b[39m \u001b[43mparallel\u001b[49m\u001b[43m(\u001b[49m\n\u001b[0;32m    839\u001b[0m \u001b[43m    \u001b[49m\u001b[43mdelayed\u001b[49m\u001b[43m(\u001b[49m\u001b[43m_fit_and_score\u001b[49m\u001b[43m)\u001b[49m\u001b[43m(\u001b[49m\n\u001b[0;32m    840\u001b[0m \u001b[43m        \u001b[49m\u001b[43mclone\u001b[49m\u001b[43m(\u001b[49m\u001b[43mbase_estimator\u001b[49m\u001b[43m)\u001b[49m\u001b[43m,\u001b[49m\n\u001b[0;32m    841\u001b[0m \u001b[43m        \u001b[49m\u001b[43mX\u001b[49m\u001b[43m,\u001b[49m\n\u001b[0;32m    842\u001b[0m \u001b[43m        \u001b[49m\u001b[43my\u001b[49m\u001b[43m,\u001b[49m\n\u001b[0;32m    843\u001b[0m \u001b[43m        \u001b[49m\u001b[43mtrain\u001b[49m\u001b[38;5;241;43m=\u001b[39;49m\u001b[43mtrain\u001b[49m\u001b[43m,\u001b[49m\n\u001b[0;32m    844\u001b[0m \u001b[43m        \u001b[49m\u001b[43mtest\u001b[49m\u001b[38;5;241;43m=\u001b[39;49m\u001b[43mtest\u001b[49m\u001b[43m,\u001b[49m\n\u001b[0;32m    845\u001b[0m \u001b[43m        \u001b[49m\u001b[43mparameters\u001b[49m\u001b[38;5;241;43m=\u001b[39;49m\u001b[43mparameters\u001b[49m\u001b[43m,\u001b[49m\n\u001b[0;32m    846\u001b[0m \u001b[43m        \u001b[49m\u001b[43msplit_progress\u001b[49m\u001b[38;5;241;43m=\u001b[39;49m\u001b[43m(\u001b[49m\u001b[43msplit_idx\u001b[49m\u001b[43m,\u001b[49m\u001b[43m \u001b[49m\u001b[43mn_splits\u001b[49m\u001b[43m)\u001b[49m\u001b[43m,\u001b[49m\n\u001b[0;32m    847\u001b[0m \u001b[43m        \u001b[49m\u001b[43mcandidate_progress\u001b[49m\u001b[38;5;241;43m=\u001b[39;49m\u001b[43m(\u001b[49m\u001b[43mcand_idx\u001b[49m\u001b[43m,\u001b[49m\u001b[43m \u001b[49m\u001b[43mn_candidates\u001b[49m\u001b[43m)\u001b[49m\u001b[43m,\u001b[49m\n\u001b[0;32m    848\u001b[0m \u001b[43m        \u001b[49m\u001b[38;5;241;43m*\u001b[39;49m\u001b[38;5;241;43m*\u001b[39;49m\u001b[43mfit_and_score_kwargs\u001b[49m\u001b[43m,\u001b[49m\n\u001b[0;32m    849\u001b[0m \u001b[43m    \u001b[49m\u001b[43m)\u001b[49m\n\u001b[0;32m    850\u001b[0m \u001b[43m    \u001b[49m\u001b[38;5;28;43;01mfor\u001b[39;49;00m\u001b[43m \u001b[49m\u001b[43m(\u001b[49m\u001b[43mcand_idx\u001b[49m\u001b[43m,\u001b[49m\u001b[43m \u001b[49m\u001b[43mparameters\u001b[49m\u001b[43m)\u001b[49m\u001b[43m,\u001b[49m\u001b[43m \u001b[49m\u001b[43m(\u001b[49m\u001b[43msplit_idx\u001b[49m\u001b[43m,\u001b[49m\u001b[43m \u001b[49m\u001b[43m(\u001b[49m\u001b[43mtrain\u001b[49m\u001b[43m,\u001b[49m\u001b[43m \u001b[49m\u001b[43mtest\u001b[49m\u001b[43m)\u001b[49m\u001b[43m)\u001b[49m\u001b[43m \u001b[49m\u001b[38;5;129;43;01min\u001b[39;49;00m\u001b[43m \u001b[49m\u001b[43mproduct\u001b[49m\u001b[43m(\u001b[49m\n\u001b[0;32m    851\u001b[0m \u001b[43m        \u001b[49m\u001b[38;5;28;43menumerate\u001b[39;49m\u001b[43m(\u001b[49m\u001b[43mcandidate_params\u001b[49m\u001b[43m)\u001b[49m\u001b[43m,\u001b[49m\u001b[43m \u001b[49m\u001b[38;5;28;43menumerate\u001b[39;49m\u001b[43m(\u001b[49m\u001b[43mcv\u001b[49m\u001b[38;5;241;43m.\u001b[39;49m\u001b[43msplit\u001b[49m\u001b[43m(\u001b[49m\u001b[43mX\u001b[49m\u001b[43m,\u001b[49m\u001b[43m \u001b[49m\u001b[43my\u001b[49m\u001b[43m,\u001b[49m\u001b[43m \u001b[49m\u001b[43mgroups\u001b[49m\u001b[43m)\u001b[49m\u001b[43m)\u001b[49m\n\u001b[0;32m    852\u001b[0m \u001b[43m    \u001b[49m\u001b[43m)\u001b[49m\n\u001b[0;32m    853\u001b[0m \u001b[43m\u001b[49m\u001b[43m)\u001b[49m\n\u001b[0;32m    855\u001b[0m \u001b[38;5;28;01mif\u001b[39;00m \u001b[38;5;28mlen\u001b[39m(out) \u001b[38;5;241m<\u001b[39m \u001b[38;5;241m1\u001b[39m:\n\u001b[0;32m    856\u001b[0m     \u001b[38;5;28;01mraise\u001b[39;00m \u001b[38;5;167;01mValueError\u001b[39;00m(\n\u001b[0;32m    857\u001b[0m         \u001b[38;5;124m\"\u001b[39m\u001b[38;5;124mNo fits were performed. \u001b[39m\u001b[38;5;124m\"\u001b[39m\n\u001b[0;32m    858\u001b[0m         \u001b[38;5;124m\"\u001b[39m\u001b[38;5;124mWas the CV iterator empty? \u001b[39m\u001b[38;5;124m\"\u001b[39m\n\u001b[0;32m    859\u001b[0m         \u001b[38;5;124m\"\u001b[39m\u001b[38;5;124mWere there no candidates?\u001b[39m\u001b[38;5;124m\"\u001b[39m\n\u001b[0;32m    860\u001b[0m     )\n",
      "File \u001b[1;32m~\\Anaconda3\\lib\\site-packages\\joblib\\parallel.py:1046\u001b[0m, in \u001b[0;36mParallel.__call__\u001b[1;34m(self, iterable)\u001b[0m\n\u001b[0;32m   1043\u001b[0m \u001b[38;5;28;01mif\u001b[39;00m \u001b[38;5;28mself\u001b[39m\u001b[38;5;241m.\u001b[39mdispatch_one_batch(iterator):\n\u001b[0;32m   1044\u001b[0m     \u001b[38;5;28mself\u001b[39m\u001b[38;5;241m.\u001b[39m_iterating \u001b[38;5;241m=\u001b[39m \u001b[38;5;28mself\u001b[39m\u001b[38;5;241m.\u001b[39m_original_iterator \u001b[38;5;129;01mis\u001b[39;00m \u001b[38;5;129;01mnot\u001b[39;00m \u001b[38;5;28;01mNone\u001b[39;00m\n\u001b[1;32m-> 1046\u001b[0m \u001b[38;5;28;01mwhile\u001b[39;00m \u001b[38;5;28;43mself\u001b[39;49m\u001b[38;5;241;43m.\u001b[39;49m\u001b[43mdispatch_one_batch\u001b[49m\u001b[43m(\u001b[49m\u001b[43miterator\u001b[49m\u001b[43m)\u001b[49m:\n\u001b[0;32m   1047\u001b[0m     \u001b[38;5;28;01mpass\u001b[39;00m\n\u001b[0;32m   1049\u001b[0m \u001b[38;5;28;01mif\u001b[39;00m pre_dispatch \u001b[38;5;241m==\u001b[39m \u001b[38;5;124m\"\u001b[39m\u001b[38;5;124mall\u001b[39m\u001b[38;5;124m\"\u001b[39m \u001b[38;5;129;01mor\u001b[39;00m n_jobs \u001b[38;5;241m==\u001b[39m \u001b[38;5;241m1\u001b[39m:\n\u001b[0;32m   1050\u001b[0m     \u001b[38;5;66;03m# The iterable was consumed all at once by the above for loop.\u001b[39;00m\n\u001b[0;32m   1051\u001b[0m     \u001b[38;5;66;03m# No need to wait for async callbacks to trigger to\u001b[39;00m\n\u001b[0;32m   1052\u001b[0m     \u001b[38;5;66;03m# consumption.\u001b[39;00m\n",
      "File \u001b[1;32m~\\Anaconda3\\lib\\site-packages\\joblib\\parallel.py:861\u001b[0m, in \u001b[0;36mParallel.dispatch_one_batch\u001b[1;34m(self, iterator)\u001b[0m\n\u001b[0;32m    859\u001b[0m     \u001b[38;5;28;01mreturn\u001b[39;00m \u001b[38;5;28;01mFalse\u001b[39;00m\n\u001b[0;32m    860\u001b[0m \u001b[38;5;28;01melse\u001b[39;00m:\n\u001b[1;32m--> 861\u001b[0m     \u001b[38;5;28;43mself\u001b[39;49m\u001b[38;5;241;43m.\u001b[39;49m\u001b[43m_dispatch\u001b[49m\u001b[43m(\u001b[49m\u001b[43mtasks\u001b[49m\u001b[43m)\u001b[49m\n\u001b[0;32m    862\u001b[0m     \u001b[38;5;28;01mreturn\u001b[39;00m \u001b[38;5;28;01mTrue\u001b[39;00m\n",
      "File \u001b[1;32m~\\Anaconda3\\lib\\site-packages\\joblib\\parallel.py:779\u001b[0m, in \u001b[0;36mParallel._dispatch\u001b[1;34m(self, batch)\u001b[0m\n\u001b[0;32m    777\u001b[0m \u001b[38;5;28;01mwith\u001b[39;00m \u001b[38;5;28mself\u001b[39m\u001b[38;5;241m.\u001b[39m_lock:\n\u001b[0;32m    778\u001b[0m     job_idx \u001b[38;5;241m=\u001b[39m \u001b[38;5;28mlen\u001b[39m(\u001b[38;5;28mself\u001b[39m\u001b[38;5;241m.\u001b[39m_jobs)\n\u001b[1;32m--> 779\u001b[0m     job \u001b[38;5;241m=\u001b[39m \u001b[38;5;28;43mself\u001b[39;49m\u001b[38;5;241;43m.\u001b[39;49m\u001b[43m_backend\u001b[49m\u001b[38;5;241;43m.\u001b[39;49m\u001b[43mapply_async\u001b[49m\u001b[43m(\u001b[49m\u001b[43mbatch\u001b[49m\u001b[43m,\u001b[49m\u001b[43m \u001b[49m\u001b[43mcallback\u001b[49m\u001b[38;5;241;43m=\u001b[39;49m\u001b[43mcb\u001b[49m\u001b[43m)\u001b[49m\n\u001b[0;32m    780\u001b[0m     \u001b[38;5;66;03m# A job can complete so quickly than its callback is\u001b[39;00m\n\u001b[0;32m    781\u001b[0m     \u001b[38;5;66;03m# called before we get here, causing self._jobs to\u001b[39;00m\n\u001b[0;32m    782\u001b[0m     \u001b[38;5;66;03m# grow. To ensure correct results ordering, .insert is\u001b[39;00m\n\u001b[0;32m    783\u001b[0m     \u001b[38;5;66;03m# used (rather than .append) in the following line\u001b[39;00m\n\u001b[0;32m    784\u001b[0m     \u001b[38;5;28mself\u001b[39m\u001b[38;5;241m.\u001b[39m_jobs\u001b[38;5;241m.\u001b[39minsert(job_idx, job)\n",
      "File \u001b[1;32m~\\Anaconda3\\lib\\site-packages\\joblib\\_parallel_backends.py:208\u001b[0m, in \u001b[0;36mSequentialBackend.apply_async\u001b[1;34m(self, func, callback)\u001b[0m\n\u001b[0;32m    206\u001b[0m \u001b[38;5;28;01mdef\u001b[39;00m \u001b[38;5;21mapply_async\u001b[39m(\u001b[38;5;28mself\u001b[39m, func, callback\u001b[38;5;241m=\u001b[39m\u001b[38;5;28;01mNone\u001b[39;00m):\n\u001b[0;32m    207\u001b[0m     \u001b[38;5;124;03m\"\"\"Schedule a func to be run\"\"\"\u001b[39;00m\n\u001b[1;32m--> 208\u001b[0m     result \u001b[38;5;241m=\u001b[39m \u001b[43mImmediateResult\u001b[49m\u001b[43m(\u001b[49m\u001b[43mfunc\u001b[49m\u001b[43m)\u001b[49m\n\u001b[0;32m    209\u001b[0m     \u001b[38;5;28;01mif\u001b[39;00m callback:\n\u001b[0;32m    210\u001b[0m         callback(result)\n",
      "File \u001b[1;32m~\\Anaconda3\\lib\\site-packages\\joblib\\_parallel_backends.py:572\u001b[0m, in \u001b[0;36mImmediateResult.__init__\u001b[1;34m(self, batch)\u001b[0m\n\u001b[0;32m    569\u001b[0m \u001b[38;5;28;01mdef\u001b[39;00m \u001b[38;5;21m__init__\u001b[39m(\u001b[38;5;28mself\u001b[39m, batch):\n\u001b[0;32m    570\u001b[0m     \u001b[38;5;66;03m# Don't delay the application, to avoid keeping the input\u001b[39;00m\n\u001b[0;32m    571\u001b[0m     \u001b[38;5;66;03m# arguments in memory\u001b[39;00m\n\u001b[1;32m--> 572\u001b[0m     \u001b[38;5;28mself\u001b[39m\u001b[38;5;241m.\u001b[39mresults \u001b[38;5;241m=\u001b[39m \u001b[43mbatch\u001b[49m\u001b[43m(\u001b[49m\u001b[43m)\u001b[49m\n",
      "File \u001b[1;32m~\\Anaconda3\\lib\\site-packages\\joblib\\parallel.py:262\u001b[0m, in \u001b[0;36mBatchedCalls.__call__\u001b[1;34m(self)\u001b[0m\n\u001b[0;32m    258\u001b[0m \u001b[38;5;28;01mdef\u001b[39;00m \u001b[38;5;21m__call__\u001b[39m(\u001b[38;5;28mself\u001b[39m):\n\u001b[0;32m    259\u001b[0m     \u001b[38;5;66;03m# Set the default nested backend to self._backend but do not set the\u001b[39;00m\n\u001b[0;32m    260\u001b[0m     \u001b[38;5;66;03m# change the default number of processes to -1\u001b[39;00m\n\u001b[0;32m    261\u001b[0m     \u001b[38;5;28;01mwith\u001b[39;00m parallel_backend(\u001b[38;5;28mself\u001b[39m\u001b[38;5;241m.\u001b[39m_backend, n_jobs\u001b[38;5;241m=\u001b[39m\u001b[38;5;28mself\u001b[39m\u001b[38;5;241m.\u001b[39m_n_jobs):\n\u001b[1;32m--> 262\u001b[0m         \u001b[38;5;28;01mreturn\u001b[39;00m [func(\u001b[38;5;241m*\u001b[39margs, \u001b[38;5;241m*\u001b[39m\u001b[38;5;241m*\u001b[39mkwargs)\n\u001b[0;32m    263\u001b[0m                 \u001b[38;5;28;01mfor\u001b[39;00m func, args, kwargs \u001b[38;5;129;01min\u001b[39;00m \u001b[38;5;28mself\u001b[39m\u001b[38;5;241m.\u001b[39mitems]\n",
      "File \u001b[1;32m~\\Anaconda3\\lib\\site-packages\\joblib\\parallel.py:262\u001b[0m, in \u001b[0;36m<listcomp>\u001b[1;34m(.0)\u001b[0m\n\u001b[0;32m    258\u001b[0m \u001b[38;5;28;01mdef\u001b[39;00m \u001b[38;5;21m__call__\u001b[39m(\u001b[38;5;28mself\u001b[39m):\n\u001b[0;32m    259\u001b[0m     \u001b[38;5;66;03m# Set the default nested backend to self._backend but do not set the\u001b[39;00m\n\u001b[0;32m    260\u001b[0m     \u001b[38;5;66;03m# change the default number of processes to -1\u001b[39;00m\n\u001b[0;32m    261\u001b[0m     \u001b[38;5;28;01mwith\u001b[39;00m parallel_backend(\u001b[38;5;28mself\u001b[39m\u001b[38;5;241m.\u001b[39m_backend, n_jobs\u001b[38;5;241m=\u001b[39m\u001b[38;5;28mself\u001b[39m\u001b[38;5;241m.\u001b[39m_n_jobs):\n\u001b[1;32m--> 262\u001b[0m         \u001b[38;5;28;01mreturn\u001b[39;00m [func(\u001b[38;5;241m*\u001b[39margs, \u001b[38;5;241m*\u001b[39m\u001b[38;5;241m*\u001b[39mkwargs)\n\u001b[0;32m    263\u001b[0m                 \u001b[38;5;28;01mfor\u001b[39;00m func, args, kwargs \u001b[38;5;129;01min\u001b[39;00m \u001b[38;5;28mself\u001b[39m\u001b[38;5;241m.\u001b[39mitems]\n",
      "File \u001b[1;32m~\\Anaconda3\\lib\\site-packages\\sklearn\\utils\\fixes.py:216\u001b[0m, in \u001b[0;36m_FuncWrapper.__call__\u001b[1;34m(self, *args, **kwargs)\u001b[0m\n\u001b[0;32m    214\u001b[0m \u001b[38;5;28;01mdef\u001b[39;00m \u001b[38;5;21m__call__\u001b[39m(\u001b[38;5;28mself\u001b[39m, \u001b[38;5;241m*\u001b[39margs, \u001b[38;5;241m*\u001b[39m\u001b[38;5;241m*\u001b[39mkwargs):\n\u001b[0;32m    215\u001b[0m     \u001b[38;5;28;01mwith\u001b[39;00m config_context(\u001b[38;5;241m*\u001b[39m\u001b[38;5;241m*\u001b[39m\u001b[38;5;28mself\u001b[39m\u001b[38;5;241m.\u001b[39mconfig):\n\u001b[1;32m--> 216\u001b[0m         \u001b[38;5;28;01mreturn\u001b[39;00m \u001b[38;5;28mself\u001b[39m\u001b[38;5;241m.\u001b[39mfunction(\u001b[38;5;241m*\u001b[39margs, \u001b[38;5;241m*\u001b[39m\u001b[38;5;241m*\u001b[39mkwargs)\n",
      "File \u001b[1;32m~\\Anaconda3\\lib\\site-packages\\sklearn\\model_selection\\_validation.py:680\u001b[0m, in \u001b[0;36m_fit_and_score\u001b[1;34m(estimator, X, y, scorer, train, test, verbose, parameters, fit_params, return_train_score, return_parameters, return_n_test_samples, return_times, return_estimator, split_progress, candidate_progress, error_score)\u001b[0m\n\u001b[0;32m    678\u001b[0m         estimator\u001b[38;5;241m.\u001b[39mfit(X_train, \u001b[38;5;241m*\u001b[39m\u001b[38;5;241m*\u001b[39mfit_params)\n\u001b[0;32m    679\u001b[0m     \u001b[38;5;28;01melse\u001b[39;00m:\n\u001b[1;32m--> 680\u001b[0m         estimator\u001b[38;5;241m.\u001b[39mfit(X_train, y_train, \u001b[38;5;241m*\u001b[39m\u001b[38;5;241m*\u001b[39mfit_params)\n\u001b[0;32m    682\u001b[0m \u001b[38;5;28;01mexcept\u001b[39;00m \u001b[38;5;167;01mException\u001b[39;00m:\n\u001b[0;32m    683\u001b[0m     \u001b[38;5;66;03m# Note fit time as time until error\u001b[39;00m\n\u001b[0;32m    684\u001b[0m     fit_time \u001b[38;5;241m=\u001b[39m time\u001b[38;5;241m.\u001b[39mtime() \u001b[38;5;241m-\u001b[39m start_time\n",
      "File \u001b[1;32m~\\Anaconda3\\lib\\site-packages\\sklearn\\pipeline.py:394\u001b[0m, in \u001b[0;36mPipeline.fit\u001b[1;34m(self, X, y, **fit_params)\u001b[0m\n\u001b[0;32m    392\u001b[0m     \u001b[38;5;28;01mif\u001b[39;00m \u001b[38;5;28mself\u001b[39m\u001b[38;5;241m.\u001b[39m_final_estimator \u001b[38;5;241m!=\u001b[39m \u001b[38;5;124m\"\u001b[39m\u001b[38;5;124mpassthrough\u001b[39m\u001b[38;5;124m\"\u001b[39m:\n\u001b[0;32m    393\u001b[0m         fit_params_last_step \u001b[38;5;241m=\u001b[39m fit_params_steps[\u001b[38;5;28mself\u001b[39m\u001b[38;5;241m.\u001b[39msteps[\u001b[38;5;241m-\u001b[39m\u001b[38;5;241m1\u001b[39m][\u001b[38;5;241m0\u001b[39m]]\n\u001b[1;32m--> 394\u001b[0m         \u001b[38;5;28mself\u001b[39m\u001b[38;5;241m.\u001b[39m_final_estimator\u001b[38;5;241m.\u001b[39mfit(Xt, y, \u001b[38;5;241m*\u001b[39m\u001b[38;5;241m*\u001b[39mfit_params_last_step)\n\u001b[0;32m    396\u001b[0m \u001b[38;5;28;01mreturn\u001b[39;00m \u001b[38;5;28mself\u001b[39m\n",
      "File \u001b[1;32m~\\Anaconda3\\lib\\site-packages\\sklearn\\ensemble\\_forest.py:450\u001b[0m, in \u001b[0;36mBaseForest.fit\u001b[1;34m(self, X, y, sample_weight)\u001b[0m\n\u001b[0;32m    439\u001b[0m trees \u001b[38;5;241m=\u001b[39m [\n\u001b[0;32m    440\u001b[0m     \u001b[38;5;28mself\u001b[39m\u001b[38;5;241m.\u001b[39m_make_estimator(append\u001b[38;5;241m=\u001b[39m\u001b[38;5;28;01mFalse\u001b[39;00m, random_state\u001b[38;5;241m=\u001b[39mrandom_state)\n\u001b[0;32m    441\u001b[0m     \u001b[38;5;28;01mfor\u001b[39;00m i \u001b[38;5;129;01min\u001b[39;00m \u001b[38;5;28mrange\u001b[39m(n_more_estimators)\n\u001b[0;32m    442\u001b[0m ]\n\u001b[0;32m    444\u001b[0m \u001b[38;5;66;03m# Parallel loop: we prefer the threading backend as the Cython code\u001b[39;00m\n\u001b[0;32m    445\u001b[0m \u001b[38;5;66;03m# for fitting the trees is internally releasing the Python GIL\u001b[39;00m\n\u001b[0;32m    446\u001b[0m \u001b[38;5;66;03m# making threading more efficient than multiprocessing in\u001b[39;00m\n\u001b[0;32m    447\u001b[0m \u001b[38;5;66;03m# that case. However, for joblib 0.12+ we respect any\u001b[39;00m\n\u001b[0;32m    448\u001b[0m \u001b[38;5;66;03m# parallel_backend contexts set at a higher level,\u001b[39;00m\n\u001b[0;32m    449\u001b[0m \u001b[38;5;66;03m# since correctness does not rely on using threads.\u001b[39;00m\n\u001b[1;32m--> 450\u001b[0m trees \u001b[38;5;241m=\u001b[39m \u001b[43mParallel\u001b[49m\u001b[43m(\u001b[49m\n\u001b[0;32m    451\u001b[0m \u001b[43m    \u001b[49m\u001b[43mn_jobs\u001b[49m\u001b[38;5;241;43m=\u001b[39;49m\u001b[38;5;28;43mself\u001b[39;49m\u001b[38;5;241;43m.\u001b[39;49m\u001b[43mn_jobs\u001b[49m\u001b[43m,\u001b[49m\n\u001b[0;32m    452\u001b[0m \u001b[43m    \u001b[49m\u001b[43mverbose\u001b[49m\u001b[38;5;241;43m=\u001b[39;49m\u001b[38;5;28;43mself\u001b[39;49m\u001b[38;5;241;43m.\u001b[39;49m\u001b[43mverbose\u001b[49m\u001b[43m,\u001b[49m\n\u001b[0;32m    453\u001b[0m \u001b[43m    \u001b[49m\u001b[38;5;241;43m*\u001b[39;49m\u001b[38;5;241;43m*\u001b[39;49m\u001b[43m_joblib_parallel_args\u001b[49m\u001b[43m(\u001b[49m\u001b[43mprefer\u001b[49m\u001b[38;5;241;43m=\u001b[39;49m\u001b[38;5;124;43m\"\u001b[39;49m\u001b[38;5;124;43mthreads\u001b[39;49m\u001b[38;5;124;43m\"\u001b[39;49m\u001b[43m)\u001b[49m\u001b[43m,\u001b[49m\n\u001b[0;32m    454\u001b[0m \u001b[43m\u001b[49m\u001b[43m)\u001b[49m\u001b[43m(\u001b[49m\n\u001b[0;32m    455\u001b[0m \u001b[43m    \u001b[49m\u001b[43mdelayed\u001b[49m\u001b[43m(\u001b[49m\u001b[43m_parallel_build_trees\u001b[49m\u001b[43m)\u001b[49m\u001b[43m(\u001b[49m\n\u001b[0;32m    456\u001b[0m \u001b[43m        \u001b[49m\u001b[43mt\u001b[49m\u001b[43m,\u001b[49m\n\u001b[0;32m    457\u001b[0m \u001b[43m        \u001b[49m\u001b[38;5;28;43mself\u001b[39;49m\u001b[43m,\u001b[49m\n\u001b[0;32m    458\u001b[0m \u001b[43m        \u001b[49m\u001b[43mX\u001b[49m\u001b[43m,\u001b[49m\n\u001b[0;32m    459\u001b[0m \u001b[43m        \u001b[49m\u001b[43my\u001b[49m\u001b[43m,\u001b[49m\n\u001b[0;32m    460\u001b[0m \u001b[43m        \u001b[49m\u001b[43msample_weight\u001b[49m\u001b[43m,\u001b[49m\n\u001b[0;32m    461\u001b[0m \u001b[43m        \u001b[49m\u001b[43mi\u001b[49m\u001b[43m,\u001b[49m\n\u001b[0;32m    462\u001b[0m \u001b[43m        \u001b[49m\u001b[38;5;28;43mlen\u001b[39;49m\u001b[43m(\u001b[49m\u001b[43mtrees\u001b[49m\u001b[43m)\u001b[49m\u001b[43m,\u001b[49m\n\u001b[0;32m    463\u001b[0m \u001b[43m        \u001b[49m\u001b[43mverbose\u001b[49m\u001b[38;5;241;43m=\u001b[39;49m\u001b[38;5;28;43mself\u001b[39;49m\u001b[38;5;241;43m.\u001b[39;49m\u001b[43mverbose\u001b[49m\u001b[43m,\u001b[49m\n\u001b[0;32m    464\u001b[0m \u001b[43m        \u001b[49m\u001b[43mclass_weight\u001b[49m\u001b[38;5;241;43m=\u001b[39;49m\u001b[38;5;28;43mself\u001b[39;49m\u001b[38;5;241;43m.\u001b[39;49m\u001b[43mclass_weight\u001b[49m\u001b[43m,\u001b[49m\n\u001b[0;32m    465\u001b[0m \u001b[43m        \u001b[49m\u001b[43mn_samples_bootstrap\u001b[49m\u001b[38;5;241;43m=\u001b[39;49m\u001b[43mn_samples_bootstrap\u001b[49m\u001b[43m,\u001b[49m\n\u001b[0;32m    466\u001b[0m \u001b[43m    \u001b[49m\u001b[43m)\u001b[49m\n\u001b[0;32m    467\u001b[0m \u001b[43m    \u001b[49m\u001b[38;5;28;43;01mfor\u001b[39;49;00m\u001b[43m \u001b[49m\u001b[43mi\u001b[49m\u001b[43m,\u001b[49m\u001b[43m \u001b[49m\u001b[43mt\u001b[49m\u001b[43m \u001b[49m\u001b[38;5;129;43;01min\u001b[39;49;00m\u001b[43m \u001b[49m\u001b[38;5;28;43menumerate\u001b[39;49m\u001b[43m(\u001b[49m\u001b[43mtrees\u001b[49m\u001b[43m)\u001b[49m\n\u001b[0;32m    468\u001b[0m \u001b[43m\u001b[49m\u001b[43m)\u001b[49m\n\u001b[0;32m    470\u001b[0m \u001b[38;5;66;03m# Collect newly grown trees\u001b[39;00m\n\u001b[0;32m    471\u001b[0m \u001b[38;5;28mself\u001b[39m\u001b[38;5;241m.\u001b[39mestimators_\u001b[38;5;241m.\u001b[39mextend(trees)\n",
      "File \u001b[1;32m~\\Anaconda3\\lib\\site-packages\\joblib\\parallel.py:1056\u001b[0m, in \u001b[0;36mParallel.__call__\u001b[1;34m(self, iterable)\u001b[0m\n\u001b[0;32m   1053\u001b[0m     \u001b[38;5;28mself\u001b[39m\u001b[38;5;241m.\u001b[39m_iterating \u001b[38;5;241m=\u001b[39m \u001b[38;5;28;01mFalse\u001b[39;00m\n\u001b[0;32m   1055\u001b[0m \u001b[38;5;28;01mwith\u001b[39;00m \u001b[38;5;28mself\u001b[39m\u001b[38;5;241m.\u001b[39m_backend\u001b[38;5;241m.\u001b[39mretrieval_context():\n\u001b[1;32m-> 1056\u001b[0m     \u001b[38;5;28;43mself\u001b[39;49m\u001b[38;5;241;43m.\u001b[39;49m\u001b[43mretrieve\u001b[49m\u001b[43m(\u001b[49m\u001b[43m)\u001b[49m\n\u001b[0;32m   1057\u001b[0m \u001b[38;5;66;03m# Make sure that we get a last message telling us we are done\u001b[39;00m\n\u001b[0;32m   1058\u001b[0m elapsed_time \u001b[38;5;241m=\u001b[39m time\u001b[38;5;241m.\u001b[39mtime() \u001b[38;5;241m-\u001b[39m \u001b[38;5;28mself\u001b[39m\u001b[38;5;241m.\u001b[39m_start_time\n",
      "File \u001b[1;32m~\\Anaconda3\\lib\\site-packages\\joblib\\parallel.py:935\u001b[0m, in \u001b[0;36mParallel.retrieve\u001b[1;34m(self)\u001b[0m\n\u001b[0;32m    933\u001b[0m \u001b[38;5;28;01mtry\u001b[39;00m:\n\u001b[0;32m    934\u001b[0m     \u001b[38;5;28;01mif\u001b[39;00m \u001b[38;5;28mgetattr\u001b[39m(\u001b[38;5;28mself\u001b[39m\u001b[38;5;241m.\u001b[39m_backend, \u001b[38;5;124m'\u001b[39m\u001b[38;5;124msupports_timeout\u001b[39m\u001b[38;5;124m'\u001b[39m, \u001b[38;5;28;01mFalse\u001b[39;00m):\n\u001b[1;32m--> 935\u001b[0m         \u001b[38;5;28mself\u001b[39m\u001b[38;5;241m.\u001b[39m_output\u001b[38;5;241m.\u001b[39mextend(\u001b[43mjob\u001b[49m\u001b[38;5;241;43m.\u001b[39;49m\u001b[43mget\u001b[49m\u001b[43m(\u001b[49m\u001b[43mtimeout\u001b[49m\u001b[38;5;241;43m=\u001b[39;49m\u001b[38;5;28;43mself\u001b[39;49m\u001b[38;5;241;43m.\u001b[39;49m\u001b[43mtimeout\u001b[49m\u001b[43m)\u001b[49m)\n\u001b[0;32m    936\u001b[0m     \u001b[38;5;28;01melse\u001b[39;00m:\n\u001b[0;32m    937\u001b[0m         \u001b[38;5;28mself\u001b[39m\u001b[38;5;241m.\u001b[39m_output\u001b[38;5;241m.\u001b[39mextend(job\u001b[38;5;241m.\u001b[39mget())\n",
      "File \u001b[1;32m~\\Anaconda3\\lib\\site-packages\\joblib\\_parallel_backends.py:542\u001b[0m, in \u001b[0;36mLokyBackend.wrap_future_result\u001b[1;34m(future, timeout)\u001b[0m\n\u001b[0;32m    539\u001b[0m \u001b[38;5;124;03m\"\"\"Wrapper for Future.result to implement the same behaviour as\u001b[39;00m\n\u001b[0;32m    540\u001b[0m \u001b[38;5;124;03mAsyncResults.get from multiprocessing.\"\"\"\u001b[39;00m\n\u001b[0;32m    541\u001b[0m \u001b[38;5;28;01mtry\u001b[39;00m:\n\u001b[1;32m--> 542\u001b[0m     \u001b[38;5;28;01mreturn\u001b[39;00m \u001b[43mfuture\u001b[49m\u001b[38;5;241;43m.\u001b[39;49m\u001b[43mresult\u001b[49m\u001b[43m(\u001b[49m\u001b[43mtimeout\u001b[49m\u001b[38;5;241;43m=\u001b[39;49m\u001b[43mtimeout\u001b[49m\u001b[43m)\u001b[49m\n\u001b[0;32m    543\u001b[0m \u001b[38;5;28;01mexcept\u001b[39;00m CfTimeoutError \u001b[38;5;28;01mas\u001b[39;00m e:\n\u001b[0;32m    544\u001b[0m     \u001b[38;5;28;01mraise\u001b[39;00m \u001b[38;5;167;01mTimeoutError\u001b[39;00m \u001b[38;5;28;01mfrom\u001b[39;00m \u001b[38;5;21;01me\u001b[39;00m\n",
      "File \u001b[1;32m~\\Anaconda3\\lib\\concurrent\\futures\\_base.py:441\u001b[0m, in \u001b[0;36mFuture.result\u001b[1;34m(self, timeout)\u001b[0m\n\u001b[0;32m    438\u001b[0m \u001b[38;5;28;01melif\u001b[39;00m \u001b[38;5;28mself\u001b[39m\u001b[38;5;241m.\u001b[39m_state \u001b[38;5;241m==\u001b[39m FINISHED:\n\u001b[0;32m    439\u001b[0m     \u001b[38;5;28;01mreturn\u001b[39;00m \u001b[38;5;28mself\u001b[39m\u001b[38;5;241m.\u001b[39m__get_result()\n\u001b[1;32m--> 441\u001b[0m \u001b[38;5;28;43mself\u001b[39;49m\u001b[38;5;241;43m.\u001b[39;49m\u001b[43m_condition\u001b[49m\u001b[38;5;241;43m.\u001b[39;49m\u001b[43mwait\u001b[49m\u001b[43m(\u001b[49m\u001b[43mtimeout\u001b[49m\u001b[43m)\u001b[49m\n\u001b[0;32m    443\u001b[0m \u001b[38;5;28;01mif\u001b[39;00m \u001b[38;5;28mself\u001b[39m\u001b[38;5;241m.\u001b[39m_state \u001b[38;5;129;01min\u001b[39;00m [CANCELLED, CANCELLED_AND_NOTIFIED]:\n\u001b[0;32m    444\u001b[0m     \u001b[38;5;28;01mraise\u001b[39;00m CancelledError()\n",
      "File \u001b[1;32m~\\Anaconda3\\lib\\threading.py:312\u001b[0m, in \u001b[0;36mCondition.wait\u001b[1;34m(self, timeout)\u001b[0m\n\u001b[0;32m    310\u001b[0m \u001b[38;5;28;01mtry\u001b[39;00m:    \u001b[38;5;66;03m# restore state no matter what (e.g., KeyboardInterrupt)\u001b[39;00m\n\u001b[0;32m    311\u001b[0m     \u001b[38;5;28;01mif\u001b[39;00m timeout \u001b[38;5;129;01mis\u001b[39;00m \u001b[38;5;28;01mNone\u001b[39;00m:\n\u001b[1;32m--> 312\u001b[0m         \u001b[43mwaiter\u001b[49m\u001b[38;5;241;43m.\u001b[39;49m\u001b[43macquire\u001b[49m\u001b[43m(\u001b[49m\u001b[43m)\u001b[49m\n\u001b[0;32m    313\u001b[0m         gotit \u001b[38;5;241m=\u001b[39m \u001b[38;5;28;01mTrue\u001b[39;00m\n\u001b[0;32m    314\u001b[0m     \u001b[38;5;28;01melse\u001b[39;00m:\n",
      "\u001b[1;31mKeyboardInterrupt\u001b[0m: "
     ]
    }
   ],
   "source": [
    "dhi = grid_rfr.fit(X_train, y_train['Clearsky DHI'])"
   ]
  },
  {
   "cell_type": "code",
   "execution_count": null,
   "id": "b02e9651",
   "metadata": {},
   "outputs": [],
   "source": [
    "dhi.best_estimator_"
   ]
  },
  {
   "cell_type": "code",
   "execution_count": null,
   "id": "9e8aa6be",
   "metadata": {},
   "outputs": [],
   "source": [
    "dhi.best_score_"
   ]
  },
  {
   "cell_type": "code",
   "execution_count": null,
   "id": "eb8db399",
   "metadata": {},
   "outputs": [],
   "source": [
    "dhi.best_params_"
   ]
  },
  {
   "cell_type": "code",
   "execution_count": null,
   "id": "efc21b90",
   "metadata": {},
   "outputs": [],
   "source": [
    "dni = grid_rfr.fit(X_train, y_train['Clearsky DNI'])"
   ]
  },
  {
   "cell_type": "code",
   "execution_count": null,
   "id": "e846d520",
   "metadata": {},
   "outputs": [],
   "source": [
    "dni.best_estimator_"
   ]
  },
  {
   "cell_type": "code",
   "execution_count": null,
   "id": "ae36faec",
   "metadata": {},
   "outputs": [],
   "source": [
    "dni.best_score_"
   ]
  },
  {
   "cell_type": "code",
   "execution_count": null,
   "id": "4b876b41",
   "metadata": {},
   "outputs": [],
   "source": [
    "dni.best_params_"
   ]
  },
  {
   "cell_type": "code",
   "execution_count": null,
   "id": "a0489067",
   "metadata": {},
   "outputs": [],
   "source": [
    "ghi = grid_rfr.fit(X_train, y_train['Clearsky GHI'])"
   ]
  },
  {
   "cell_type": "code",
   "execution_count": null,
   "id": "2a1ed4d3",
   "metadata": {},
   "outputs": [],
   "source": [
    "ghi.best_estimator_"
   ]
  },
  {
   "cell_type": "code",
   "execution_count": null,
   "id": "2abb42d3",
   "metadata": {},
   "outputs": [],
   "source": [
    "ghi.best_score_"
   ]
  },
  {
   "cell_type": "code",
   "execution_count": null,
   "id": "bd9214e8",
   "metadata": {},
   "outputs": [],
   "source": [
    "ghi.best_params_"
   ]
  },
  {
   "cell_type": "code",
   "execution_count": null,
   "id": "1319863b",
   "metadata": {},
   "outputs": [],
   "source": [
    "ghi.best_estimator_.predict"
   ]
  },
  {
   "cell_type": "markdown",
   "id": "1155e9c3",
   "metadata": {},
   "source": [
    "<a id=\"pipeline_rfr\"></a> \n",
    "### 5.2. PipeLine [DecisionTreeRegressor]"
   ]
  },
  {
   "cell_type": "code",
   "execution_count": 28,
   "id": "782896a6",
   "metadata": {},
   "outputs": [],
   "source": [
    "from sklearn.tree import DecisionTreeRegressor"
   ]
  },
  {
   "cell_type": "code",
   "execution_count": 29,
   "id": "4f54898b",
   "metadata": {},
   "outputs": [],
   "source": [
    "steps_dtr= [('scaler', StandardScaler()),\n",
    "             ('regressor', DecisionTreeRegressor())]"
   ]
  },
  {
   "cell_type": "code",
   "execution_count": 30,
   "id": "f3877bf8",
   "metadata": {},
   "outputs": [],
   "source": [
    "pipe_dtr = Pipeline(steps_dtr)"
   ]
  },
  {
   "cell_type": "code",
   "execution_count": 31,
   "id": "1fabc836",
   "metadata": {},
   "outputs": [],
   "source": [
    "params_dtr= {'regressor__max_depth':[None, 5, 10], 'regressor__min_samples_split':[2,5,10],'regressor__min_samples_leaf':[1,2,4]}"
   ]
  },
  {
   "cell_type": "code",
   "execution_count": 32,
   "id": "06da5472",
   "metadata": {},
   "outputs": [],
   "source": [
    "grid_dtr = GridSearchCV(pipe_dtr, params_dtr, cv=5)"
   ]
  },
  {
   "cell_type": "code",
   "execution_count": 33,
   "id": "bd374e63",
   "metadata": {},
   "outputs": [],
   "source": [
    "dhi_dtr = grid_dtr.fit(X_train, y_train['Clearsky DHI'])"
   ]
  },
  {
   "cell_type": "code",
   "execution_count": 34,
   "id": "ebe49ce7",
   "metadata": {},
   "outputs": [
    {
     "data": {
      "text/plain": [
       "{'regressor__max_depth': 10,\n",
       " 'regressor__min_samples_leaf': 4,\n",
       " 'regressor__min_samples_split': 2}"
      ]
     },
     "execution_count": 34,
     "metadata": {},
     "output_type": "execute_result"
    }
   ],
   "source": [
    "dhi_dtr.best_params_"
   ]
  },
  {
   "cell_type": "code",
   "execution_count": 35,
   "id": "fbb6c7ad",
   "metadata": {},
   "outputs": [
    {
     "data": {
      "text/plain": [
       "Pipeline(steps=[('scaler', StandardScaler()),\n",
       "                ('regressor',\n",
       "                 DecisionTreeRegressor(max_depth=10, min_samples_leaf=4))])"
      ]
     },
     "execution_count": 35,
     "metadata": {},
     "output_type": "execute_result"
    }
   ],
   "source": [
    "dhi_dtr.best_estimator_"
   ]
  },
  {
   "cell_type": "code",
   "execution_count": 36,
   "id": "d0929313",
   "metadata": {},
   "outputs": [
    {
     "data": {
      "text/plain": [
       "0.8082849353157467"
      ]
     },
     "execution_count": 36,
     "metadata": {},
     "output_type": "execute_result"
    }
   ],
   "source": [
    "dhi_dtr.best_score_"
   ]
  },
  {
   "cell_type": "code",
   "execution_count": 37,
   "id": "e53cd0c6",
   "metadata": {},
   "outputs": [],
   "source": [
    "dhi_dtrt = grid_dtr.fit(X_test, y_test['Clearsky DHI'])"
   ]
  },
  {
   "cell_type": "code",
   "execution_count": 38,
   "id": "11f184d9",
   "metadata": {},
   "outputs": [
    {
     "data": {
      "text/plain": [
       "0.8098852022979592"
      ]
     },
     "execution_count": 38,
     "metadata": {},
     "output_type": "execute_result"
    }
   ],
   "source": [
    "dhi_dtrt.best_score_"
   ]
  },
  {
   "cell_type": "code",
   "execution_count": 39,
   "id": "29fb0ed1",
   "metadata": {},
   "outputs": [],
   "source": [
    "dni_dtr = grid_dtr.fit(X_train, y_train['Clearsky DNI'])"
   ]
  },
  {
   "cell_type": "code",
   "execution_count": 40,
   "id": "4813644b",
   "metadata": {},
   "outputs": [
    {
     "data": {
      "text/plain": [
       "{'regressor__max_depth': None,\n",
       " 'regressor__min_samples_leaf': 2,\n",
       " 'regressor__min_samples_split': 5}"
      ]
     },
     "execution_count": 40,
     "metadata": {},
     "output_type": "execute_result"
    }
   ],
   "source": [
    "dni_dtr.best_params_"
   ]
  },
  {
   "cell_type": "code",
   "execution_count": 41,
   "id": "77d55e5d",
   "metadata": {},
   "outputs": [
    {
     "data": {
      "text/plain": [
       "Pipeline(steps=[('scaler', StandardScaler()),\n",
       "                ('regressor',\n",
       "                 DecisionTreeRegressor(min_samples_leaf=2,\n",
       "                                       min_samples_split=5))])"
      ]
     },
     "execution_count": 41,
     "metadata": {},
     "output_type": "execute_result"
    }
   ],
   "source": [
    "dni_dtr.best_estimator_"
   ]
  },
  {
   "cell_type": "code",
   "execution_count": 42,
   "id": "b28e83ff",
   "metadata": {},
   "outputs": [
    {
     "data": {
      "text/plain": [
       "0.9281003499524605"
      ]
     },
     "execution_count": 42,
     "metadata": {},
     "output_type": "execute_result"
    }
   ],
   "source": [
    "dni_dtr.best_score_"
   ]
  },
  {
   "cell_type": "code",
   "execution_count": 43,
   "id": "167e5e67",
   "metadata": {},
   "outputs": [],
   "source": [
    "dni_dtrt = grid_dtr.fit(X_test, y_test['Clearsky DNI'])"
   ]
  },
  {
   "cell_type": "code",
   "execution_count": 44,
   "id": "4e928756",
   "metadata": {},
   "outputs": [
    {
     "data": {
      "text/plain": [
       "0.9424029883382301"
      ]
     },
     "execution_count": 44,
     "metadata": {},
     "output_type": "execute_result"
    }
   ],
   "source": [
    "dni_dtrt.best_score_"
   ]
  },
  {
   "cell_type": "code",
   "execution_count": 45,
   "id": "05a0a171",
   "metadata": {},
   "outputs": [],
   "source": [
    "ghi_dtr = grid_dtr.fit(X_train, y_train['Clearsky GHI'])"
   ]
  },
  {
   "cell_type": "code",
   "execution_count": 46,
   "id": "854003ac",
   "metadata": {},
   "outputs": [
    {
     "data": {
      "text/plain": [
       "{'regressor__max_depth': 10,\n",
       " 'regressor__min_samples_leaf': 2,\n",
       " 'regressor__min_samples_split': 10}"
      ]
     },
     "execution_count": 46,
     "metadata": {},
     "output_type": "execute_result"
    }
   ],
   "source": [
    "ghi_dtr.best_params_"
   ]
  },
  {
   "cell_type": "code",
   "execution_count": 47,
   "id": "6dfb202f",
   "metadata": {},
   "outputs": [
    {
     "data": {
      "text/plain": [
       "Pipeline(steps=[('scaler', StandardScaler()),\n",
       "                ('regressor',\n",
       "                 DecisionTreeRegressor(max_depth=10, min_samples_leaf=2,\n",
       "                                       min_samples_split=10))])"
      ]
     },
     "execution_count": 47,
     "metadata": {},
     "output_type": "execute_result"
    }
   ],
   "source": [
    "ghi_dtr.best_estimator_"
   ]
  },
  {
   "cell_type": "code",
   "execution_count": 48,
   "id": "7af60c05",
   "metadata": {},
   "outputs": [
    {
     "data": {
      "text/plain": [
       "0.9425399220477837"
      ]
     },
     "execution_count": 48,
     "metadata": {},
     "output_type": "execute_result"
    }
   ],
   "source": [
    "ghi_dtr.best_score_"
   ]
  },
  {
   "cell_type": "code",
   "execution_count": 49,
   "id": "9f682a19",
   "metadata": {},
   "outputs": [],
   "source": [
    "ghi_dtrt = grid_dtr.fit(X_test, y_test['Clearsky GHI'])"
   ]
  },
  {
   "cell_type": "code",
   "execution_count": 50,
   "id": "8f7598b9",
   "metadata": {},
   "outputs": [
    {
     "data": {
      "text/plain": [
       "0.9322308026157483"
      ]
     },
     "execution_count": 50,
     "metadata": {},
     "output_type": "execute_result"
    }
   ],
   "source": [
    "ghi_dtrt.best_score_"
   ]
  },
  {
   "cell_type": "markdown",
   "id": "c0fdc797",
   "metadata": {},
   "source": [
    "<a id=\"features_imp_rfr\"></a> \n",
    "### 5.2. Features Importance [RandomForestRegressor]"
   ]
  },
  {
   "cell_type": "code",
   "execution_count": null,
   "id": "2f86e44b",
   "metadata": {},
   "outputs": [],
   "source": []
  },
  {
   "cell_type": "markdown",
   "id": "98e27e2a",
   "metadata": {},
   "source": [
    "<a id=\"section_curva_roc\"></a> \n",
    "## 6. Curva ROC\n",
    "---\n",
    "<a href='#tabla_contenidos'>Volver a la Tabla de Contenidos</a>"
   ]
  },
  {
   "cell_type": "code",
   "execution_count": null,
   "id": "608f8acd",
   "metadata": {},
   "outputs": [],
   "source": []
  },
  {
   "cell_type": "markdown",
   "id": "8065f4ef",
   "metadata": {},
   "source": [
    "<a id=\"section_umbrales\"></a> \n",
    "### 6.1 Ajustando los umbrales"
   ]
  },
  {
   "cell_type": "code",
   "execution_count": null,
   "id": "1f3bc11b",
   "metadata": {},
   "outputs": [],
   "source": []
  },
  {
   "cell_type": "markdown",
   "id": "2a5c2f74",
   "metadata": {},
   "source": [
    "<a id=\"section_imp_croc\"></a> \n",
    "### 6.2 Implementación Curva ROC y AUC"
   ]
  },
  {
   "cell_type": "code",
   "execution_count": null,
   "id": "b6598e6e",
   "metadata": {},
   "outputs": [],
   "source": []
  },
  {
   "cell_type": "markdown",
   "id": "ba030cbc",
   "metadata": {},
   "source": [
    "<a id=\"conclusiones\"></a> \n",
    "## 7. Conclusiones\n",
    "---\n",
    "<a href='#tabla_contenidos'>Volver a la Tabla de Contenidos</a>"
   ]
  },
  {
   "cell_type": "code",
   "execution_count": null,
   "id": "a726108c",
   "metadata": {},
   "outputs": [],
   "source": []
  }
 ],
 "metadata": {
  "kernelspec": {
   "display_name": "Python 3 (ipykernel)",
   "language": "python",
   "name": "python3"
  },
  "language_info": {
   "codemirror_mode": {
    "name": "ipython",
    "version": 3
   },
   "file_extension": ".py",
   "mimetype": "text/x-python",
   "name": "python",
   "nbconvert_exporter": "python",
   "pygments_lexer": "ipython3",
   "version": "3.9.12"
  }
 },
 "nbformat": 4,
 "nbformat_minor": 5
}
