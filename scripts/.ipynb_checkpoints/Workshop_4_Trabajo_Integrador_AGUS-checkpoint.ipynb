{
 "cells": [
  {
   "cell_type": "markdown",
   "id": "08524bb6",
   "metadata": {},
   "source": [
    "<div float: center>\n",
    "    <img src=\"../common/../common/logo_DH.png\" width=\"30%\" height=\"30%\" style=\"text-align: left;\">\n",
    "    <img src=\"../common/wipro_logo.png\"  width=\"20%\" height=\"20%\" style=\"text-align: right; margin-left:400px;\">\n",
    "<div/>\n",
    "\n",
    "---\n",
    "\n",
    "# WORKSHOP 4 - Trabajo integrador de DataScience\n",
    "\n",
    "## GRUPO 8\n",
    "\n",
    "Integrantes:\n",
    "- Agustín García \n",
    "- Florencia Mosconi\n",
    "- Ezequiel López Mondo \n",
    "- Pablo Bauer \n",
    "\n",
    "<a id=\"tabla_contenidos\"></a> \n",
    "## Tabla de Contenidos\n",
    "\n",
    "### <a href='#section_repaso'>1. Introducción</a>\n",
    "- #### <a href='#explicacion_dataset'>1.1. Presentación del caso</a>\n",
    "- #### <a href='#metodologia'>1.2. La metodología de trabajo</a>\n",
    "\n",
    "### <a href='#section_import_lib'>2. Importación de librerías para casos de Clasificación</a>\n",
    "\n",
    "\n",
    "### <a href='#importar_dataset'>3. Importando el DataSet</a> \n",
    "- #### <a href='#imputacion'>3.1. Imputación de datos</a>\n",
    "\n",
    "### <a  href='#preparacion_entrenamiento'>4. Preparación y Entrenamiento del DataSet</a>\n",
    "- #### <a href='#features'>4.1. Features y dummies</a>\n",
    "- #### <a href='#split'>4.2. Split del set de entrenamiento</a>\n",
    "- #### <a href='#matrix_corr'>4.3. Matriz de correlación</a>\n",
    "- #### <a href='#analisis_corr'>4.4. Analisis preliminar de correlación</a>\n",
    "\n",
    "### <a  href='#evaluacion_modelos'>5. Evaluación de los Modelos Métricas</a>\n",
    "- #### <a href='#pipeline_rfr'>5.1. PipeLine [RandomForestRegressor]</a>\n",
    "- #### <a href='#features_imp_rfr'>5.2. Features Importance [RandomForestRegressor]</a>\n",
    "    \n",
    "### <a href='#section_curva_roc'>6. Curva ROC</a>\n",
    "- #### <a href='#section_umbrales'>6.1. Ajustando los umbrales</a>\n",
    "- #### <a href='#section_imp_croc'>6.2. Implementación Curva ROC y AUC</a>\n",
    "\n",
    "### <a href='#conclusiones'>7. Conclusuiones</a>\n",
    "---"
   ]
  },
  {
   "cell_type": "markdown",
   "id": "c2b72f3e",
   "metadata": {},
   "source": [
    "<a id=\"section_repaso\"></a> \n",
    "## 1. Introducción\n",
    "---\n",
    "<a href='#tabla_contenidos'>Volver a la Tabla de Contenidos</a>"
   ]
  },
  {
   "cell_type": "markdown",
   "id": "d7c91db1",
   "metadata": {},
   "source": [
    "<a id=\"explicacion_dataset\"></a> \n",
    "### 1.1 Presentación del caso\n",
    "\n",
    "<img src=\"../common/solar_farms.png\"  width=\"100%\" height=\"100%\">\n",
    "\n",
    ":es:\n",
    "\n",
    "**Objetivo del Poryecto**\n",
    "\n",
    "El objetivo de este proyecto es optimizar la producción de energía solar de una empresa de líder en el campo. Para ello, se requiere desarrollar un modelo de predicción capaz de predecir los valores de 'Clearsky DHI', 'Clearsky DNI' y 'Clearsky GHI', que son índices de incidencia solar clave.\n",
    "\n",
    "Utilizando un conjunto de datos recopilados durante 10 años con un intervalo de 30 minutos, se entrenará el modelo de predicción. Este modelo permitirá predecir la capacidad de producción de una granja solar en función de ciertos parámetros meteorológicos relevantes.\n",
    "\n",
    "El objetivo final es proporcionar a la empresa de generación de energía solar una herramienta precisa y confiable para optimizar la producción. Esto permitirá una planificación más eficiente de las operaciones, una mejor gestión de los recursos disponibles y proporcionar valores de entrega de energía, basados en predicciones meteorológicas a través de los servicios de Meteorología Nacionales.\n",
    "\n",
    "Con este proyecto, se busca aprovechar al máximo el potencial de la energía solar y contribuir a un enfoque más sostenible y respetuoso con el medio ambiente en la generación de energía.\n",
    "\n",
    "---\n",
    "\n",
    ":us:\n",
    "\n",
    "**Goal of the Project**\n",
    "\n",
    "*The objective of this project is to optimize the solar energy production of a leading company in the field. For this, it is necessary to develop a prediction model capable of predicting the values of 'Clearsky DHI', 'Clearsky DNI' and 'Clearsky GHI', which are key solar incidence indices.\n",
    "\n",
    "*Using a data set collected over 10 years with an interval of 30 minutes, the prediction model will be trained. This model will make it possible to predict the production capacity of a solar farm based on certain relevant meteorological parameters.\n",
    "\n",
    "*The ultimate goal is to provide the solar power generation company with an accurate and reliable tool to optimize production. This will allow for more efficient planning, better management of available resources and will provide energy delivery values, based on weather predictions through the National Meteorology services.\n",
    "\n",
    "*This project seeks to make the most of the potential of solar energy and contribute to a more sustainable and environmentally friendly approach to power generation.\n",
    "\n",
    "\n",
    ":es:\n",
    "\n",
    "#### Contexto\n",
    "\n",
    "Wipro Limited (NYSE: WIT, BSE: 507685, NSE: WIPRO) es una empresa líder mundial en servicios de tecnología de la información, consultoría y procesos comerciales. Aprovechamos el poder de la computación cognitiva, la hiperautomatización, la robótica, nubes, el análisis y las tecnologías emergentes para ayudar a nuestros clientes a adaptarse al mundo digital y hacerlos exitosos. Una empresa reconocida a nivel mundial por su cartera integral de servicios, fuerte compromiso con la sostenibilidad y capital humano comprometido, tenemos más de 220 000 empleados dedicados, que atienden a clientes en seis continentes. Juntos, descubrimos ideas y conectamos los puntos para construir un futuro mejor y más audaz.\n",
    "\n",
    "Además de ser un líder mundial en servicios de inteligencia artificial según los últimos informes de analistas como Forrester, IDC y Everest Group, Wipro ha sido calificada como la segunda mejor organización para que los científicos de datos trabajen en India en 2021 por Analytics India Magazine. La compañía también se ha comprometido a alcanzar unas emisiones netas de gases de efecto invernadero cero para 2040.\n",
    "\n",
    "Aunque un poco tarde, el mundo se está dando cuenta del efecto nocivo de los combustibles fósiles en nuestro medio ambiente. A medida que avanza el reloj del fin del mundo, los seres humanos recurren a las energías renovables para evitar un posible apocalipsis. Afortunadamente, el sol es un manantial de energía limpia. Siguiendo el ejemplo, Wipro, en asociación con MachineHack, ha diseñado un desafío de pronóstico para optimizar la generación de energía solar utilizando modelos ML.\n",
    "\n",
    "---\n",
    ":us:\n",
    "\n",
    "#### Context\n",
    "\n",
    "*Wipro Limited (NYSE: WIT, BSE: 507685, NSE: WIPRO) is a leading global information technology, consulting and business process services company. We harness the power of cognitive computing, hyper-automation, robotics, cloud, analytics and emerging technologies to help our clients adapt to the digital world and make them successful. A company recognized globally for its comprehensive portfolio of services, strong commitment to sustainability and good corporate citizenship, we have over 220,000 dedicated employees serving clients across six continents. Together, we discover ideas and connect the dots to build a better and a bold new future.*\n",
    "\n",
    "*Along with being a global leader in artificial intelligence services from the latest reports of analysts like Forrester, IDC and Everest Group, Wipro has been rated as the second-best organization for data scientists to work in India in 2021 by Analytics India Magazine. The company has also been committed to reaching a Net-Zero Greenhouse Gas Emissions by 2040.*\n",
    "\n",
    "*Though a little late in the day, the world is waking up to the deleterious effect of fossil fuels on our environment. As the doomsday clock ticks away, human beings are turning to renewable energy to avert a possible apocalypse. Fortunately, the sun is a well-spring of clean energy. Taking the cue, Wipro, in association with MachineHack, has designed a forecasting challenge to optimise solar power generation using ML models.*\n",
    "\n",
    "---\n",
    "\n",
    "['Year', 'Month', 'Day', 'Hour', 'Minute', 'Temperature', 'Clearsky DHI', 'Clearsky DNI', 'Clearsky GHI', 'Cloud Type', 'Dew Point', 'Fill Flag', 'Relative Humidity', 'Solar Zenith Angle', 'Pressure', 'Precipitable Water', 'Wind Direction', 'Wind Speed']\n",
    "\n",
    "#### Columnas\n",
    "- **Year** - Año de toma de datos\n",
    "- **Month** - Mes de toma de datos\n",
    "- **Day** - Día de toma de datos\n",
    "- **Hour** - Hora de toma de datos\n",
    "- **Minute** - Minuto de toma de datos\n",
    "- **Temperature** - Temperatura local\n",
    "- **Clearsky_DHI** - Diffuese Horizontal Irradiance w/m2\n",
    "- **Clearsky_DNI** - Direct Normal Irradiance w/m2\n",
    "- **Clearsky_GHI** - Global Horizontal Irradiance w/m2\n",
    "- **Cloud_Type** - Tipo de Nubosidad en el ambiente\n",
    "    - Cloud Type 0 Clear\n",
    "    - Cloud Type 1 Probably Clear\n",
    "    - Cloud Type 2 Fog\n",
    "    - Cloud Type 3 Water\n",
    "    - Cloud Type 4 Super-Cooled Water\n",
    "    - Cloud Type 5 Mixed\n",
    "    - Cloud Type 6 Opaque Ice\n",
    "    - Cloud Type 7 Cirrus\n",
    "    - Cloud Type 8 Overlapping\n",
    "    - Cloud Type 9 Overshooting\n",
    "    - Cloud Type 10 Unknown\n",
    "    - Cloud Type 11 Dust\n",
    "    - Cloud Type 12 Smoke\n",
    "    - Cloud Type -15 N/A\n",
    "- **Dew_Point** - Punto de rocío\n",
    "- **Fill_Flag** - \n",
    "    - Fill Flag 0 N/A\n",
    "    - Fill Flag 1 Missing Image\n",
    "    - Fill Flag 2 Low Irradiance\n",
    "    - Fill Flag 3 Exceeds Clearsky\n",
    "    - Fill Flag 4 Missing Cloud Properties\n",
    "    - Fill Flag 5 Rayleigh Violation\n",
    "    - Fill Flag any N/A\n",
    "- **Relative_Humidity** - Humedad relativa\n",
    "- **Solar_Zenith_Angle** - Ángulo de zenit solar\n",
    "- **Pressure** - Presión atomsférica\n",
    "- **Precipitable_Water** - Precipitación de lluvia en mm\n",
    "- **Wind_Direction** - Dirección del viento\n",
    "- **Wind_Speed** - Velocidad del viento\n",
    "\n",
    "<a id=\"metodologia\"></a> \n",
    "### 1.2 La metodología de trabajo\n",
    "\n",
    "Hemos estructurado nuestra metodología de trabajo en varias tareas con el fin de cumplir con nuestros objetivos principales. El objetivo primario es desarrollar un sistema predictivo en la notebook y crear una presentación en PowerPoint, tal como se requiere en el curso.\n",
    "\n",
    "Además de esto, hemos definido una serie de tareas complementarias para cumplir con nuestro objetivo secundario. Este objetivo implica poner en producción una pequeña página web en un servidor local, la cual contará con las funcionalidades mínimas necesarias para el funcionamiento del sistema y permitirá realizar consultas.\n",
    "\n",
    "A través de esta metodología, aseguramos un enfoque ordenado y organizado para alcanzar tanto el objetivo primario como el secundario. Cada tarea predictiva se realizará de manera paralela, permitiendo una progresión lógica en el desarrollo del proyecto y permitiendo un proceso comparativo de distintos modelos de aprendizaje. De esta manera, podremos cumplir con los requisitos del curso y también lograr la puesta en funcionamiento del sistema en una página web, brindando una solución más completa y accesible para los usuarios.\n",
    "\n",
    "Esta metodología nos permite maximizar la eficiencia y garantizar la entrega exitosa de los resultados esperados en los plazos establecidos."
   ]
  },
  {
   "cell_type": "markdown",
   "id": "151b908b",
   "metadata": {},
   "source": [
    "<a id=\"section_import_lib\"></a>\n",
    "## 2. Importación de librerías para casos de Clasificación\n",
    "---\n",
    "<a href='#tabla_contenidos'>Volver a la Tabla de Contenidos</a>"
   ]
  },
  {
   "cell_type": "code",
   "execution_count": 1,
   "id": "8563b451",
   "metadata": {},
   "outputs": [],
   "source": [
    "import pandas as pd\n",
    "import numpy as np\n",
    "import seaborn as sns\n",
    "import matplotlib.pyplot as plt\n",
    "\n",
    "from sklearn.model_selection import train_test_split\n",
    "from sklearn.preprocessing import OneHotEncoder, StandardScaler, MinMaxScaler\n",
    "from sklearn.ensemble import BaggingRegressor, RandomForestRegressor\n",
    "from sklearn.model_selection import GridSearchCV, StratifiedKFold\n",
    "from sklearn.pipeline import Pipeline\n",
    "from sklearn.metrics import confusion_matrix"
   ]
  },
  {
   "cell_type": "markdown",
   "id": "cb4eefda",
   "metadata": {},
   "source": [
    "<a id=\"importar_dataset\"></a>\n",
    "## 3. Importando el DataSet\n",
    "---\n",
    "<a href='#tabla_contenidos'>Volver a la Tabla de Contenidos</a>"
   ]
  },
  {
   "cell_type": "code",
   "execution_count": 2,
   "id": "8c847cbb",
   "metadata": {},
   "outputs": [
    {
     "name": "stdout",
     "output_type": "stream",
     "text": [
      "(175296, 18)\n",
      "(17520, 18)\n"
     ]
    }
   ],
   "source": [
    "ruta_X_train = \"../data/train.csv\"\n",
    "ruta_X_test = \"../data/test.csv\"\n",
    "ruta_sample_submission = \"../data/sample_submission.csv\"\n",
    "\n",
    "# Con este data set crearemos los DF de entrenamiento y testeo\n",
    "data = pd.read_csv(ruta_X_train, sep=',')\n",
    "\n",
    "# Este data set quedará como set de prediciones\n",
    "X_test_ = pd.read_csv(ruta_X_test, sep=',')\n",
    "\n",
    "# VER QUE HACEMOS CON ESTO, YO LO ELIMINARÍA\n",
    "sample_submission = pd.read_csv(ruta_sample_submission, sep=',')\n",
    "\n",
    "print(data.shape)\n",
    "print(X_test_.shape)"
   ]
  },
  {
   "cell_type": "code",
   "execution_count": 3,
   "id": "78687626",
   "metadata": {},
   "outputs": [
    {
     "data": {
      "text/plain": [
       "Year                  0.0\n",
       "Month                 0.0\n",
       "Day                   0.0\n",
       "Hour                  0.0\n",
       "Minute                0.0\n",
       "Clearsky DHI          0.0\n",
       "Clearsky DNI          0.0\n",
       "Clearsky GHI          0.0\n",
       "Cloud Type            0.0\n",
       "Dew Point             0.0\n",
       "Temperature           0.0\n",
       "Pressure              0.0\n",
       "Relative Humidity     0.0\n",
       "Solar Zenith Angle    0.0\n",
       "Precipitable Water    0.0\n",
       "Wind Direction        0.0\n",
       "Wind Speed            0.0\n",
       "Fill Flag             0.0\n",
       "dtype: float64"
      ]
     },
     "execution_count": 3,
     "metadata": {},
     "output_type": "execute_result"
    }
   ],
   "source": [
    "data_nan = data.apply(lambda x: x.isnull().sum()/x.shape[0], axis=0)\n",
    "data_nan"
   ]
  },
  {
   "cell_type": "markdown",
   "id": "4692f7a0",
   "metadata": {},
   "source": [
    "Podemos observar que el DataSet no contiene ningún nulo, ya que este fue tomado por una computadore de manera continua de los datos climaticos de la zona."
   ]
  },
  {
   "cell_type": "markdown",
   "id": "67c70524",
   "metadata": {},
   "source": [
    "<a id=\"imputacion\"></a> \n",
    "### 3.1 Imputación de datos"
   ]
  },
  {
   "cell_type": "markdown",
   "id": "5d586545",
   "metadata": {},
   "source": [
    "En esta imputación encontramos una discrepancia en la organización de las columnas y hacemos un arreglo para que tengan el  mismo orden del DataSet que utilizaremos al final de trabajo para realizar predicciones futuras."
   ]
  },
  {
   "cell_type": "code",
   "execution_count": 4,
   "id": "3c3eaf92",
   "metadata": {},
   "outputs": [
    {
     "data": {
      "text/plain": [
       "array(['Year', 'Month', 'Day', 'Hour', 'Minute', 'Cloud Type',\n",
       "       'Dew Point', 'Temperature', 'Pressure', 'Relative Humidity',\n",
       "       'Solar Zenith Angle', 'Precipitable Water', 'Wind Direction',\n",
       "       'Wind Speed', 'Fill Flag', 'Clearsky DHI', 'Clearsky DNI',\n",
       "       'Clearsky GHI'], dtype=object)"
      ]
     },
     "execution_count": 4,
     "metadata": {},
     "output_type": "execute_result"
    }
   ],
   "source": [
    "X_test_.columns.values"
   ]
  },
  {
   "cell_type": "code",
   "execution_count": 5,
   "id": "4574f0f7",
   "metadata": {
    "scrolled": true
   },
   "outputs": [
    {
     "data": {
      "text/html": [
       "<div>\n",
       "<style scoped>\n",
       "    .dataframe tbody tr th:only-of-type {\n",
       "        vertical-align: middle;\n",
       "    }\n",
       "\n",
       "    .dataframe tbody tr th {\n",
       "        vertical-align: top;\n",
       "    }\n",
       "\n",
       "    .dataframe thead th {\n",
       "        text-align: right;\n",
       "    }\n",
       "</style>\n",
       "<table border=\"1\" class=\"dataframe\">\n",
       "  <thead>\n",
       "    <tr style=\"text-align: right;\">\n",
       "      <th></th>\n",
       "      <th>Year</th>\n",
       "      <th>Month</th>\n",
       "      <th>Day</th>\n",
       "      <th>Hour</th>\n",
       "      <th>Minute</th>\n",
       "      <th>Cloud Type</th>\n",
       "      <th>Dew Point</th>\n",
       "      <th>Temperature</th>\n",
       "      <th>Pressure</th>\n",
       "      <th>Relative Humidity</th>\n",
       "      <th>Solar Zenith Angle</th>\n",
       "      <th>Precipitable Water</th>\n",
       "      <th>Wind Direction</th>\n",
       "      <th>Wind Speed</th>\n",
       "      <th>Fill Flag</th>\n",
       "      <th>Clearsky DHI</th>\n",
       "      <th>Clearsky DNI</th>\n",
       "      <th>Clearsky GHI</th>\n",
       "    </tr>\n",
       "  </thead>\n",
       "  <tbody>\n",
       "    <tr>\n",
<<<<<<< HEAD
       "      <th>130657</th>\n",
       "      <td>2016</td>\n",
       "      <td>6</td>\n",
       "      <td>15</td>\n",
       "      <td>0</td>\n",
       "      <td>30</td>\n",
       "      <td>3</td>\n",
       "      <td>23.0</td>\n",
       "      <td>26.0</td>\n",
       "      <td>1000</td>\n",
       "      <td>86.41</td>\n",
       "      <td>88.47</td>\n",
       "      <td>5.247</td>\n",
       "      <td>224.8</td>\n",
       "      <td>1.4</td>\n",
       "      <td>4</td>\n",
       "      <td>10</td>\n",
       "      <td>44</td>\n",
=======
<<<<<<< HEAD
       "      <th>153732</th>\n",
       "      <td>2017</td>\n",
       "      <td>10</td>\n",
       "      <td>8</td>\n",
       "      <td>18</td>\n",
       "      <td>0</td>\n",
       "      <td>8</td>\n",
       "      <td>24.0</td>\n",
       "      <td>28.0</td>\n",
       "      <td>1000</td>\n",
       "      <td>83.72</td>\n",
       "      <td>39.02</td>\n",
       "      <td>6.079</td>\n",
       "      <td>175.3</td>\n",
       "      <td>5.5</td>\n",
       "      <td>0</td>\n",
       "      <td>106</td>\n",
       "      <td>852</td>\n",
       "      <td>768</td>\n",
       "    </tr>\n",
       "    <tr>\n",
       "      <th>21604</th>\n",
       "      <td>2010</td>\n",
       "      <td>3</td>\n",
       "      <td>27</td>\n",
       "      <td>2</td>\n",
       "      <td>0</td>\n",
       "      <td>0</td>\n",
       "      <td>8.0</td>\n",
       "      <td>9.0</td>\n",
       "      <td>1000</td>\n",
       "      <td>95.40</td>\n",
       "      <td>117.44</td>\n",
       "      <td>0.976</td>\n",
       "      <td>351.4</td>\n",
       "      <td>1.6</td>\n",
       "      <td>0</td>\n",
       "      <td>0</td>\n",
       "      <td>0</td>\n",
       "      <td>0</td>\n",
       "    </tr>\n",
       "    <tr>\n",
       "      <th>114048</th>\n",
       "      <td>2015</td>\n",
       "      <td>7</td>\n",
       "      <td>5</td>\n",
       "      <td>0</td>\n",
       "      <td>0</td>\n",
       "      <td>8</td>\n",
       "      <td>22.0</td>\n",
       "      <td>25.0</td>\n",
       "      <td>1000</td>\n",
       "      <td>86.96</td>\n",
       "      <td>82.17</td>\n",
       "      <td>4.581</td>\n",
       "      <td>215.5</td>\n",
       "      <td>1.1</td>\n",
       "      <td>4</td>\n",
       "      <td>51</td>\n",
       "      <td>168</td>\n",
       "      <td>74</td>\n",
       "    </tr>\n",
       "    <tr>\n",
       "      <th>86127</th>\n",
       "      <td>2013</td>\n",
       "      <td>11</td>\n",
       "      <td>30</td>\n",
       "      <td>7</td>\n",
       "      <td>30</td>\n",
       "      <td>0</td>\n",
       "      <td>-2.0</td>\n",
       "      <td>2.0</td>\n",
       "      <td>1020</td>\n",
       "      <td>76.18</td>\n",
       "      <td>150.25</td>\n",
       "      <td>1.141</td>\n",
       "      <td>57.1</td>\n",
       "      <td>2.6</td>\n",
=======
       "      <th>102590</th>\n",
       "      <td>2014</td>\n",
>>>>>>> 68a3f82277cf38fc0e73cd718c7aa741e6bec697
       "      <td>11</td>\n",
       "    </tr>\n",
       "    <tr>\n",
       "      <th>151071</th>\n",
       "      <td>2017</td>\n",
       "      <td>8</td>\n",
       "      <td>14</td>\n",
       "      <td>7</td>\n",
       "      <td>30</td>\n",
       "      <td>8</td>\n",
       "      <td>24.0</td>\n",
       "      <td>24.0</td>\n",
       "      <td>1000</td>\n",
       "      <td>100.00</td>\n",
       "      <td>126.89</td>\n",
       "      <td>5.785</td>\n",
       "      <td>211.8</td>\n",
       "      <td>1.0</td>\n",
       "      <td>0</td>\n",
       "      <td>0</td>\n",
       "      <td>0</td>\n",
       "      <td>0</td>\n",
       "    </tr>\n",
       "    <tr>\n",
       "      <th>175073</th>\n",
       "      <td>2018</td>\n",
       "      <td>12</td>\n",
       "      <td>27</td>\n",
       "      <td>8</td>\n",
       "      <td>30</td>\n",
       "      <td>6</td>\n",
       "      <td>8.1</td>\n",
       "      <td>8.8</td>\n",
       "      <td>1014</td>\n",
       "      <td>95.47</td>\n",
       "      <td>140.85</td>\n",
       "      <td>2.400</td>\n",
       "      <td>82.0</td>\n",
       "      <td>4.1</td>\n",
       "      <td>0</td>\n",
       "      <td>0</td>\n",
       "      <td>0</td>\n",
       "      <td>0</td>\n",
       "    </tr>\n",
       "    <tr>\n",
       "      <th>169212</th>\n",
       "      <td>2018</td>\n",
       "      <td>8</td>\n",
       "      <td>27</td>\n",
       "      <td>6</td>\n",
       "      <td>0</td>\n",
       "      <td>0</td>\n",
       "      <td>23.1</td>\n",
       "      <td>23.6</td>\n",
       "      <td>1009</td>\n",
       "      <td>97.28</td>\n",
       "      <td>137.72</td>\n",
       "      <td>4.200</td>\n",
       "      <td>136.0</td>\n",
       "      <td>1.4</td>\n",
       "      <td>0</td>\n",
       "      <td>0</td>\n",
       "      <td>0</td>\n",
       "      <td>0</td>\n",
       "    </tr>\n",
       "    <tr>\n",
       "      <th>68924</th>\n",
       "      <td>2012</td>\n",
       "      <td>12</td>\n",
       "      <td>6</td>\n",
       "      <td>22</td>\n",
       "      <td>0</td>\n",
       "      <td>1</td>\n",
       "      <td>13.0</td>\n",
       "      <td>16.0</td>\n",
       "      <td>1000</td>\n",
       "      <td>87.26</td>\n",
       "      <td>84.99</td>\n",
       "      <td>2.756</td>\n",
       "      <td>69.3</td>\n",
       "      <td>2.4</td>\n",
>>>>>>> 35ec56da5086c7a5497daa4c04fa07a730a51ebf
       "      <td>0</td>\n",
<<<<<<< HEAD
       "      <td>32</td>\n",
       "      <td>228</td>\n",
       "      <td>52</td>\n",
=======
       "      <td>0</td>\n",
       "      <td>0</td>\n",
       "      <td>0</td>\n",
       "    </tr>\n",
       "    <tr>\n",
<<<<<<< HEAD
       "      <th>150559</th>\n",
       "      <td>2017</td>\n",
       "      <td>8</td>\n",
       "      <td>3</td>\n",
       "      <td>15</td>\n",
       "      <td>30</td>\n",
       "      <td>4</td>\n",
       "      <td>23.0</td>\n",
       "      <td>26.0</td>\n",
       "      <td>1010</td>\n",
       "      <td>84.18</td>\n",
       "      <td>33.06</td>\n",
       "      <td>5.148</td>\n",
       "      <td>55.4</td>\n",
       "      <td>2.0</td>\n",
       "      <td>0</td>\n",
       "      <td>201</td>\n",
       "      <td>696</td>\n",
       "      <td>784</td>\n",
=======
       "      <th>16104</th>\n",
       "      <td>2009</td>\n",
       "      <td>12</td>\n",
       "      <td>2</td>\n",
       "      <td>12</td>\n",
       "      <td>0</td>\n",
       "      <td>6</td>\n",
       "      <td>15.0</td>\n",
       "      <td>15.0</td>\n",
       "      <td>990</td>\n",
       "      <td>100.00</td>\n",
       "      <td>94.46</td>\n",
       "      <td>3.911</td>\n",
       "      <td>158.4</td>\n",
       "      <td>3.5</td>\n",
       "      <td>0</td>\n",
       "      <td>0</td>\n",
       "      <td>0</td>\n",
       "      <td>0</td>\n",
>>>>>>> 35ec56da5086c7a5497daa4c04fa07a730a51ebf
>>>>>>> 68a3f82277cf38fc0e73cd718c7aa741e6bec697
       "    </tr>\n",
       "  </tbody>\n",
       "</table>\n",
       "</div>"
      ],
      "text/plain": [
       "        Year  Month  Day  Hour  Minute  Cloud Type  Dew Point  Temperature  \\\n",
<<<<<<< HEAD
       "130657  2016      6   15     0      30           3       23.0         26.0   \n",
       "151071  2017      8   14     7      30           8       24.0         24.0   \n",
       "175073  2018     12   27     8      30           6        8.1          8.8   \n",
       "169212  2018      8   27     6       0           0       23.1         23.6   \n",
       "68924   2012     12    6    22       0           1       13.0         16.0   \n",
=======
<<<<<<< HEAD
       "153732  2017     10    8    18       0           8       24.0         28.0   \n",
       "21604   2010      3   27     2       0           0        8.0          9.0   \n",
       "114048  2015      7    5     0       0           8       22.0         25.0   \n",
       "86127   2013     11   30     7      30           0       -2.0          2.0   \n",
       "150559  2017      8    3    15      30           4       23.0         26.0   \n",
       "\n",
       "        Pressure  Relative Humidity  Solar Zenith Angle  Precipitable Water  \\\n",
       "153732      1000              83.72               39.02               6.079   \n",
       "21604       1000              95.40              117.44               0.976   \n",
       "114048      1000              86.96               82.17               4.581   \n",
       "86127       1020              76.18              150.25               1.141   \n",
       "150559      1010              84.18               33.06               5.148   \n",
       "\n",
       "        Wind Direction  Wind Speed  Fill Flag  Clearsky DHI  Clearsky DNI  \\\n",
       "153732           175.3         5.5          0           106           852   \n",
       "21604            351.4         1.6          0             0             0   \n",
       "114048           215.5         1.1          4            51           168   \n",
       "86127             57.1         2.6          0             0             0   \n",
       "150559            55.4         2.0          0           201           696   \n",
       "\n",
       "        Clearsky GHI  \n",
       "153732           768  \n",
       "21604              0  \n",
       "114048            74  \n",
       "86127              0  \n",
       "150559           784  "
=======
       "102590  2014     11    8     7       0           7        2.0          5.0   \n",
       "6550    2009      5   17    11       0           4       19.0         19.0   \n",
       "170692  2018      9   27     2       0           7       22.8         25.5   \n",
       "85537   2013     11   18     0      30           0       20.0         20.0   \n",
       "16104   2009     12    2    12       0           6       15.0         15.0   \n",
>>>>>>> 68a3f82277cf38fc0e73cd718c7aa741e6bec697
       "\n",
       "        Pressure  Relative Humidity  Solar Zenith Angle  Precipitable Water  \\\n",
       "130657      1000              86.41               88.47               5.247   \n",
       "151071      1000             100.00              126.89               5.785   \n",
       "175073      1014              95.47              140.85               2.400   \n",
       "169212      1009              97.28              137.72               4.200   \n",
       "68924       1000              87.26               84.99               2.756   \n",
       "\n",
       "        Wind Direction  Wind Speed  Fill Flag  Clearsky DHI  Clearsky DNI  \\\n",
       "130657           224.8         1.4          4            10            44   \n",
       "151071           211.8         1.0          0             0             0   \n",
       "175073            82.0         4.1          0             0             0   \n",
       "169212           136.0         1.4          0             0             0   \n",
       "68924             69.3         2.4          0            32           228   \n",
       "\n",
       "        Clearsky GHI  \n",
<<<<<<< HEAD
       "130657            11  \n",
       "151071             0  \n",
       "175073             0  \n",
       "169212             0  \n",
       "68924             52  "
=======
       "102590             0  \n",
       "6550              30  \n",
       "170692             0  \n",
       "85537              0  \n",
       "16104              0  "
>>>>>>> 35ec56da5086c7a5497daa4c04fa07a730a51ebf
>>>>>>> 68a3f82277cf38fc0e73cd718c7aa741e6bec697
      ]
     },
     "execution_count": 5,
     "metadata": {},
     "output_type": "execute_result"
    }
   ],
   "source": [
    "data = data[['Year', 'Month', 'Day', 'Hour', 'Minute', 'Cloud Type',\n",
    "       'Dew Point', 'Temperature', 'Pressure', 'Relative Humidity',\n",
    "       'Solar Zenith Angle', 'Precipitable Water', 'Wind Direction',\n",
    "       'Wind Speed', 'Fill Flag', 'Clearsky DHI', 'Clearsky DNI',\n",
    "       'Clearsky GHI']]\n",
    "\n",
    "data.sample(5)"
   ]
  },
  {
   "cell_type": "code",
   "execution_count": 6,
   "id": "dce50318",
   "metadata": {},
   "outputs": [
    {
     "data": {
      "text/plain": [
<<<<<<< HEAD
       "<matplotlib.axes._subplots.AxesSubplot at 0x2413771b808>"
=======
<<<<<<< HEAD
       "<AxesSubplot:>"
=======
       "<matplotlib.axes._subplots.AxesSubplot at 0x16b578d0308>"
>>>>>>> 35ec56da5086c7a5497daa4c04fa07a730a51ebf
>>>>>>> 68a3f82277cf38fc0e73cd718c7aa741e6bec697
      ]
     },
     "execution_count": 6,
     "metadata": {},
     "output_type": "execute_result"
    },
    {
     "data": {
<<<<<<< HEAD
      "image/png": "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\n",
=======
      "image/png": "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\n",
>>>>>>> 35ec56da5086c7a5497daa4c04fa07a730a51ebf
      "text/plain": [
       "<Figure size 640x480 with 1 Axes>"
      ]
     },
     "metadata": {},
     "output_type": "display_data"
    }
   ],
   "source": [
    "data.boxplot(column=['Dew Point', 'Temperature', 'Precipitable Water',\n",
    "       'Wind Speed'], \n",
    "                  by=None, \n",
    "                  ax=None, \n",
    "                  fontsize=None, \n",
    "                  rot=0, \n",
    "                  grid=True, \n",
    "                  figsize=None, \n",
    "                  layout=None, \n",
    "                  return_type=None, \n",
    "                  backend=None)\n"
   ]
  },
  {
   "cell_type": "code",
   "execution_count": 7,
   "id": "f57ec85f",
   "metadata": {},
   "outputs": [
    {
     "data": {
      "text/plain": [
<<<<<<< HEAD
       "<matplotlib.axes._subplots.AxesSubplot at 0x2413e1d9e08>"
=======
<<<<<<< HEAD
       "<AxesSubplot:>"
=======
       "<matplotlib.axes._subplots.AxesSubplot at 0x16b565186c8>"
>>>>>>> 35ec56da5086c7a5497daa4c04fa07a730a51ebf
>>>>>>> 68a3f82277cf38fc0e73cd718c7aa741e6bec697
      ]
     },
     "execution_count": 7,
     "metadata": {},
     "output_type": "execute_result"
    },
    {
     "data": {
<<<<<<< HEAD
      "image/png": "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\n",
=======
      "image/png": "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\n",
>>>>>>> 35ec56da5086c7a5497daa4c04fa07a730a51ebf
      "text/plain": [
       "<Figure size 640x480 with 1 Axes>"
      ]
     },
     "metadata": {},
     "output_type": "display_data"
    }
   ],
   "source": [
    "data.boxplot(column=['Pressure'], \n",
    "                  by=None, \n",
    "                  ax=None, \n",
    "                  fontsize=None, \n",
    "                  rot=0, \n",
    "                  grid=True, \n",
    "                  figsize=None, \n",
    "                  layout=None, \n",
    "                  return_type=None, \n",
    "                  backend=None)"
   ]
  },
  {
   "cell_type": "code",
   "execution_count": 8,
   "id": "be7566fd",
   "metadata": {},
   "outputs": [
    {
     "data": {
      "text/plain": [
<<<<<<< HEAD
       "<matplotlib.axes._subplots.AxesSubplot at 0x2413e3fb408>"
=======
<<<<<<< HEAD
       "<AxesSubplot:>"
=======
       "<matplotlib.axes._subplots.AxesSubplot at 0x16b5dc11888>"
>>>>>>> 35ec56da5086c7a5497daa4c04fa07a730a51ebf
>>>>>>> 68a3f82277cf38fc0e73cd718c7aa741e6bec697
      ]
     },
     "execution_count": 8,
     "metadata": {},
     "output_type": "execute_result"
    },
    {
     "data": {
<<<<<<< HEAD
      "image/png": "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\n",
=======
      "image/png": "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\n",
>>>>>>> 35ec56da5086c7a5497daa4c04fa07a730a51ebf
      "text/plain": [
       "<Figure size 640x480 with 1 Axes>"
      ]
     },
     "metadata": {},
     "output_type": "display_data"
    }
   ],
   "source": [
    "data.boxplot(column=['Clearsky DHI', 'Clearsky DNI',\n",
    "       'Clearsky GHI'], \n",
    "                  by=None, \n",
    "                  ax=None, \n",
    "                  fontsize=None, \n",
    "                  rot=0, \n",
    "                  grid=True, \n",
    "                  figsize=None, \n",
    "                  layout=None, \n",
    "                  return_type=None, \n",
    "                  backend=None)"
   ]
  },
  {
   "cell_type": "code",
   "execution_count": 9,
   "id": "8886a0dd",
   "metadata": {},
   "outputs": [
    {
     "data": {
      "text/plain": [
<<<<<<< HEAD
       "<matplotlib.axes._subplots.AxesSubplot at 0x2413e5895c8>"
=======
<<<<<<< HEAD
       "<AxesSubplot:>"
=======
       "<matplotlib.axes._subplots.AxesSubplot at 0x16b5da98688>"
>>>>>>> 35ec56da5086c7a5497daa4c04fa07a730a51ebf
>>>>>>> 68a3f82277cf38fc0e73cd718c7aa741e6bec697
      ]
     },
     "execution_count": 9,
     "metadata": {},
     "output_type": "execute_result"
    },
    {
     "data": {
<<<<<<< HEAD
      "image/png": "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\n",
=======
      "image/png": "iVBORw0KGgoAAAANSUhEUgAAAigAAAGdCAYAAAA44ojeAAAABHNCSVQICAgIfAhkiAAAAAlwSFlzAAAPYQAAD2EBqD+naQAAADh0RVh0U29mdHdhcmUAbWF0cGxvdGxpYiB2ZXJzaW9uMy4yLjIsIGh0dHA6Ly9tYXRwbG90bGliLm9yZy+WH4yJAAAgAElEQVR4nO3de1xUdeL/8ffI4HDHC3JLJPOaYealFNYEVDBby7JNN8t009ayLFddy/y6YRctv6WWll3W9da6drWtrRTcFRPJUloLTU0NbwnRBUUujgOe3x9+mZ8jYAwycsDX8/GYB5xzPufz+Zwznznz5pwzg8UwDEMAAAAm0qS+OwAAAHAuAgoAADAdAgoAADAdAgoAADAdAgoAADAdAgoAADAdAgoAADAdAgoAADAda313oDZOnz6to0ePKjAwUBaLpb67AwAAasAwDJ04cUKRkZFq0uT850gaZEA5evSooqKi6rsbAACgFg4fPqzWrVuft0yDDCiBgYGSzmxgUFBQPfemYXM4HEpNTVVycrK8vb3ruzsAYxKmxLisG4WFhYqKinK+j59PgwwoFZd1goKCCCgXyOFwyM/PT0FBQbzoYAqMSZgR47Ju1eT2DG6SBQAApkNAAQAApkNAAQAApkNAAQAApkNAAQAApkNAAQAApkNAAQAApkNAAQAApkNAAQAApkNAAQAApkNAAQAApkNAAQAAptMg/1kgAAC1VVJSot27d7u1TlGpXZnZ+9U8ZJsCfG01Xq9z587y8/Nzt4sQAQUAcInZvXu3evbsWat157pZPisrSz169KhVW5c6AgoA4JLSuXNnZWVlubXOntxjmvx2tubd3lWdIpq51RZqh4ACALik+Pn5uX1Wo8nBn2XbVKorY7rpmuiWHuoZzsZNsgAAwHQIKAAAwHQIKAAAwHTcCiiLFy/W1VdfraCgIAUFBSk2NlaffPKJc/mYMWNksVhcHn369HGpw263a+LEiQoJCZG/v79uvvlmHTlypG62BgAANApuBZTWrVvrmWee0bZt27Rt2zb1799fQ4cO1c6dO51lbrjhBuXm5jofH3/8sUsdkyZN0po1a7R69WplZGSoqKhIQ4YMUXl5ed1sEQAAaPDc+hTPTTfd5DL99NNPa/HixdqyZYuuuuoqSZLNZlN4eHiV6x8/flxLlizRypUrNXDgQEnSG2+8oaioKK1fv16DBg2qzTYAAIBGptYfMy4vL9fbb7+t4uJixcbGOuenp6crNDRUzZo1U3x8vJ5++mmFhoZKOvOFNQ6HQ8nJyc7ykZGRiomJUWZmZrUBxW63y263O6cLCwslSQ6HQw6Ho7abAMm5/9iPMAvGJMyorKzM+ZOxWXvu7Du3A0p2drZiY2N18uRJBQQEaM2aNerSpYskafDgwbr99tsVHR2tnJwczZw5U/3791dWVpZsNpvy8vLUtGlTNW/e3KXOsLAw5eXlVdvmnDlzNGvWrErzU1NT+QrhOpKWllbfXQBcMCZhJoeLJMmqLVu26Psd9d2bhqukpKTGZd0OKJ06ddL27dt17Ngxvfvuuxo9erQ2btyoLl26aMSIEc5yMTEx6tWrl6Kjo/XRRx9p2LBh1dZpGIYsFku1y6dPn67Jkyc7pwsLCxUVFaXk5GQFBQW5uwk4i8PhUFpampKSkuTt7V3f3QEYkzClrw79ImVvU58+fdStTYv67k6DVXEFpCbcDihNmzZV+/btJUm9evXS1q1b9cILL+jVV1+tVDYiIkLR0dHau3evJCk8PFynTp1SQUGBy1mU/Px8xcXFVdumzWaTzVb5nzN5e3tzAKsj7EuYDWMSZmK1Wp0/GZe1586+u+DvQTEMw+X+kLP9/PPPOnz4sCIiIiRJPXv2lLe3t8up29zcXO3YseO8AQUAAFxa3DqD8thjj2nw4MGKiorSiRMntHr1aqWnp2vt2rUqKipSSkqKbrvtNkVEROjAgQN67LHHFBISoltvvVWSFBwcrLFjx2rKlClq2bKlWrRooalTp6pr167OT/UAAAC4FVB++OEHjRo1Srm5uQoODtbVV1+ttWvXKikpSaWlpcrOztaKFSt07NgxRUREKDExUW+++aYCAwOddcyfP19Wq1XDhw9XaWmpBgwYoGXLlsnLy6vONw4AADRMbgWUJUuWVLvM19dX69at+9U6fHx8tHDhQi1cuNCdpgEAwCWE/8UDAABMh4ACAABMh4ACAABMh4ACAABMh4ACAABMh4ACAABMh4ACAABMh4ACAABMh4ACAABMh4ACAABMh4ACAABMh4ACAABMh4ACAABMh4ACAABMh4ACAABMh4ACAABMh4ACAABMh4ACAABMh4ACAABMh4ACAABMh4ACAABMh4ACAABMh4ACAABMh4ACAABMh4ACAABMh4ACAABMh4ACAABMh4ACAABMh4ACAABMh4ACAABMh4ACAABMh4ACAABMh4ACAABMh4ACAABMh4ACAABMx62AsnjxYl199dUKCgpSUFCQYmNj9cknnziXG4ahlJQURUZGytfXVwkJCdq5c6dLHXa7XRMnTlRISIj8/f11880368iRI3WzNQAAoFFwK6C0bt1azzzzjLZt26Zt27apf//+Gjp0qDOEzJ07V/PmzdOiRYu0detWhYeHKykpSSdOnHDWMWnSJK1Zs0arV69WRkaGioqKNGTIEJWXl9ftlgEAgAbLrYBy00036cYbb1THjh3VsWNHPf300woICNCWLVtkGIYWLFigGTNmaNiwYYqJidHy5ctVUlKiVatWSZKOHz+uJUuW6Pnnn9fAgQPVvXt3vfHGG8rOztb69es9soEAAKDhsdZ2xfLycr399tsqLi5WbGyscnJylJeXp+TkZGcZm82m+Ph4ZWZmavz48crKypLD4XApExkZqZiYGGVmZmrQoEFVtmW322W3253ThYWFkiSHwyGHw1HbTYDk3H/sR5gFYxJmVFZW5vzJ2Kw9d/ad2wElOztbsbGxOnnypAICArRmzRp16dJFmZmZkqSwsDCX8mFhYTp48KAkKS8vT02bNlXz5s0rlcnLy6u2zTlz5mjWrFmV5qempsrPz8/dTUAV0tLS6rsLgAvGJMzkcJEkWbVlyxZ9v6O+e9NwlZSU1Lis2wGlU6dO2r59u44dO6Z3331Xo0eP1saNG53LLRaLS3nDMCrNO9evlZk+fbomT57snC4sLFRUVJSSk5MVFBTk7ibgLA6HQ2lpaUpKSpK3t3d9dwdgTMKUvjr0i5S9TX369FG3Ni3quzsNVsUVkJpwO6A0bdpU7du3lyT16tVLW7du1QsvvKBHHnlE0pmzJBEREc7y+fn5zrMq4eHhOnXqlAoKClzOouTn5ysuLq7aNm02m2w2W6X53t7eHMDqCPsSZsOYhJlYrVbnT8Zl7bmz7y74e1AMw5Ddblfbtm0VHh7uclr21KlT2rhxozN89OzZU97e3i5lcnNztWPHjvMGFAAAcGlx6wzKY489psGDBysqKkonTpzQ6tWrlZ6errVr18pisWjSpEmaPXu2OnTooA4dOmj27Nny8/PTyJEjJUnBwcEaO3aspkyZopYtW6pFixaaOnWqunbtqoEDB3pkAwEAQMPjVkD54YcfNGrUKOXm5io4OFhXX3211q5dq6SkJEnStGnTVFpaqgkTJqigoEC9e/dWamqqAgMDnXXMnz9fVqtVw4cPV2lpqQYMGKBly5bJy8urbrcMAAA0WG4FlCVLlpx3ucViUUpKilJSUqot4+Pjo4ULF2rhwoXuNA0AAC4h/C8eAABgOgQUAABgOgQUAABgOgQUAABgOgQUAABgOgQUAABgOgQUAABgOgQUAABgOgQUAABgOgQUAABgOgQUAABgOgQUAABgOgQUAABgOgQUAABgOgQUAABgOgQUAABgOgQUAABgOgQUAABgOgQUAABgOtb67gAAABcq56diFdvLPFb//h+LnT+tVs+8dfrbrGob4u+RuhsiAgoAoEHL+alYic+lX5S2pryT7dH6N0xNIKT8HwIKAKBBqzhzsmDENWofGuCZNkrt+lf6ZxqSECt/X1ud178vv0iT3tzu0bNADQ0BBQDQKLQPDVDMZcEeqdvhcCivldQjurm8vb090gZccZMsAAAwHQIKAAAwHQIKAAAwHQIKAAAwHQIKAAAwHQIKAAAwHQIKAAAwHQIKAAAwHQIKAAAwHQIKAAAwHQIKAAAwHQIKAAAwHQIKAAAwHbcCypw5c3TttdcqMDBQoaGhuuWWW7Rnzx6XMmPGjJHFYnF59OnTx6WM3W7XxIkTFRISIn9/f9188806cuTIhW8NAABoFNwKKBs3btQDDzygLVu2KC0tTWVlZUpOTlZxcbFLuRtuuEG5ubnOx8cff+yyfNKkSVqzZo1Wr16tjIwMFRUVaciQISovL7/wLQIAAA2e1Z3Ca9eudZleunSpQkNDlZWVpX79+jnn22w2hYeHV1nH8ePHtWTJEq1cuVIDBw6UJL3xxhuKiorS+vXrNWjQIHe3AQAANDJuBZRzHT9+XJLUokULl/np6ekKDQ1Vs2bNFB8fr6efflqhoaGSpKysLDkcDiUnJzvLR0ZGKiYmRpmZmVUGFLvdLrvd7pwuLCyUJDkcDjkcjgvZhEtexf5jP8IsGJNwV1lZmfOnp8aNp8flxdgGM3Bn22odUAzD0OTJk9W3b1/FxMQ45w8ePFi33367oqOjlZOTo5kzZ6p///7KysqSzWZTXl6emjZtqubNm7vUFxYWpry8vCrbmjNnjmbNmlVpfmpqqvz8/Gq7CThLWlpafXcBcMGYRE0dLpIkqzIyMnQwwLNteWpcXsxtqE8lJSU1LlvrgPLggw/q66+/VkZGhsv8ESNGOH+PiYlRr169FB0drY8++kjDhg2rtj7DMGSxWKpcNn36dE2ePNk5XVhYqKioKCUnJysoKKi2mwCdSbNpaWlKSkqSt7d3fXcHYEzCbTuPFuq57C3q27evror0zHuCp8flxdgGM6i4AlITtQooEydO1AcffKBPP/1UrVu3Pm/ZiIgIRUdHa+/evZKk8PBwnTp1SgUFBS5nUfLz8xUXF1dlHTabTTabrdJ8b29vDmB1hH0Js2FMoqasVqvzp6fHjKfG5cXchvrkzra59SkewzD04IMP6r333tN//vMftW3b9lfX+fnnn3X48GFFRERIknr27Clvb2+X02S5ubnasWNHtQEFAABcWtw6g/LAAw9o1apV+uc//6nAwEDnPSPBwcHy9fVVUVGRUlJSdNtttykiIkIHDhzQY489ppCQEN16663OsmPHjtWUKVPUsmVLtWjRQlOnTlXXrl2dn+oBAACXNrcCyuLFiyVJCQkJLvOXLl2qMWPGyMvLS9nZ2VqxYoWOHTumiIgIJSYm6s0331RgYKCz/Pz582W1WjV8+HCVlpZqwIABWrZsmby8vC58iwAAQIPnVkAxDOO8y319fbVu3bpfrcfHx0cLFy7UwoUL3WkeAABcIvhfPAAAwHQIKAAAwHQIKAAAwHQIKAAAwHQIKAAAwHQIKAAAwHQIKAAAwHQIKAAAwHQIKAAAwHQIKAAAwHQIKAAAwHQIKAAAwHQIKAAAwHQIKAAAwHQIKAAAwHQIKAAAwHQIKAAAwHQIKAAAwHQIKAAAwHQIKAAAwHQIKAAAwHQIKAAAwHQIKAAAwHQIKAAAwHQIKAAAwHQIKAAAwHQIKAAAwHQIKAAAwHQIKAAAwHQIKAAAwHQIKAAAwHQIKAAAwHQIKAAAwHQIKAAAwHQIKAAAwHQIKAAAwHTcCihz5szRtddeq8DAQIWGhuqWW27Rnj17XMoYhqGUlBRFRkbK19dXCQkJ2rlzp0sZu92uiRMnKiQkRP7+/rr55pt15MiRC98aAADQKLgVUDZu3KgHHnhAW7ZsUVpamsrKypScnKzi4mJnmblz52revHlatGiRtm7dqvDwcCUlJenEiRPOMpMmTdKaNWu0evVqZWRkqKioSEOGDFF5eXndbRkAAGiwrO4UXrt2rcv00qVLFRoaqqysLPXr10+GYWjBggWaMWOGhg0bJklavny5wsLCtGrVKo0fP17Hjx/XkiVLtHLlSg0cOFCS9MYbbygqKkrr16/XoEGD6mjTAABAQ+VWQDnX8ePHJUktWrSQJOXk5CgvL0/JycnOMjabTfHx8crMzNT48eOVlZUlh8PhUiYyMlIxMTHKzMysMqDY7XbZ7XbndGFhoSTJ4XDI4XBcyCZc8ir2H/sRZsGYhLuK7UVq4vO99hV8o9NWf4+0UVZWpqNlR5Wdny2r9YLeOqv0XUGxmvh8r2J7kRwOvzqv3yzceV3Xei8bhqHJkyerb9++iomJkSTl5eVJksLCwlzKhoWF6eDBg84yTZs2VfPmzSuVqVj/XHPmzNGsWbMqzU9NTZWfX+N9Ii+mtLS0+u4C4IIxiZr68sRR+bd9WTOzPN/Wy+tf9ljd/m2ljzPLlRcY6bE26ltJSUmNy9Y6oDz44IP6+uuvlZGRUWmZxWJxmTYMo9K8c52vzPTp0zV58mTndGFhoaKiopScnKygoKBa9B4VHA6H0tLSlJSUJG9v7/ruDsCYhNvCD+dr5QovzftdV13RynNnUD7f8rl69+ntmTMoPxZr8jvZuvHu36pHVGid128WFVdAaqJWe3nixIn64IMP9Omnn6p169bO+eHh4ZLOnCWJiIhwzs/Pz3eeVQkPD9epU6dUUFDgchYlPz9fcXFxVbZns9lks9kqzff29uYAVkfYlzAbxiRqyt8WoNMnL1P75l0UExbskTYcDocOWw+ra2hXj4zLJmXHdfrkL/K3BTTqce/Otrn1KR7DMPTggw/qvffe03/+8x+1bdvWZXnbtm0VHh7ucmr21KlT2rhxozN89OzZU97e3i5lcnNztWPHjmoDCgAAuLS4dQblgQce0KpVq/TPf/5TgYGBzntGgoOD5evrK4vFokmTJmn27Nnq0KGDOnTooNmzZ8vPz08jR450lh07dqymTJmili1bqkWLFpo6daq6du3q/FQPAAC4tLkVUBYvXixJSkhIcJm/dOlSjRkzRpI0bdo0lZaWasKECSooKFDv3r2VmpqqwMBAZ/n58+fLarVq+PDhKi0t1YABA7Rs2TJ5eXld2NYAAIBGwa2AYhjGr5axWCxKSUlRSkpKtWV8fHy0cOFCLVy40J3mAQDAJYL/xQMAAEyHgAIAAEyHgAIAAEyHgAIAAEyHgAIAAEyHgAIAAEyHgAIAAEyHgAIAAEyHgAIAAEyHgAIAAEyHgAIAAEyHgAIAAEyHgAIAAEyHgAIAAEyHgAIAAEyHgAIAAEyHgAIAAEyHgAIAAEzHWt8dANC4lZSUaPfu3TUuX1RqV2b2fjUP2aYAX5tbbXXu3Fl+fn7udhGACRFQAHjU7t271bNnT7fXm1uLtrKystSjR49arAnAbAgoADyqc+fOysrKqnH5PbnHNPntbM27vas6RTRzuy0AjQMBBYBH+fn5uXVWo8nBn2XbVKorY7rpmuiWHuwZADPjJlkAAGA6BBQAAGA6BBQAAGA6BBQAAGA6BBQAAGA6BBQAAGA6BBQAAGA6BBQAAGA6BBQAAGA6BBQAAGA6BBQAAGA6BBQAAGA6BBQAAGA6bgeUTz/9VDfddJMiIyNlsVj0/vvvuywfM2aMLBaLy6NPnz4uZex2uyZOnKiQkBD5+/vr5ptv1pEjRy5sSwAAQKPhdkApLi5Wt27dtGjRomrL3HDDDcrNzXU+Pv74Y5flkyZN0po1a7R69WplZGSoqKhIQ4YMUXl5uftbAAAAGh2ruysMHjxYgwcPPm8Zm82m8PDwKpcdP35cS5Ys0cqVKzVw4EBJ0htvvKGoqCitX79egwYNcrdLAACgkXE7oNREenq6QkND1axZM8XHx+vpp59WaGioJCkrK0sOh0PJycnO8pGRkYqJiVFmZmaVAcVut8tutzunCwsLJUkOh0MOh8MTm3DJqNh/7EeYRVlZmfMn4xI1cTHGjKePlZfKuHdn2+o8oAwePFi33367oqOjlZOTo5kzZ6p///7KysqSzWZTXl6emjZtqubNm7usFxYWpry8vCrrnDNnjmbNmlVpfmpqqvz8/Op6Ey5JaWlp9d0FQJJ0uEiSrNqyZYu+31HfvUFDUDFmMjIydDDAs2156lh5MbehPpWUlNS4bJ0HlBEjRjh/j4mJUa9evRQdHa2PPvpIw4YNq3Y9wzBksViqXDZ9+nRNnjzZOV1YWKioqCglJycrKCio7jp/CXI4HEpLS1NSUpK8vb3ruzuAvjr0i5S9TX369FG3Ni3quztoAHYeLdRz2VvUt29fXRXpmfcETx8rL8Y2mEHFFZCa8MglnrNFREQoOjpae/fulSSFh4fr1KlTKigocDmLkp+fr7i4uCrrsNlsstlsleZ7e3vzplpH2JcwC6vV6vzJmERNXMwx46lj5aUy7t3ZNo9/D8rPP/+sw4cPKyIiQpLUs2dPeXt7u5wmy83N1Y4dO6oNKAAA4NLi9hmUoqIi7du3zzmdk5Oj7du3q0WLFmrRooVSUlJ02223KSIiQgcOHNBjjz2mkJAQ3XrrrZKk4OBgjR07VlOmTFHLli3VokULTZ06VV27dnV+qgcAAFza3A4o27ZtU2JionO64t6Q0aNHa/HixcrOztaKFSt07NgxRUREKDExUW+++aYCAwOd68yfP19Wq1XDhw9XaWmpBgwYoGXLlsnLy6sONgkAADR0bgeUhIQEGYZR7fJ169b9ah0+Pj5auHChFi5c6G7zAADgEsD/4gEAAKZDQAEAAKZDQAEAAKZDQAEAAKZDQAEAAKZDQAEAAKZDQAEAAKZDQAEAAKZDQAEAAKZDQAEAAKZDQAEAAKZDQAEAAKZDQAEAAKZDQAEAAKZDQAEAAKZDQAEAAKZDQAEAAKZDQAEAAKZjre8OAGh4cn4qVrG9zCN17/+x2PnTavXcIcrfZlXbEH+P1Q/gwhBQALgl56diJT6X7vF2pryT7fE2NkxNIKQAJkVAAeCWijMnC0Zco/ahAXVff6ld/0r/TEMSYuXva6vz+iVpX36RJr253WNngQBcOAIKgFppHxqgmMuC67xeh8OhvFZSj+jm8vb2rvP6ATQM3CQLAABMh4ACAABMh4ACAABMh4ACAABMh4ACAABMh4ACAABMh4ACAABMh4ACAABMh4ACAABMh4ACAABMh4ACAABMh4ACAABMh4ACAABMh4ACAABMx+2A8umnn+qmm25SZGSkLBaL3n//fZflhmEoJSVFkZGR8vX1VUJCgnbu3OlSxm63a+LEiQoJCZG/v79uvvlmHTly5MK2BAAANBpuB5Ti4mJ169ZNixYtqnL53LlzNW/ePC1atEhbt25VeHi4kpKSdOLECWeZSZMmac2aNVq9erUyMjJUVFSkIUOGqLy8vPZbAgAAGg2ruysMHjxYgwcPrnKZYRhasGCBZsyYoWHDhkmSli9frrCwMK1atUrjx4/X8ePHtWTJEq1cuVIDBw6UJL3xxhuKiorS+vXrNWjQoAvYHAAA0Bi4HVDOJycnR3l5eUpOTnbOs9lsio+PV2ZmpsaPH6+srCw5HA6XMpGRkYqJiVFmZmaVAcVut8tutzunCwsLJUkOh0MOh6MuN6HBKykp0Z49e2pcvqjUrszs/QpstkUBvrYar9epUyf5+fnVpoto4MrKypw/PfH6q6jTk69tT28DLq6L8Xx6elxeKmPSnW2r04CSl5cnSQoLC3OZHxYWpoMHDzrLNG3aVM2bN69UpmL9c82ZM0ezZs2qND81NZU3yXPs379fU6ZMcXu9uW6Wf/7559WuXTu320HDd7hIkqzKyMjQwQDPtZOWluaxui/WNuDiuJjPp6fG5aUyJktKSmpctk4DSgWLxeIybRhGpXnnOl+Z6dOna/Lkyc7pwsJCRUVFKTk5WUFBQRfeYRM78HOxiu01vzcntFMPrep0TY3LH/ypSC9syNHDiW0VHVLzV8Xl7TrI17fm4dDf5qXLW/rXuDzMa+fRQj2XvUV9+/bVVZF1//pzOBxKS0tTUlKSvL2967x+yfPbgIvrYjyfnh6Xl8qYrLgCUhN1GlDCw8MlnTlLEhER4Zyfn5/vPKsSHh6uU6dOqaCgwOUsSn5+vuLi4qqs12azyWarfPnB29vbYwcwM8j5qVhJCzZ7uBUv2cLb65VdklRa89U2fe12SxumJqhtCCGlobNarc6fnnz9efL1fbG2AReHwzjzx+3uH4qdz21dKy61a9uPUvjRIvm7cTm8pg78clJS4x+T7mxbnT6Tbdu2VXh4uNLS0tS9e3dJ0qlTp7Rx40Y9++yzkqSePXvK29tbaWlpGj58uCQpNzdXO3bs0Ny57l5oaNyK7WeuSS4YcY3ah3rmnF9xqV3/Sv9MQxJiPfKik6R9+UWa9OZ25/YAQF3an18kSXr0vWwPt2TVyn1bPdqCv80zAashcntPFBUVad++fc7pnJwcbd++XS1atFCbNm00adIkzZ49Wx06dFCHDh00e/Zs+fn5aeTIkZKk4OBgjR07VlOmTFHLli3VokULTZ06VV27dnV+qgeu2ocGKOayYI/U7XA4lNdK6hHdvFGndgCNV/JVZ87etwsNkK+3l0fa2JN7XFPeydbzv+uqThGeOR7726ycZT6L2wFl27ZtSkxMdE5X3BsyevRoLVu2TNOmTVNpaakmTJiggoIC9e7dW6mpqQoMDHSuM3/+fFmtVg0fPlylpaUaMGCAli1bJi8vzwwsAEDj1cK/qX5/XRuPtlHxKZt2rfw99gcjXLkdUBISEmQYRrXLLRaLUlJSlJKSUm0ZHx8fLVy4UAsXLnS3eQAAcAngf/EAAADTIaAAAADT4XZhAG6xl59UE5/vlVO4R0186v7TZWVlZTpadlS7ftnlsY+M5hQWqYnP97KXn5TE/QSAGRFQALjlaPFB+bddqMe+8Gw7L6992aP1+7eVjhZfo54K+/XCAC46AgoAt0T6R6s4Z6JeGHGN2nng+3nKysq0OWOzftP3Nx47g7I/v0gPv7ldkYnRHqkfwIUjoABwi83LR6dPXqa2QZ3UpWXdXx5xOBzKseboyhZXeuy7eU6fPK7TJ3+UzcvHI/UDuHDcJAsAAEyHMygm5umbESVuSAWx0hcAAB7NSURBVAQAmBMBxcQu1s2IEjckAgDMhYBiYp6+GVHihkQAgDkRUEzM0zcjStyQCAAwJ26SBQAApkNAAQAApkNAAQAApkNAAQAApkNAAQAApkNAAQAApkNAAQAApkNAAQAApkNAAQAApkNAAQAApkNAAQAApkNAAQAApkNAAQAApsN/MzaxUke5JGnH98c91kZxqV3bfpTCDxbI39fmkTb25Rd5pF4AQONFQDGx/f/3xv7oe9kebsmqlfu2ergNyd/GcAMA1AzvGCaWfFW4JKldaIB8vb080sae3OOa8k62nv9dV3WKCPZIG9KZcNI2xN9j9QMAGhcCiom18G+q31/XxqNtlJWVSZLatfJXzGWeCygAALiDm2QBAIDpEFAAAIDpEFAAAIDpEFAAAIDpEFAAAIDp8CkeAG7x9BcI8uWBACQCCgA3XZwvEOTLA4FLHa9OAG7x9BcI8uWBACQPBJSUlBTNmjXLZV5YWJjy8vIkSYZhaNasWXrttddUUFCg3r1766WXXtJVV11V110B4AGe/gJBvjwQgOShm2Svuuoq5ebmOh/Z2f//VPDcuXM1b948LVq0SFu3blV4eLiSkpJ04sQJT3QFAAA0QB4JKFarVeHh4c5Hq1atJJ05e7JgwQLNmDFDw4YNU0xMjJYvX66SkhKtWrXKE10BAAANkEfuQdm7d68iIyNls9nUu3dvzZ49W1dccYVycnKUl5en5ORkZ1mbzab4+HhlZmZq/PjxVdZnt9tlt9ud04WFhZIkh8Mhh8PhiU24ZFScTi8rK2NfwhQYkzAjxmXdcGff1XlA6d27t1asWKGOHTvqhx9+0FNPPaW4uDjt3LnTeR9KWFiYyzphYWE6ePBgtXXOmTOn0n0tkpSamio/P7+63YBLzOEiSbJqy5Yt+n5HffcGYEzCnBiXdaOkpKTGZes8oAwePNj5e9euXRUbG6t27dpp+fLl6tOnjyTJYrG4rGMYRqV5Z5s+fbomT57snC4sLFRUVJSSk5MVFBRUx1twafnq0C9S9jb16dNH3dq0qO/uAIxJmBLjsm5UXAGpCY9/zNjf319du3bV3r17dcstt0iS8vLyFBER4SyTn59f6azK2Ww2m2y2yl/Y5O3tLW9v77rv9CXEarU6f7IvYQaMSZgR47JuuLPvPP5V93a7Xbt27VJERITatm2r8PBwpaWlOZefOnVKGzduVFxcnKe7AgAAGog6P4MydepU3XTTTWrTpo3y8/P11FNPqbCwUKNHj5bFYtGkSZM0e/ZsdejQQR06dNDs2bPl5+enkSNH1nVXAABAA1XnAeXIkSO644479NNPP6lVq1bq06ePtmzZoujoaEnStGnTVFpaqgkTJji/qC01NVWBgYF13RUAANBA1XlAWb169XmXWywWpaSkKCUlpa6bBgAAjYTH70EBAABwFwEFAACYDgEFAACYDgEFAACYDgEFAACYDgEFAACYDgEFAACYDgEFAACYDgEFAACYDgEFAACYDgEFAACYDgEFAACYDgEFAACYDgEFAACYDgEFAACYDgEFAACYDgEFAACYDgEFAACYDgEFAACYDgHlErZx40Z1vzxEB58dou6Xh2jjxo313SUAACRJ1vruAOqHxWKpNC8hIUGSZBjGRe4NAACuOINyCaoqnLizHAAATyOgXGJqehmHyz0AgPrEJZ5GpqSkRLt37652ecVlnF+TkJCgrKysapd37txZfn5+7nYPAIAaIaA0Mrt371bPnj3rpK7z1ZOVlaUePXrUSTsAAJyLgNLIdO7c+bxnPtwJL792BgUAAE8hoDQyfn5+dXZmgzMkAID6wk2yAADAdAgoAADAdAgoAADAdLgHBYBH/dpH38+1J/eY7Hn7tGuHr07/3Myttvj4O9B4EFAAeFRtP/o+crn7bfHxd6DxIKAA8Khf++j7uYpK7fpow2f6bWKsAnxtbrcFoHEgoFxi/P39VVxcXKNyQF1w96PvDodDBT/lK/a6XvL29vZgzwCYGTfJXmLc+ap7AADqS70GlJdffllt27aVj4+PevbsqU2bNtVndy4Jq1evrtNyAAB4Qr0FlDfffFOTJk3SjBkz9N///lfXX3+9Bg8erEOHDtVXly4JAQEBuvbaa89b5tprr1VAQMBF6hEAAJXVW0CZN2+exo4dq3HjxunKK6/UggULFBUVpcWLF9dXly4ZX3zxRbUh5dprr9UXX3xxkXsEAICrerlJ9tSpU8rKytKjjz7qMj85OVmZmZmVytvtdtntdud0YWGhpDM30zkcDs92tpHavHmzioqKdPfddys7O1tdu3bVihUrFBAQwD5FvaoYf4xDeEpJSYn27Nnj1jrf5h6XPW+fdmxvqlM/BNd4vU6dOvHdPGdx53VdLwHlp59+Unl5ucLCwlzmh4WFKS8vr1L5OXPmaNasWZXmp6am8sRfoHHjxjl///TTT+uxJ4CrtLS0+u4CGqn9+/drypQptVp3lJvfz/P888+rXbt2tWqrMSopKalx2Xr9mLHFYnGZNgyj0jxJmj59uiZPnuycLiwsVFRUlJKTkxUUFOTxfjZmDodDaWlpSkpK4iOdMAXGJDytpKREffv2dWudolK71m3aqkHXX+vW9/NwBsVVxRWQmqiXgBISEiIvL69KZ0vy8/MrnVWRJJvNJput8oDw9vbmAFZH2JcwG8YkPCU4OFjXXXedW+s4HA6dOPaLro/rw7i8AO7su3q5SbZp06bq2bNnpVO4aWlpiouLq48uAQAAE6m3SzyTJ0/WqFGj1KtXL8XGxuq1117ToUOHdN9999VXlwAAgEnUW0AZMWKEfv75Zz3xxBPKzc1VTEyMPv74Y0VHR9dXlwAAgEnU602yEyZM0IQJE+qzCwAAwIT4XzwAAMB0CCgAAMB0CCgAAMB0CCgAAMB0CCgAAMB0CCgAAMB0CCgAAMB0CCgAAMB0CCgAAMB06vWbZGvLMAxJ7v3bZlTN4XCopKREhYWF/IdOmAJjEmbEuKwbFe/bFe/j59MgA8qJEyckSVFRUfXcEwAA4K4TJ04oODj4vGUsRk1ijMmcPn1aR48eVWBgoCwWS313p0ErLCxUVFSUDh8+rKCgoPruDsCYhCkxLuuGYRg6ceKEIiMj1aTJ+e8yaZBnUJo0aaLWrVvXdzcalaCgIF50MBXGJMyIcXnhfu3MSQVukgUAAKZDQAEAAKbjlZKSklLfnUD98vLyUkJCgqzWBnnFD40QYxJmxLi8uBrkTbIAAKBx4xIPAAAwHQIKAAAwHQIKAAAwHQKKBxw4cEAWi0Xbt283RT1ml5KSomuuuea8ZcaMGaNbbrnFOZ2QkKBJkyZ5umsNXk32rdnV9HVg9jHRGJ6Liyk9PV0Wi0XHjh27oHrOPXaYpa6G1HZ9IaCcY8yYMbJYLLJYLLJarWrTpo3uv/9+FRQUeLzdcwdfVFSUcnNzFRMT49G2LRaL3n///Rr1yROmTp2qf//7326t89577+nJJ590Tl9++eVasGBBXXetXuXn52v8+PFq06aNbDabwsPDNWjQIH322Wf13TUtW7bM+Tqp6vGHP/yhzto693VQV29cZzty5IiaNm2qzp0711mdOOOVV15RYGCgysrKnPOKiork7e2t66+/3qXspk2bZLFY9O233youLk65ubk1/lKv2qoYTxaLRU2aNFFwcLC6d++uadOmKTc316XsCy+8oGXLlnm0P9UF8ovRttkQUKpwww03KDc3VwcOHNBf//pXffjhh5owYcJF74eXl5fCw8Mb/UfaAgIC1LJlS7fWadGihQIDAz3UI3O47bbb9NVXX2n58uX69ttv9cEHHyghIUG//PLLRe2Hw+GoNG/EiBHKzc2t9Jg5c6aaNm2qe++9t87avxivg2XLlmn48OEqKSnR5s2bPdbOpSgxMVFFRUXatm2bc96mTZsUHh6urVu3qqSkxDk/PT1dkZGR6tixo5o2barw8PCL9u9M9uzZo6NHj2rr1q165JFHtH79esXExCg7O9tZJjg4WM2aNau2jlOnTnmsf7/WdmNEQKlCxV+rrVu3VnJyskaMGKHU1FSXMkuXLtWVV14pHx8fde7cWS+//HK19ZWXl2vs2LFq27atfH191alTJ73wwgvO5SkpKVq+fLn++c9/OpN8enq6S5I+ffq0WrdurVdeecWl7i+//FIWi0XfffedJOn48eP64x//qNDQUAUFBal///766quv6mS/VHWW4pprrtHZX6VjsVj06quvasiQIfLz89OVV16pzz77TPv27VNCQoL8/f0VGxur/fv3u2z/2ae+y8vLNXnyZDVr1kwtW7bUtGnTKv3ny7NP5yckJOjgwYP605/+5Nx/xcXFCgoK0jvvvOOy3ocffih/f3/nP5w0q2PHjikjI0PPPvusEhMTFR0dreuuu07Tp0/Xb3/7W2e5Q4cOaejQoQoICFBQUJCGDx+uH374odp6t27dqqSkJIWEhCg4OFjx8fH68ssvXcpYLBa98sorGjp0qPz9/fXUU09VqsfX11fh4eEujz179mjOnDl66aWXFBcX5yybmZmpfv36ydfXV1FRUXrooYdUXFzsXH755Zdr9uzZuueeexQYGKg2bdrotddecy4/+3Vw4MABJSYmSpKaN28ui8WiMWPGOMuePn1a06ZNU4sWLRQeHq6afM2TYRhaunSpRo0apZEjR2rJkiUuyyvaf++995SYmCg/Pz9169at0pms119/XVFRUfLz89Ott96qefPm/eobijvHkYaqU6dOioyMVHp6unNeenq6hg4dqnbt2ikzM9NlfsXze+6ZsmXLlqlZs2Zat26drrzySgUEBDj/mKxQk2NHdUJDQxUeHq6OHTvq97//vTZv3qxWrVrp/vvvd5ap6lLzgw8+qMmTJyskJERJSUmSpG+++UY33nijAgICFBYWplGjRumnn35yrnf69Gk9++yzat++vWw2m9q0aaOnn35aktS2bVtJUvfu3WWxWJSQkFBl23a7XQ899JBCQ0Pl4+Ojvn37auvWrS770mKx6N///rd69eolPz8/xcXFac+ePTXaH2ZAQPkV3333ndauXevy77Vff/11zZgxQ08//bR27dql2bNna+bMmVq+fHmVdVSEi7feekvffPON/vKXv+ixxx7TW2+9JenMJY7hw4c7X2y5ubkuB3jpzP8f+v3vf6+///3vLvNXrVql2NhYXXHFFTIMQ7/97W+Vl5enjz/+WFlZWerRo4cGDBhwUf/qfvLJJ3X33Xdr+/bt6ty5s0aOHKnx48dr+vTpzr+iHnzwwWrXf/755/W3v/1NS5YsUUZGhn755RetWbOm2vLvvfeeWrdurSeeeMK5//z9/fX73/9eS5cudSm7dOlS/e53vzP92ZeAgAAFBATo/fffl91ur7KMYRi65ZZb9Msvv2jjxo1KS0vT/v37NWLEiGrrPXHihEaPHq1NmzZpy5Yt6tChg2688cZKge3xxx/X0KFDlZ2drXvuuedX+3vw4EHdfvvtGj9+vMaNG+ecn52drUGDBmnYsGH6+uuv9eabbyojI6PS8//888+rV69e+u9//6sJEybo/vvv1+7duyu1ExUVpXfffVfSmb94c3NzXcL+8uXL5e/vr88//1xz587VE088obS0tPP2fcOGDSopKdHAgQM1atQovfXWW1UG2BkzZmjq1Knavn27OnbsqDvuuMN52WLz5s2677779PDDD2v79u1KSkpyvuFUx93jSEOWkJCgDRs2OKc3bNighIQExcfHO+efOnVKn332mTOgVKWkpETPPfecVq5cqU8//VSHDh3S1KlTncvdPXacj6+vr+677z5t3rxZ+fn51ZZbvny5rFarNm/erFdffVW5ubmKj4/XNddco23btmnt2rX64YcfNHz4cOc606dP17PPPquZM2fqm2++0apVqxQWFiZJ+uKLLyRJ69evV25urt57770q2502bZreffddLV++XF9++aXat2+vQYMGVTrWz5gxQ88//7y2bdsmq9Vao9ezaRhwMXr0aMPLy8vw9/c3fHx8DEmGJGPevHnOMlFRUcaqVatc1nvyySeN2NhYwzAMIycnx5Bk/Pe//622nQkTJhi33XabS7tDhw51KXNuPV9++aVhsViMAwcOGIZhGOXl5cZll11mvPTSS4ZhGMa///1vIygoyDh58qRLPe3atTNeffXVavsiyfDx8TH8/f1dHlar1aVP0dHRxvz5813W7datm/H444+71PU///M/zunPPvvMkGQsWbLEOe8f//iH4ePj45x+/PHHjW7dujmnIyIijGeeecY57XA4jNatW7v0JT4+3nj44YfP27fPP//c8PLyMr7//nvDMAzjxx9/NLy9vY309PRq94WZvPPOO0bz5s0NHx8fIy4uzpg+fbrx1VdfOZenpqYaXl5exqFDh5zzdu7caUgyvvjiC8MwKu/bc5WVlRmBgYHGhx9+6JwnyZg0aVKN+1lcXGx0797dSEhIMBwOh8uyUaNGGX/84x9d5m3atMlo0qSJUVpaahjGmefurrvuci4/ffq0ERoaaixevNgwjMqvgw0bNhiSjIKCApd64+Pjjb59+7rMu/baa41HHnnkvP0fOXKky/Z269bNeP31153TFe3/9a9/dc6r2M+7du0yDMMwRowYYfz2t791qffOO+80goODndPnPhe/dhxpTF577TXD39/fcDgcRmFhoWG1Wo0ffvjBWL16tREXF2cYhmFs3LjRkGTs37/fMIzKz/PSpUsNSca+ffuc9b700ktGWFiYc7omx45zVTeeDMMwPvnkE0OS8fnnnxuGUfk4HR8fb1xzzTUu68ycOdNITk52mXf48GFDkrFnzx6jsLDQsNlsLmPsbNW9f5zddlFRkeHt7W38/e9/dy4/deqUERkZacydO9dlu9avX+8s89FHHxmSnK89s+MMShUSExO1fft2ff7555o4caIGDRqkiRMnSpJ+/PFHHT58WGPHjnX+lRsQEKCnnnrK5bLFuV555RX16tVLrVq1UkBAgF5//XUdOnTIrX51795dnTt31j/+8Q9J0saNG5Wfn+9M5llZWSoqKlLLli1d+paTk3PevknS/PnztX37dpfHzTff7Fb/Klx99dXO3yv+KujatavLvJMnT6qwsLDSusePH1dubq5iY2Od86xWq3r16uV2P6677jpdddVVWrFihSRp5cqVatOmjfr16+d2XfXhtttu09GjR/XBBx9o0KBBSk9PV48ePZw3yu3atUtRUVGKiopyrtOlSxc1a9ZMu3btqrLO/Px83XffferYsaOCg4MVHBysoqKiSmPRnf09duxYFRQU6O233650n0hWVpaWLVvmMh4HDRqk06dPKycnx1nu7DFjsVgUHh5+3r9aq3N2PZIUERFx3nqOHTum9957T3fddZdz3l133aW//e1v5607IiJCkpx179mzR9ddd51L+XOnz1bb40hDlZiYqOLiYm3dulWbNm1Sx44dFRoaqvj4eG3dulXFxcVKT09XmzZtdMUVV1Rbj5+fn9q1a+ecPvv5rctjRwXj/y4Pne8+mHPrz8rK0oYNG1ye14qbr/fv369du3bJbrdrwIABte7X/v375XA49Jvf/MY5z9vbW9ddd12l1/75xq3ZNe67L2vJ399f7du3lyS9+OKLSkxM1KxZs/Tkk0/q9OnTks6cnu3du7fLel5eXlXW99Zbb+lPf/qTnn/+ecXGxiowMFD/+7//q88//9ztvt15551atWqVHn30Ua1atUqDBg1SSEiIpDOXkiIiIlyu9Vb4tWvh4eHhzm2uEBgY6PJJiSZNmlS6nlvVDZRnXw6reGFXNa9iX3rSuHHjtGjRIj366KNaunSp/vCHP1y0m+7qgo+Pj5KSkpSUlKS//OUvGjdunB5//HGNGTNGhmFUuS3VzZfOXMf+8ccftWDBAkVHR8tmsyk2NrbSzX3+/v416t+zzz6rDz74QJmZmc5xeLbTp09r/Pjxeuihhyota9OmjfP3s8eHdGaM1GZ8uFvPqlWrdPLkSZfXsmEYOn36tL755ht16dKlyrrPHcNV7fNzXytnq81xpCFr3769WrdurQ0bNqigoEDx8fGSzhx32rZtq82bN2vDhg3q37//eeup6vk9336+UBVv9pdffnm1Zc59rZw+fVo33XSTnn322UplIyIinPcLXojqglNV47C+jr11gTMoNfD444/rueee09GjRxUWFqbLLrtM3333ndq3b+/yqLi56VybNm1SXFycJkyYoO7du6t9+/aV/kpq2rSpysvLf7UvI0eOVHZ2trKysvTOO+/ozjvvdC7r0aOH8vLyZLVaK/WtqjcPd7Vq1crlhrTCwkKXv4LrQnBwsCIiIrRlyxbnvLKyMmVlZZ13ver231133aVDhw7pxRdf1M6dOzV69Og67e/F1qVLF+cNpl26dNGhQ4d0+PBh5/JvvvlGx48f15VXXlnl+ps2bdJDDz2kG2+8UVdddZVsNpvLzXvuWLt2rWbMmKFly5apW7duVZbp0aOHdu7cWWk8tm/fXk2bNq1VuxXr1eT18muWLFmiKVOmuJw5/Oqrr5SYmFjlWZTqdO7c2XnvQIWzP7VyrtocRxq6xMREpaenKz093XnjpyTFx8dr3bp12rJly3nvP/k1tT12VKe0tFSvvfaa+vXrp1atWtV4vYoxf/nll1d6bv39/dWhQwf5+vpW+9UKNRnfFa+fjIwM5zyHw6Ft27ZV+9pviAgoNZCQkKCrrrpKs2fPlnTmUydz5szRCy+8oG+//VbZ2dlaunSp5s2bV+X67du317Zt27Ru3Tp9++23mjlzpsvd1tKZhP71119rz549+umnn6o8MyGducM7Li5OY8eOVVlZmYYOHepcNnDgQMXGxuqWW27RunXrdODAAWVmZup//ud/znuwrKn+/ftr5cqV2rRpk3bs2KHRo0d75K+9hx9+WM8884zWrFmj3bt3a8KECb/6nReXX365Pv30U33//fcub7jNmzfXsGHD9Oc//1nJyclq3bp1nffXE37++Wf1799fb7zxhr7++mvl5OTo7bff1ty5c53P+cCBA3X11Vfrzjvv1JdffqkvvvhCd999t+Lj46s9rd2+fXutXLlSu3bt0ueff64777xTvr6+bvdv7969uuOOOzRu3Dhdf/31ysvLc3lU3Kj3yCOP6LPPPtMDDzyg7du3a+/evfrggw+cl0xrIzo6WhaLRf/617/0448/qqioqFb1bN++XV9++aXGjRunmJgYl8cdd9yhFStWVPs6PNfEiRP18ccfa968edq7d69effVVffLJJ+c9W+fucaShS0xMVEZGhrZv3+48gyKdCSivv/66Tp48eUEBRardsaNCfn6+8vLytHfvXq1evVq/+c1v9NNPP2nx4sVu9eGBBx7QL7/8ojvuuENffPGFvvvuO6Wmpuqee+5ReXm5fHx89Mgjj2jatGlasWKF9u/fry1btjg/PRYaGipfX1/nzbXHjx+v1Ia/v7/uv/9+/fnPf9batWv1zTff6N5771VJSYnGjh3rVn/NjIBSQ5MnT9brr7+uw4cPa9y4cfrrX/+qZcuWqWvXroqPj9eyZcuq/cvnvvvu07BhwzRixAj17t1bP//8c6XvVbn33nvVqVMn530q5/suhjvvvFNfffWVhg0b5vLmYrFY9PHHH6tfv3665557nB+XO3DggPNekAsxffp09evXT0OGDNGNN96oW265xeV6cF2ZMmWK7r77bo0ZM8Z5SezWW2897zpPPPGEDhw4oHbt2lX6a2fs2LE6depUg7p7PSAgQL1799b8+fPVr18/xcTEaObMmbr33nu1aNEiSf//C/aaN2+ufv36aeDAgbriiiv05ptvVlvv3/72NxUUFKh79+4aNWqU82OK7lq1apWOHTumV199VREREZUew4YNk3Tm+vfGjRu1d+9eXX/99erevbtmzpzpvBZeG5dddplmzZqlRx99VGFhYef9RNj5LFmyRF26dKnyy9kqPh314Ycf1qiu3/zmN3rllVc0b948devWTWvXrtWf/vQn+fj4VLuOu8eRhi4xMVGlpaVq3769y/EoPj5eJ06cULt27Vzup6qN2hw7KlR8HLpnz5565plnNHDgQO3YscPlMl9NREZGavPmzSovL9egQYMUExOjhx9+WMHBwWrS5Mxb7syZMzVlyhT95S9/0ZVXXqkRI0Y47wuxWq168cUX9eqrryoyMtLlj9CzPfPMM7rttts0atQo9ejRQ/v27dO6devUvHlzt/prZhbDkxfwABP4+9//rocfflhHjx6t9WUFwF333nuvdu/erU2bNtV3V4AGiZtk0WiVlJQoJydHc+bM0fjx4wkn8KjnnntOSUlJ8vf31yeffKLly5c3yi9eAy4WLvGg0Zo7d66uueYahYWFafr06fXdHTRyX3zxhZKSktS1a1e98sorevHFF12+tA6Ae7jEAwAATIczKAAAwHQIKAAAwHQIKAAAwHQIKAAAwHQIKAAAwHQIKAAAwHQIKAAAwHQIKAAAwHQIKAAAwHT+H6DISbPlxYIeAAAAAElFTkSuQmCC\n",
>>>>>>> 35ec56da5086c7a5497daa4c04fa07a730a51ebf
      "text/plain": [
       "<Figure size 640x480 with 1 Axes>"
      ]
     },
     "metadata": {},
     "output_type": "display_data"
    }
   ],
   "source": [
    "data.boxplot(column=['Relative Humidity',\n",
    "       'Solar Zenith Angle', 'Wind Direction'], \n",
    "                  by=None, \n",
    "                  ax=None, \n",
    "                  fontsize=None, \n",
    "                  rot=0, \n",
    "                  grid=True, \n",
    "                  figsize=None, \n",
    "                  layout=None, \n",
    "                  return_type=None, \n",
    "                  backend=None)"
   ]
  },
  {
   "cell_type": "code",
   "execution_count": 10,
   "id": "a49ee4aa",
   "metadata": {
    "scrolled": true
   },
   "outputs": [
    {
     "data": {
      "text/html": [
       "<div>\n",
       "<style scoped>\n",
       "    .dataframe tbody tr th:only-of-type {\n",
       "        vertical-align: middle;\n",
       "    }\n",
       "\n",
       "    .dataframe tbody tr th {\n",
       "        vertical-align: top;\n",
       "    }\n",
       "\n",
       "    .dataframe thead th {\n",
       "        text-align: right;\n",
       "    }\n",
       "</style>\n",
       "<table border=\"1\" class=\"dataframe\">\n",
       "  <thead>\n",
       "    <tr style=\"text-align: right;\">\n",
       "      <th></th>\n",
       "      <th>Year</th>\n",
       "      <th>Month</th>\n",
       "      <th>Day</th>\n",
       "      <th>Hour</th>\n",
       "      <th>Minute</th>\n",
       "      <th>Cloud Type</th>\n",
       "      <th>Dew Point</th>\n",
       "      <th>Temperature</th>\n",
       "      <th>Pressure</th>\n",
       "      <th>Relative Humidity</th>\n",
       "      <th>Solar Zenith Angle</th>\n",
       "      <th>Precipitable Water</th>\n",
       "      <th>Wind Direction</th>\n",
       "      <th>Wind Speed</th>\n",
       "      <th>Fill Flag</th>\n",
       "      <th>Clearsky DHI</th>\n",
       "      <th>Clearsky DNI</th>\n",
       "      <th>Clearsky GHI</th>\n",
       "    </tr>\n",
       "  </thead>\n",
       "  <tbody>\n",
       "    <tr>\n",
       "      <th>count</th>\n",
       "      <td>175296.000000</td>\n",
       "      <td>175296.000000</td>\n",
       "      <td>175296.000000</td>\n",
       "      <td>175296.000000</td>\n",
       "      <td>175296.000000</td>\n",
       "      <td>175296.000000</td>\n",
       "      <td>175296.000000</td>\n",
       "      <td>175296.000000</td>\n",
       "      <td>175296.000000</td>\n",
       "      <td>175296.000000</td>\n",
       "      <td>175296.000000</td>\n",
       "      <td>175296.000000</td>\n",
       "      <td>175296.000000</td>\n",
       "      <td>175296.000000</td>\n",
       "      <td>175296.000000</td>\n",
       "      <td>175296.000000</td>\n",
       "      <td>175296.000000</td>\n",
       "      <td>175296.000000</td>\n",
       "    </tr>\n",
       "    <tr>\n",
       "      <th>mean</th>\n",
       "      <td>2013.500274</td>\n",
       "      <td>6.523549</td>\n",
       "      <td>15.727820</td>\n",
       "      <td>11.500000</td>\n",
       "      <td>15.000000</td>\n",
       "      <td>2.540474</td>\n",
       "      <td>13.564431</td>\n",
       "      <td>18.266769</td>\n",
       "      <td>1003.185230</td>\n",
       "      <td>79.376366</td>\n",
       "      <td>89.729463</td>\n",
       "      <td>2.903732</td>\n",
       "      <td>188.877796</td>\n",
       "      <td>2.262871</td>\n",
       "      <td>0.740433</td>\n",
       "      <td>53.065426</td>\n",
       "      <td>330.065295</td>\n",
       "      <td>254.365490</td>\n",
       "    </tr>\n",
       "    <tr>\n",
       "      <th>std</th>\n",
       "      <td>2.871908</td>\n",
       "      <td>3.448543</td>\n",
       "      <td>8.799349</td>\n",
       "      <td>6.922206</td>\n",
       "      <td>15.000043</td>\n",
       "      <td>3.021879</td>\n",
       "      <td>8.196787</td>\n",
       "      <td>8.943096</td>\n",
       "      <td>5.935749</td>\n",
       "      <td>19.678235</td>\n",
       "      <td>40.085451</td>\n",
       "      <td>1.546979</td>\n",
       "      <td>99.014733</td>\n",
       "      <td>1.281902</td>\n",
       "      <td>6.575655</td>\n",
       "      <td>64.201407</td>\n",
       "      <td>370.030821</td>\n",
       "      <td>327.705006</td>\n",
       "    </tr>\n",
       "    <tr>\n",
       "      <th>min</th>\n",
       "      <td>2009.000000</td>\n",
       "      <td>1.000000</td>\n",
       "      <td>1.000000</td>\n",
       "      <td>0.000000</td>\n",
       "      <td>0.000000</td>\n",
       "      <td>0.000000</td>\n",
       "      <td>-17.000000</td>\n",
       "      <td>-9.000000</td>\n",
       "      <td>970.000000</td>\n",
       "      <td>7.190000</td>\n",
       "      <td>8.550000</td>\n",
       "      <td>0.122000</td>\n",
       "      <td>0.000000</td>\n",
       "      <td>0.000000</td>\n",
       "      <td>0.000000</td>\n",
       "      <td>0.000000</td>\n",
       "      <td>0.000000</td>\n",
       "      <td>0.000000</td>\n",
       "    </tr>\n",
       "    <tr>\n",
       "      <th>25%</th>\n",
       "      <td>2011.000000</td>\n",
       "      <td>4.000000</td>\n",
       "      <td>8.000000</td>\n",
       "      <td>5.750000</td>\n",
       "      <td>0.000000</td>\n",
       "      <td>0.000000</td>\n",
       "      <td>8.000000</td>\n",
       "      <td>12.000000</td>\n",
       "      <td>1000.000000</td>\n",
       "      <td>65.590000</td>\n",
       "      <td>56.450000</td>\n",
       "      <td>1.534000</td>\n",
       "      <td>97.400000</td>\n",
       "      <td>1.300000</td>\n",
       "      <td>0.000000</td>\n",
       "      <td>0.000000</td>\n",
       "      <td>0.000000</td>\n",
       "      <td>0.000000</td>\n",
       "    </tr>\n",
       "    <tr>\n",
       "      <th>50%</th>\n",
       "      <td>2013.500000</td>\n",
       "      <td>7.000000</td>\n",
       "      <td>16.000000</td>\n",
       "      <td>11.500000</td>\n",
       "      <td>15.000000</td>\n",
       "      <td>1.000000</td>\n",
       "      <td>15.000000</td>\n",
       "      <td>20.000000</td>\n",
       "      <td>1000.000000</td>\n",
       "      <td>84.230000</td>\n",
       "      <td>89.860000</td>\n",
       "      <td>2.866000</td>\n",
       "      <td>200.000000</td>\n",
       "      <td>2.000000</td>\n",
       "      <td>0.000000</td>\n",
       "      <td>0.000000</td>\n",
       "      <td>0.000000</td>\n",
       "      <td>0.000000</td>\n",
       "    </tr>\n",
       "    <tr>\n",
       "      <th>75%</th>\n",
       "      <td>2016.000000</td>\n",
       "      <td>10.000000</td>\n",
       "      <td>23.000000</td>\n",
       "      <td>17.250000</td>\n",
       "      <td>30.000000</td>\n",
       "      <td>6.000000</td>\n",
       "      <td>21.000000</td>\n",
       "      <td>25.000000</td>\n",
       "      <td>1010.000000</td>\n",
       "      <td>97.950000</td>\n",
       "      <td>123.060000</td>\n",
       "      <td>4.223000</td>\n",
       "      <td>272.000000</td>\n",
       "      <td>3.000000</td>\n",
       "      <td>0.000000</td>\n",
       "      <td>103.000000</td>\n",
       "      <td>736.000000</td>\n",
       "      <td>535.000000</td>\n",
       "    </tr>\n",
       "    <tr>\n",
       "      <th>max</th>\n",
       "      <td>2018.000000</td>\n",
       "      <td>12.000000</td>\n",
       "      <td>31.000000</td>\n",
       "      <td>23.000000</td>\n",
       "      <td>30.000000</td>\n",
       "      <td>10.000000</td>\n",
       "      <td>26.900000</td>\n",
       "      <td>40.000000</td>\n",
       "      <td>1024.000000</td>\n",
       "      <td>100.000000</td>\n",
       "      <td>171.550000</td>\n",
       "      <td>7.700000</td>\n",
       "      <td>360.000000</td>\n",
       "      <td>12.900000</td>\n",
       "      <td>100.000000</td>\n",
       "      <td>565.000000</td>\n",
       "      <td>1040.000000</td>\n",
       "      <td>1063.000000</td>\n",
       "    </tr>\n",
       "  </tbody>\n",
       "</table>\n",
       "</div>"
      ],
      "text/plain": [
       "                Year          Month            Day           Hour  \\\n",
       "count  175296.000000  175296.000000  175296.000000  175296.000000   \n",
       "mean     2013.500274       6.523549      15.727820      11.500000   \n",
       "std         2.871908       3.448543       8.799349       6.922206   \n",
       "min      2009.000000       1.000000       1.000000       0.000000   \n",
       "25%      2011.000000       4.000000       8.000000       5.750000   \n",
       "50%      2013.500000       7.000000      16.000000      11.500000   \n",
       "75%      2016.000000      10.000000      23.000000      17.250000   \n",
       "max      2018.000000      12.000000      31.000000      23.000000   \n",
       "\n",
       "              Minute     Cloud Type      Dew Point    Temperature  \\\n",
       "count  175296.000000  175296.000000  175296.000000  175296.000000   \n",
       "mean       15.000000       2.540474      13.564431      18.266769   \n",
       "std        15.000043       3.021879       8.196787       8.943096   \n",
       "min         0.000000       0.000000     -17.000000      -9.000000   \n",
       "25%         0.000000       0.000000       8.000000      12.000000   \n",
       "50%        15.000000       1.000000      15.000000      20.000000   \n",
       "75%        30.000000       6.000000      21.000000      25.000000   \n",
       "max        30.000000      10.000000      26.900000      40.000000   \n",
       "\n",
       "            Pressure  Relative Humidity  Solar Zenith Angle  \\\n",
       "count  175296.000000      175296.000000       175296.000000   \n",
       "mean     1003.185230          79.376366           89.729463   \n",
       "std         5.935749          19.678235           40.085451   \n",
       "min       970.000000           7.190000            8.550000   \n",
       "25%      1000.000000          65.590000           56.450000   \n",
       "50%      1000.000000          84.230000           89.860000   \n",
       "75%      1010.000000          97.950000          123.060000   \n",
       "max      1024.000000         100.000000          171.550000   \n",
       "\n",
       "       Precipitable Water  Wind Direction     Wind Speed      Fill Flag  \\\n",
       "count       175296.000000   175296.000000  175296.000000  175296.000000   \n",
       "mean             2.903732      188.877796       2.262871       0.740433   \n",
       "std              1.546979       99.014733       1.281902       6.575655   \n",
       "min              0.122000        0.000000       0.000000       0.000000   \n",
       "25%              1.534000       97.400000       1.300000       0.000000   \n",
       "50%              2.866000      200.000000       2.000000       0.000000   \n",
       "75%              4.223000      272.000000       3.000000       0.000000   \n",
       "max              7.700000      360.000000      12.900000     100.000000   \n",
       "\n",
       "        Clearsky DHI   Clearsky DNI   Clearsky GHI  \n",
       "count  175296.000000  175296.000000  175296.000000  \n",
       "mean       53.065426     330.065295     254.365490  \n",
       "std        64.201407     370.030821     327.705006  \n",
       "min         0.000000       0.000000       0.000000  \n",
       "25%         0.000000       0.000000       0.000000  \n",
       "50%         0.000000       0.000000       0.000000  \n",
       "75%       103.000000     736.000000     535.000000  \n",
       "max       565.000000    1040.000000    1063.000000  "
      ]
     },
     "execution_count": 10,
     "metadata": {},
     "output_type": "execute_result"
    }
   ],
   "source": [
    "data.describe()"
   ]
  },
  {
   "cell_type": "markdown",
   "id": "49c532ff",
   "metadata": {},
   "source": [
    "<a id=\"preparacion_entrenamiento\"></a>\n",
    "## 4. Preparación y Entrenamiento del DataSet\n",
    "---\n",
    "<a href='#tabla_contenidos'>Volver a la Tabla de Contenidos</a>"
   ]
  },
  {
   "cell_type": "markdown",
   "id": "58aa1971",
   "metadata": {},
   "source": [
    "En esta sección trabajaremos el DataSet con profundidad para dejarlo listo y en condiciones, con la intención de enfocarnos en las distintas estrategias de entrenameinto, como veremos más adelante."
   ]
  },
  {
   "cell_type": "markdown",
   "id": "456c7f8d",
   "metadata": {},
   "source": [
    "<a id=\"features\"></a> \n",
    "### 4.1 Features y dummies\n",
    "\n",
    "En el DataSet paraeciera no haber Features de clasificación, pero estás si están. Se encuentran establecidas con valores numéricos identificando las categorías que representan. Las columnas categóricas de las que estamos hablando son, **Cloud Type** y **Fill Flag**. Dentro de las mismas hay un total de 22 clasificadores. Por este motivo será necesario identificar dummies que puedan estar relacionadas a nuestros vectores Target de los datos meteorológicos.\n",
    "\n",
    "Para una mayor facilidad de comprensión, cambiaremos los valores por los nombres correspondientes. Nos ayudara a saber de que estamos hablando en cada caso, sin tener que estar recurriendo a las referencias más arriba."
   ]
  },
  {
   "cell_type": "markdown",
   "id": "7b386c6c",
   "metadata": {},
   "source": [
    "#### 4.1.1 Creación de columnas con nombres de categoria\n",
    "Primero se necesita renombrar a cada una de las categorias. Para eso crearemos un método condicional que renombre según el número asignado."
   ]
  },
  {
   "cell_type": "code",
   "execution_count": 11,
   "id": "74053c8f",
   "metadata": {},
   "outputs": [
    {
     "data": {
      "text/plain": [
       "array(['Year', 'Month', 'Day', 'Hour', 'Minute', 'Cloud Type',\n",
       "       'Dew Point', 'Temperature', 'Pressure', 'Relative Humidity',\n",
       "       'Solar Zenith Angle', 'Precipitable Water', 'Wind Direction',\n",
       "       'Wind Speed', 'Fill Flag', 'Clearsky DHI', 'Clearsky DNI',\n",
       "       'Clearsky GHI'], dtype=object)"
      ]
     },
     "execution_count": 11,
     "metadata": {},
     "output_type": "execute_result"
    }
   ],
   "source": [
    "data.columns.values"
   ]
  },
  {
   "cell_type": "code",
   "execution_count": 12,
   "id": "484fd619",
   "metadata": {},
   "outputs": [
    {
     "data": {
      "text/plain": [
       "Clear                 82788\n",
       "Cirrus                23163\n",
       "Water                 16255\n",
       "Probably_Clear        15698\n",
       "Overlapping           14276\n",
       "Super_Cooled_Water    11738\n",
       "Opaque_Ice             7902\n",
       "Fog                    3018\n",
       "Overshooting            457\n",
       "Unknown                   1\n",
       "Name: cloud_type_cat, dtype: int64"
      ]
     },
     "execution_count": 12,
     "metadata": {},
     "output_type": "execute_result"
    }
   ],
   "source": [
    "def cloud_type_cat(x):\n",
    "    if x == 0:\n",
    "        return 'Clear'\n",
    "    elif x == 1:\n",
    "        return 'Probably_Clear'\n",
    "    elif x == 2:\n",
    "        return 'Fog'\n",
    "    elif x == 3:\n",
    "        return 'Water'\n",
    "    elif x == 4:\n",
    "        return 'Super_Cooled_Water'\n",
    "    elif x == 5:\n",
    "        return 'Mixed'\n",
    "    elif x == 6:\n",
    "        return 'Opaque_Ice'\n",
    "    elif x == 7:\n",
    "        return 'Cirrus'\n",
    "    elif x == 8:\n",
    "        return 'Overlapping'\n",
    "    elif x == 9:\n",
    "        return 'Overshooting'\n",
    "    elif x == 10:\n",
    "        return 'Unknown'\n",
    "    elif x == 11:\n",
    "        return 'Dust'\n",
    "    elif x == 12:\n",
    "        return 'Smoke'\n",
    "    elif x == -15:\n",
    "        return 'N/A'\n",
    "    else:\n",
    "        return np.nan\n",
    "        \n",
    "data['cloud_type_cat'] = data['Cloud Type'].apply(cloud_type_cat)\n",
    "data['cloud_type_cat'].value_counts()"
   ]
  },
  {
   "cell_type": "code",
   "execution_count": 13,
   "id": "17dba5cf",
   "metadata": {},
   "outputs": [
    {
     "data": {
      "text/plain": [
       "N/A                         164285\n",
       "Missing_Cloud_Properties      6864\n",
       "Missing_Image                 2046\n",
       "Other                         1811\n",
       "Exceeds_Clearsky               290\n",
       "Name: fill_flag_cat, dtype: int64"
      ]
     },
     "execution_count": 13,
     "metadata": {},
     "output_type": "execute_result"
    }
   ],
   "source": [
    "def flag_cat(x):\n",
    "    if x == 0:\n",
    "        return 'N/A'\n",
    "    elif x == 1:\n",
    "        return 'Missing_Image'\n",
    "    elif x == 2:\n",
    "        return 'Low_Irradiance'\n",
    "    elif x == 3:\n",
    "        return 'Exceeds_Clearsky'\n",
    "    elif x == 4:\n",
    "        return 'Missing_Cloud_Properties'\n",
    "    elif x == 5:\n",
    "        return 'Rayleigh_Violation'\n",
    "    else:\n",
    "        return 'Other'\n",
    "\n",
    "data['fill_flag_cat'] = data['Fill Flag'].apply(flag_cat)\n",
    "data['fill_flag_cat'].value_counts()"
   ]
  },
  {
   "cell_type": "markdown",
   "id": "dfac2195",
   "metadata": {},
   "source": [
    "#### 4.1.2 Preparación de las dummies\n",
    "Ahora con las columnas renombradas utilizaremos la librería **OneHotEncoder** de sci-kit learn,  para obtener los dummies. "
   ]
  },
  {
   "cell_type": "code",
   "execution_count": 14,
   "id": "51f6933d",
   "metadata": {},
   "outputs": [
    {
     "data": {
      "text/plain": [
       "[array(['Cirrus', 'Clear', 'Fog', 'Opaque_Ice', 'Overlapping',\n",
       "        'Overshooting', 'Probably_Clear', 'Super_Cooled_Water', 'Unknown',\n",
       "        'Water'], dtype=object),\n",
       " array(['Exceeds_Clearsky', 'Missing_Cloud_Properties', 'Missing_Image',\n",
       "        'N/A', 'Other'], dtype=object)]"
      ]
     },
     "execution_count": 14,
     "metadata": {},
     "output_type": "execute_result"
    }
   ],
   "source": [
    "encoder = OneHotEncoder(drop='first', sparse=False)\n",
    "dummies = encoder.fit_transform(data[['cloud_type_cat', 'fill_flag_cat']])\n",
    "encoder.categories_"
   ]
  },
  {
   "cell_type": "code",
   "execution_count": 15,
   "id": "0ff55d91",
   "metadata": {},
   "outputs": [
    {
     "data": {
      "text/html": [
       "<div>\n",
       "<style scoped>\n",
       "    .dataframe tbody tr th:only-of-type {\n",
       "        vertical-align: middle;\n",
       "    }\n",
       "\n",
       "    .dataframe tbody tr th {\n",
       "        vertical-align: top;\n",
       "    }\n",
       "\n",
       "    .dataframe thead th {\n",
       "        text-align: right;\n",
       "    }\n",
       "</style>\n",
       "<table border=\"1\" class=\"dataframe\">\n",
       "  <thead>\n",
       "    <tr style=\"text-align: right;\">\n",
       "      <th></th>\n",
       "      <th>Clear</th>\n",
       "      <th>Fog</th>\n",
       "      <th>Opaque_Ice</th>\n",
       "      <th>Overlapping</th>\n",
       "      <th>Overshooting</th>\n",
       "      <th>Probably_Clear</th>\n",
       "      <th>Super_Cooled_Water</th>\n",
       "      <th>Unknown</th>\n",
       "      <th>Water</th>\n",
       "      <th>Missing_Cloud_Properties</th>\n",
       "      <th>Missing_Image</th>\n",
       "      <th>N/A</th>\n",
       "      <th>Other</th>\n",
       "    </tr>\n",
       "  </thead>\n",
       "  <tbody>\n",
       "    <tr>\n",
<<<<<<< HEAD
       "      <th>34590</th>\n",
       "      <td>0.0</td>\n",
       "      <td>0.0</td>\n",
       "      <td>0.0</td>\n",
=======
<<<<<<< HEAD
       "      <th>53185</th>\n",
       "      <td>0.0</td>\n",
=======
       "      <th>135857</th>\n",
>>>>>>> 35ec56da5086c7a5497daa4c04fa07a730a51ebf
>>>>>>> 68a3f82277cf38fc0e73cd718c7aa741e6bec697
       "      <td>0.0</td>\n",
       "      <td>0.0</td>\n",
       "      <td>0.0</td>\n",
       "      <td>0.0</td>\n",
       "      <td>0.0</td>\n",
       "      <td>1.0</td>\n",
       "      <td>0.0</td>\n",
       "      <td>0.0</td>\n",
<<<<<<< HEAD
=======
       "      <td>0.0</td>\n",
       "      <td>0.0</td>\n",
<<<<<<< HEAD
=======
       "      <td>0.0</td>\n",
>>>>>>> 35ec56da5086c7a5497daa4c04fa07a730a51ebf
>>>>>>> 68a3f82277cf38fc0e73cd718c7aa741e6bec697
       "      <td>1.0</td>\n",
       "      <td>0.0</td>\n",
       "    </tr>\n",
       "    <tr>\n",
<<<<<<< HEAD
       "      <th>4908</th>\n",
       "      <td>0.0</td>\n",
       "      <td>0.0</td>\n",
=======
<<<<<<< HEAD
       "      <th>108881</th>\n",
       "      <td>0.0</td>\n",
=======
       "      <th>36083</th>\n",
>>>>>>> 68a3f82277cf38fc0e73cd718c7aa741e6bec697
       "      <td>1.0</td>\n",
>>>>>>> 35ec56da5086c7a5497daa4c04fa07a730a51ebf
       "      <td>0.0</td>\n",
       "      <td>0.0</td>\n",
       "      <td>0.0</td>\n",
       "      <td>0.0</td>\n",
       "      <td>0.0</td>\n",
       "      <td>0.0</td>\n",
       "      <td>0.0</td>\n",
       "      <td>1.0</td>\n",
       "      <td>0.0</td>\n",
       "      <td>0.0</td>\n",
       "    </tr>\n",
       "  </tbody>\n",
       "</table>\n",
       "</div>"
      ],
      "text/plain": [
<<<<<<< HEAD
       "       Clear  Fog  Opaque_Ice  Overlapping  Overshooting  Probably_Clear  \\\n",
       "34590    0.0  0.0         0.0          0.0           0.0             0.0   \n",
       "4908     0.0  0.0         1.0          0.0           0.0             0.0   \n",
=======
       "        Clear  Fog  Opaque_Ice  Overlapping  Overshooting  Probably_Clear  \\\n",
<<<<<<< HEAD
       "53185     0.0  0.0         0.0          0.0           0.0             0.0   \n",
       "108881    0.0  0.0         0.0          0.0           0.0             0.0   \n",
       "\n",
       "        Super_Cooled_Water  Unknown  Water  Missing_Cloud_Properties  \\\n",
       "53185                  1.0      0.0    0.0                       0.0   \n",
       "108881                 0.0      0.0    0.0                       0.0   \n",
       "\n",
       "        Missing_Image  N/A  Other  \n",
       "53185             0.0  1.0    0.0  \n",
       "108881            0.0  1.0    0.0  "
=======
       "135857    0.0  0.0         0.0          0.0           0.0             1.0   \n",
       "36083     1.0  0.0         0.0          0.0           0.0             0.0   \n",
>>>>>>> 68a3f82277cf38fc0e73cd718c7aa741e6bec697
       "\n",
       "       Super_Cooled_Water  Unknown  Water  Missing_Cloud_Properties  \\\n",
       "34590                 0.0      0.0    1.0                       0.0   \n",
       "4908                  0.0      0.0    0.0                       0.0   \n",
       "\n",
<<<<<<< HEAD
       "       Missing_Image  N/A  Other  \n",
       "34590            0.0  1.0    0.0  \n",
       "4908             1.0  0.0    0.0  "
=======
       "        Missing_Image  N/A  Other  \n",
       "135857            0.0  1.0    0.0  \n",
       "36083             0.0  1.0    0.0  "
>>>>>>> 35ec56da5086c7a5497daa4c04fa07a730a51ebf
>>>>>>> 68a3f82277cf38fc0e73cd718c7aa741e6bec697
      ]
     },
     "execution_count": 15,
     "metadata": {},
     "output_type": "execute_result"
    }
   ],
   "source": [
    "dummies = pd.DataFrame(dummies)\n",
    "dummies.columns = [x for cat_list in encoder.categories_ for x in cat_list[1:]]\n",
    "dummies.sample(2)"
   ]
  },
  {
   "cell_type": "code",
   "execution_count": 16,
   "id": "d5de1d2f",
   "metadata": {},
   "outputs": [],
   "source": [
    "data = data.join(dummies)\n",
    "data = data.drop(columns=['Cloud Type','Fill Flag','cloud_type_cat','fill_flag_cat'])"
   ]
  },
  {
   "cell_type": "code",
   "execution_count": 17,
   "id": "90db8e6a",
   "metadata": {},
   "outputs": [
    {
     "data": {
      "text/html": [
       "<div>\n",
       "<style scoped>\n",
       "    .dataframe tbody tr th:only-of-type {\n",
       "        vertical-align: middle;\n",
       "    }\n",
       "\n",
       "    .dataframe tbody tr th {\n",
       "        vertical-align: top;\n",
       "    }\n",
       "\n",
       "    .dataframe thead th {\n",
       "        text-align: right;\n",
       "    }\n",
       "</style>\n",
       "<table border=\"1\" class=\"dataframe\">\n",
       "  <thead>\n",
       "    <tr style=\"text-align: right;\">\n",
       "      <th></th>\n",
       "      <th>Year</th>\n",
       "      <th>Month</th>\n",
       "      <th>Day</th>\n",
       "      <th>Hour</th>\n",
       "      <th>Minute</th>\n",
       "      <th>Dew Point</th>\n",
       "      <th>Temperature</th>\n",
       "      <th>Pressure</th>\n",
       "      <th>Relative Humidity</th>\n",
       "      <th>Solar Zenith Angle</th>\n",
       "      <th>...</th>\n",
       "      <th>Overlapping</th>\n",
       "      <th>Overshooting</th>\n",
       "      <th>Probably_Clear</th>\n",
       "      <th>Super_Cooled_Water</th>\n",
       "      <th>Unknown</th>\n",
       "      <th>Water</th>\n",
       "      <th>Missing_Cloud_Properties</th>\n",
       "      <th>Missing_Image</th>\n",
       "      <th>N/A</th>\n",
       "      <th>Other</th>\n",
       "    </tr>\n",
       "  </thead>\n",
       "  <tbody>\n",
       "    <tr>\n",
<<<<<<< HEAD
       "      <th>66792</th>\n",
       "      <td>2012</td>\n",
       "      <td>10</td>\n",
       "      <td>23</td>\n",
       "      <td>12</td>\n",
=======
<<<<<<< HEAD
       "      <th>109792</th>\n",
       "      <td>2015</td>\n",
       "      <td>4</td>\n",
       "      <td>7</td>\n",
       "      <td>8</td>\n",
       "      <td>0</td>\n",
       "      <td>16.0</td>\n",
       "      <td>16.0</td>\n",
       "      <td>1010</td>\n",
       "      <td>100.00</td>\n",
       "      <td>128.61</td>\n",
=======
       "      <th>32949</th>\n",
       "      <td>2010</td>\n",
       "      <td>11</td>\n",
       "      <td>18</td>\n",
       "      <td>10</td>\n",
       "      <td>30</td>\n",
       "      <td>2.0</td>\n",
       "      <td>3.0</td>\n",
       "      <td>1010</td>\n",
       "      <td>100.00</td>\n",
       "      <td>110.46</td>\n",
>>>>>>> 35ec56da5086c7a5497daa4c04fa07a730a51ebf
       "      <td>...</td>\n",
       "      <td>0.0</td>\n",
       "      <td>0.0</td>\n",
       "      <td>0.0</td>\n",
       "      <td>0.0</td>\n",
       "      <td>0.0</td>\n",
       "      <td>0.0</td>\n",
       "      <td>0.0</td>\n",
       "      <td>0.0</td>\n",
       "      <td>1.0</td>\n",
       "      <td>0.0</td>\n",
       "    </tr>\n",
       "    <tr>\n",
<<<<<<< HEAD
       "      <th>145068</th>\n",
       "      <td>2017</td>\n",
       "      <td>4</td>\n",
       "      <td>11</td>\n",
       "      <td>6</td>\n",
       "      <td>0</td>\n",
       "      <td>13.0</td>\n",
       "      <td>14.0</td>\n",
       "      <td>1010</td>\n",
       "      <td>94.94</td>\n",
       "      <td>139.36</td>\n",
       "      <td>...</td>\n",
       "      <td>1.0</td>\n",
       "      <td>0.0</td>\n",
       "      <td>0.0</td>\n",
       "      <td>0.0</td>\n",
       "      <td>0.0</td>\n",
       "      <td>0.0</td>\n",
       "      <td>0.0</td>\n",
       "      <td>0.0</td>\n",
       "      <td>1.0</td>\n",
       "      <td>0.0</td>\n",
       "    </tr>\n",
       "    <tr>\n",
       "      <th>77747</th>\n",
       "      <td>2013</td>\n",
       "      <td>6</td>\n",
       "      <td>8</td>\n",
       "      <td>17</td>\n",
       "      <td>30</td>\n",
       "      <td>22.0</td>\n",
       "      <td>28.0</td>\n",
       "      <td>1000</td>\n",
       "      <td>73.14</td>\n",
       "      <td>9.00</td>\n",
       "      <td>...</td>\n",
       "      <td>0.0</td>\n",
       "      <td>0.0</td>\n",
       "      <td>0.0</td>\n",
       "      <td>0.0</td>\n",
       "      <td>0.0</td>\n",
       "      <td>0.0</td>\n",
       "      <td>0.0</td>\n",
       "      <td>0.0</td>\n",
       "      <td>1.0</td>\n",
       "      <td>0.0</td>\n",
       "    </tr>\n",
       "    <tr>\n",
       "      <th>101357</th>\n",
       "      <td>2014</td>\n",
       "      <td>10</td>\n",
       "      <td>13</td>\n",
       "      <td>14</td>\n",
       "      <td>30</td>\n",
       "      <td>20.0</td>\n",
       "      <td>25.0</td>\n",
       "      <td>1000</td>\n",
       "      <td>76.03</td>\n",
       "      <td>57.05</td>\n",
       "      <td>...</td>\n",
       "      <td>0.0</td>\n",
       "      <td>0.0</td>\n",
       "      <td>0.0</td>\n",
       "      <td>0.0</td>\n",
       "      <td>0.0</td>\n",
       "      <td>0.0</td>\n",
       "      <td>0.0</td>\n",
       "      <td>0.0</td>\n",
       "      <td>1.0</td>\n",
       "      <td>0.0</td>\n",
       "    </tr>\n",
       "    <tr>\n",
       "      <th>133224</th>\n",
       "      <td>2016</td>\n",
       "      <td>8</td>\n",
       "      <td>7</td>\n",
       "      <td>12</td>\n",
       "      <td>0</td>\n",
       "      <td>23.0</td>\n",
       "      <td>26.0</td>\n",
       "      <td>1000</td>\n",
       "      <td>88.39</td>\n",
       "      <td>77.61</td>\n",
=======
       "      <th>99663</th>\n",
       "      <td>2014</td>\n",
       "      <td>9</td>\n",
       "      <td>8</td>\n",
       "      <td>7</td>\n",
       "      <td>30</td>\n",
       "      <td>23.0</td>\n",
       "      <td>23.0</td>\n",
       "      <td>1000</td>\n",
       "      <td>100.00</td>\n",
       "      <td>133.27</td>\n",
>>>>>>> 35ec56da5086c7a5497daa4c04fa07a730a51ebf
       "      <td>...</td>\n",
       "      <td>0.0</td>\n",
       "      <td>0.0</td>\n",
       "      <td>0.0</td>\n",
       "      <td>0.0</td>\n",
       "      <td>0.0</td>\n",
<<<<<<< HEAD
       "      <td>1.0</td>\n",
       "      <td>1.0</td>\n",
       "      <td>0.0</td>\n",
       "      <td>0.0</td>\n",
       "      <td>0.0</td>\n",
=======
       "      <td>0.0</td>\n",
       "      <td>0.0</td>\n",
       "      <td>0.0</td>\n",
       "      <td>1.0</td>\n",
       "      <td>0.0</td>\n",
       "    </tr>\n",
       "    <tr>\n",
       "      <th>27597</th>\n",
       "      <td>2010</td>\n",
       "      <td>7</td>\n",
       "      <td>29</td>\n",
       "      <td>22</td>\n",
       "      <td>30</td>\n",
       "      <td>21.0</td>\n",
       "      <td>34.0</td>\n",
       "      <td>1000</td>\n",
       "      <td>47.64</td>\n",
       "      <td>65.37</td>\n",
       "      <td>...</td>\n",
       "      <td>0.0</td>\n",
       "      <td>0.0</td>\n",
       "      <td>0.0</td>\n",
       "      <td>0.0</td>\n",
       "      <td>0.0</td>\n",
       "      <td>0.0</td>\n",
       "      <td>0.0</td>\n",
       "      <td>0.0</td>\n",
       "      <td>1.0</td>\n",
       "      <td>0.0</td>\n",
       "    </tr>\n",
       "    <tr>\n",
       "      <th>124619</th>\n",
       "      <td>2016</td>\n",
       "      <td>2</td>\n",
       "      <td>10</td>\n",
       "      <td>5</td>\n",
       "      <td>30</td>\n",
       "      <td>-3.0</td>\n",
       "      <td>-1.0</td>\n",
       "      <td>1000</td>\n",
       "      <td>84.46</td>\n",
       "      <td>162.11</td>\n",
       "      <td>...</td>\n",
       "      <td>0.0</td>\n",
       "      <td>0.0</td>\n",
       "      <td>0.0</td>\n",
       "      <td>0.0</td>\n",
       "      <td>0.0</td>\n",
       "      <td>0.0</td>\n",
       "      <td>0.0</td>\n",
       "      <td>0.0</td>\n",
       "      <td>1.0</td>\n",
       "      <td>0.0</td>\n",
       "    </tr>\n",
       "    <tr>\n",
       "      <th>28978</th>\n",
       "      <td>2010</td>\n",
       "      <td>8</td>\n",
       "      <td>27</td>\n",
       "      <td>17</td>\n",
>>>>>>> 68a3f82277cf38fc0e73cd718c7aa741e6bec697
       "      <td>0</td>\n",
       "      <td>9.0</td>\n",
       "      <td>11.0</td>\n",
       "      <td>1010</td>\n",
       "      <td>92.19</td>\n",
       "      <td>87.76</td>\n",
       "      <td>...</td>\n",
       "      <td>0.0</td>\n",
       "      <td>0.0</td>\n",
       "      <td>0.0</td>\n",
       "      <td>0.0</td>\n",
       "      <td>0.0</td>\n",
       "      <td>0.0</td>\n",
       "      <td>0.0</td>\n",
       "      <td>0.0</td>\n",
       "      <td>1.0</td>\n",
       "      <td>0.0</td>\n",
>>>>>>> 35ec56da5086c7a5497daa4c04fa07a730a51ebf
       "    </tr>\n",
       "    <tr>\n",
       "      <th>96098</th>\n",
       "      <td>2014</td>\n",
       "      <td>6</td>\n",
       "      <td>26</td>\n",
       "      <td>1</td>\n",
       "      <td>0</td>\n",
       "      <td>24.0</td>\n",
       "      <td>25.0</td>\n",
       "      <td>1000</td>\n",
       "      <td>95.65</td>\n",
       "      <td>93.62</td>\n",
       "      <td>...</td>\n",
       "      <td>0.0</td>\n",
       "      <td>0.0</td>\n",
       "      <td>0.0</td>\n",
       "      <td>0.0</td>\n",
       "      <td>0.0</td>\n",
       "      <td>0.0</td>\n",
       "      <td>0.0</td>\n",
       "      <td>0.0</td>\n",
       "      <td>1.0</td>\n",
       "      <td>0.0</td>\n",
       "    </tr>\n",
       "    <tr>\n",
       "      <th>94969</th>\n",
       "      <td>2014</td>\n",
       "      <td>6</td>\n",
       "      <td>2</td>\n",
       "      <td>12</td>\n",
       "      <td>30</td>\n",
       "      <td>17.0</td>\n",
       "      <td>19.0</td>\n",
       "      <td>1010</td>\n",
       "      <td>91.73</td>\n",
       "      <td>66.94</td>\n",
       "      <td>...</td>\n",
       "      <td>0.0</td>\n",
       "      <td>0.0</td>\n",
       "      <td>0.0</td>\n",
       "      <td>1.0</td>\n",
       "      <td>0.0</td>\n",
       "      <td>0.0</td>\n",
       "      <td>0.0</td>\n",
       "      <td>0.0</td>\n",
       "      <td>1.0</td>\n",
       "      <td>0.0</td>\n",
       "    </tr>\n",
       "    <tr>\n",
       "      <th>148636</th>\n",
       "      <td>2017</td>\n",
       "      <td>6</td>\n",
       "      <td>24</td>\n",
       "      <td>14</td>\n",
       "      <td>0</td>\n",
       "      <td>23.0</td>\n",
       "      <td>28.0</td>\n",
       "      <td>1000</td>\n",
       "      <td>78.74</td>\n",
       "      <td>48.51</td>\n",
       "      <td>...</td>\n",
       "      <td>0.0</td>\n",
       "      <td>0.0</td>\n",
       "      <td>0.0</td>\n",
       "      <td>0.0</td>\n",
       "      <td>0.0</td>\n",
       "      <td>0.0</td>\n",
       "      <td>0.0</td>\n",
       "      <td>0.0</td>\n",
       "      <td>1.0</td>\n",
       "      <td>0.0</td>\n",
       "    </tr>\n",
       "    <tr>\n",
       "      <th>168977</th>\n",
       "      <td>2018</td>\n",
       "      <td>8</td>\n",
       "      <td>22</td>\n",
       "      <td>8</td>\n",
       "      <td>30</td>\n",
       "      <td>23.3</td>\n",
       "      <td>23.3</td>\n",
       "      <td>1005</td>\n",
       "      <td>100.00</td>\n",
       "      <td>120.10</td>\n",
       "      <td>...</td>\n",
       "      <td>0.0</td>\n",
       "      <td>0.0</td>\n",
       "      <td>0.0</td>\n",
       "      <td>0.0</td>\n",
       "      <td>0.0</td>\n",
       "      <td>1.0</td>\n",
       "      <td>0.0</td>\n",
       "      <td>0.0</td>\n",
       "      <td>1.0</td>\n",
       "      <td>0.0</td>\n",
       "    </tr>\n",
       "  </tbody>\n",
       "</table>\n",
       "<p>5 rows × 29 columns</p>\n",
       "</div>"
      ],
      "text/plain": [
       "        Year  Month  Day  Hour  Minute  Dew Point  Temperature  Pressure  \\\n",
<<<<<<< HEAD
       "66792   2012     10   23    12       0        9.0         11.0      1010   \n",
       "96098   2014      6   26     1       0       24.0         25.0      1000   \n",
       "94969   2014      6    2    12      30       17.0         19.0      1010   \n",
       "148636  2017      6   24    14       0       23.0         28.0      1000   \n",
       "168977  2018      8   22     8      30       23.3         23.3      1005   \n",
=======
<<<<<<< HEAD
       "109792  2015      4    7     8       0       16.0         16.0      1010   \n",
       "145068  2017      4   11     6       0       13.0         14.0      1010   \n",
       "77747   2013      6    8    17      30       22.0         28.0      1000   \n",
       "101357  2014     10   13    14      30       20.0         25.0      1000   \n",
       "133224  2016      8    7    12       0       23.0         26.0      1000   \n",
       "\n",
       "        Relative Humidity  Solar Zenith Angle  ...  Overlapping  Overshooting  \\\n",
       "109792             100.00              128.61  ...          0.0           0.0   \n",
       "145068              94.94              139.36  ...          1.0           0.0   \n",
       "77747               73.14                9.00  ...          0.0           0.0   \n",
       "101357              76.03               57.05  ...          0.0           0.0   \n",
       "133224              88.39               77.61  ...          0.0           0.0   \n",
       "\n",
       "        Probably_Clear  Super_Cooled_Water  Unknown  Water  \\\n",
       "109792             0.0                 0.0      0.0    0.0   \n",
       "145068             0.0                 0.0      0.0    0.0   \n",
       "77747              0.0                 0.0      0.0    0.0   \n",
       "101357             0.0                 0.0      0.0    0.0   \n",
       "133224             0.0                 0.0      0.0    1.0   \n",
       "\n",
       "        Missing_Cloud_Properties  Missing_Image  N/A  Other  \n",
       "109792                       0.0            0.0  1.0    0.0  \n",
       "145068                       0.0            0.0  1.0    0.0  \n",
       "77747                        0.0            0.0  1.0    0.0  \n",
       "101357                       0.0            0.0  1.0    0.0  \n",
       "133224                       1.0            0.0  0.0    0.0  \n",
=======
       "32949   2010     11   18    10      30        2.0          3.0      1010   \n",
       "99663   2014      9    8     7      30       23.0         23.0      1000   \n",
       "27597   2010      7   29    22      30       21.0         34.0      1000   \n",
       "124619  2016      2   10     5      30       -3.0         -1.0      1000   \n",
       "28978   2010      8   27    17       0       22.0         30.0      1000   \n",
>>>>>>> 68a3f82277cf38fc0e73cd718c7aa741e6bec697
       "\n",
       "        Relative Humidity  Solar Zenith Angle  ...  Overlapping  Overshooting  \\\n",
       "66792               92.19               87.76  ...          0.0           0.0   \n",
       "96098               95.65               93.62  ...          0.0           0.0   \n",
       "94969               91.73               66.94  ...          0.0           0.0   \n",
       "148636              78.74               48.51  ...          0.0           0.0   \n",
       "168977             100.00              120.10  ...          0.0           0.0   \n",
       "\n",
       "        Probably_Clear  Super_Cooled_Water  Unknown  Water  \\\n",
       "66792              0.0                 0.0      0.0    0.0   \n",
       "96098              0.0                 0.0      0.0    0.0   \n",
       "94969              0.0                 1.0      0.0    0.0   \n",
       "148636             0.0                 0.0      0.0    0.0   \n",
       "168977             0.0                 0.0      0.0    1.0   \n",
       "\n",
       "        Missing_Cloud_Properties  Missing_Image  N/A  Other  \n",
<<<<<<< HEAD
       "66792                        0.0            0.0  1.0    0.0  \n",
       "96098                        0.0            0.0  1.0    0.0  \n",
       "94969                        0.0            0.0  1.0    0.0  \n",
       "148636                       0.0            0.0  1.0    0.0  \n",
       "168977                       0.0            0.0  1.0    0.0  \n",
=======
       "32949                        0.0            0.0  1.0    0.0  \n",
       "99663                        0.0            0.0  1.0    0.0  \n",
       "27597                        0.0            0.0  1.0    0.0  \n",
       "124619                       0.0            0.0  1.0    0.0  \n",
       "28978                        0.0            0.0  1.0    0.0  \n",
>>>>>>> 35ec56da5086c7a5497daa4c04fa07a730a51ebf
>>>>>>> 68a3f82277cf38fc0e73cd718c7aa741e6bec697
       "\n",
       "[5 rows x 29 columns]"
      ]
     },
     "execution_count": 17,
     "metadata": {},
     "output_type": "execute_result"
    }
   ],
   "source": [
    "data.sample(5)"
   ]
  },
  {
   "cell_type": "markdown",
   "id": "ff5a8e78",
   "metadata": {},
   "source": [
    "<a id=\"split\"></a> \n",
    "### 4.2 Split del set de entrenamiento\n",
    "En esta seccion crearemos los datos de entrenamiento y los vectores objetivos multi nivel, para finalemente comenzar con las estrategias de entrenamiento."
   ]
  },
  {
   "cell_type": "code",
   "execution_count": 18,
   "id": "7901341d",
   "metadata": {},
   "outputs": [],
   "source": [
    "X = data.drop(['Clearsky DHI', 'Clearsky DNI',\n",
    "       'Clearsky GHI'], axis=1)\n",
    "y = data[['Clearsky DHI', 'Clearsky DNI',\n",
    "       'Clearsky GHI']]\n",
    "\n",
    "X_train, X_test, y_train, y_test = train_test_split(X, y, random_state=12,  test_size=0.3)"
   ]
  },
  {
   "cell_type": "markdown",
   "id": "f3026383",
   "metadata": {},
   "source": [
    "<a id=\"matrix_corr\"></a> \n",
    "### 4.3. Matriz de correlación\n",
    "Escribir aquí...  **# TO-DO**"
   ]
  },
  {
   "cell_type": "code",
   "execution_count": 19,
   "id": "4ecad1c3",
   "metadata": {},
   "outputs": [
    {
     "data": {
      "text/plain": [
<<<<<<< HEAD
       "<matplotlib.axes._subplots.AxesSubplot at 0x2413e1cf388>"
=======
<<<<<<< HEAD
       "<AxesSubplot:>"
=======
       "<matplotlib.axes._subplots.AxesSubplot at 0x16b5d796488>"
>>>>>>> 35ec56da5086c7a5497daa4c04fa07a730a51ebf
>>>>>>> 68a3f82277cf38fc0e73cd718c7aa741e6bec697
      ]
     },
     "execution_count": 19,
     "metadata": {},
     "output_type": "execute_result"
    },
    {
     "data": {
<<<<<<< HEAD
      "image/png": "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\n",
=======
      "image/png": "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\n",
>>>>>>> 35ec56da5086c7a5497daa4c04fa07a730a51ebf
      "text/plain": [
       "<Figure size 1100x900 with 2 Axes>"
      ]
     },
     "metadata": {},
     "output_type": "display_data"
    }
   ],
   "source": [
    "correlacion = data.corr()\n",
    "\n",
    "# Generate a mask for the upper triangle\n",
    "mask = np.triu(np.ones_like(correlacion, dtype=bool))\n",
    "\n",
    "# Set up the matplotlib figure\n",
    "f, ax = plt.subplots(figsize=(11, 9))\n",
    "\n",
    "# Generate a custom diverging colormap\n",
    "cmap = sns.diverging_palette(200, 120, as_cmap=True)\n",
    "\n",
    "# Draw the heatmap with the mask and correct aspect ratio\n",
    "sns.heatmap(correlacion, mask=mask, cmap=cmap, vmax=1, center=0,\n",
    "            square=True, linewidths=.5, cbar_kws={\"shrink\": .5})"
   ]
  },
  {
   "cell_type": "markdown",
   "id": "7ca2033a",
   "metadata": {},
   "source": [
    "<a id=\"analisis_corr\"></a> \n",
    "### 4.4. Analisis preliminar de correlación\n",
    "\n",
    "En esta seccion podemos observar que antes de comenzar analizar diferentes modelos y métodos, es importante tener en cuenta que ya existe una relación entre las variables. Y puede ser determinante a la hora de utilizar un método u otro:\n",
    "\n",
    "#### Hora\n",
    "- relative humidity/ Hour\n",
    "- Solar Zenith Angle/ Hour\n",
    "- Clearsky DHI/ Hour\n",
    "- Clearsky DNI/ Hour\n",
    "- Clearsky GHI/ Hour\n",
    "\n",
    "#### Punto de rocío\n",
    "- Temperature/ Dew Point\n",
    "- Precipitable Water/ Dew Point\n",
    "\n",
    "#### Temperatura\n",
    "- Solar Zenith Angle/ Temperature\n",
    "- Precipitable Water/ Temperature\n",
    "- Clearsky DHI/ Temperature\n",
    "- Clearsky GHI/ Temperature\n",
    "\n",
    "#### Humedad relativa\n",
    "- Solar Zenith Angle/ Relative Humidity\n",
    "- Clearsky DHI/ Relative Humidity\n",
    "- Clearsky DNI/ Relative Humidity\n",
    "- Clearsky GHI/ Relative Humidity\n",
    "\n",
    "#### Ángulo de incidencia solar\n",
    "- Clearsky DHI/ Solar Zenith Angle\n",
    "- Clearsky DNI/ Solar Zenith Angle\n",
    "- Clearsky GHI/ Solar Zenith Angle\n",
    "\n",
    "#### Correlación entre los vectores objetivos\n",
    "- Clearsky DNI/ Clearsky DHI\n",
    "- Clearsky GHI/ Clearsky DHI\n",
    "- Clearsky GHI/ Clearsky DNI."
   ]
  },
  {
   "cell_type": "markdown",
   "id": "de3e0eeb",
   "metadata": {},
   "source": [
    "<a id=\"evaluacion_modelos\"></a>\n",
    "## 5. Evaluación de los Modelos\n",
    "---\n",
    "<a href='#tabla_contenidos'>Volver a la Tabla de Contenidos</a>"
   ]
  },
  {
   "cell_type": "markdown",
<<<<<<< HEAD
   "id": "7c0d4c77",
=======
<<<<<<< HEAD
   "id": "ddb950f1",
   "metadata": {},
   "source": [
    "<a id=\"pipeline_rfr\"></a> \n",
    "### 5.1. PipeLine [RandomForestRegressor]"
=======
   "id": "30f08a76",
>>>>>>> 68a3f82277cf38fc0e73cd718c7aa741e6bec697
   "metadata": {},
   "source": [
    "<a id=\"pipeline_rfr\"></a> \n",
    "### 5.10. PipeLine StandardScaler()+ KNeighborsClassifier()+ GridSearch"
   ]
  },
  {
   "cell_type": "code",
   "execution_count": 20,
   "id": "2da19353",
   "metadata": {},
   "outputs": [],
   "source": [
    "from sklearn.preprocessing import StandardScaler\n",
    "from sklearn.neighbors import KNeighborsRegressor\n",
    "from sklearn.pipeline import Pipeline\n",
    "from sklearn.model_selection import StratifiedKFold"
   ]
  },
  {
   "cell_type": "markdown",
   "id": "70e5e402",
   "metadata": {},
   "source": [
    "#### Generamos los pasos e instancias del pipeline, es decir operaciones en orden en forma de tuplas:"
>>>>>>> 35ec56da5086c7a5497daa4c04fa07a730a51ebf
   ]
  },
  {
   "cell_type": "code",
   "execution_count": 21,
   "id": "9f6b6e1a",
   "metadata": {},
   "outputs": [],
   "source": [
<<<<<<< HEAD
    "steps_rfr = [('scaler', StandardScaler()),\n",
    "             ('ensamble', RandomForestRegressor(bootstrap=True, n_jobs = -1, random_state = 127, max_samples= 0.3))]"
=======
    "steps_knc = [('scaler', StandardScaler()),\n",
<<<<<<< HEAD
    "             ('knn', KNeighborsRegressor())]"
=======
    "             ('knn', KNeighborsClassifier())]"
>>>>>>> 35ec56da5086c7a5497daa4c04fa07a730a51ebf
>>>>>>> 68a3f82277cf38fc0e73cd718c7aa741e6bec697
   ]
  },
  {
   "cell_type": "code",
   "execution_count": 22,
   "id": "70598d5a",
   "metadata": {},
   "outputs": [],
   "source": [
<<<<<<< HEAD
    "pipe_rfr = Pipeline(steps_rfr)"
=======
    "pipe_knc = Pipeline(steps_knc)"
>>>>>>> 35ec56da5086c7a5497daa4c04fa07a730a51ebf
   ]
  },
  {
   "cell_type": "code",
   "execution_count": 23,
   "id": "c6c1b969",
   "metadata": {},
   "outputs": [],
   "source": [
<<<<<<< HEAD
    "folds_rfr = StratifiedKFold(n_splits=5,shuffle=True, random_state=42)"
=======
    "folds_knc = StratifiedKFold(n_splits=5,shuffle=True, random_state=42)"
   ]
  },
  {
   "cell_type": "markdown",
   "id": "fdbb477b",
   "metadata": {},
   "source": [
    "#### Establezco los parametros del modelo:"
>>>>>>> 35ec56da5086c7a5497daa4c04fa07a730a51ebf
   ]
  },
  {
   "cell_type": "code",
   "execution_count": 24,
<<<<<<< HEAD
=======
   "id": "3acfd982",
   "metadata": {},
   "outputs": [
    {
     "data": {
      "text/plain": [
       "dict_keys(['algorithm', 'leaf_size', 'metric', 'metric_params', 'n_jobs', 'n_neighbors', 'p', 'weights'])"
      ]
     },
     "execution_count": 24,
     "metadata": {},
     "output_type": "execute_result"
    }
   ],
   "source": [
    "KNeighborsRegressor().get_params().keys() #veo que parametros puedo definir del modelo"
   ]
  },
  {
   "cell_type": "code",
<<<<<<< HEAD
   "execution_count": 25,
=======
   "execution_count": 26,
>>>>>>> 35ec56da5086c7a5497daa4c04fa07a730a51ebf
>>>>>>> 68a3f82277cf38fc0e73cd718c7aa741e6bec697
   "id": "dc01cf10",
   "metadata": {},
   "outputs": [],
   "source": [
<<<<<<< HEAD
    "params_rfr = {'scaler': [StandardScaler(), MinMaxScaler(), None],\n",
    "              'ensamble__n_estimators': range(50,100,10),\n",
    "              'ensamble__max_depth': range(2,10,1),\n",
    "              'ensamble__max_samples': range(1,10,1)}"
=======
    "params_knc = {'knn__n_neighbors':range(0, 4, 1),'knn__weights':['uniform','distance']}"
   ]
  },
  {
   "cell_type": "markdown",
   "id": "64d33f6d",
   "metadata": {},
   "source": [
    "#### Se instancia el metodo GridSearch con el pipeline, la grilla definida, método cross validation"
>>>>>>> 35ec56da5086c7a5497daa4c04fa07a730a51ebf
   ]
  },
  {
   "cell_type": "code",
<<<<<<< HEAD
   "execution_count": 26,
=======
<<<<<<< HEAD
   "execution_count": 25,
=======
   "execution_count": 27,
>>>>>>> 35ec56da5086c7a5497daa4c04fa07a730a51ebf
>>>>>>> 68a3f82277cf38fc0e73cd718c7aa741e6bec697
   "id": "da6f9cc6",
   "metadata": {},
   "outputs": [],
   "source": [
<<<<<<< HEAD
    "grid_rfr = GridSearchCV(pipe_rfr, params_rfr, cv=folds_rfr)"
=======
    "grid_knc = GridSearchCV(pipe_knc, params_knc, cv=folds_knc)"
   ]
  },
  {
   "cell_type": "markdown",
   "id": "7898a74b",
   "metadata": {},
   "source": [
    "#### Entreno el Pipeline para Clearsky DHI, Clearsky DNI y Clearsky GHI"
>>>>>>> 35ec56da5086c7a5497daa4c04fa07a730a51ebf
   ]
  },
  {
   "cell_type": "code",
<<<<<<< HEAD
   "execution_count": 27,
=======
<<<<<<< HEAD
   "execution_count": null,
=======
   "execution_count": 28,
>>>>>>> 35ec56da5086c7a5497daa4c04fa07a730a51ebf
>>>>>>> 68a3f82277cf38fc0e73cd718c7aa741e6bec697
   "id": "6055cb5a",
   "metadata": {},
   "outputs": [
    {
     "name": "stderr",
     "output_type": "stream",
     "text": [
<<<<<<< HEAD
      "C:\\Users\\ar037895\\Anaconda3\\envs\\dhdsblend2022\\lib\\site-packages\\sklearn\\model_selection\\_split.py:670: UserWarning: The least populated class in y has only 1 members, which is less than n_splits=5.\n",
      "  warnings.warn((\"The least populated class in y has only %d\"\n"
=======
      "C:\\Users\\Agustin_Garcia\\Anaconda3\\envs\\dhdsblend2021_geopandas\\lib\\site-packages\\sklearn\\model_selection\\_split.py:680: UserWarning: The least populated class in y has only 1 members, which is less than n_splits=5.\n",
      "  UserWarning,\n",
      "C:\\Users\\Agustin_Garcia\\Anaconda3\\envs\\dhdsblend2021_geopandas\\lib\\site-packages\\sklearn\\model_selection\\_validation.py:372: FitFailedWarning: \n",
      "10 fits failed out of a total of 40.\n",
      "The score on these train-test partitions for these parameters will be set to nan.\n",
      "If these failures are not expected, you can try to debug them by setting error_score='raise'.\n",
      "\n",
      "Below are more details about the failures:\n",
      "--------------------------------------------------------------------------------\n",
      "10 fits failed with the following error:\n",
      "Traceback (most recent call last):\n",
      "  File \"C:\\Users\\Agustin_Garcia\\Anaconda3\\envs\\dhdsblend2021_geopandas\\lib\\site-packages\\sklearn\\model_selection\\_validation.py\", line 680, in _fit_and_score\n",
      "    estimator.fit(X_train, y_train, **fit_params)\n",
      "  File \"C:\\Users\\Agustin_Garcia\\Anaconda3\\envs\\dhdsblend2021_geopandas\\lib\\site-packages\\sklearn\\pipeline.py\", line 394, in fit\n",
      "    self._final_estimator.fit(Xt, y, **fit_params_last_step)\n",
      "  File \"C:\\Users\\Agustin_Garcia\\Anaconda3\\envs\\dhdsblend2021_geopandas\\lib\\site-packages\\sklearn\\neighbors\\_regression.py\", line 213, in fit\n",
      "    return self._fit(X, y)\n",
      "  File \"C:\\Users\\Agustin_Garcia\\Anaconda3\\envs\\dhdsblend2021_geopandas\\lib\\site-packages\\sklearn\\neighbors\\_base.py\", line 569, in _fit\n",
      "    raise ValueError(\"Expected n_neighbors > 0. Got %d\" % self.n_neighbors)\n",
      "ValueError: Expected n_neighbors > 0. Got 0\n",
      "\n",
      "  warnings.warn(some_fits_failed_message, FitFailedWarning)\n",
      "C:\\Users\\Agustin_Garcia\\Anaconda3\\envs\\dhdsblend2021_geopandas\\lib\\site-packages\\sklearn\\model_selection\\_search.py:972: UserWarning: One or more of the test scores are non-finite: [       nan        nan 0.85393041 0.85393041 0.88607752 0.89168545\n",
      " 0.89288262 0.90104875]\n",
      "  category=UserWarning,\n"
>>>>>>> 35ec56da5086c7a5497daa4c04fa07a730a51ebf
     ]
    }
   ],
   "source": [
<<<<<<< HEAD
    "dhi = grid_rfr.fit(X_train, y_train['Clearsky DHI'])"
=======
    "dhi_knc = grid_knc.fit(X_train, y_train['Clearsky DHI'])"
>>>>>>> 35ec56da5086c7a5497daa4c04fa07a730a51ebf
   ]
  },
  {
   "cell_type": "code",
<<<<<<< HEAD
   "execution_count": 28,
=======
<<<<<<< HEAD
   "execution_count": null,
   "id": "b02e9651",
   "metadata": {},
   "outputs": [],
   "source": [
    "dhi.best_estimator_"
=======
   "execution_count": 29,
>>>>>>> 68a3f82277cf38fc0e73cd718c7aa741e6bec697
   "id": "b02e9651",
   "metadata": {},
   "outputs": [
    {
     "data": {
      "text/plain": [
       "Pipeline(steps=[('scaler', StandardScaler()),\n",
       "                ('knn',\n",
       "                 KNeighborsRegressor(n_neighbors=3, weights='distance'))])"
      ]
     },
     "execution_count": 28,
     "metadata": {},
     "output_type": "execute_result"
    }
   ],
   "source": [
    "dhi_knc.best_estimator_"
>>>>>>> 35ec56da5086c7a5497daa4c04fa07a730a51ebf
   ]
  },
  {
   "cell_type": "code",
<<<<<<< HEAD
   "execution_count": 29,
=======
<<<<<<< HEAD
   "execution_count": null,
   "id": "9e8aa6be",
   "metadata": {},
   "outputs": [],
   "source": [
    "dhi.best_score_"
=======
   "execution_count": 30,
>>>>>>> 68a3f82277cf38fc0e73cd718c7aa741e6bec697
   "id": "a17a7727",
   "metadata": {},
   "outputs": [
    {
     "data": {
      "text/plain": [
       "{'memory': None,\n",
       " 'steps': [('scaler', StandardScaler()),\n",
       "  ('knn', KNeighborsRegressor(n_neighbors=3, weights='distance'))],\n",
       " 'verbose': False,\n",
       " 'scaler': StandardScaler(),\n",
       " 'knn': KNeighborsRegressor(n_neighbors=3, weights='distance'),\n",
       " 'scaler__copy': True,\n",
       " 'scaler__with_mean': True,\n",
       " 'scaler__with_std': True,\n",
       " 'knn__algorithm': 'auto',\n",
       " 'knn__leaf_size': 30,\n",
       " 'knn__metric': 'minkowski',\n",
       " 'knn__metric_params': None,\n",
       " 'knn__n_jobs': None,\n",
       " 'knn__n_neighbors': 3,\n",
       " 'knn__p': 2,\n",
       " 'knn__weights': 'distance'}"
      ]
     },
     "execution_count": 29,
     "metadata": {},
     "output_type": "execute_result"
    }
   ],
   "source": [
    "dhi_knc.best_estimator_.get_params()"
   ]
  },
  {
   "cell_type": "code",
   "execution_count": 30,
   "id": "9e8aa6be",
   "metadata": {},
   "outputs": [
    {
     "data": {
      "text/plain": [
       "0.9010487542692911"
      ]
     },
     "execution_count": 30,
     "metadata": {},
     "output_type": "execute_result"
    }
   ],
   "source": [
    "dhi_knc.best_score_"
>>>>>>> 35ec56da5086c7a5497daa4c04fa07a730a51ebf
   ]
  },
  {
   "cell_type": "code",
<<<<<<< HEAD
   "execution_count": 31,
=======
<<<<<<< HEAD
   "execution_count": null,
   "id": "eb8db399",
   "metadata": {},
   "outputs": [],
   "source": [
    "dhi.best_params_"
=======
   "execution_count": 32,
>>>>>>> 68a3f82277cf38fc0e73cd718c7aa741e6bec697
   "id": "eb8db399",
   "metadata": {},
   "outputs": [
    {
     "data": {
      "text/plain": [
       "{'knn__n_neighbors': 3, 'knn__weights': 'distance'}"
      ]
     },
     "execution_count": 31,
     "metadata": {},
     "output_type": "execute_result"
    }
   ],
   "source": [
    "dhi_knc.best_params_"
>>>>>>> 35ec56da5086c7a5497daa4c04fa07a730a51ebf
   ]
  },
  {
   "cell_type": "code",
<<<<<<< HEAD
   "execution_count": 32,
=======
<<<<<<< HEAD
   "execution_count": null,
   "id": "efc21b90",
   "metadata": {},
   "outputs": [],
   "source": [
    "dni = grid_rfr.fit(X_train, y_train['Clearsky DNI'])"
=======
   "execution_count": 33,
>>>>>>> 68a3f82277cf38fc0e73cd718c7aa741e6bec697
   "id": "9a9f72a3",
   "metadata": {},
   "outputs": [],
   "source": [
    "# Verificar que el valor 2 es el mejor:\n",
    "#acc = dhi_knc.cv_results_[\"mean_test_score\"]\n",
    "#k_acc = pd.DataFrame({\"k_values\" : range(2,4,6), \"Accuracy\" : acc})\n",
    "#k_acc = k_acc.set_index(\"k_values\").transpose()\n",
    "#round(k_acc, 2)"
   ]
  },
  {
   "cell_type": "code",
   "execution_count": 33,
   "id": "efc21b90",
   "metadata": {},
   "outputs": [
    {
     "name": "stderr",
     "output_type": "stream",
     "text": [
      "C:\\Users\\Agustin_Garcia\\Anaconda3\\envs\\dhdsblend2021_geopandas\\lib\\site-packages\\sklearn\\model_selection\\_split.py:680: UserWarning: The least populated class in y has only 1 members, which is less than n_splits=5.\n",
      "  UserWarning,\n",
      "C:\\Users\\Agustin_Garcia\\Anaconda3\\envs\\dhdsblend2021_geopandas\\lib\\site-packages\\sklearn\\model_selection\\_validation.py:372: FitFailedWarning: \n",
      "10 fits failed out of a total of 40.\n",
      "The score on these train-test partitions for these parameters will be set to nan.\n",
      "If these failures are not expected, you can try to debug them by setting error_score='raise'.\n",
      "\n",
      "Below are more details about the failures:\n",
      "--------------------------------------------------------------------------------\n",
      "10 fits failed with the following error:\n",
      "Traceback (most recent call last):\n",
      "  File \"C:\\Users\\Agustin_Garcia\\Anaconda3\\envs\\dhdsblend2021_geopandas\\lib\\site-packages\\sklearn\\model_selection\\_validation.py\", line 680, in _fit_and_score\n",
      "    estimator.fit(X_train, y_train, **fit_params)\n",
      "  File \"C:\\Users\\Agustin_Garcia\\Anaconda3\\envs\\dhdsblend2021_geopandas\\lib\\site-packages\\sklearn\\pipeline.py\", line 394, in fit\n",
      "    self._final_estimator.fit(Xt, y, **fit_params_last_step)\n",
      "  File \"C:\\Users\\Agustin_Garcia\\Anaconda3\\envs\\dhdsblend2021_geopandas\\lib\\site-packages\\sklearn\\neighbors\\_regression.py\", line 213, in fit\n",
      "    return self._fit(X, y)\n",
      "  File \"C:\\Users\\Agustin_Garcia\\Anaconda3\\envs\\dhdsblend2021_geopandas\\lib\\site-packages\\sklearn\\neighbors\\_base.py\", line 569, in _fit\n",
      "    raise ValueError(\"Expected n_neighbors > 0. Got %d\" % self.n_neighbors)\n",
      "ValueError: Expected n_neighbors > 0. Got 0\n",
      "\n",
      "  warnings.warn(some_fits_failed_message, FitFailedWarning)\n",
      "C:\\Users\\Agustin_Garcia\\Anaconda3\\envs\\dhdsblend2021_geopandas\\lib\\site-packages\\sklearn\\model_selection\\_search.py:972: UserWarning: One or more of the test scores are non-finite: [       nan        nan 0.8745028  0.8745028  0.90862643 0.91108106\n",
      " 0.91782413 0.92122856]\n",
      "  category=UserWarning,\n"
     ]
    }
   ],
   "source": [
    "dni_knc = grid_knc.fit(X_train, y_train['Clearsky DNI'])"
>>>>>>> 35ec56da5086c7a5497daa4c04fa07a730a51ebf
   ]
  },
  {
   "cell_type": "code",
<<<<<<< HEAD
   "execution_count": 34,
=======
<<<<<<< HEAD
   "execution_count": null,
   "id": "e846d520",
   "metadata": {},
   "outputs": [],
   "source": [
    "dni.best_estimator_"
=======
   "execution_count": 35,
>>>>>>> 68a3f82277cf38fc0e73cd718c7aa741e6bec697
   "id": "823c5419",
   "metadata": {},
   "outputs": [
    {
     "data": {
      "text/plain": [
       "{'memory': None,\n",
       " 'steps': [('scaler', StandardScaler()),\n",
       "  ('knn', KNeighborsRegressor(n_neighbors=3, weights='distance'))],\n",
       " 'verbose': False,\n",
       " 'scaler': StandardScaler(),\n",
       " 'knn': KNeighborsRegressor(n_neighbors=3, weights='distance'),\n",
       " 'scaler__copy': True,\n",
       " 'scaler__with_mean': True,\n",
       " 'scaler__with_std': True,\n",
       " 'knn__algorithm': 'auto',\n",
       " 'knn__leaf_size': 30,\n",
       " 'knn__metric': 'minkowski',\n",
       " 'knn__metric_params': None,\n",
       " 'knn__n_jobs': None,\n",
       " 'knn__n_neighbors': 3,\n",
       " 'knn__p': 2,\n",
       " 'knn__weights': 'distance'}"
      ]
     },
     "execution_count": 34,
     "metadata": {},
     "output_type": "execute_result"
    }
   ],
   "source": [
    "dni_knc.best_estimator_.get_params()"
   ]
  },
  {
   "cell_type": "code",
   "execution_count": 35,
   "id": "e846d520",
   "metadata": {},
   "outputs": [
    {
     "data": {
      "text/plain": [
       "Pipeline(steps=[('scaler', StandardScaler()),\n",
       "                ('knn',\n",
       "                 KNeighborsRegressor(n_neighbors=3, weights='distance'))])"
      ]
     },
     "execution_count": 35,
     "metadata": {},
     "output_type": "execute_result"
    }
   ],
   "source": [
    "dni_knc.best_estimator_"
>>>>>>> 35ec56da5086c7a5497daa4c04fa07a730a51ebf
   ]
  },
  {
   "cell_type": "code",
<<<<<<< HEAD
   "execution_count": 36,
=======
<<<<<<< HEAD
   "execution_count": null,
   "id": "ae36faec",
   "metadata": {},
   "outputs": [],
   "source": [
    "dni.best_score_"
=======
   "execution_count": 37,
>>>>>>> 68a3f82277cf38fc0e73cd718c7aa741e6bec697
   "id": "ae36faec",
   "metadata": {},
   "outputs": [
    {
     "data": {
      "text/plain": [
       "0.9212285563852485"
      ]
     },
     "execution_count": 36,
     "metadata": {},
     "output_type": "execute_result"
    }
   ],
   "source": [
    "dni_knc.best_score_"
>>>>>>> 35ec56da5086c7a5497daa4c04fa07a730a51ebf
   ]
  },
  {
   "cell_type": "code",
<<<<<<< HEAD
   "execution_count": 37,
=======
<<<<<<< HEAD
   "execution_count": null,
   "id": "4b876b41",
   "metadata": {},
   "outputs": [],
   "source": [
    "dni.best_params_"
=======
   "execution_count": 38,
>>>>>>> 68a3f82277cf38fc0e73cd718c7aa741e6bec697
   "id": "4b876b41",
   "metadata": {},
   "outputs": [
    {
     "data": {
      "text/plain": [
       "{'knn__n_neighbors': 3, 'knn__weights': 'distance'}"
      ]
     },
     "execution_count": 37,
     "metadata": {},
     "output_type": "execute_result"
    }
   ],
   "source": [
    "dni_knc.best_params_"
>>>>>>> 35ec56da5086c7a5497daa4c04fa07a730a51ebf
   ]
  },
  {
   "cell_type": "code",
<<<<<<< HEAD
   "execution_count": 38,
=======
<<<<<<< HEAD
   "execution_count": null,
   "id": "a0489067",
   "metadata": {},
   "outputs": [],
   "source": [
    "ghi = grid_rfr.fit(X_train, y_train['Clearsky GHI'])"
=======
   "execution_count": 39,
>>>>>>> 68a3f82277cf38fc0e73cd718c7aa741e6bec697
   "id": "a0489067",
   "metadata": {},
   "outputs": [
    {
     "name": "stderr",
     "output_type": "stream",
     "text": [
      "C:\\Users\\Agustin_Garcia\\Anaconda3\\envs\\dhdsblend2021_geopandas\\lib\\site-packages\\sklearn\\model_selection\\_split.py:680: UserWarning: The least populated class in y has only 1 members, which is less than n_splits=5.\n",
      "  UserWarning,\n",
      "C:\\Users\\Agustin_Garcia\\Anaconda3\\envs\\dhdsblend2021_geopandas\\lib\\site-packages\\sklearn\\model_selection\\_validation.py:372: FitFailedWarning: \n",
      "10 fits failed out of a total of 40.\n",
      "The score on these train-test partitions for these parameters will be set to nan.\n",
      "If these failures are not expected, you can try to debug them by setting error_score='raise'.\n",
      "\n",
      "Below are more details about the failures:\n",
      "--------------------------------------------------------------------------------\n",
      "10 fits failed with the following error:\n",
      "Traceback (most recent call last):\n",
      "  File \"C:\\Users\\Agustin_Garcia\\Anaconda3\\envs\\dhdsblend2021_geopandas\\lib\\site-packages\\sklearn\\model_selection\\_validation.py\", line 680, in _fit_and_score\n",
      "    estimator.fit(X_train, y_train, **fit_params)\n",
      "  File \"C:\\Users\\Agustin_Garcia\\Anaconda3\\envs\\dhdsblend2021_geopandas\\lib\\site-packages\\sklearn\\pipeline.py\", line 394, in fit\n",
      "    self._final_estimator.fit(Xt, y, **fit_params_last_step)\n",
      "  File \"C:\\Users\\Agustin_Garcia\\Anaconda3\\envs\\dhdsblend2021_geopandas\\lib\\site-packages\\sklearn\\neighbors\\_regression.py\", line 213, in fit\n",
      "    return self._fit(X, y)\n",
      "  File \"C:\\Users\\Agustin_Garcia\\Anaconda3\\envs\\dhdsblend2021_geopandas\\lib\\site-packages\\sklearn\\neighbors\\_base.py\", line 569, in _fit\n",
      "    raise ValueError(\"Expected n_neighbors > 0. Got %d\" % self.n_neighbors)\n",
      "ValueError: Expected n_neighbors > 0. Got 0\n",
      "\n",
      "  warnings.warn(some_fits_failed_message, FitFailedWarning)\n",
      "C:\\Users\\Agustin_Garcia\\Anaconda3\\envs\\dhdsblend2021_geopandas\\lib\\site-packages\\sklearn\\model_selection\\_search.py:972: UserWarning: One or more of the test scores are non-finite: [       nan        nan 0.87396625 0.87396625 0.91028439 0.91399555\n",
      " 0.91915239 0.92422166]\n",
      "  category=UserWarning,\n"
     ]
    }
   ],
   "source": [
    "ghi_knc = grid_knc.fit(X_train, y_train['Clearsky GHI'])"
>>>>>>> 35ec56da5086c7a5497daa4c04fa07a730a51ebf
   ]
  },
  {
   "cell_type": "code",
<<<<<<< HEAD
   "execution_count": 39,
=======
<<<<<<< HEAD
   "execution_count": null,
   "id": "2a1ed4d3",
   "metadata": {},
   "outputs": [],
   "source": [
    "ghi.best_estimator_"
=======
   "execution_count": 40,
>>>>>>> 68a3f82277cf38fc0e73cd718c7aa741e6bec697
   "id": "401e78a5",
   "metadata": {},
   "outputs": [
    {
     "data": {
      "text/plain": [
       "{'memory': None,\n",
       " 'steps': [('scaler', StandardScaler()),\n",
       "  ('knn', KNeighborsRegressor(n_neighbors=3, weights='distance'))],\n",
       " 'verbose': False,\n",
       " 'scaler': StandardScaler(),\n",
       " 'knn': KNeighborsRegressor(n_neighbors=3, weights='distance'),\n",
       " 'scaler__copy': True,\n",
       " 'scaler__with_mean': True,\n",
       " 'scaler__with_std': True,\n",
       " 'knn__algorithm': 'auto',\n",
       " 'knn__leaf_size': 30,\n",
       " 'knn__metric': 'minkowski',\n",
       " 'knn__metric_params': None,\n",
       " 'knn__n_jobs': None,\n",
       " 'knn__n_neighbors': 3,\n",
       " 'knn__p': 2,\n",
       " 'knn__weights': 'distance'}"
      ]
     },
     "execution_count": 39,
     "metadata": {},
     "output_type": "execute_result"
    }
   ],
   "source": [
    "ghi_knc.best_estimator_.get_params()"
   ]
  },
  {
   "cell_type": "code",
   "execution_count": 40,
   "id": "2a1ed4d3",
   "metadata": {},
   "outputs": [
    {
     "data": {
      "text/plain": [
       "Pipeline(steps=[('scaler', StandardScaler()),\n",
       "                ('knn',\n",
       "                 KNeighborsRegressor(n_neighbors=3, weights='distance'))])"
      ]
     },
     "execution_count": 40,
     "metadata": {},
     "output_type": "execute_result"
    }
   ],
   "source": [
    "ghi_knc.best_estimator_"
>>>>>>> 35ec56da5086c7a5497daa4c04fa07a730a51ebf
   ]
  },
  {
   "cell_type": "code",
<<<<<<< HEAD
   "execution_count": 41,
=======
<<<<<<< HEAD
   "execution_count": null,
   "id": "2abb42d3",
   "metadata": {},
   "outputs": [],
   "source": [
    "ghi.best_score_"
=======
   "execution_count": 42,
>>>>>>> 68a3f82277cf38fc0e73cd718c7aa741e6bec697
   "id": "2abb42d3",
   "metadata": {},
   "outputs": [
    {
     "data": {
      "text/plain": [
       "0.924221661165031"
      ]
     },
     "execution_count": 41,
     "metadata": {},
     "output_type": "execute_result"
    }
   ],
   "source": [
    "ghi_knc.best_score_"
>>>>>>> 35ec56da5086c7a5497daa4c04fa07a730a51ebf
   ]
  },
  {
   "cell_type": "code",
<<<<<<< HEAD
   "execution_count": 42,
=======
<<<<<<< HEAD
   "execution_count": null,
   "id": "bd9214e8",
   "metadata": {},
   "outputs": [],
   "source": [
    "ghi.best_params_"
=======
   "execution_count": 43,
>>>>>>> 68a3f82277cf38fc0e73cd718c7aa741e6bec697
   "id": "bd9214e8",
   "metadata": {},
   "outputs": [
    {
     "data": {
      "text/plain": [
       "{'knn__n_neighbors': 3, 'knn__weights': 'distance'}"
      ]
     },
     "execution_count": 42,
     "metadata": {},
     "output_type": "execute_result"
    }
   ],
   "source": [
    "ghi_knc.best_params_"
>>>>>>> 35ec56da5086c7a5497daa4c04fa07a730a51ebf
   ]
  },
  {
   "cell_type": "markdown",
<<<<<<< HEAD
   "id": "c0fdc797",
   "metadata": {},
   "source": [
    "<a id=\"features_imp_rfr\"></a> \n",
    "### 5.2. Features Importance [RandomForestRegressor]"
=======
   "id": "d5822f11",
   "metadata": {},
   "source": [
    "<a id=\"features_imp_rfr\"></a> \n",
    "### 5.2. Features Importance StandardScaler()+ KNeighborsClassifier()+ GridSearch"
   ]
  },
  {
   "cell_type": "code",
   "execution_count": 43,
   "id": "2f86e44b",
   "metadata": {},
   "outputs": [],
   "source": [
<<<<<<< HEAD
    "#dhi_features_knc = pd.DataFrame({'atributo':X_train.columns, 'importancia': dhi_knc.best_estimator_.steps[1][1]})\n",
    "#dhi_features_knc.sort_values('importancia', ascending = False).iloc[0:5, :]"
=======
    "dhi_features_knc = pd.DataFrame({'atributo':X_train.columns, 'importancia': dhi_knc.best_estimator_.steps[1][1]})\n",
    "dhi_features_knc.sort_values('importancia', ascending = False).iloc[0:5, :]"
>>>>>>> 35ec56da5086c7a5497daa4c04fa07a730a51ebf
>>>>>>> 68a3f82277cf38fc0e73cd718c7aa741e6bec697
   ]
  },
  {
   "cell_type": "code",
   "execution_count": null,
<<<<<<< HEAD
   "id": "2f86e44b",
=======
   "id": "c6d12129",
   "metadata": {},
   "outputs": [],
   "source": [
    "#dni_features_knc = pd.DataFrame({'atributo':X_train.columns, 'importancia': dni_knc.best_estimator_.steps[1][1].feature_importances_})\n",
    "#dni_features_knc.sort_values('importancia', ascending = False).iloc[0:5, :]"
   ]
  },
  {
   "cell_type": "code",
   "execution_count": null,
   "id": "57b85531",
   "metadata": {},
   "outputs": [],
   "source": [
    "#ghi_features_knc = pd.DataFrame({'atributo':X_train.columns, 'importancia': ghi_knc.best_estimator_.steps[1][1].feature_importances_})\n",
    "#ghi_features_knc.sort_values('importancia', ascending = False).iloc[0:5, :]"
   ]
  },
  {
   "cell_type": "markdown",
   "id": "daf1fd53",
   "metadata": {},
   "source": [
    "### 5.5. Entrenamiento con parámetros de mejor performance [DataSet Completo] StandardScaler()+ KNeighborsClassifier()+ GridSearch"
   ]
  },
  {
   "cell_type": "code",
   "execution_count": 44,
   "id": "9ca82462",
   "metadata": {},
   "outputs": [],
   "source": [
    "X = data.drop(['Clearsky DHI', 'Clearsky DNI',\n",
    "       'Clearsky GHI'], axis=1)\n",
    "y = data[['Clearsky DHI', 'Clearsky DNI',\n",
    "       'Clearsky GHI']]\n",
    "\n",
    "X_train, X_test, y_train, y_test = train_test_split(X, y, random_state=12,  test_size=0.3)"
   ]
  },
  {
   "cell_type": "code",
   "execution_count": 45,
   "id": "0371f89b",
   "metadata": {},
   "outputs": [
    {
     "name": "stdout",
     "output_type": "stream",
     "text": [
      "X_train: (122707, 26)\n",
      "y_train: (122707, 3)\n",
      "X_test: (52589, 26)\n",
      "y_test: (52589, 3)\n"
     ]
    }
   ],
   "source": [
    "print(f'X_train: {X_train.shape}')\n",
    "print(f'y_train: {y_train.shape}')\n",
    "print(f'X_test: {X_test.shape}')\n",
    "print(f'y_test: {y_test.shape}')"
   ]
  },
  {
   "cell_type": "markdown",
   "id": "67cbce8b",
   "metadata": {},
   "source": [
    "#### StandardScaler()+ KNeighborsClassifier()+ GridSearch"
   ]
  },
  {
   "cell_type": "code",
   "execution_count": 46,
   "id": "bc3ba062",
   "metadata": {},
   "outputs": [],
   "source": [
    "dhi_steps_knc = [('scaler', StandardScaler()),\n",
    "             ('knn', KNeighborsRegressor())]"
   ]
  },
  {
   "cell_type": "code",
   "execution_count": 47,
   "id": "3b256b83",
   "metadata": {},
   "outputs": [],
   "source": [
    "dhi_pipe_knc = Pipeline(dhi_steps_knc)"
   ]
  },
  {
   "cell_type": "code",
   "execution_count": 48,
   "id": "625ce201",
   "metadata": {},
   "outputs": [
    {
     "data": {
      "text/plain": [
       "Pipeline(steps=[('scaler', StandardScaler()),\n",
       "                ('knn', KNeighborsRegressor(n_neighbors=3))])"
      ]
     },
     "execution_count": 48,
     "metadata": {},
     "output_type": "execute_result"
    }
   ],
   "source": [
    "dhi_pipe_knc.set_params(knn__algorithm = \"auto\",\n",
    "                        knn__leaf_size = 30,\n",
    "                        knn__metric = \"minkowski\",\n",
    "                        knn__metric_params = None,\n",
    "                        knn__n_jobs = None,\n",
    "                        knn__n_neighbors = 3,\n",
    "                        knn__p = 2,\n",
    "                        knn__weights = \"uniform\")"
   ]
  },
  {
   "cell_type": "code",
   "execution_count": 49,
   "id": "40692d6f",
   "metadata": {},
   "outputs": [],
   "source": [
    "dhi_complet_knc = dhi_pipe_knc.fit(X_train, y_train['Clearsky DHI'])"
   ]
  },
  {
   "cell_type": "code",
   "execution_count": 50,
   "id": "234b1e03",
   "metadata": {},
   "outputs": [
    {
     "data": {
      "text/plain": [
       "0.9014914254476143"
      ]
     },
     "execution_count": 50,
     "metadata": {},
     "output_type": "execute_result"
    }
   ],
   "source": [
    "dhi_complet_knc.score(X_test, y_test['Clearsky DHI'])"
   ]
  },
  {
   "cell_type": "code",
   "execution_count": 51,
   "id": "f18b7fec",
   "metadata": {},
   "outputs": [],
   "source": [
    "dni_steps_knc = [('scaler', StandardScaler()),\n",
    "             ('knn', KNeighborsRegressor())]"
   ]
  },
  {
   "cell_type": "code",
   "execution_count": 52,
   "id": "d3b02dcd",
   "metadata": {},
   "outputs": [],
   "source": [
    "dni_pipe_knc = Pipeline(dni_steps_knc)"
   ]
  },
  {
   "cell_type": "code",
   "execution_count": 53,
   "id": "91aadfca",
   "metadata": {},
   "outputs": [
    {
     "data": {
      "text/plain": [
       "Pipeline(steps=[('scaler', StandardScaler()),\n",
       "                ('knn', KNeighborsRegressor(n_neighbors=3))])"
      ]
     },
     "execution_count": 53,
     "metadata": {},
     "output_type": "execute_result"
    }
   ],
   "source": [
    "dni_pipe_knc.set_params(knn__algorithm = \"auto\",\n",
    "                        knn__leaf_size = 30,\n",
    "                        knn__metric = \"minkowski\",\n",
    "                        knn__metric_params = None,\n",
    "                        knn__n_jobs = None,\n",
    "                        knn__n_neighbors = 3,\n",
    "                        knn__p = 2,\n",
    "                        knn__weights = \"uniform\")"
   ]
  },
  {
   "cell_type": "code",
   "execution_count": 54,
   "id": "e996e276",
   "metadata": {},
   "outputs": [],
   "source": [
    "dni_complet_knc = dni_pipe_knc.fit(X_train, y_train['Clearsky DNI'])"
   ]
  },
  {
   "cell_type": "code",
   "execution_count": 55,
   "id": "15a3df71",
   "metadata": {},
   "outputs": [
    {
     "data": {
      "text/plain": [
       "0.9219679973105154"
      ]
     },
     "execution_count": 55,
     "metadata": {},
     "output_type": "execute_result"
    }
   ],
   "source": [
    "dni_complet_knc.score(X_test, y_test['Clearsky DNI'])"
   ]
  },
  {
   "cell_type": "code",
   "execution_count": 56,
   "id": "11dc226e",
   "metadata": {},
   "outputs": [],
   "source": [
    "ghi_steps_knc = [('scaler', StandardScaler()),\n",
    "             ('knn', KNeighborsRegressor())]"
   ]
  },
  {
   "cell_type": "code",
   "execution_count": 57,
   "id": "649f211b",
   "metadata": {},
   "outputs": [],
   "source": [
    "ghi_pipe_knc = Pipeline(ghi_steps_knc)"
   ]
  },
  {
   "cell_type": "code",
   "execution_count": 58,
   "id": "6b2dd835",
   "metadata": {},
   "outputs": [
    {
     "data": {
      "text/plain": [
       "Pipeline(steps=[('scaler', StandardScaler()),\n",
       "                ('knn', KNeighborsClassifier(n_neighbors=3))])"
      ]
     },
     "execution_count": 58,
     "metadata": {},
     "output_type": "execute_result"
    }
   ],
   "source": [
    "ghi_pipe_knc.set_params(knn__algorithm = \"auto\",\n",
    "                        knn__leaf_size = 30,\n",
    "                        knn__metric = \"minkowski\",\n",
    "                        knn__metric_params = None,\n",
    "                        knn__n_jobs = None,\n",
    "                        knn__n_neighbors = 3,\n",
    "                        knn__p = 2,\n",
    "                        knn__weights = \"uniform\")"
   ]
  },
  {
   "cell_type": "code",
   "execution_count": 59,
   "id": "52004bce",
   "metadata": {},
   "outputs": [],
   "source": [
    "ghi_complet_knc = ghi_pipe_knc.fit(X_train, y_train['Clearsky GHI'])"
   ]
  },
  {
   "cell_type": "code",
   "execution_count": 60,
   "id": "4b576081",
   "metadata": {},
   "outputs": [
    {
     "data": {
      "text/plain": [
       "0.503070984426401"
      ]
     },
     "execution_count": 60,
     "metadata": {},
     "output_type": "execute_result"
    }
   ],
   "source": [
    "ghi_complet_knc.score(X_test, y_test['Clearsky GHI'])"
   ]
  },
  {
   "cell_type": "markdown",
   "id": "101b7801",
   "metadata": {},
   "source": [
    "#### 5.5. Resumen de métricas:"
   ]
  },
  {
   "cell_type": "markdown",
   "id": "9b09c1cb",
   "metadata": {},
   "source": [
    "#### StandardScaler()+ KNeighborsClassifier()+ GridSearch"
   ]
  },
  {
   "cell_type": "code",
   "execution_count": 61,
   "id": "5f13013a",
   "metadata": {},
   "outputs": [
    {
     "name": "stdout",
     "output_type": "stream",
     "text": [
      "Random Forest Regressor\n",
      "-------------------------------\n",
      "DHI score: 0.5063035996120862\n",
      "DNI score: 0.5017208922017913\n",
      "GHI score: 0.503070984426401\n"
     ]
    }
   ],
   "source": [
    "print('Random Forest Regressor')\n",
    "print('-------------------------------')\n",
    "print('DHI score:', dhi_complet_knc.score(X_test, y_test['Clearsky DHI']))\n",
    "print('DNI score:', dni_complet_knc.score(X_test, y_test['Clearsky DNI']))\n",
    "print('GHI score:', ghi_complet_knc.score(X_test, y_test['Clearsky GHI']))"
   ]
  },
  {
   "cell_type": "code",
   "execution_count": 62,
   "id": "26a7710c",
   "metadata": {},
   "outputs": [],
   "source": [
    "dhi_pred_knc = dhi_complet_knc.predict(X_test)"
   ]
  },
  {
   "cell_type": "code",
   "execution_count": 63,
   "id": "ba307dcf",
   "metadata": {},
   "outputs": [
    {
     "name": "stdout",
     "output_type": "stream",
     "text": [
      "              precision    recall  f1-score   support\n",
      "\n",
      "           0       0.91      0.99      0.95     26565\n",
      "           1       0.00      0.00      0.00         5\n",
      "           2       0.03      0.06      0.04        18\n",
      "           3       0.04      0.07      0.05        14\n",
      "           4       0.06      0.08      0.07        24\n",
      "           5       0.04      0.08      0.05        12\n",
      "           6       0.03      0.06      0.04        16\n",
      "           7       0.05      0.08      0.06        24\n",
      "           8       0.05      0.08      0.06        36\n",
      "           9       0.03      0.05      0.03        43\n",
      "          10       0.06      0.07      0.06        61\n",
      "          11       0.04      0.03      0.04        89\n",
      "          12       0.05      0.04      0.04        75\n",
      "          13       0.03      0.03      0.03        67\n",
      "          14       0.01      0.01      0.01        74\n",
      "          15       0.03      0.04      0.04        47\n",
      "          16       0.01      0.02      0.02        55\n",
      "          17       0.00      0.00      0.00        57\n",
      "          18       0.08      0.10      0.09        51\n",
      "          19       0.00      0.00      0.00        58\n",
      "          20       0.04      0.05      0.04        64\n",
      "          21       0.03      0.04      0.03        57\n",
      "          22       0.02      0.01      0.02        73\n",
      "          23       0.03      0.03      0.03        64\n",
      "          24       0.02      0.03      0.02        72\n",
      "          25       0.05      0.05      0.05        64\n",
      "          26       0.04      0.05      0.04        84\n",
      "          27       0.03      0.03      0.03        65\n",
      "          28       0.04      0.05      0.04        73\n",
      "          29       0.03      0.04      0.03        85\n",
      "          30       0.02      0.03      0.02        76\n",
      "          31       0.01      0.01      0.01        86\n",
      "          32       0.00      0.00      0.00        67\n",
      "          33       0.01      0.02      0.02        61\n",
      "          34       0.00      0.00      0.00        75\n",
      "          35       0.04      0.05      0.04        78\n",
      "          36       0.01      0.02      0.01        62\n",
      "          37       0.02      0.03      0.03        60\n",
      "          38       0.00      0.00      0.00        63\n",
      "          39       0.00      0.00      0.00        86\n",
      "          40       0.00      0.00      0.00        70\n",
      "          41       0.02      0.01      0.01        92\n",
      "          42       0.03      0.03      0.03        99\n",
      "          43       0.02      0.02      0.02        84\n",
      "          44       0.00      0.00      0.00        79\n",
      "          45       0.01      0.01      0.01        85\n",
      "          46       0.02      0.02      0.02       100\n",
      "          47       0.01      0.01      0.01       121\n",
      "          48       0.02      0.02      0.02        98\n",
      "          49       0.01      0.01      0.01       101\n",
      "          50       0.01      0.01      0.01        94\n",
      "          51       0.01      0.01      0.01       102\n",
      "          52       0.01      0.01      0.01       113\n",
      "          53       0.01      0.01      0.01       100\n",
      "          54       0.01      0.01      0.01       114\n",
      "          55       0.00      0.00      0.00        96\n",
      "          56       0.01      0.01      0.01       109\n",
      "          57       0.02      0.02      0.02       110\n",
      "          58       0.01      0.01      0.01       108\n",
      "          59       0.00      0.00      0.00       126\n",
      "          60       0.01      0.01      0.01       126\n",
      "          61       0.01      0.01      0.01       137\n",
      "          62       0.00      0.00      0.00       148\n",
      "          63       0.02      0.02      0.02       144\n",
      "          64       0.03      0.03      0.03       149\n",
      "          65       0.02      0.02      0.02       159\n",
      "          66       0.01      0.01      0.01       170\n",
      "          67       0.01      0.01      0.01       143\n",
      "          68       0.01      0.01      0.01       173\n",
      "          69       0.01      0.01      0.01       176\n",
      "          70       0.02      0.02      0.02       176\n",
      "          71       0.00      0.01      0.00       176\n",
      "          72       0.02      0.03      0.03       163\n",
      "          73       0.01      0.02      0.02       188\n",
      "          74       0.02      0.02      0.02       180\n",
      "          75       0.01      0.02      0.01       180\n",
      "          76       0.02      0.02      0.02       227\n",
      "          77       0.02      0.02      0.02       207\n",
      "          78       0.02      0.02      0.02       234\n",
      "          79       0.00      0.00      0.00       221\n",
      "          80       0.01      0.01      0.01       227\n",
      "          81       0.03      0.04      0.03       218\n",
      "          82       0.04      0.05      0.05       216\n",
      "          83       0.03      0.03      0.03       228\n",
      "          84       0.01      0.01      0.01       248\n",
      "          85       0.01      0.01      0.01       232\n",
      "          86       0.02      0.02      0.02       239\n",
      "          87       0.01      0.02      0.02       199\n",
      "          88       0.01      0.01      0.01       235\n",
      "          89       0.00      0.00      0.00       236\n",
      "          90       0.01      0.01      0.01       247\n",
      "          91       0.01      0.01      0.01       252\n",
      "          92       0.00      0.00      0.00       204\n",
      "          93       0.01      0.01      0.01       203\n",
      "          94       0.01      0.01      0.01       218\n",
      "          95       0.02      0.02      0.02       235\n",
      "          96       0.02      0.02      0.02       229\n",
      "          97       0.00      0.00      0.00       221\n",
      "          98       0.00      0.00      0.00       223\n",
      "          99       0.01      0.01      0.01       206\n",
      "         100       0.01      0.01      0.01       209\n",
      "         101       0.01      0.01      0.01       215\n",
      "         102       0.01      0.00      0.01       217\n",
      "         103       0.00      0.01      0.00       198\n",
      "         104       0.02      0.01      0.01       238\n",
      "         105       0.01      0.01      0.01       202\n",
      "         106       0.01      0.00      0.00       233\n",
      "         107       0.00      0.00      0.00       206\n",
      "         108       0.02      0.02      0.02       247\n",
      "         109       0.02      0.02      0.02       203\n",
      "         110       0.01      0.01      0.01       165\n",
      "         111       0.01      0.02      0.02       173\n",
      "         112       0.00      0.01      0.01       193\n",
      "         113       0.01      0.01      0.01       179\n",
      "         114       0.01      0.01      0.01       193\n",
      "         115       0.00      0.00      0.00       218\n",
      "         116       0.01      0.01      0.01       202\n",
      "         117       0.01      0.00      0.00       202\n",
      "         118       0.02      0.02      0.02       233\n",
      "         119       0.00      0.01      0.01       187\n",
      "         120       0.02      0.02      0.02       194\n",
      "         121       0.02      0.01      0.02       200\n",
      "         122       0.01      0.00      0.00       210\n",
      "         123       0.02      0.02      0.02       181\n",
      "         124       0.01      0.01      0.01       170\n",
      "         125       0.00      0.01      0.01       184\n",
      "         126       0.00      0.00      0.00       206\n",
      "         127       0.02      0.02      0.02       177\n",
      "         128       0.01      0.01      0.01       205\n",
      "         129       0.01      0.01      0.01       191\n",
      "         130       0.02      0.02      0.02       175\n",
      "         131       0.02      0.01      0.02       203\n",
      "         132       0.02      0.02      0.02       163\n",
      "         133       0.00      0.00      0.00       146\n",
      "         134       0.01      0.01      0.01       169\n",
      "         135       0.01      0.01      0.01       151\n",
      "         136       0.02      0.01      0.01       153\n",
      "         137       0.04      0.04      0.04       169\n",
      "         138       0.00      0.00      0.00       162\n",
      "         139       0.01      0.01      0.01       151\n",
      "         140       0.01      0.01      0.01       169\n",
      "         141       0.01      0.01      0.01       139\n",
      "         142       0.01      0.01      0.01       155\n",
      "         143       0.01      0.01      0.01       168\n",
      "         144       0.00      0.00      0.00       129\n",
      "         145       0.01      0.01      0.01       143\n",
      "         146       0.01      0.01      0.01       133\n",
      "         147       0.02      0.02      0.02       132\n",
      "         148       0.00      0.00      0.00       125\n",
      "         149       0.01      0.01      0.01       116\n",
      "         150       0.01      0.01      0.01       111\n",
      "         151       0.03      0.02      0.02       114\n",
      "         152       0.00      0.00      0.00       133\n",
      "         153       0.03      0.02      0.02       121\n",
      "         154       0.00      0.00      0.00       123\n",
      "         155       0.00      0.00      0.00       121\n",
      "         156       0.02      0.01      0.01        93\n",
      "         157       0.00      0.00      0.00        95\n",
      "         158       0.02      0.01      0.01        93\n",
      "         159       0.02      0.01      0.01       102\n",
      "         160       0.00      0.00      0.00        82\n",
      "         161       0.00      0.00      0.00        98\n",
      "         162       0.03      0.02      0.03        88\n",
      "         163       0.00      0.00      0.00        77\n",
      "         164       0.02      0.01      0.01        98\n",
      "         165       0.00      0.00      0.00        85\n",
      "         166       0.00      0.00      0.00        77\n",
      "         167       0.00      0.00      0.00       116\n",
      "         168       0.00      0.00      0.00        88\n",
      "         169       0.03      0.01      0.02        81\n",
      "         170       0.00      0.00      0.00        78\n",
      "         171       0.00      0.00      0.00        84\n",
      "         172       0.00      0.00      0.00        78\n",
      "         173       0.02      0.02      0.02        60\n",
      "         174       0.00      0.00      0.00        79\n",
      "         175       0.00      0.00      0.00        61\n",
      "         176       0.00      0.00      0.00        60\n",
      "         177       0.00      0.00      0.00        64\n",
      "         178       0.00      0.00      0.00        61\n",
      "         179       0.04      0.02      0.02        62\n",
      "         180       0.03      0.03      0.03        40\n",
      "         181       0.00      0.00      0.00        52\n",
      "         182       0.00      0.00      0.00        41\n",
      "         183       0.00      0.00      0.00        49\n",
      "         184       0.00      0.00      0.00        52\n",
      "         185       0.00      0.00      0.00        53\n",
      "         186       0.00      0.00      0.00        47\n",
      "         187       0.00      0.00      0.00        62\n",
      "         188       0.00      0.00      0.00        44\n",
      "         189       0.00      0.00      0.00        55\n",
      "         190       0.00      0.00      0.00        42\n",
      "         191       0.00      0.00      0.00        34\n",
      "         192       0.00      0.00      0.00        52\n",
      "         193       0.00      0.00      0.00        44\n",
      "         194       0.00      0.00      0.00        52\n",
      "         195       0.00      0.00      0.00        37\n",
      "         196       0.00      0.00      0.00        38\n",
      "         197       0.00      0.00      0.00        39\n",
      "         198       0.00      0.00      0.00        35\n",
      "         199       0.00      0.00      0.00        34\n",
      "         200       0.00      0.00      0.00        38\n",
      "         201       0.00      0.00      0.00        31\n",
      "         202       0.00      0.00      0.00        38\n",
      "         203       0.00      0.00      0.00        20\n",
      "         204       0.00      0.00      0.00        24\n",
      "         205       0.00      0.00      0.00        26\n",
      "         206       0.00      0.00      0.00        28\n",
      "         207       0.00      0.00      0.00        20\n",
      "         208       0.00      0.00      0.00        27\n",
      "         209       0.00      0.00      0.00        19\n",
      "         210       0.00      0.00      0.00        26\n",
      "         211       0.00      0.00      0.00        27\n",
      "         212       0.00      0.00      0.00        25\n",
      "         213       0.00      0.00      0.00        28\n",
      "         214       0.00      0.00      0.00        18\n",
      "         215       0.00      0.00      0.00        18\n",
      "         216       0.00      0.00      0.00        21\n",
      "         217       0.00      0.00      0.00        24\n",
      "         218       0.00      0.00      0.00        20\n",
      "         219       0.00      0.00      0.00        24\n",
      "         220       0.00      0.00      0.00        29\n",
      "         221       0.00      0.00      0.00        23\n",
      "         222       0.00      0.00      0.00        25\n",
      "         223       0.00      0.00      0.00        17\n",
      "         224       0.00      0.00      0.00        16\n",
      "         225       0.00      0.00      0.00        16\n",
      "         226       0.00      0.00      0.00        20\n",
      "         227       0.00      0.00      0.00        11\n",
      "         228       0.00      0.00      0.00        19\n",
      "         229       0.00      0.00      0.00        13\n",
      "         230       0.00      0.00      0.00        19\n",
      "         231       0.00      0.00      0.00        20\n",
      "         232       0.00      0.00      0.00        13\n",
      "         233       0.00      0.00      0.00        13\n",
      "         234       0.00      0.00      0.00         9\n",
      "         235       0.00      0.00      0.00         8\n",
      "         236       0.00      0.00      0.00        11\n",
      "         237       0.00      0.00      0.00        13\n",
      "         238       0.00      0.00      0.00         7\n",
      "         239       0.00      0.00      0.00         5\n",
      "         240       0.00      0.00      0.00        11\n",
      "         241       0.00      0.00      0.00         4\n",
      "         242       0.00      0.00      0.00        18\n",
      "         243       0.00      0.00      0.00         5\n",
      "         244       0.00      0.00      0.00        11\n",
      "         245       0.00      0.00      0.00         8\n",
      "         246       0.00      0.00      0.00         4\n",
      "         247       0.00      0.00      0.00         7\n",
      "         248       0.00      0.00      0.00         7\n",
      "         249       0.00      0.00      0.00         5\n",
      "         250       0.00      0.00      0.00         6\n",
      "         251       0.00      0.00      0.00         5\n",
      "         252       0.00      0.00      0.00         4\n",
      "         253       0.00      0.00      0.00         4\n",
      "         254       0.00      0.00      0.00         6\n",
      "         255       0.00      0.00      0.00         4\n",
      "         256       0.00      0.00      0.00        10\n",
      "         257       0.00      0.00      0.00         4\n",
      "         258       0.00      0.00      0.00         9\n",
      "         259       0.00      0.00      0.00         3\n",
      "         260       0.00      0.00      0.00         9\n",
      "         261       0.00      0.00      0.00         3\n",
      "         262       0.00      0.00      0.00         6\n",
      "         263       0.00      0.00      0.00         3\n",
      "         264       0.00      0.00      0.00         5\n",
      "         265       0.00      0.00      0.00         6\n",
      "         266       0.00      0.00      0.00         5\n",
      "         267       0.00      0.00      0.00         2\n",
      "         268       0.00      0.00      0.00         2\n",
      "         269       0.00      0.00      0.00        10\n",
      "         270       0.00      0.00      0.00         2\n",
      "         271       0.00      0.00      0.00         5\n",
      "         272       0.00      0.00      0.00         5\n",
      "         273       0.00      0.00      0.00         1\n",
      "         274       0.00      0.00      0.00         5\n",
      "         275       0.00      0.00      0.00         3\n",
      "         276       0.00      0.00      0.00         2\n",
      "         277       0.00      0.00      0.00         4\n",
      "         278       0.00      0.00      0.00         3\n",
      "         279       0.00      0.00      0.00         1\n",
      "         280       0.00      0.00      0.00         3\n",
      "         281       0.00      0.00      0.00         3\n",
      "         282       0.00      0.00      0.00         4\n",
      "         283       0.00      0.00      0.00         1\n",
      "         284       0.00      0.00      0.00         4\n",
      "         285       0.00      0.00      0.00         3\n",
      "         286       0.00      0.00      0.00         1\n",
      "         287       0.00      0.00      0.00         1\n",
      "         288       0.00      0.00      0.00         2\n",
      "         289       0.00      0.00      0.00         1\n",
      "         290       0.00      0.00      0.00         4\n",
      "         291       0.00      0.00      0.00         2\n",
      "         292       0.00      0.00      0.00         0\n",
      "         293       0.00      0.00      0.00         2\n",
      "         295       0.00      0.00      0.00         2\n",
      "         296       0.00      0.00      0.00         1\n",
      "         297       0.00      0.00      0.00         1\n",
      "         298       0.00      0.00      0.00         2\n",
      "         299       0.00      0.00      0.00         2\n",
      "         300       0.00      0.00      0.00         2\n",
      "         301       0.00      0.00      0.00         2\n",
      "         302       0.00      0.00      0.00         1\n",
      "         303       0.00      0.00      0.00         1\n",
      "         305       0.00      0.00      0.00         2\n",
      "         306       0.00      0.00      0.00         4\n",
      "         307       0.00      0.00      0.00         1\n",
      "         308       0.00      0.00      0.00         1\n",
      "         309       0.00      0.00      0.00         1\n",
      "         311       0.00      0.00      0.00         1\n",
      "         312       0.00      0.00      0.00         1\n",
      "         313       0.00      0.00      0.00         1\n",
      "         314       0.00      0.00      0.00         2\n",
      "         317       0.00      0.00      0.00         0\n",
      "         319       0.00      0.00      0.00         1\n",
      "         320       0.00      0.00      0.00         3\n",
      "         321       0.00      0.00      0.00         1\n",
      "         323       0.00      0.00      0.00         1\n",
      "         324       0.00      0.00      0.00         1\n",
      "         327       0.00      0.00      0.00         1\n",
      "         328       0.00      0.00      0.00         2\n",
      "         329       0.00      0.00      0.00         1\n",
      "         332       0.00      0.00      0.00         1\n",
      "         333       0.00      0.00      0.00         1\n",
      "         336       0.00      0.00      0.00         2\n",
      "         339       0.00      0.00      0.00         2\n",
      "         342       0.00      0.00      0.00         1\n",
      "         343       0.00      0.00      0.00         2\n",
      "         346       0.00      0.00      0.00         1\n",
      "         347       0.00      0.00      0.00         1\n",
      "         351       0.00      0.00      0.00         2\n",
      "         352       0.00      0.00      0.00         3\n",
      "         353       0.00      0.00      0.00         2\n",
      "         356       0.00      0.00      0.00         1\n",
      "         362       0.00      0.00      0.00         1\n",
      "         363       0.00      0.00      0.00         1\n",
      "         366       0.00      0.00      0.00         1\n",
      "         370       0.00      0.00      0.00         1\n",
      "         372       0.00      0.00      0.00         1\n",
      "         374       0.00      0.00      0.00         1\n",
      "         551       0.00      0.00      0.00         1\n",
      "\n",
      "    accuracy                           0.51     52589\n",
      "   macro avg       0.01      0.01      0.01     52589\n",
      "weighted avg       0.46      0.51      0.48     52589\n",
      "\n"
     ]
    },
    {
     "name": "stderr",
     "output_type": "stream",
     "text": [
      "C:\\Users\\Agustin_Garcia\\Anaconda3\\envs\\dhdsblend2021_geopandas\\lib\\site-packages\\sklearn\\metrics\\_classification.py:1318: UndefinedMetricWarning: Precision and F-score are ill-defined and being set to 0.0 in labels with no predicted samples. Use `zero_division` parameter to control this behavior.\n",
      "  _warn_prf(average, modifier, msg_start, len(result))\n",
      "C:\\Users\\Agustin_Garcia\\Anaconda3\\envs\\dhdsblend2021_geopandas\\lib\\site-packages\\sklearn\\metrics\\_classification.py:1318: UndefinedMetricWarning: Recall and F-score are ill-defined and being set to 0.0 in labels with no true samples. Use `zero_division` parameter to control this behavior.\n",
      "  _warn_prf(average, modifier, msg_start, len(result))\n",
      "C:\\Users\\Agustin_Garcia\\Anaconda3\\envs\\dhdsblend2021_geopandas\\lib\\site-packages\\sklearn\\metrics\\_classification.py:1318: UndefinedMetricWarning: Precision and F-score are ill-defined and being set to 0.0 in labels with no predicted samples. Use `zero_division` parameter to control this behavior.\n",
      "  _warn_prf(average, modifier, msg_start, len(result))\n",
      "C:\\Users\\Agustin_Garcia\\Anaconda3\\envs\\dhdsblend2021_geopandas\\lib\\site-packages\\sklearn\\metrics\\_classification.py:1318: UndefinedMetricWarning: Recall and F-score are ill-defined and being set to 0.0 in labels with no true samples. Use `zero_division` parameter to control this behavior.\n",
      "  _warn_prf(average, modifier, msg_start, len(result))\n",
      "C:\\Users\\Agustin_Garcia\\Anaconda3\\envs\\dhdsblend2021_geopandas\\lib\\site-packages\\sklearn\\metrics\\_classification.py:1318: UndefinedMetricWarning: Precision and F-score are ill-defined and being set to 0.0 in labels with no predicted samples. Use `zero_division` parameter to control this behavior.\n",
      "  _warn_prf(average, modifier, msg_start, len(result))\n",
      "C:\\Users\\Agustin_Garcia\\Anaconda3\\envs\\dhdsblend2021_geopandas\\lib\\site-packages\\sklearn\\metrics\\_classification.py:1318: UndefinedMetricWarning: Recall and F-score are ill-defined and being set to 0.0 in labels with no true samples. Use `zero_division` parameter to control this behavior.\n",
      "  _warn_prf(average, modifier, msg_start, len(result))\n"
     ]
    }
   ],
   "source": [
    "from sklearn.metrics import classification_report\n",
    "print(classification_report(y_test['Clearsky DHI'],dhi_pred_knc))"
   ]
  },
  {
   "cell_type": "code",
   "execution_count": 57,
   "id": "dd42f357",
   "metadata": {},
   "outputs": [],
   "source": [
    "from sklearn.metrics import confusion_matrix"
   ]
  },
  {
   "cell_type": "code",
   "execution_count": null,
   "id": "253a2874",
>>>>>>> 35ec56da5086c7a5497daa4c04fa07a730a51ebf
   "metadata": {},
   "outputs": [],
   "source": []
  },
  {
   "cell_type": "markdown",
   "id": "451f859e",
   "metadata": {},
   "source": [
    "### 5.11. PipeLine StandardScaler()+ ExtraTreesRegressor()+ GridSearch"
   ]
  },
  {
   "cell_type": "code",
   "execution_count": 60,
   "id": "845f90c2",
   "metadata": {},
   "outputs": [],
   "source": [
    "from sklearn.ensemble import ExtraTreesRegressor"
   ]
  },
  {
   "cell_type": "markdown",
   "id": "802cb1f5",
   "metadata": {},
   "source": [
    "#### Generamos los pasos e instancias del pipeline, es decir operaciones en orden en forma de tuplas:"
   ]
  },
  {
   "cell_type": "code",
   "execution_count": 61,
   "id": "1a6baf8c",
   "metadata": {},
   "outputs": [],
   "source": [
    "steps_et = [('scaler_1', StandardScaler()),\n",
    "             ('extra_tree', ExtraTreesRegressor())]"
   ]
  },
  {
   "cell_type": "code",
   "execution_count": 62,
   "id": "19cc3401",
   "metadata": {},
   "outputs": [],
   "source": [
    "pipe_et = Pipeline(steps_et)"
   ]
  },
  {
   "cell_type": "code",
   "execution_count": 63,
   "id": "ce71bcb7",
   "metadata": {},
   "outputs": [],
   "source": [
    "folds_et = StratifiedKFold(n_splits=5,shuffle=True, random_state=42)"
   ]
  },
  {
   "cell_type": "markdown",
   "id": "98538c02",
   "metadata": {},
   "source": [
    "#### Establezco los parametros del modelo:"
   ]
  },
  {
   "cell_type": "code",
   "execution_count": 64,
   "id": "cd079096",
   "metadata": {},
   "outputs": [
    {
     "data": {
      "text/plain": [
       "dict_keys(['bootstrap', 'ccp_alpha', 'criterion', 'max_depth', 'max_features', 'max_leaf_nodes', 'max_samples', 'min_impurity_decrease', 'min_samples_leaf', 'min_samples_split', 'min_weight_fraction_leaf', 'n_estimators', 'n_jobs', 'oob_score', 'random_state', 'verbose', 'warm_start'])"
      ]
     },
     "execution_count": 64,
     "metadata": {},
     "output_type": "execute_result"
    }
   ],
   "source": [
    "ExtraTreesRegressor().get_params().keys() #veo que parametros puedo definir del modelo"
   ]
  },
  {
   "cell_type": "code",
   "execution_count": 76,
   "id": "21525b7d",
   "metadata": {},
   "outputs": [],
   "source": [
    "params_et = {'extra_tree__n_estimators':range(100, 500, 1000),'extra_tree__criterion':['squared_error','absolute_error','friedman_mse','poisson'],\n",
    "            'extra_tree__max_depth':range(0, 10, 1), 'extra_tree__random_state': range(0, 10, 1), 'extra_tree__max_samples': range(0, 10, 1)}"
   ]
  },
  {
   "cell_type": "markdown",
   "id": "e3679455",
   "metadata": {},
   "source": [
    "#### Se instancia el metodo GridSearch con el pipeline, la grilla definida, método cross validation"
   ]
  },
  {
   "cell_type": "code",
   "execution_count": 78,
   "id": "4678b2c0",
   "metadata": {},
   "outputs": [],
   "source": [
    "grid_et = GridSearchCV(pipe_et, params_et, cv=folds_et)"
   ]
  },
  {
   "cell_type": "code",
   "execution_count": null,
   "id": "4df18812",
   "metadata": {},
   "outputs": [],
   "source": [
    "#### Entreno el Pipeline para Clearsky DHI, Clearsky DNI y Clearsky GHI"
   ]
  },
  {
   "cell_type": "code",
   "execution_count": 79,
   "id": "81fc8298",
   "metadata": {},
   "outputs": [
    {
     "name": "stderr",
     "output_type": "stream",
     "text": [
      "C:\\Users\\Agustin_Garcia\\Anaconda3\\envs\\dhdsblend2021_geopandas\\lib\\site-packages\\sklearn\\model_selection\\_split.py:680: UserWarning: The least populated class in y has only 1 members, which is less than n_splits=5.\n",
      "  UserWarning,\n"
     ]
    },
    {
     "ename": "KeyboardInterrupt",
     "evalue": "",
     "output_type": "error",
     "traceback": [
      "\u001b[1;31m---------------------------------------------------------------------------\u001b[0m",
      "\u001b[1;31mKeyboardInterrupt\u001b[0m                         Traceback (most recent call last)",
      "\u001b[1;32m~\\AppData\\Local\\Temp\\ipykernel_5812\\3983587439.py\u001b[0m in \u001b[0;36m<module>\u001b[1;34m\u001b[0m\n\u001b[1;32m----> 1\u001b[1;33m \u001b[0mdhi_et\u001b[0m \u001b[1;33m=\u001b[0m \u001b[0mgrid_et\u001b[0m\u001b[1;33m.\u001b[0m\u001b[0mfit\u001b[0m\u001b[1;33m(\u001b[0m\u001b[0mX_train\u001b[0m\u001b[1;33m,\u001b[0m \u001b[0my_train\u001b[0m\u001b[1;33m[\u001b[0m\u001b[1;34m'Clearsky DHI'\u001b[0m\u001b[1;33m]\u001b[0m\u001b[1;33m)\u001b[0m\u001b[1;33m\u001b[0m\u001b[1;33m\u001b[0m\u001b[0m\n\u001b[0m",
      "\u001b[1;32m~\\Anaconda3\\envs\\dhdsblend2021_geopandas\\lib\\site-packages\\sklearn\\model_selection\\_search.py\u001b[0m in \u001b[0;36mfit\u001b[1;34m(self, X, y, groups, **fit_params)\u001b[0m\n\u001b[0;32m    889\u001b[0m                 \u001b[1;32mreturn\u001b[0m \u001b[0mresults\u001b[0m\u001b[1;33m\u001b[0m\u001b[1;33m\u001b[0m\u001b[0m\n\u001b[0;32m    890\u001b[0m \u001b[1;33m\u001b[0m\u001b[0m\n\u001b[1;32m--> 891\u001b[1;33m             \u001b[0mself\u001b[0m\u001b[1;33m.\u001b[0m\u001b[0m_run_search\u001b[0m\u001b[1;33m(\u001b[0m\u001b[0mevaluate_candidates\u001b[0m\u001b[1;33m)\u001b[0m\u001b[1;33m\u001b[0m\u001b[1;33m\u001b[0m\u001b[0m\n\u001b[0m\u001b[0;32m    892\u001b[0m \u001b[1;33m\u001b[0m\u001b[0m\n\u001b[0;32m    893\u001b[0m             \u001b[1;31m# multimetric is determined here because in the case of a callable\u001b[0m\u001b[1;33m\u001b[0m\u001b[1;33m\u001b[0m\u001b[1;33m\u001b[0m\u001b[0m\n",
      "\u001b[1;32m~\\Anaconda3\\envs\\dhdsblend2021_geopandas\\lib\\site-packages\\sklearn\\model_selection\\_search.py\u001b[0m in \u001b[0;36m_run_search\u001b[1;34m(self, evaluate_candidates)\u001b[0m\n\u001b[0;32m   1390\u001b[0m     \u001b[1;32mdef\u001b[0m \u001b[0m_run_search\u001b[0m\u001b[1;33m(\u001b[0m\u001b[0mself\u001b[0m\u001b[1;33m,\u001b[0m \u001b[0mevaluate_candidates\u001b[0m\u001b[1;33m)\u001b[0m\u001b[1;33m:\u001b[0m\u001b[1;33m\u001b[0m\u001b[1;33m\u001b[0m\u001b[0m\n\u001b[0;32m   1391\u001b[0m         \u001b[1;34m\"\"\"Search all candidates in param_grid\"\"\"\u001b[0m\u001b[1;33m\u001b[0m\u001b[1;33m\u001b[0m\u001b[0m\n\u001b[1;32m-> 1392\u001b[1;33m         \u001b[0mevaluate_candidates\u001b[0m\u001b[1;33m(\u001b[0m\u001b[0mParameterGrid\u001b[0m\u001b[1;33m(\u001b[0m\u001b[0mself\u001b[0m\u001b[1;33m.\u001b[0m\u001b[0mparam_grid\u001b[0m\u001b[1;33m)\u001b[0m\u001b[1;33m)\u001b[0m\u001b[1;33m\u001b[0m\u001b[1;33m\u001b[0m\u001b[0m\n\u001b[0m\u001b[0;32m   1393\u001b[0m \u001b[1;33m\u001b[0m\u001b[0m\n\u001b[0;32m   1394\u001b[0m \u001b[1;33m\u001b[0m\u001b[0m\n",
      "\u001b[1;32m~\\Anaconda3\\envs\\dhdsblend2021_geopandas\\lib\\site-packages\\sklearn\\model_selection\\_search.py\u001b[0m in \u001b[0;36mevaluate_candidates\u001b[1;34m(candidate_params, cv, more_results)\u001b[0m\n\u001b[0;32m    849\u001b[0m                     )\n\u001b[0;32m    850\u001b[0m                     for (cand_idx, parameters), (split_idx, (train, test)) in product(\n\u001b[1;32m--> 851\u001b[1;33m                         \u001b[0menumerate\u001b[0m\u001b[1;33m(\u001b[0m\u001b[0mcandidate_params\u001b[0m\u001b[1;33m)\u001b[0m\u001b[1;33m,\u001b[0m \u001b[0menumerate\u001b[0m\u001b[1;33m(\u001b[0m\u001b[0mcv\u001b[0m\u001b[1;33m.\u001b[0m\u001b[0msplit\u001b[0m\u001b[1;33m(\u001b[0m\u001b[0mX\u001b[0m\u001b[1;33m,\u001b[0m \u001b[0my\u001b[0m\u001b[1;33m,\u001b[0m \u001b[0mgroups\u001b[0m\u001b[1;33m)\u001b[0m\u001b[1;33m)\u001b[0m\u001b[1;33m\u001b[0m\u001b[1;33m\u001b[0m\u001b[0m\n\u001b[0m\u001b[0;32m    852\u001b[0m                     )\n\u001b[0;32m    853\u001b[0m                 )\n",
      "\u001b[1;32m~\\Anaconda3\\envs\\dhdsblend2021_geopandas\\lib\\site-packages\\joblib\\parallel.py\u001b[0m in \u001b[0;36m__call__\u001b[1;34m(self, iterable)\u001b[0m\n\u001b[0;32m   1086\u001b[0m                 \u001b[0mself\u001b[0m\u001b[1;33m.\u001b[0m\u001b[0m_iterating\u001b[0m \u001b[1;33m=\u001b[0m \u001b[0mself\u001b[0m\u001b[1;33m.\u001b[0m\u001b[0m_original_iterator\u001b[0m \u001b[1;32mis\u001b[0m \u001b[1;32mnot\u001b[0m \u001b[1;32mNone\u001b[0m\u001b[1;33m\u001b[0m\u001b[1;33m\u001b[0m\u001b[0m\n\u001b[0;32m   1087\u001b[0m \u001b[1;33m\u001b[0m\u001b[0m\n\u001b[1;32m-> 1088\u001b[1;33m             \u001b[1;32mwhile\u001b[0m \u001b[0mself\u001b[0m\u001b[1;33m.\u001b[0m\u001b[0mdispatch_one_batch\u001b[0m\u001b[1;33m(\u001b[0m\u001b[0miterator\u001b[0m\u001b[1;33m)\u001b[0m\u001b[1;33m:\u001b[0m\u001b[1;33m\u001b[0m\u001b[1;33m\u001b[0m\u001b[0m\n\u001b[0m\u001b[0;32m   1089\u001b[0m                 \u001b[1;32mpass\u001b[0m\u001b[1;33m\u001b[0m\u001b[1;33m\u001b[0m\u001b[0m\n\u001b[0;32m   1090\u001b[0m \u001b[1;33m\u001b[0m\u001b[0m\n",
      "\u001b[1;32m~\\Anaconda3\\envs\\dhdsblend2021_geopandas\\lib\\site-packages\\joblib\\parallel.py\u001b[0m in \u001b[0;36mdispatch_one_batch\u001b[1;34m(self, iterator)\u001b[0m\n\u001b[0;32m    899\u001b[0m                 \u001b[1;32mreturn\u001b[0m \u001b[1;32mFalse\u001b[0m\u001b[1;33m\u001b[0m\u001b[1;33m\u001b[0m\u001b[0m\n\u001b[0;32m    900\u001b[0m             \u001b[1;32melse\u001b[0m\u001b[1;33m:\u001b[0m\u001b[1;33m\u001b[0m\u001b[1;33m\u001b[0m\u001b[0m\n\u001b[1;32m--> 901\u001b[1;33m                 \u001b[0mself\u001b[0m\u001b[1;33m.\u001b[0m\u001b[0m_dispatch\u001b[0m\u001b[1;33m(\u001b[0m\u001b[0mtasks\u001b[0m\u001b[1;33m)\u001b[0m\u001b[1;33m\u001b[0m\u001b[1;33m\u001b[0m\u001b[0m\n\u001b[0m\u001b[0;32m    902\u001b[0m                 \u001b[1;32mreturn\u001b[0m \u001b[1;32mTrue\u001b[0m\u001b[1;33m\u001b[0m\u001b[1;33m\u001b[0m\u001b[0m\n\u001b[0;32m    903\u001b[0m \u001b[1;33m\u001b[0m\u001b[0m\n",
      "\u001b[1;32m~\\Anaconda3\\envs\\dhdsblend2021_geopandas\\lib\\site-packages\\joblib\\parallel.py\u001b[0m in \u001b[0;36m_dispatch\u001b[1;34m(self, batch)\u001b[0m\n\u001b[0;32m    817\u001b[0m         \u001b[1;32mwith\u001b[0m \u001b[0mself\u001b[0m\u001b[1;33m.\u001b[0m\u001b[0m_lock\u001b[0m\u001b[1;33m:\u001b[0m\u001b[1;33m\u001b[0m\u001b[1;33m\u001b[0m\u001b[0m\n\u001b[0;32m    818\u001b[0m             \u001b[0mjob_idx\u001b[0m \u001b[1;33m=\u001b[0m \u001b[0mlen\u001b[0m\u001b[1;33m(\u001b[0m\u001b[0mself\u001b[0m\u001b[1;33m.\u001b[0m\u001b[0m_jobs\u001b[0m\u001b[1;33m)\u001b[0m\u001b[1;33m\u001b[0m\u001b[1;33m\u001b[0m\u001b[0m\n\u001b[1;32m--> 819\u001b[1;33m             \u001b[0mjob\u001b[0m \u001b[1;33m=\u001b[0m \u001b[0mself\u001b[0m\u001b[1;33m.\u001b[0m\u001b[0m_backend\u001b[0m\u001b[1;33m.\u001b[0m\u001b[0mapply_async\u001b[0m\u001b[1;33m(\u001b[0m\u001b[0mbatch\u001b[0m\u001b[1;33m,\u001b[0m \u001b[0mcallback\u001b[0m\u001b[1;33m=\u001b[0m\u001b[0mcb\u001b[0m\u001b[1;33m)\u001b[0m\u001b[1;33m\u001b[0m\u001b[1;33m\u001b[0m\u001b[0m\n\u001b[0m\u001b[0;32m    820\u001b[0m             \u001b[1;31m# A job can complete so quickly than its callback is\u001b[0m\u001b[1;33m\u001b[0m\u001b[1;33m\u001b[0m\u001b[1;33m\u001b[0m\u001b[0m\n\u001b[0;32m    821\u001b[0m             \u001b[1;31m# called before we get here, causing self._jobs to\u001b[0m\u001b[1;33m\u001b[0m\u001b[1;33m\u001b[0m\u001b[1;33m\u001b[0m\u001b[0m\n",
      "\u001b[1;32m~\\Anaconda3\\envs\\dhdsblend2021_geopandas\\lib\\site-packages\\joblib\\_parallel_backends.py\u001b[0m in \u001b[0;36mapply_async\u001b[1;34m(self, func, callback)\u001b[0m\n\u001b[0;32m    206\u001b[0m     \u001b[1;32mdef\u001b[0m \u001b[0mapply_async\u001b[0m\u001b[1;33m(\u001b[0m\u001b[0mself\u001b[0m\u001b[1;33m,\u001b[0m \u001b[0mfunc\u001b[0m\u001b[1;33m,\u001b[0m \u001b[0mcallback\u001b[0m\u001b[1;33m=\u001b[0m\u001b[1;32mNone\u001b[0m\u001b[1;33m)\u001b[0m\u001b[1;33m:\u001b[0m\u001b[1;33m\u001b[0m\u001b[1;33m\u001b[0m\u001b[0m\n\u001b[0;32m    207\u001b[0m         \u001b[1;34m\"\"\"Schedule a func to be run\"\"\"\u001b[0m\u001b[1;33m\u001b[0m\u001b[1;33m\u001b[0m\u001b[0m\n\u001b[1;32m--> 208\u001b[1;33m         \u001b[0mresult\u001b[0m \u001b[1;33m=\u001b[0m \u001b[0mImmediateResult\u001b[0m\u001b[1;33m(\u001b[0m\u001b[0mfunc\u001b[0m\u001b[1;33m)\u001b[0m\u001b[1;33m\u001b[0m\u001b[1;33m\u001b[0m\u001b[0m\n\u001b[0m\u001b[0;32m    209\u001b[0m         \u001b[1;32mif\u001b[0m \u001b[0mcallback\u001b[0m\u001b[1;33m:\u001b[0m\u001b[1;33m\u001b[0m\u001b[1;33m\u001b[0m\u001b[0m\n\u001b[0;32m    210\u001b[0m             \u001b[0mcallback\u001b[0m\u001b[1;33m(\u001b[0m\u001b[0mresult\u001b[0m\u001b[1;33m)\u001b[0m\u001b[1;33m\u001b[0m\u001b[1;33m\u001b[0m\u001b[0m\n",
      "\u001b[1;32m~\\Anaconda3\\envs\\dhdsblend2021_geopandas\\lib\\site-packages\\joblib\\_parallel_backends.py\u001b[0m in \u001b[0;36m__init__\u001b[1;34m(self, batch)\u001b[0m\n\u001b[0;32m    595\u001b[0m         \u001b[1;31m# Don't delay the application, to avoid keeping the input\u001b[0m\u001b[1;33m\u001b[0m\u001b[1;33m\u001b[0m\u001b[1;33m\u001b[0m\u001b[0m\n\u001b[0;32m    596\u001b[0m         \u001b[1;31m# arguments in memory\u001b[0m\u001b[1;33m\u001b[0m\u001b[1;33m\u001b[0m\u001b[1;33m\u001b[0m\u001b[0m\n\u001b[1;32m--> 597\u001b[1;33m         \u001b[0mself\u001b[0m\u001b[1;33m.\u001b[0m\u001b[0mresults\u001b[0m \u001b[1;33m=\u001b[0m \u001b[0mbatch\u001b[0m\u001b[1;33m(\u001b[0m\u001b[1;33m)\u001b[0m\u001b[1;33m\u001b[0m\u001b[1;33m\u001b[0m\u001b[0m\n\u001b[0m\u001b[0;32m    598\u001b[0m \u001b[1;33m\u001b[0m\u001b[0m\n\u001b[0;32m    599\u001b[0m     \u001b[1;32mdef\u001b[0m \u001b[0mget\u001b[0m\u001b[1;33m(\u001b[0m\u001b[0mself\u001b[0m\u001b[1;33m)\u001b[0m\u001b[1;33m:\u001b[0m\u001b[1;33m\u001b[0m\u001b[1;33m\u001b[0m\u001b[0m\n",
      "\u001b[1;32m~\\Anaconda3\\envs\\dhdsblend2021_geopandas\\lib\\site-packages\\joblib\\parallel.py\u001b[0m in \u001b[0;36m__call__\u001b[1;34m(self)\u001b[0m\n\u001b[0;32m    287\u001b[0m         \u001b[1;32mwith\u001b[0m \u001b[0mparallel_backend\u001b[0m\u001b[1;33m(\u001b[0m\u001b[0mself\u001b[0m\u001b[1;33m.\u001b[0m\u001b[0m_backend\u001b[0m\u001b[1;33m,\u001b[0m \u001b[0mn_jobs\u001b[0m\u001b[1;33m=\u001b[0m\u001b[0mself\u001b[0m\u001b[1;33m.\u001b[0m\u001b[0m_n_jobs\u001b[0m\u001b[1;33m)\u001b[0m\u001b[1;33m:\u001b[0m\u001b[1;33m\u001b[0m\u001b[1;33m\u001b[0m\u001b[0m\n\u001b[0;32m    288\u001b[0m             return [func(*args, **kwargs)\n\u001b[1;32m--> 289\u001b[1;33m                     for func, args, kwargs in self.items]\n\u001b[0m\u001b[0;32m    290\u001b[0m \u001b[1;33m\u001b[0m\u001b[0m\n\u001b[0;32m    291\u001b[0m     \u001b[1;32mdef\u001b[0m \u001b[0m__reduce__\u001b[0m\u001b[1;33m(\u001b[0m\u001b[0mself\u001b[0m\u001b[1;33m)\u001b[0m\u001b[1;33m:\u001b[0m\u001b[1;33m\u001b[0m\u001b[1;33m\u001b[0m\u001b[0m\n",
      "\u001b[1;32m~\\Anaconda3\\envs\\dhdsblend2021_geopandas\\lib\\site-packages\\joblib\\parallel.py\u001b[0m in \u001b[0;36m<listcomp>\u001b[1;34m(.0)\u001b[0m\n\u001b[0;32m    287\u001b[0m         \u001b[1;32mwith\u001b[0m \u001b[0mparallel_backend\u001b[0m\u001b[1;33m(\u001b[0m\u001b[0mself\u001b[0m\u001b[1;33m.\u001b[0m\u001b[0m_backend\u001b[0m\u001b[1;33m,\u001b[0m \u001b[0mn_jobs\u001b[0m\u001b[1;33m=\u001b[0m\u001b[0mself\u001b[0m\u001b[1;33m.\u001b[0m\u001b[0m_n_jobs\u001b[0m\u001b[1;33m)\u001b[0m\u001b[1;33m:\u001b[0m\u001b[1;33m\u001b[0m\u001b[1;33m\u001b[0m\u001b[0m\n\u001b[0;32m    288\u001b[0m             return [func(*args, **kwargs)\n\u001b[1;32m--> 289\u001b[1;33m                     for func, args, kwargs in self.items]\n\u001b[0m\u001b[0;32m    290\u001b[0m \u001b[1;33m\u001b[0m\u001b[0m\n\u001b[0;32m    291\u001b[0m     \u001b[1;32mdef\u001b[0m \u001b[0m__reduce__\u001b[0m\u001b[1;33m(\u001b[0m\u001b[0mself\u001b[0m\u001b[1;33m)\u001b[0m\u001b[1;33m:\u001b[0m\u001b[1;33m\u001b[0m\u001b[1;33m\u001b[0m\u001b[0m\n",
      "\u001b[1;32m~\\Anaconda3\\envs\\dhdsblend2021_geopandas\\lib\\site-packages\\sklearn\\utils\\fixes.py\u001b[0m in \u001b[0;36m__call__\u001b[1;34m(self, *args, **kwargs)\u001b[0m\n\u001b[0;32m    214\u001b[0m     \u001b[1;32mdef\u001b[0m \u001b[0m__call__\u001b[0m\u001b[1;33m(\u001b[0m\u001b[0mself\u001b[0m\u001b[1;33m,\u001b[0m \u001b[1;33m*\u001b[0m\u001b[0margs\u001b[0m\u001b[1;33m,\u001b[0m \u001b[1;33m**\u001b[0m\u001b[0mkwargs\u001b[0m\u001b[1;33m)\u001b[0m\u001b[1;33m:\u001b[0m\u001b[1;33m\u001b[0m\u001b[1;33m\u001b[0m\u001b[0m\n\u001b[0;32m    215\u001b[0m         \u001b[1;32mwith\u001b[0m \u001b[0mconfig_context\u001b[0m\u001b[1;33m(\u001b[0m\u001b[1;33m**\u001b[0m\u001b[0mself\u001b[0m\u001b[1;33m.\u001b[0m\u001b[0mconfig\u001b[0m\u001b[1;33m)\u001b[0m\u001b[1;33m:\u001b[0m\u001b[1;33m\u001b[0m\u001b[1;33m\u001b[0m\u001b[0m\n\u001b[1;32m--> 216\u001b[1;33m             \u001b[1;32mreturn\u001b[0m \u001b[0mself\u001b[0m\u001b[1;33m.\u001b[0m\u001b[0mfunction\u001b[0m\u001b[1;33m(\u001b[0m\u001b[1;33m*\u001b[0m\u001b[0margs\u001b[0m\u001b[1;33m,\u001b[0m \u001b[1;33m**\u001b[0m\u001b[0mkwargs\u001b[0m\u001b[1;33m)\u001b[0m\u001b[1;33m\u001b[0m\u001b[1;33m\u001b[0m\u001b[0m\n\u001b[0m\u001b[0;32m    217\u001b[0m \u001b[1;33m\u001b[0m\u001b[0m\n\u001b[0;32m    218\u001b[0m \u001b[1;33m\u001b[0m\u001b[0m\n",
      "\u001b[1;32m~\\Anaconda3\\envs\\dhdsblend2021_geopandas\\lib\\site-packages\\sklearn\\model_selection\\_validation.py\u001b[0m in \u001b[0;36m_fit_and_score\u001b[1;34m(estimator, X, y, scorer, train, test, verbose, parameters, fit_params, return_train_score, return_parameters, return_n_test_samples, return_times, return_estimator, split_progress, candidate_progress, error_score)\u001b[0m\n\u001b[0;32m    678\u001b[0m             \u001b[0mestimator\u001b[0m\u001b[1;33m.\u001b[0m\u001b[0mfit\u001b[0m\u001b[1;33m(\u001b[0m\u001b[0mX_train\u001b[0m\u001b[1;33m,\u001b[0m \u001b[1;33m**\u001b[0m\u001b[0mfit_params\u001b[0m\u001b[1;33m)\u001b[0m\u001b[1;33m\u001b[0m\u001b[1;33m\u001b[0m\u001b[0m\n\u001b[0;32m    679\u001b[0m         \u001b[1;32melse\u001b[0m\u001b[1;33m:\u001b[0m\u001b[1;33m\u001b[0m\u001b[1;33m\u001b[0m\u001b[0m\n\u001b[1;32m--> 680\u001b[1;33m             \u001b[0mestimator\u001b[0m\u001b[1;33m.\u001b[0m\u001b[0mfit\u001b[0m\u001b[1;33m(\u001b[0m\u001b[0mX_train\u001b[0m\u001b[1;33m,\u001b[0m \u001b[0my_train\u001b[0m\u001b[1;33m,\u001b[0m \u001b[1;33m**\u001b[0m\u001b[0mfit_params\u001b[0m\u001b[1;33m)\u001b[0m\u001b[1;33m\u001b[0m\u001b[1;33m\u001b[0m\u001b[0m\n\u001b[0m\u001b[0;32m    681\u001b[0m \u001b[1;33m\u001b[0m\u001b[0m\n\u001b[0;32m    682\u001b[0m     \u001b[1;32mexcept\u001b[0m \u001b[0mException\u001b[0m\u001b[1;33m:\u001b[0m\u001b[1;33m\u001b[0m\u001b[1;33m\u001b[0m\u001b[0m\n",
      "\u001b[1;32m~\\Anaconda3\\envs\\dhdsblend2021_geopandas\\lib\\site-packages\\sklearn\\pipeline.py\u001b[0m in \u001b[0;36mfit\u001b[1;34m(self, X, y, **fit_params)\u001b[0m\n\u001b[0;32m    388\u001b[0m         \"\"\"\n\u001b[0;32m    389\u001b[0m         \u001b[0mfit_params_steps\u001b[0m \u001b[1;33m=\u001b[0m \u001b[0mself\u001b[0m\u001b[1;33m.\u001b[0m\u001b[0m_check_fit_params\u001b[0m\u001b[1;33m(\u001b[0m\u001b[1;33m**\u001b[0m\u001b[0mfit_params\u001b[0m\u001b[1;33m)\u001b[0m\u001b[1;33m\u001b[0m\u001b[1;33m\u001b[0m\u001b[0m\n\u001b[1;32m--> 390\u001b[1;33m         \u001b[0mXt\u001b[0m \u001b[1;33m=\u001b[0m \u001b[0mself\u001b[0m\u001b[1;33m.\u001b[0m\u001b[0m_fit\u001b[0m\u001b[1;33m(\u001b[0m\u001b[0mX\u001b[0m\u001b[1;33m,\u001b[0m \u001b[0my\u001b[0m\u001b[1;33m,\u001b[0m \u001b[1;33m**\u001b[0m\u001b[0mfit_params_steps\u001b[0m\u001b[1;33m)\u001b[0m\u001b[1;33m\u001b[0m\u001b[1;33m\u001b[0m\u001b[0m\n\u001b[0m\u001b[0;32m    391\u001b[0m         \u001b[1;32mwith\u001b[0m \u001b[0m_print_elapsed_time\u001b[0m\u001b[1;33m(\u001b[0m\u001b[1;34m\"Pipeline\"\u001b[0m\u001b[1;33m,\u001b[0m \u001b[0mself\u001b[0m\u001b[1;33m.\u001b[0m\u001b[0m_log_message\u001b[0m\u001b[1;33m(\u001b[0m\u001b[0mlen\u001b[0m\u001b[1;33m(\u001b[0m\u001b[0mself\u001b[0m\u001b[1;33m.\u001b[0m\u001b[0msteps\u001b[0m\u001b[1;33m)\u001b[0m \u001b[1;33m-\u001b[0m \u001b[1;36m1\u001b[0m\u001b[1;33m)\u001b[0m\u001b[1;33m)\u001b[0m\u001b[1;33m:\u001b[0m\u001b[1;33m\u001b[0m\u001b[1;33m\u001b[0m\u001b[0m\n\u001b[0;32m    392\u001b[0m             \u001b[1;32mif\u001b[0m \u001b[0mself\u001b[0m\u001b[1;33m.\u001b[0m\u001b[0m_final_estimator\u001b[0m \u001b[1;33m!=\u001b[0m \u001b[1;34m\"passthrough\"\u001b[0m\u001b[1;33m:\u001b[0m\u001b[1;33m\u001b[0m\u001b[1;33m\u001b[0m\u001b[0m\n",
      "\u001b[1;32m~\\Anaconda3\\envs\\dhdsblend2021_geopandas\\lib\\site-packages\\sklearn\\pipeline.py\u001b[0m in \u001b[0;36m_fit\u001b[1;34m(self, X, y, **fit_params_steps)\u001b[0m\n\u001b[0;32m    353\u001b[0m                 \u001b[0mmessage_clsname\u001b[0m\u001b[1;33m=\u001b[0m\u001b[1;34m\"Pipeline\"\u001b[0m\u001b[1;33m,\u001b[0m\u001b[1;33m\u001b[0m\u001b[1;33m\u001b[0m\u001b[0m\n\u001b[0;32m    354\u001b[0m                 \u001b[0mmessage\u001b[0m\u001b[1;33m=\u001b[0m\u001b[0mself\u001b[0m\u001b[1;33m.\u001b[0m\u001b[0m_log_message\u001b[0m\u001b[1;33m(\u001b[0m\u001b[0mstep_idx\u001b[0m\u001b[1;33m)\u001b[0m\u001b[1;33m,\u001b[0m\u001b[1;33m\u001b[0m\u001b[1;33m\u001b[0m\u001b[0m\n\u001b[1;32m--> 355\u001b[1;33m                 \u001b[1;33m**\u001b[0m\u001b[0mfit_params_steps\u001b[0m\u001b[1;33m[\u001b[0m\u001b[0mname\u001b[0m\u001b[1;33m]\u001b[0m\u001b[1;33m,\u001b[0m\u001b[1;33m\u001b[0m\u001b[1;33m\u001b[0m\u001b[0m\n\u001b[0m\u001b[0;32m    356\u001b[0m             )\n\u001b[0;32m    357\u001b[0m             \u001b[1;31m# Replace the transformer of the step with the fitted\u001b[0m\u001b[1;33m\u001b[0m\u001b[1;33m\u001b[0m\u001b[1;33m\u001b[0m\u001b[0m\n",
      "\u001b[1;32m~\\Anaconda3\\envs\\dhdsblend2021_geopandas\\lib\\site-packages\\joblib\\memory.py\u001b[0m in \u001b[0;36m__call__\u001b[1;34m(self, *args, **kwargs)\u001b[0m\n\u001b[0;32m    347\u001b[0m \u001b[1;33m\u001b[0m\u001b[0m\n\u001b[0;32m    348\u001b[0m     \u001b[1;32mdef\u001b[0m \u001b[0m__call__\u001b[0m\u001b[1;33m(\u001b[0m\u001b[0mself\u001b[0m\u001b[1;33m,\u001b[0m \u001b[1;33m*\u001b[0m\u001b[0margs\u001b[0m\u001b[1;33m,\u001b[0m \u001b[1;33m**\u001b[0m\u001b[0mkwargs\u001b[0m\u001b[1;33m)\u001b[0m\u001b[1;33m:\u001b[0m\u001b[1;33m\u001b[0m\u001b[1;33m\u001b[0m\u001b[0m\n\u001b[1;32m--> 349\u001b[1;33m         \u001b[1;32mreturn\u001b[0m \u001b[0mself\u001b[0m\u001b[1;33m.\u001b[0m\u001b[0mfunc\u001b[0m\u001b[1;33m(\u001b[0m\u001b[1;33m*\u001b[0m\u001b[0margs\u001b[0m\u001b[1;33m,\u001b[0m \u001b[1;33m**\u001b[0m\u001b[0mkwargs\u001b[0m\u001b[1;33m)\u001b[0m\u001b[1;33m\u001b[0m\u001b[1;33m\u001b[0m\u001b[0m\n\u001b[0m\u001b[0;32m    350\u001b[0m \u001b[1;33m\u001b[0m\u001b[0m\n\u001b[0;32m    351\u001b[0m     \u001b[1;32mdef\u001b[0m \u001b[0mcall_and_shelve\u001b[0m\u001b[1;33m(\u001b[0m\u001b[0mself\u001b[0m\u001b[1;33m,\u001b[0m \u001b[1;33m*\u001b[0m\u001b[0margs\u001b[0m\u001b[1;33m,\u001b[0m \u001b[1;33m**\u001b[0m\u001b[0mkwargs\u001b[0m\u001b[1;33m)\u001b[0m\u001b[1;33m:\u001b[0m\u001b[1;33m\u001b[0m\u001b[1;33m\u001b[0m\u001b[0m\n",
      "\u001b[1;32m~\\Anaconda3\\envs\\dhdsblend2021_geopandas\\lib\\site-packages\\sklearn\\pipeline.py\u001b[0m in \u001b[0;36m_fit_transform_one\u001b[1;34m(transformer, X, y, weight, message_clsname, message, **fit_params)\u001b[0m\n\u001b[0;32m    891\u001b[0m     \u001b[1;32mwith\u001b[0m \u001b[0m_print_elapsed_time\u001b[0m\u001b[1;33m(\u001b[0m\u001b[0mmessage_clsname\u001b[0m\u001b[1;33m,\u001b[0m \u001b[0mmessage\u001b[0m\u001b[1;33m)\u001b[0m\u001b[1;33m:\u001b[0m\u001b[1;33m\u001b[0m\u001b[1;33m\u001b[0m\u001b[0m\n\u001b[0;32m    892\u001b[0m         \u001b[1;32mif\u001b[0m \u001b[0mhasattr\u001b[0m\u001b[1;33m(\u001b[0m\u001b[0mtransformer\u001b[0m\u001b[1;33m,\u001b[0m \u001b[1;34m\"fit_transform\"\u001b[0m\u001b[1;33m)\u001b[0m\u001b[1;33m:\u001b[0m\u001b[1;33m\u001b[0m\u001b[1;33m\u001b[0m\u001b[0m\n\u001b[1;32m--> 893\u001b[1;33m             \u001b[0mres\u001b[0m \u001b[1;33m=\u001b[0m \u001b[0mtransformer\u001b[0m\u001b[1;33m.\u001b[0m\u001b[0mfit_transform\u001b[0m\u001b[1;33m(\u001b[0m\u001b[0mX\u001b[0m\u001b[1;33m,\u001b[0m \u001b[0my\u001b[0m\u001b[1;33m,\u001b[0m \u001b[1;33m**\u001b[0m\u001b[0mfit_params\u001b[0m\u001b[1;33m)\u001b[0m\u001b[1;33m\u001b[0m\u001b[1;33m\u001b[0m\u001b[0m\n\u001b[0m\u001b[0;32m    894\u001b[0m         \u001b[1;32melse\u001b[0m\u001b[1;33m:\u001b[0m\u001b[1;33m\u001b[0m\u001b[1;33m\u001b[0m\u001b[0m\n\u001b[0;32m    895\u001b[0m             \u001b[0mres\u001b[0m \u001b[1;33m=\u001b[0m \u001b[0mtransformer\u001b[0m\u001b[1;33m.\u001b[0m\u001b[0mfit\u001b[0m\u001b[1;33m(\u001b[0m\u001b[0mX\u001b[0m\u001b[1;33m,\u001b[0m \u001b[0my\u001b[0m\u001b[1;33m,\u001b[0m \u001b[1;33m**\u001b[0m\u001b[0mfit_params\u001b[0m\u001b[1;33m)\u001b[0m\u001b[1;33m.\u001b[0m\u001b[0mtransform\u001b[0m\u001b[1;33m(\u001b[0m\u001b[0mX\u001b[0m\u001b[1;33m)\u001b[0m\u001b[1;33m\u001b[0m\u001b[1;33m\u001b[0m\u001b[0m\n",
      "\u001b[1;32m~\\Anaconda3\\envs\\dhdsblend2021_geopandas\\lib\\site-packages\\sklearn\\base.py\u001b[0m in \u001b[0;36mfit_transform\u001b[1;34m(self, X, y, **fit_params)\u001b[0m\n\u001b[0;32m    853\u001b[0m         \u001b[1;32melse\u001b[0m\u001b[1;33m:\u001b[0m\u001b[1;33m\u001b[0m\u001b[1;33m\u001b[0m\u001b[0m\n\u001b[0;32m    854\u001b[0m             \u001b[1;31m# fit method of arity 2 (supervised transformation)\u001b[0m\u001b[1;33m\u001b[0m\u001b[1;33m\u001b[0m\u001b[1;33m\u001b[0m\u001b[0m\n\u001b[1;32m--> 855\u001b[1;33m             \u001b[1;32mreturn\u001b[0m \u001b[0mself\u001b[0m\u001b[1;33m.\u001b[0m\u001b[0mfit\u001b[0m\u001b[1;33m(\u001b[0m\u001b[0mX\u001b[0m\u001b[1;33m,\u001b[0m \u001b[0my\u001b[0m\u001b[1;33m,\u001b[0m \u001b[1;33m**\u001b[0m\u001b[0mfit_params\u001b[0m\u001b[1;33m)\u001b[0m\u001b[1;33m.\u001b[0m\u001b[0mtransform\u001b[0m\u001b[1;33m(\u001b[0m\u001b[0mX\u001b[0m\u001b[1;33m)\u001b[0m\u001b[1;33m\u001b[0m\u001b[1;33m\u001b[0m\u001b[0m\n\u001b[0m\u001b[0;32m    856\u001b[0m \u001b[1;33m\u001b[0m\u001b[0m\n\u001b[0;32m    857\u001b[0m \u001b[1;33m\u001b[0m\u001b[0m\n",
      "\u001b[1;32m~\\Anaconda3\\envs\\dhdsblend2021_geopandas\\lib\\site-packages\\sklearn\\preprocessing\\_data.py\u001b[0m in \u001b[0;36mtransform\u001b[1;34m(self, X, copy)\u001b[0m\n\u001b[0;32m    978\u001b[0m             \u001b[0mestimator\u001b[0m\u001b[1;33m=\u001b[0m\u001b[0mself\u001b[0m\u001b[1;33m,\u001b[0m\u001b[1;33m\u001b[0m\u001b[1;33m\u001b[0m\u001b[0m\n\u001b[0;32m    979\u001b[0m             \u001b[0mdtype\u001b[0m\u001b[1;33m=\u001b[0m\u001b[0mFLOAT_DTYPES\u001b[0m\u001b[1;33m,\u001b[0m\u001b[1;33m\u001b[0m\u001b[1;33m\u001b[0m\u001b[0m\n\u001b[1;32m--> 980\u001b[1;33m             \u001b[0mforce_all_finite\u001b[0m\u001b[1;33m=\u001b[0m\u001b[1;34m\"allow-nan\"\u001b[0m\u001b[1;33m,\u001b[0m\u001b[1;33m\u001b[0m\u001b[1;33m\u001b[0m\u001b[0m\n\u001b[0m\u001b[0;32m    981\u001b[0m         )\n\u001b[0;32m    982\u001b[0m \u001b[1;33m\u001b[0m\u001b[0m\n",
      "\u001b[1;32m~\\Anaconda3\\envs\\dhdsblend2021_geopandas\\lib\\site-packages\\sklearn\\base.py\u001b[0m in \u001b[0;36m_validate_data\u001b[1;34m(self, X, y, reset, validate_separately, **check_params)\u001b[0m\n\u001b[0;32m    564\u001b[0m             \u001b[1;32mraise\u001b[0m \u001b[0mValueError\u001b[0m\u001b[1;33m(\u001b[0m\u001b[1;34m\"Validation should be done on X, y or both.\"\u001b[0m\u001b[1;33m)\u001b[0m\u001b[1;33m\u001b[0m\u001b[1;33m\u001b[0m\u001b[0m\n\u001b[0;32m    565\u001b[0m         \u001b[1;32melif\u001b[0m \u001b[1;32mnot\u001b[0m \u001b[0mno_val_X\u001b[0m \u001b[1;32mand\u001b[0m \u001b[0mno_val_y\u001b[0m\u001b[1;33m:\u001b[0m\u001b[1;33m\u001b[0m\u001b[1;33m\u001b[0m\u001b[0m\n\u001b[1;32m--> 566\u001b[1;33m             \u001b[0mX\u001b[0m \u001b[1;33m=\u001b[0m \u001b[0mcheck_array\u001b[0m\u001b[1;33m(\u001b[0m\u001b[0mX\u001b[0m\u001b[1;33m,\u001b[0m \u001b[1;33m**\u001b[0m\u001b[0mcheck_params\u001b[0m\u001b[1;33m)\u001b[0m\u001b[1;33m\u001b[0m\u001b[1;33m\u001b[0m\u001b[0m\n\u001b[0m\u001b[0;32m    567\u001b[0m             \u001b[0mout\u001b[0m \u001b[1;33m=\u001b[0m \u001b[0mX\u001b[0m\u001b[1;33m\u001b[0m\u001b[1;33m\u001b[0m\u001b[0m\n\u001b[0;32m    568\u001b[0m         \u001b[1;32melif\u001b[0m \u001b[0mno_val_X\u001b[0m \u001b[1;32mand\u001b[0m \u001b[1;32mnot\u001b[0m \u001b[0mno_val_y\u001b[0m\u001b[1;33m:\u001b[0m\u001b[1;33m\u001b[0m\u001b[1;33m\u001b[0m\u001b[0m\n",
      "\u001b[1;32m~\\Anaconda3\\envs\\dhdsblend2021_geopandas\\lib\\site-packages\\sklearn\\utils\\validation.py\u001b[0m in \u001b[0;36mcheck_array\u001b[1;34m(array, accept_sparse, accept_large_sparse, dtype, order, copy, force_all_finite, ensure_2d, allow_nd, ensure_min_samples, ensure_min_features, estimator)\u001b[0m\n\u001b[0;32m    818\u001b[0m             )\n\u001b[0;32m    819\u001b[0m \u001b[1;33m\u001b[0m\u001b[0m\n\u001b[1;32m--> 820\u001b[1;33m     \u001b[1;32mif\u001b[0m \u001b[0mcopy\u001b[0m \u001b[1;32mand\u001b[0m \u001b[0mnp\u001b[0m\u001b[1;33m.\u001b[0m\u001b[0mmay_share_memory\u001b[0m\u001b[1;33m(\u001b[0m\u001b[0marray\u001b[0m\u001b[1;33m,\u001b[0m \u001b[0marray_orig\u001b[0m\u001b[1;33m)\u001b[0m\u001b[1;33m:\u001b[0m\u001b[1;33m\u001b[0m\u001b[1;33m\u001b[0m\u001b[0m\n\u001b[0m\u001b[0;32m    821\u001b[0m         \u001b[0marray\u001b[0m \u001b[1;33m=\u001b[0m \u001b[0mnp\u001b[0m\u001b[1;33m.\u001b[0m\u001b[0marray\u001b[0m\u001b[1;33m(\u001b[0m\u001b[0marray\u001b[0m\u001b[1;33m,\u001b[0m \u001b[0mdtype\u001b[0m\u001b[1;33m=\u001b[0m\u001b[0mdtype\u001b[0m\u001b[1;33m,\u001b[0m \u001b[0morder\u001b[0m\u001b[1;33m=\u001b[0m\u001b[0morder\u001b[0m\u001b[1;33m)\u001b[0m\u001b[1;33m\u001b[0m\u001b[1;33m\u001b[0m\u001b[0m\n\u001b[0;32m    822\u001b[0m \u001b[1;33m\u001b[0m\u001b[0m\n",
      "\u001b[1;32m<__array_function__ internals>\u001b[0m in \u001b[0;36mmay_share_memory\u001b[1;34m(*args, **kwargs)\u001b[0m\n",
      "\u001b[1;32m~\\Anaconda3\\envs\\dhdsblend2021_geopandas\\lib\\site-packages\\pandas\\core\\generic.py\u001b[0m in \u001b[0;36m__array__\u001b[1;34m(self, dtype)\u001b[0m\n\u001b[0;32m   1991\u001b[0m \u001b[1;33m\u001b[0m\u001b[0m\n\u001b[0;32m   1992\u001b[0m     \u001b[1;32mdef\u001b[0m \u001b[0m__array__\u001b[0m\u001b[1;33m(\u001b[0m\u001b[0mself\u001b[0m\u001b[1;33m,\u001b[0m \u001b[0mdtype\u001b[0m\u001b[1;33m:\u001b[0m \u001b[0mNpDtype\u001b[0m \u001b[1;33m|\u001b[0m \u001b[1;32mNone\u001b[0m \u001b[1;33m=\u001b[0m \u001b[1;32mNone\u001b[0m\u001b[1;33m)\u001b[0m \u001b[1;33m->\u001b[0m \u001b[0mnp\u001b[0m\u001b[1;33m.\u001b[0m\u001b[0mndarray\u001b[0m\u001b[1;33m:\u001b[0m\u001b[1;33m\u001b[0m\u001b[1;33m\u001b[0m\u001b[0m\n\u001b[1;32m-> 1993\u001b[1;33m         \u001b[1;32mreturn\u001b[0m \u001b[0mnp\u001b[0m\u001b[1;33m.\u001b[0m\u001b[0masarray\u001b[0m\u001b[1;33m(\u001b[0m\u001b[0mself\u001b[0m\u001b[1;33m.\u001b[0m\u001b[0m_values\u001b[0m\u001b[1;33m,\u001b[0m \u001b[0mdtype\u001b[0m\u001b[1;33m=\u001b[0m\u001b[0mdtype\u001b[0m\u001b[1;33m)\u001b[0m\u001b[1;33m\u001b[0m\u001b[1;33m\u001b[0m\u001b[0m\n\u001b[0m\u001b[0;32m   1994\u001b[0m \u001b[1;33m\u001b[0m\u001b[0m\n\u001b[0;32m   1995\u001b[0m     def __array_wrap__(\n",
      "\u001b[1;32m~\\Anaconda3\\envs\\dhdsblend2021_geopandas\\lib\\site-packages\\pandas\\core\\frame.py\u001b[0m in \u001b[0;36m_values\u001b[1;34m(self)\u001b[0m\n\u001b[0;32m    892\u001b[0m         \u001b[0mblocks\u001b[0m \u001b[1;33m=\u001b[0m \u001b[0mmgr\u001b[0m\u001b[1;33m.\u001b[0m\u001b[0mblocks\u001b[0m\u001b[1;33m\u001b[0m\u001b[1;33m\u001b[0m\u001b[0m\n\u001b[0;32m    893\u001b[0m         \u001b[1;32mif\u001b[0m \u001b[0mlen\u001b[0m\u001b[1;33m(\u001b[0m\u001b[0mblocks\u001b[0m\u001b[1;33m)\u001b[0m \u001b[1;33m!=\u001b[0m \u001b[1;36m1\u001b[0m\u001b[1;33m:\u001b[0m\u001b[1;33m\u001b[0m\u001b[1;33m\u001b[0m\u001b[0m\n\u001b[1;32m--> 894\u001b[1;33m             \u001b[1;32mreturn\u001b[0m \u001b[0mself\u001b[0m\u001b[1;33m.\u001b[0m\u001b[0mvalues\u001b[0m\u001b[1;33m\u001b[0m\u001b[1;33m\u001b[0m\u001b[0m\n\u001b[0m\u001b[0;32m    895\u001b[0m \u001b[1;33m\u001b[0m\u001b[0m\n\u001b[0;32m    896\u001b[0m         \u001b[0marr\u001b[0m \u001b[1;33m=\u001b[0m \u001b[0mblocks\u001b[0m\u001b[1;33m[\u001b[0m\u001b[1;36m0\u001b[0m\u001b[1;33m]\u001b[0m\u001b[1;33m.\u001b[0m\u001b[0mvalues\u001b[0m\u001b[1;33m\u001b[0m\u001b[1;33m\u001b[0m\u001b[0m\n",
      "\u001b[1;32m~\\Anaconda3\\envs\\dhdsblend2021_geopandas\\lib\\site-packages\\pandas\\core\\frame.py\u001b[0m in \u001b[0;36mvalues\u001b[1;34m(self)\u001b[0m\n\u001b[0;32m  10662\u001b[0m         \"\"\"\n\u001b[0;32m  10663\u001b[0m         \u001b[0mself\u001b[0m\u001b[1;33m.\u001b[0m\u001b[0m_consolidate_inplace\u001b[0m\u001b[1;33m(\u001b[0m\u001b[1;33m)\u001b[0m\u001b[1;33m\u001b[0m\u001b[1;33m\u001b[0m\u001b[0m\n\u001b[1;32m> 10664\u001b[1;33m         \u001b[1;32mreturn\u001b[0m \u001b[0mself\u001b[0m\u001b[1;33m.\u001b[0m\u001b[0m_mgr\u001b[0m\u001b[1;33m.\u001b[0m\u001b[0mas_array\u001b[0m\u001b[1;33m(\u001b[0m\u001b[0mtranspose\u001b[0m\u001b[1;33m=\u001b[0m\u001b[1;32mTrue\u001b[0m\u001b[1;33m)\u001b[0m\u001b[1;33m\u001b[0m\u001b[1;33m\u001b[0m\u001b[0m\n\u001b[0m\u001b[0;32m  10665\u001b[0m \u001b[1;33m\u001b[0m\u001b[0m\n\u001b[0;32m  10666\u001b[0m     \u001b[1;33m@\u001b[0m\u001b[0mdeprecate_nonkeyword_arguments\u001b[0m\u001b[1;33m(\u001b[0m\u001b[0mversion\u001b[0m\u001b[1;33m=\u001b[0m\u001b[1;32mNone\u001b[0m\u001b[1;33m,\u001b[0m \u001b[0mallowed_args\u001b[0m\u001b[1;33m=\u001b[0m\u001b[1;33m[\u001b[0m\u001b[1;34m\"self\"\u001b[0m\u001b[1;33m]\u001b[0m\u001b[1;33m)\u001b[0m\u001b[1;33m\u001b[0m\u001b[1;33m\u001b[0m\u001b[0m\n",
      "\u001b[1;32m~\\Anaconda3\\envs\\dhdsblend2021_geopandas\\lib\\site-packages\\pandas\\core\\internals\\managers.py\u001b[0m in \u001b[0;36mas_array\u001b[1;34m(self, transpose, dtype, copy, na_value)\u001b[0m\n\u001b[0;32m   1464\u001b[0m                     \u001b[0marr\u001b[0m \u001b[1;33m=\u001b[0m \u001b[0marr\u001b[0m\u001b[1;33m.\u001b[0m\u001b[0mastype\u001b[0m\u001b[1;33m(\u001b[0m\u001b[0mdtype\u001b[0m\u001b[1;33m,\u001b[0m \u001b[0mcopy\u001b[0m\u001b[1;33m=\u001b[0m\u001b[1;32mFalse\u001b[0m\u001b[1;33m)\u001b[0m  \u001b[1;31m# type: ignore[arg-type]\u001b[0m\u001b[1;33m\u001b[0m\u001b[1;33m\u001b[0m\u001b[0m\n\u001b[0;32m   1465\u001b[0m         \u001b[1;32melse\u001b[0m\u001b[1;33m:\u001b[0m\u001b[1;33m\u001b[0m\u001b[1;33m\u001b[0m\u001b[0m\n\u001b[1;32m-> 1466\u001b[1;33m             \u001b[0marr\u001b[0m \u001b[1;33m=\u001b[0m \u001b[0mself\u001b[0m\u001b[1;33m.\u001b[0m\u001b[0m_interleave\u001b[0m\u001b[1;33m(\u001b[0m\u001b[0mdtype\u001b[0m\u001b[1;33m=\u001b[0m\u001b[0mdtype\u001b[0m\u001b[1;33m,\u001b[0m \u001b[0mna_value\u001b[0m\u001b[1;33m=\u001b[0m\u001b[0mna_value\u001b[0m\u001b[1;33m)\u001b[0m\u001b[1;33m\u001b[0m\u001b[1;33m\u001b[0m\u001b[0m\n\u001b[0m\u001b[0;32m   1467\u001b[0m             \u001b[1;31m# The underlying data was copied within _interleave\u001b[0m\u001b[1;33m\u001b[0m\u001b[1;33m\u001b[0m\u001b[1;33m\u001b[0m\u001b[0m\n\u001b[0;32m   1468\u001b[0m             \u001b[0mcopy\u001b[0m \u001b[1;33m=\u001b[0m \u001b[1;32mFalse\u001b[0m\u001b[1;33m\u001b[0m\u001b[1;33m\u001b[0m\u001b[0m\n",
      "\u001b[1;32m~\\Anaconda3\\envs\\dhdsblend2021_geopandas\\lib\\site-packages\\pandas\\core\\internals\\managers.py\u001b[0m in \u001b[0;36m_interleave\u001b[1;34m(self, dtype, na_value)\u001b[0m\n\u001b[0;32m   1519\u001b[0m                 \u001b[1;31m# \"Union[dtype[Any], ExtensionDtype, None]\"\u001b[0m\u001b[1;33m\u001b[0m\u001b[1;33m\u001b[0m\u001b[1;33m\u001b[0m\u001b[0m\n\u001b[0;32m   1520\u001b[0m                 \u001b[0marr\u001b[0m \u001b[1;33m=\u001b[0m \u001b[0mblk\u001b[0m\u001b[1;33m.\u001b[0m\u001b[0mget_values\u001b[0m\u001b[1;33m(\u001b[0m\u001b[0mdtype\u001b[0m\u001b[1;33m)\u001b[0m  \u001b[1;31m# type: ignore[arg-type]\u001b[0m\u001b[1;33m\u001b[0m\u001b[1;33m\u001b[0m\u001b[0m\n\u001b[1;32m-> 1521\u001b[1;33m             \u001b[0mresult\u001b[0m\u001b[1;33m[\u001b[0m\u001b[0mrl\u001b[0m\u001b[1;33m.\u001b[0m\u001b[0mindexer\u001b[0m\u001b[1;33m]\u001b[0m \u001b[1;33m=\u001b[0m \u001b[0marr\u001b[0m\u001b[1;33m\u001b[0m\u001b[1;33m\u001b[0m\u001b[0m\n\u001b[0m\u001b[0;32m   1522\u001b[0m             \u001b[0mitemmask\u001b[0m\u001b[1;33m[\u001b[0m\u001b[0mrl\u001b[0m\u001b[1;33m.\u001b[0m\u001b[0mindexer\u001b[0m\u001b[1;33m]\u001b[0m \u001b[1;33m=\u001b[0m \u001b[1;36m1\u001b[0m\u001b[1;33m\u001b[0m\u001b[1;33m\u001b[0m\u001b[0m\n\u001b[0;32m   1523\u001b[0m \u001b[1;33m\u001b[0m\u001b[0m\n",
      "\u001b[1;31mKeyboardInterrupt\u001b[0m: "
     ]
    }
   ],
   "source": [
    "dhi_et = grid_et.fit(X_train, y_train['Clearsky DHI'])"
   ]
  },
  {
   "cell_type": "code",
   "execution_count": null,
   "id": "b6d962e2",
   "metadata": {},
   "outputs": [],
   "source": [
    "dhi_et.best_estimator_"
   ]
  },
  {
   "cell_type": "code",
   "execution_count": null,
   "id": "24cd4463",
   "metadata": {},
   "outputs": [],
   "source": [
    "dhi_et.best_estimator_.get_params()"
   ]
  },
  {
   "cell_type": "code",
   "execution_count": null,
   "id": "46570b90",
   "metadata": {},
   "outputs": [],
   "source": [
    "dhi_et.best_score_"
   ]
  },
  {
   "cell_type": "code",
   "execution_count": null,
   "id": "5b9345bf",
   "metadata": {},
   "outputs": [],
   "source": [
    "dhi_et.best_params_"
   ]
  },
  {
   "cell_type": "code",
   "execution_count": null,
   "id": "9eae69d0",
   "metadata": {},
   "outputs": [],
   "source": [
    "### 5.2. Features Importance StandardScaler()+ KNeighborsClassifier()+ GridSearch"
   ]
  },
  {
   "cell_type": "code",
   "execution_count": null,
   "id": "3e9e04a8",
   "metadata": {},
   "outputs": [],
   "source": [
    "### 5.5. Entrenamiento con parámetros de mejor performance [DataSet Completo] StandardScaler()+ KNeighborsClassifier()+ GridSearch"
   ]
  },
  {
   "cell_type": "code",
   "execution_count": null,
   "id": "d7e2c9a6",
   "metadata": {},
   "outputs": [],
   "source": [
    "#### StandardScaler()+ KNeighborsClassifier()+ GridSearch"
   ]
  },
  {
   "cell_type": "code",
   "execution_count": null,
   "id": "68025cd0",
   "metadata": {},
   "outputs": [],
   "source": [
    "### 5.5. Resumen de métricas:"
   ]
  },
  {
   "cell_type": "code",
   "execution_count": null,
   "id": "d0f0c462",
   "metadata": {},
   "outputs": [],
   "source": [
    "#### StandardScaler()+ KNeighborsClassifier()+ GridSearch"
   ]
  },
  {
   "cell_type": "code",
   "execution_count": null,
   "id": "8865254e",
   "metadata": {},
   "outputs": [],
   "source": []
  },
  {
   "cell_type": "code",
   "execution_count": null,
   "id": "996938fd",
   "metadata": {},
   "outputs": [],
   "source": []
  },
  {
   "cell_type": "code",
   "execution_count": null,
   "id": "2be5b5e7",
   "metadata": {},
   "outputs": [],
   "source": []
  },
  {
   "cell_type": "code",
   "execution_count": null,
   "id": "c01daeb4",
   "metadata": {},
   "outputs": [],
   "source": []
  },
  {
   "cell_type": "code",
   "execution_count": null,
   "id": "2329d5b8",
   "metadata": {},
   "outputs": [],
   "source": []
  },
  {
   "cell_type": "code",
   "execution_count": null,
   "id": "da6d4eea",
   "metadata": {},
   "outputs": [],
   "source": []
  },
  {
   "cell_type": "code",
   "execution_count": null,
   "id": "ebfd2e49",
   "metadata": {},
   "outputs": [],
   "source": []
  },
  {
   "cell_type": "code",
   "execution_count": null,
   "id": "9732da4b",
   "metadata": {},
   "outputs": [],
   "source": []
  },
  {
   "cell_type": "code",
   "execution_count": null,
   "id": "78efe07c",
   "metadata": {},
   "outputs": [],
   "source": []
  },
  {
   "cell_type": "markdown",
   "id": "98e27e2a",
   "metadata": {},
   "source": [
    "<a id=\"section_curva_roc\"></a> \n",
    "## 6. Curva ROC\n",
    "---\n",
    "<a href='#tabla_contenidos'>Volver a la Tabla de Contenidos</a>"
   ]
  },
  {
   "cell_type": "code",
   "execution_count": null,
   "id": "608f8acd",
   "metadata": {},
   "outputs": [],
<<<<<<< HEAD
   "source": []
=======
   "source": [
    "Nuevo cambio"
   ]
>>>>>>> 35ec56da5086c7a5497daa4c04fa07a730a51ebf
  },
  {
   "cell_type": "markdown",
   "id": "8065f4ef",
   "metadata": {},
   "source": [
    "<a id=\"section_umbrales\"></a> \n",
    "### 6.1 Ajustando los umbrales"
   ]
  },
  {
   "cell_type": "code",
   "execution_count": null,
   "id": "1f3bc11b",
   "metadata": {},
   "outputs": [],
   "source": []
  },
  {
   "cell_type": "markdown",
   "id": "2a5c2f74",
   "metadata": {},
   "source": [
    "<a id=\"section_imp_croc\"></a> \n",
    "### 6.2 Implementación Curva ROC y AUC"
   ]
  },
  {
   "cell_type": "code",
   "execution_count": null,
   "id": "b6598e6e",
   "metadata": {},
   "outputs": [],
   "source": []
  },
  {
   "cell_type": "markdown",
   "id": "ba030cbc",
   "metadata": {},
   "source": [
    "<a id=\"conclusiones\"></a> \n",
    "## 7. Conclusiones\n",
    "---\n",
    "<a href='#tabla_contenidos'>Volver a la Tabla de Contenidos</a>"
   ]
  },
  {
   "cell_type": "code",
   "execution_count": null,
   "id": "a726108c",
   "metadata": {},
   "outputs": [],
   "source": []
  }
 ],
 "metadata": {
  "kernelspec": {
<<<<<<< HEAD
   "display_name": "Python [conda env:dhdsblend2022] *",
   "language": "python",
   "name": "conda-env-dhdsblend2022-py"
=======
   "display_name": "Python 3 (ipykernel)",
   "language": "python",
   "name": "python3"
>>>>>>> 35ec56da5086c7a5497daa4c04fa07a730a51ebf
  },
  "language_info": {
   "codemirror_mode": {
    "name": "ipython",
    "version": 3
   },
   "file_extension": ".py",
   "mimetype": "text/x-python",
   "name": "python",
   "nbconvert_exporter": "python",
   "pygments_lexer": "ipython3",
<<<<<<< HEAD
   "version": "3.8.15"
=======
   "version": "3.7.15"
>>>>>>> 35ec56da5086c7a5497daa4c04fa07a730a51ebf
  }
 },
 "nbformat": 4,
 "nbformat_minor": 5
}
