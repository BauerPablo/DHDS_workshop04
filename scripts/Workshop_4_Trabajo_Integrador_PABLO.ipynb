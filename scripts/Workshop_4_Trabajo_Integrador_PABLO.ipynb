{
 "cells": [
  {
   "cell_type": "markdown",
   "id": "37d22f31",
   "metadata": {},
   "source": [
    "<div float: center>\n",
    "    <img src=\"../common/../common/logo_DH.png\" width=\"30%\" height=\"30%\" style=\"text-align: left;\">\n",
    "    <img src=\"../common/wipro_logo.png\"  width=\"20%\" height=\"20%\" style=\"text-align: right; margin-left:400px;\">\n",
    "<div/>\n",
    "\n",
    "---\n",
    "\n",
    "# WORKSHOP 4 - Trabajo integrador de DataScience\n",
    "\n",
    "## GRUPO 8\n",
    "\n",
    "Integrantes:\n",
    "- Agustín García \n",
    "- Florencia Mosconi\n",
    "- Ezequiel López Mondo \n",
    "- Pablo Bauer \n",
    "\n",
    "<a id=\"tabla_contenidos\"></a> \n",
    "## Tabla de Contenidos\n",
    "\n",
    "### <a href='#section_repaso'>1. Introducción</a>\n",
    "- #### <a href='#explicacion_dataset'>1.1. Presentación del caso</a>\n",
    "- #### <a href='#metodologia'>1.2. La metodología de trabajo</a>\n",
    "\n",
    "### <a href='#section_import_lib'>2. Importación de librerías para casos de Clasificación</a>\n",
    "\n",
    "\n",
    "### <a href='#importar_dataset'>3. Importando el DataSet</a> \n",
    "- #### <a href='#imputacion'>3.1. Imputación de datos</a>\n",
    "\n",
    "### <a  href='#preparacion_entrenamiento'>4. Preparación y Entrenamiento del DataSet</a>\n",
    "- #### <a href='#features'>4.1. Features y dummies</a>\n",
    "- #### <a href='#split'>4.2. Split del set de entrenamiento</a>\n",
    "- #### <a href='#matrix_corr'>4.3. Matriz de correlación</a>\n",
    "- #### <a href='#analisis_corr'>4.4. Analisis preliminar de correlación</a>\n",
    "\n",
    "### <a  href='#evaluacion_modelos'>5. Evaluación de los Modelos Métricas</a>\n",
    "- #### <a href='#pipeline_rfr'>5.1. PipeLine [RandomForestRegressor]</a>\n",
    "- #### <a href='#features_imp_rfr'>5.2. Features Importance [RandomForestRegressor]</a>\n",
    "- #### <a href='#pipeline_ada'>5.3. PipeLine [Ada Boost Regressor]</a>\n",
    "- #### <a href='#features_imp_ada'>5.4. Features Importance [Ada Boost Regressor]</a>\n",
    "- #### <a href='#best_performance'>5.5. Entrenamiento con los parámetros de mejor performance [DataSet Completo]</a>\n",
    "    \n",
    "### <a href='#section_curva_roc'>6. Curva ROC</a>\n",
    "- #### <a href='#section_umbrales'>6.1. Ajustando los umbrales</a>\n",
    "- #### <a href='#section_imp_croc'>6.2. Implementación Curva ROC y AUC</a>\n",
    "\n",
    "### <a href='#export_pickle'>7. Expostarndo en Pickle</a>\n",
    "    \n",
    "### <a href='#conclusiones'>8. Conclusuiones</a>\n",
    "---"
   ]
  },
  {
   "cell_type": "markdown",
   "id": "60202ecd",
   "metadata": {},
   "source": [
    "<a id=\"section_repaso\"></a> \n",
    "## 1. Introducción\n",
    "---\n",
    "<a href='#tabla_contenidos'>Volver a la Tabla de Contenidos</a>"
   ]
  },
  {
   "cell_type": "markdown",
   "id": "b314368e",
   "metadata": {},
   "source": [
    "<a id=\"explicacion_dataset\"></a> \n",
    "### 1.1 Presentación del caso\n",
    "\n",
    "<img src=\"../common/solar_farms.png\"  width=\"100%\" height=\"100%\">\n",
    "\n",
    ":es:\n",
    "\n",
    "**Objetivo del Poryecto**\n",
    "\n",
    "El objetivo de este proyecto es optimizar la producción de energía solar de una empresa de líder en el campo. Para ello, se requiere desarrollar un modelo de predicción capaz de predecir los valores de 'Clearsky DHI', 'Clearsky DNI' y 'Clearsky GHI', que son índices de incidencia solar clave.\n",
    "\n",
    "Utilizando un conjunto de datos recopilados durante 10 años con un intervalo de 30 minutos, se entrenará el modelo de predicción. Este modelo permitirá predecir la capacidad de producción de una granja solar en función de ciertos parámetros meteorológicos relevantes.\n",
    "\n",
    "El objetivo final es proporcionar a la empresa de generación de energía solar una herramienta precisa y confiable para optimizar la producción. Esto permitirá una planificación más eficiente de las operaciones, una mejor gestión de los recursos disponibles y proporcionar valores de entrega de energía, basados en predicciones meteorológicas a través de los servicios de Meteorología Nacionales.\n",
    "\n",
    "Con este proyecto, se busca aprovechar al máximo el potencial de la energía solar y contribuir a un enfoque más sostenible y respetuoso con el medio ambiente en la generación de energía.\n",
    "\n",
    "---\n",
    "\n",
    ":us:\n",
    "\n",
    "**Goal of the Project**\n",
    "\n",
    "*The objective of this project is to optimize the solar energy production of a leading company in the field. For this, it is necessary to develop a prediction model capable of predicting the values of 'Clearsky DHI', 'Clearsky DNI' and 'Clearsky GHI', which are key solar incidence indices.\n",
    "\n",
    "*Using a data set collected over 10 years with an interval of 30 minutes, the prediction model will be trained. This model will make it possible to predict the production capacity of a solar farm based on certain relevant meteorological parameters.\n",
    "\n",
    "*The ultimate goal is to provide the solar power generation company with an accurate and reliable tool to optimize production. This will allow for more efficient planning, better management of available resources and will provide energy delivery values, based on weather predictions through the National Meteorology services.\n",
    "\n",
    "*This project seeks to make the most of the potential of solar energy and contribute to a more sustainable and environmentally friendly approach to power generation.\n",
    "\n",
    "\n",
    ":es:\n",
    "\n",
    "#### Contexto\n",
    "\n",
    "Wipro Limited (NYSE: WIT, BSE: 507685, NSE: WIPRO) es una empresa líder mundial en servicios de tecnología de la información, consultoría y procesos comerciales. Aprovechamos el poder de la computación cognitiva, la hiperautomatización, la robótica, nubes, el análisis y las tecnologías emergentes para ayudar a nuestros clientes a adaptarse al mundo digital y hacerlos exitosos. Una empresa reconocida a nivel mundial por su cartera integral de servicios, fuerte compromiso con la sostenibilidad y capital humano comprometido, tenemos más de 220 000 empleados dedicados, que atienden a clientes en seis continentes. Juntos, descubrimos ideas y conectamos los puntos para construir un futuro mejor y más audaz.\n",
    "\n",
    "Además de ser un líder mundial en servicios de inteligencia artificial según los últimos informes de analistas como Forrester, IDC y Everest Group, Wipro ha sido calificada como la segunda mejor organización para que los científicos de datos trabajen en India en 2021 por Analytics India Magazine. La compañía también se ha comprometido a alcanzar unas emisiones netas de gases de efecto invernadero cero para 2040.\n",
    "\n",
    "Aunque un poco tarde, el mundo se está dando cuenta del efecto nocivo de los combustibles fósiles en nuestro medio ambiente. A medida que avanza el reloj del fin del mundo, los seres humanos recurren a las energías renovables para evitar un posible apocalipsis. Afortunadamente, el sol es un manantial de energía limpia. Siguiendo el ejemplo, Wipro, en asociación con MachineHack, ha diseñado un desafío de pronóstico para optimizar la generación de energía solar utilizando modelos ML.\n",
    "\n",
    "---\n",
    ":us:\n",
    "\n",
    "#### Context\n",
    "\n",
    "*Wipro Limited (NYSE: WIT, BSE: 507685, NSE: WIPRO) is a leading global information technology, consulting and business process services company. We harness the power of cognitive computing, hyper-automation, robotics, cloud, analytics and emerging technologies to help our clients adapt to the digital world and make them successful. A company recognized globally for its comprehensive portfolio of services, strong commitment to sustainability and good corporate citizenship, we have over 220,000 dedicated employees serving clients across six continents. Together, we discover ideas and connect the dots to build a better and a bold new future.*\n",
    "\n",
    "*Along with being a global leader in artificial intelligence services from the latest reports of analysts like Forrester, IDC and Everest Group, Wipro has been rated as the second-best organization for data scientists to work in India in 2021 by Analytics India Magazine. The company has also been committed to reaching a Net-Zero Greenhouse Gas Emissions by 2040.*\n",
    "\n",
    "*Though a little late in the day, the world is waking up to the deleterious effect of fossil fuels on our environment. As the doomsday clock ticks away, human beings are turning to renewable energy to avert a possible apocalypse. Fortunately, the sun is a well-spring of clean energy. Taking the cue, Wipro, in association with MachineHack, has designed a forecasting challenge to optimise solar power generation using ML models.*\n",
    "\n",
    "---\n",
    "\n",
    "['Year', 'Month', 'Day', 'Hour', 'Minute', 'Temperature', 'Clearsky DHI', 'Clearsky DNI', 'Clearsky GHI', 'Cloud Type', 'Dew Point', 'Fill Flag', 'Relative Humidity', 'Solar Zenith Angle', 'Pressure', 'Precipitable Water', 'Wind Direction', 'Wind Speed']\n",
    "\n",
    "#### Columnas\n",
    "- **Year** - Año de toma de datos\n",
    "- **Month** - Mes de toma de datos\n",
    "- **Day** - Día de toma de datos\n",
    "- **Hour** - Hora de toma de datos\n",
    "- **Minute** - Minuto de toma de datos\n",
    "- **Temperature** - Temperatura local\n",
    "- **Clearsky_DHI** - Diffuese Horizontal Irradiance w/m2\n",
    "- **Clearsky_DNI** - Direct Normal Irradiance w/m2\n",
    "- **Clearsky_GHI** - Global Horizontal Irradiance w/m2\n",
    "- **Cloud_Type** - Tipo de Nubosidad en el ambiente\n",
    "    - Cloud Type 0 Clear\n",
    "    - Cloud Type 1 Probably Clear\n",
    "    - Cloud Type 2 Fog\n",
    "    - Cloud Type 3 Water\n",
    "    - Cloud Type 4 Super-Cooled Water\n",
    "    - Cloud Type 5 Mixed\n",
    "    - Cloud Type 6 Opaque Ice\n",
    "    - Cloud Type 7 Cirrus\n",
    "    - Cloud Type 8 Overlapping\n",
    "    - Cloud Type 9 Overshooting\n",
    "    - Cloud Type 10 Unknown\n",
    "    - Cloud Type 11 Dust\n",
    "    - Cloud Type 12 Smoke\n",
    "    - Cloud Type -15 N/A\n",
    "- **Dew_Point** - Punto de rocío\n",
    "- **Fill_Flag** - \n",
    "    - Fill Flag 0 N/A\n",
    "    - Fill Flag 1 Missing Image\n",
    "    - Fill Flag 2 Low Irradiance\n",
    "    - Fill Flag 3 Exceeds Clearsky\n",
    "    - Fill Flag 4 Missing Cloud Properties\n",
    "    - Fill Flag 5 Rayleigh Violation\n",
    "    - Fill Flag any N/A\n",
    "- **Relative_Humidity** - Humedad relativa\n",
    "- **Solar_Zenith_Angle** - Ángulo de zenit solar\n",
    "- **Pressure** - Presión atomsférica\n",
    "- **Precipitable_Water** - Precipitación de lluvia en mm\n",
    "- **Wind_Direction** - Dirección del viento\n",
    "- **Wind_Speed** - Velocidad del viento\n",
    "\n",
    "<a id=\"metodologia\"></a> \n",
    "### 1.2 La metodología de trabajo\n",
    "\n",
    "Hemos estructurado nuestra metodología de trabajo en varias tareas con el fin de cumplir con nuestros objetivos principales. El objetivo primario es desarrollar un sistema predictivo en la notebook y crear una presentación en PowerPoint, tal como se requiere en el curso.\n",
    "\n",
    "Además de esto, hemos definido una serie de tareas complementarias para cumplir con nuestro objetivo secundario. Este objetivo implica poner en producción una pequeña página web en un servidor local, la cual contará con las funcionalidades mínimas necesarias para el funcionamiento del sistema y permitirá realizar consultas.\n",
    "\n",
    "A través de esta metodología, aseguramos un enfoque ordenado y organizado para alcanzar tanto el objetivo primario como el secundario. Cada tarea predictiva se realizará de manera paralela, permitiendo una progresión lógica en el desarrollo del proyecto y permitiendo un proceso comparativo de distintos modelos de aprendizaje. De esta manera, podremos cumplir con los requisitos del curso y también lograr la puesta en funcionamiento del sistema en una página web, brindando una solución más completa y accesible para los usuarios.\n",
    "\n",
    "Esta metodología nos permite maximizar la eficiencia y garantizar la entrega exitosa de los resultados esperados en los plazos establecidos."
   ]
  },
  {
   "cell_type": "markdown",
   "id": "f02a396f",
   "metadata": {},
   "source": [
    "<a id=\"section_import_lib\"></a>\n",
    "## 2. Importación de librerías para casos de Clasificación\n",
    "---\n",
    "<a href='#tabla_contenidos'>Volver a la Tabla de Contenidos</a>"
   ]
  },
  {
   "cell_type": "code",
   "execution_count": 1,
   "id": "f54f3d0a",
   "metadata": {},
   "outputs": [],
   "source": [
    "import pandas as pd\n",
    "import numpy as np\n",
    "import seaborn as sns\n",
    "import matplotlib.pyplot as plt\n",
    "import pickle\n",
    "\n",
    "from sklearn.model_selection import train_test_split\n",
    "from sklearn.preprocessing import OneHotEncoder, StandardScaler, MinMaxScaler\n",
    "from sklearn.ensemble import BaggingRegressor, RandomForestRegressor, AdaBoostRegressor\n",
    "from sklearn.tree import DecisionTreeRegressor\n",
    "from sklearn.linear_model import LinearRegression\n",
    "from sklearn.model_selection import GridSearchCV, StratifiedKFold\n",
    "from sklearn.pipeline import Pipeline\n",
    "from sklearn.metrics import confusion_matrix, r2_score, mean_absolute_error, mean_squared_error\n",
    "from sklearn.utils import resample"
   ]
  },
  {
   "cell_type": "markdown",
   "id": "606c7bf5",
   "metadata": {},
   "source": [
    "<a id=\"importar_dataset\"></a>\n",
    "## 3. Importando el DataSet\n",
    "---\n",
    "<a href='#tabla_contenidos'>Volver a la Tabla de Contenidos</a>"
   ]
  },
  {
   "cell_type": "code",
   "execution_count": 2,
   "id": "f080f532",
   "metadata": {},
   "outputs": [
    {
     "name": "stdout",
     "output_type": "stream",
     "text": [
      "(175296, 18)\n",
      "(17520, 18)\n"
     ]
    }
   ],
   "source": [
    "ruta_X_train = \"../data/train.csv\"\n",
    "ruta_X_test = \"../data/test.csv\"\n",
    "ruta_sample_submission = \"../data/sample_submission.csv\"\n",
    "\n",
    "# Con este data set crearemos los DF de entrenamiento y testeo\n",
    "data = pd.read_csv(ruta_X_train, sep=',')\n",
    "\n",
    "# Este data set quedará como set de prediciones\n",
    "X_test_ = pd.read_csv(ruta_X_test, sep=',')\n",
    "\n",
    "# VER QUE HACEMOS CON ESTO, YO LO ELIMINARÍA\n",
    "sample_submission = pd.read_csv(ruta_sample_submission, sep=',')\n",
    "\n",
    "print(data.shape)\n",
    "print(X_test_.shape)"
   ]
  },
  {
   "cell_type": "code",
   "execution_count": 3,
   "id": "1aa86801",
   "metadata": {},
   "outputs": [
    {
     "data": {
      "text/plain": [
       "Year                  0.0\n",
       "Month                 0.0\n",
       "Day                   0.0\n",
       "Hour                  0.0\n",
       "Minute                0.0\n",
       "Clearsky DHI          0.0\n",
       "Clearsky DNI          0.0\n",
       "Clearsky GHI          0.0\n",
       "Cloud Type            0.0\n",
       "Dew Point             0.0\n",
       "Temperature           0.0\n",
       "Pressure              0.0\n",
       "Relative Humidity     0.0\n",
       "Solar Zenith Angle    0.0\n",
       "Precipitable Water    0.0\n",
       "Wind Direction        0.0\n",
       "Wind Speed            0.0\n",
       "Fill Flag             0.0\n",
       "dtype: float64"
      ]
     },
     "execution_count": 3,
     "metadata": {},
     "output_type": "execute_result"
    }
   ],
   "source": [
    "data_nan = data.apply(lambda x: x.isnull().sum()/x.shape[0], axis=0)\n",
    "data_nan"
   ]
  },
  {
   "cell_type": "markdown",
   "id": "434165f9",
   "metadata": {},
   "source": [
    "Podemos observar que el DataSet no contiene ningún nulo, ya que este fue tomado por una computadore de manera continua de los datos climaticos de la zona."
   ]
  },
  {
   "cell_type": "markdown",
   "id": "a0a372d8",
   "metadata": {},
   "source": [
    "<a id=\"imputacion\"></a> \n",
    "### 3.1 Imputación de datos"
   ]
  },
  {
   "cell_type": "markdown",
   "id": "fa32c41b",
   "metadata": {},
   "source": [
    "En esta imputación encontramos una discrepancia en la organización de las columnas y hacemos un arreglo para que tengan el  mismo orden del DataSet que utilizaremos al final de trabajo para realizar predicciones futuras."
   ]
  },
  {
   "cell_type": "code",
   "execution_count": 4,
   "id": "4c759a6f",
   "metadata": {},
   "outputs": [
    {
     "data": {
      "text/plain": [
       "array(['Year', 'Month', 'Day', 'Hour', 'Minute', 'Cloud Type',\n",
       "       'Dew Point', 'Temperature', 'Pressure', 'Relative Humidity',\n",
       "       'Solar Zenith Angle', 'Precipitable Water', 'Wind Direction',\n",
       "       'Wind Speed', 'Fill Flag', 'Clearsky DHI', 'Clearsky DNI',\n",
       "       'Clearsky GHI'], dtype=object)"
      ]
     },
     "execution_count": 4,
     "metadata": {},
     "output_type": "execute_result"
    }
   ],
   "source": [
    "X_test_.columns.values"
   ]
  },
  {
   "cell_type": "code",
   "execution_count": 5,
   "id": "61bb6475",
   "metadata": {
    "scrolled": true
   },
   "outputs": [
    {
     "data": {
      "text/html": [
       "<div>\n",
       "<style scoped>\n",
       "    .dataframe tbody tr th:only-of-type {\n",
       "        vertical-align: middle;\n",
       "    }\n",
       "\n",
       "    .dataframe tbody tr th {\n",
       "        vertical-align: top;\n",
       "    }\n",
       "\n",
       "    .dataframe thead th {\n",
       "        text-align: right;\n",
       "    }\n",
       "</style>\n",
       "<table border=\"1\" class=\"dataframe\">\n",
       "  <thead>\n",
       "    <tr style=\"text-align: right;\">\n",
       "      <th></th>\n",
       "      <th>Year</th>\n",
       "      <th>Month</th>\n",
       "      <th>Day</th>\n",
       "      <th>Hour</th>\n",
       "      <th>Minute</th>\n",
       "      <th>Cloud Type</th>\n",
       "      <th>Dew Point</th>\n",
       "      <th>Temperature</th>\n",
       "      <th>Pressure</th>\n",
       "      <th>Relative Humidity</th>\n",
       "      <th>Solar Zenith Angle</th>\n",
       "      <th>Precipitable Water</th>\n",
       "      <th>Wind Direction</th>\n",
       "      <th>Wind Speed</th>\n",
       "      <th>Fill Flag</th>\n",
       "      <th>Clearsky DHI</th>\n",
       "      <th>Clearsky DNI</th>\n",
       "      <th>Clearsky GHI</th>\n",
       "    </tr>\n",
       "  </thead>\n",
       "  <tbody>\n",
       "    <tr>\n",
       "      <th>139549</th>\n",
       "      <td>2016</td>\n",
       "      <td>12</td>\n",
       "      <td>17</td>\n",
       "      <td>6</td>\n",
       "      <td>30</td>\n",
       "      <td>1</td>\n",
       "      <td>7.0</td>\n",
       "      <td>7.0</td>\n",
       "      <td>1010</td>\n",
       "      <td>100.00</td>\n",
       "      <td>164.56</td>\n",
       "      <td>2.033</td>\n",
       "      <td>141.7</td>\n",
       "      <td>1.5</td>\n",
       "      <td>0</td>\n",
       "      <td>0</td>\n",
       "      <td>0</td>\n",
       "      <td>0</td>\n",
       "    </tr>\n",
       "    <tr>\n",
       "      <th>51502</th>\n",
       "      <td>2011</td>\n",
       "      <td>12</td>\n",
       "      <td>9</td>\n",
       "      <td>23</td>\n",
       "      <td>0</td>\n",
       "      <td>7</td>\n",
       "      <td>7.0</td>\n",
       "      <td>11.0</td>\n",
       "      <td>1010</td>\n",
       "      <td>77.22</td>\n",
       "      <td>96.31</td>\n",
       "      <td>1.724</td>\n",
       "      <td>13.8</td>\n",
       "      <td>0.8</td>\n",
       "      <td>0</td>\n",
       "      <td>0</td>\n",
       "      <td>0</td>\n",
       "      <td>0</td>\n",
       "    </tr>\n",
       "    <tr>\n",
       "      <th>1901</th>\n",
       "      <td>2009</td>\n",
       "      <td>2</td>\n",
       "      <td>9</td>\n",
       "      <td>14</td>\n",
       "      <td>30</td>\n",
       "      <td>7</td>\n",
       "      <td>10.0</td>\n",
       "      <td>14.0</td>\n",
       "      <td>1010</td>\n",
       "      <td>82.58</td>\n",
       "      <td>66.58</td>\n",
       "      <td>1.752</td>\n",
       "      <td>46.5</td>\n",
       "      <td>0.8</td>\n",
       "      <td>0</td>\n",
       "      <td>102</td>\n",
       "      <td>672</td>\n",
       "      <td>369</td>\n",
       "    </tr>\n",
       "    <tr>\n",
       "      <th>113411</th>\n",
       "      <td>2015</td>\n",
       "      <td>6</td>\n",
       "      <td>21</td>\n",
       "      <td>17</td>\n",
       "      <td>30</td>\n",
       "      <td>0</td>\n",
       "      <td>22.0</td>\n",
       "      <td>33.0</td>\n",
       "      <td>1000</td>\n",
       "      <td>58.13</td>\n",
       "      <td>8.56</td>\n",
       "      <td>4.991</td>\n",
       "      <td>285.0</td>\n",
       "      <td>2.3</td>\n",
       "      <td>0</td>\n",
       "      <td>176</td>\n",
       "      <td>801</td>\n",
       "      <td>969</td>\n",
       "    </tr>\n",
       "    <tr>\n",
       "      <th>54151</th>\n",
       "      <td>2012</td>\n",
       "      <td>2</td>\n",
       "      <td>3</td>\n",
       "      <td>3</td>\n",
       "      <td>30</td>\n",
       "      <td>1</td>\n",
       "      <td>10.0</td>\n",
       "      <td>11.0</td>\n",
       "      <td>1010</td>\n",
       "      <td>97.97</td>\n",
       "      <td>145.08</td>\n",
       "      <td>1.314</td>\n",
       "      <td>12.6</td>\n",
       "      <td>1.4</td>\n",
       "      <td>0</td>\n",
       "      <td>0</td>\n",
       "      <td>0</td>\n",
       "      <td>0</td>\n",
       "    </tr>\n",
       "  </tbody>\n",
       "</table>\n",
       "</div>"
      ],
      "text/plain": [
       "        Year  Month  Day  Hour  Minute  Cloud Type  Dew Point  Temperature  \\\n",
       "139549  2016     12   17     6      30           1        7.0          7.0   \n",
       "51502   2011     12    9    23       0           7        7.0         11.0   \n",
       "1901    2009      2    9    14      30           7       10.0         14.0   \n",
       "113411  2015      6   21    17      30           0       22.0         33.0   \n",
       "54151   2012      2    3     3      30           1       10.0         11.0   \n",
       "\n",
       "        Pressure  Relative Humidity  Solar Zenith Angle  Precipitable Water  \\\n",
       "139549      1010             100.00              164.56               2.033   \n",
       "51502       1010              77.22               96.31               1.724   \n",
       "1901        1010              82.58               66.58               1.752   \n",
       "113411      1000              58.13                8.56               4.991   \n",
       "54151       1010              97.97              145.08               1.314   \n",
       "\n",
       "        Wind Direction  Wind Speed  Fill Flag  Clearsky DHI  Clearsky DNI  \\\n",
       "139549           141.7         1.5          0             0             0   \n",
       "51502             13.8         0.8          0             0             0   \n",
       "1901              46.5         0.8          0           102           672   \n",
       "113411           285.0         2.3          0           176           801   \n",
       "54151             12.6         1.4          0             0             0   \n",
       "\n",
       "        Clearsky GHI  \n",
       "139549             0  \n",
       "51502              0  \n",
       "1901             369  \n",
       "113411           969  \n",
       "54151              0  "
      ]
     },
     "execution_count": 5,
     "metadata": {},
     "output_type": "execute_result"
    }
   ],
   "source": [
    "data = data[['Year', 'Month', 'Day', 'Hour', 'Minute', 'Cloud Type',\n",
    "       'Dew Point', 'Temperature', 'Pressure', 'Relative Humidity',\n",
    "       'Solar Zenith Angle', 'Precipitable Water', 'Wind Direction',\n",
    "       'Wind Speed', 'Fill Flag', 'Clearsky DHI', 'Clearsky DNI',\n",
    "       'Clearsky GHI']]\n",
    "\n",
    "data.sample(5)"
   ]
  },
  {
   "cell_type": "code",
   "execution_count": 6,
   "id": "0c42b585",
   "metadata": {},
   "outputs": [
    {
     "data": {
      "text/plain": [
       "<AxesSubplot:>"
      ]
     },
     "execution_count": 6,
     "metadata": {},
     "output_type": "execute_result"
    },
    {
     "data": {
      "image/png": "[encoded data removed]",
      "text/plain": [
       "<Figure size 640x480 with 1 Axes>"
      ]
     },
     "metadata": {},
     "output_type": "display_data"
    }
   ],
   "source": [
    "data.boxplot(column=['Dew Point', 'Temperature', 'Precipitable Water',\n",
    "       'Wind Speed'], \n",
    "                  by=None, \n",
    "                  ax=None, \n",
    "                  fontsize=None, \n",
    "                  rot=0, \n",
    "                  grid=True, \n",
    "                  figsize=None, \n",
    "                  layout=None, \n",
    "                  return_type=None, \n",
    "                  backend=None)\n"
   ]
  },
  {
   "cell_type": "code",
   "execution_count": 7,
   "id": "7832722c",
   "metadata": {},
   "outputs": [
    {
     "data": {
      "text/plain": [
       "<AxesSubplot:>"
      ]
     },
     "execution_count": 7,
     "metadata": {},
     "output_type": "execute_result"
    },
    {
     "data": {
      "image/png": "[encoded data removed]",
      "text/plain": [
       "<Figure size 640x480 with 1 Axes>"
      ]
     },
     "metadata": {},
     "output_type": "display_data"
    }
   ],
   "source": [
    "data.boxplot(column=['Pressure'], \n",
    "                  by=None, \n",
    "                  ax=None, \n",
    "                  fontsize=None, \n",
    "                  rot=0, \n",
    "                  grid=True, \n",
    "                  figsize=None, \n",
    "                  layout=None, \n",
    "                  return_type=None, \n",
    "                  backend=None)"
   ]
  },
  {
   "cell_type": "code",
   "execution_count": 8,
   "id": "c9be8738",
   "metadata": {},
   "outputs": [
    {
     "data": {
      "text/plain": [
       "<AxesSubplot:>"
      ]
     },
     "execution_count": 8,
     "metadata": {},
     "output_type": "execute_result"
    },
    {
     "data": {
      "image/png": "[encoded data removed]",
      "text/plain": [
       "<Figure size 640x480 with 1 Axes>"
      ]
     },
     "metadata": {},
     "output_type": "display_data"
    }
   ],
   "source": [
    "data.boxplot(column=['Clearsky DHI', 'Clearsky DNI',\n",
    "       'Clearsky GHI'], \n",
    "                  by=None, \n",
    "                  ax=None, \n",
    "                  fontsize=None, \n",
    "                  rot=0, \n",
    "                  grid=True, \n",
    "                  figsize=None, \n",
    "                  layout=None, \n",
    "                  return_type=None, \n",
    "                  backend=None)"
   ]
  },
  {
   "cell_type": "code",
   "execution_count": 9,
   "id": "8453131f",
   "metadata": {},
   "outputs": [
    {
     "data": {
      "text/plain": [
       "<AxesSubplot:>"
      ]
     },
     "execution_count": 9,
     "metadata": {},
     "output_type": "execute_result"
    },
    {
     "data": {
      "image/png": "[encoded data removed]",
      "text/plain": [
       "<Figure size 640x480 with 1 Axes>"
      ]
     },
     "metadata": {},
     "output_type": "display_data"
    }
   ],
   "source": [
    "data.boxplot(column=['Relative Humidity',\n",
    "       'Solar Zenith Angle', 'Wind Direction'], \n",
    "                  by=None, \n",
    "                  ax=None, \n",
    "                  fontsize=None, \n",
    "                  rot=0, \n",
    "                  grid=True, \n",
    "                  figsize=None, \n",
    "                  layout=None, \n",
    "                  return_type=None, \n",
    "                  backend=None)"
   ]
  },
  {
   "cell_type": "code",
   "execution_count": 10,
   "id": "d6838ef1",
   "metadata": {
    "scrolled": true
   },
   "outputs": [
    {
     "data": {
      "text/html": [
       "<div>\n",
       "<style scoped>\n",
       "    .dataframe tbody tr th:only-of-type {\n",
       "        vertical-align: middle;\n",
       "    }\n",
       "\n",
       "    .dataframe tbody tr th {\n",
       "        vertical-align: top;\n",
       "    }\n",
       "\n",
       "    .dataframe thead th {\n",
       "        text-align: right;\n",
       "    }\n",
       "</style>\n",
       "<table border=\"1\" class=\"dataframe\">\n",
       "  <thead>\n",
       "    <tr style=\"text-align: right;\">\n",
       "      <th></th>\n",
       "      <th>Year</th>\n",
       "      <th>Month</th>\n",
       "      <th>Day</th>\n",
       "      <th>Hour</th>\n",
       "      <th>Minute</th>\n",
       "      <th>Cloud Type</th>\n",
       "      <th>Dew Point</th>\n",
       "      <th>Temperature</th>\n",
       "      <th>Pressure</th>\n",
       "      <th>Relative Humidity</th>\n",
       "      <th>Solar Zenith Angle</th>\n",
       "      <th>Precipitable Water</th>\n",
       "      <th>Wind Direction</th>\n",
       "      <th>Wind Speed</th>\n",
       "      <th>Fill Flag</th>\n",
       "      <th>Clearsky DHI</th>\n",
       "      <th>Clearsky DNI</th>\n",
       "      <th>Clearsky GHI</th>\n",
       "    </tr>\n",
       "  </thead>\n",
       "  <tbody>\n",
       "    <tr>\n",
       "      <th>count</th>\n",
       "      <td>175296.000000</td>\n",
       "      <td>175296.000000</td>\n",
       "      <td>175296.000000</td>\n",
       "      <td>175296.000000</td>\n",
       "      <td>175296.000000</td>\n",
       "      <td>175296.000000</td>\n",
       "      <td>175296.000000</td>\n",
       "      <td>175296.000000</td>\n",
       "      <td>175296.000000</td>\n",
       "      <td>175296.000000</td>\n",
       "      <td>175296.000000</td>\n",
       "      <td>175296.000000</td>\n",
       "      <td>175296.000000</td>\n",
       "      <td>175296.000000</td>\n",
       "      <td>175296.000000</td>\n",
       "      <td>175296.000000</td>\n",
       "      <td>175296.000000</td>\n",
       "      <td>175296.000000</td>\n",
       "    </tr>\n",
       "    <tr>\n",
       "      <th>mean</th>\n",
       "      <td>2013.500274</td>\n",
       "      <td>6.523549</td>\n",
       "      <td>15.727820</td>\n",
       "      <td>11.500000</td>\n",
       "      <td>15.000000</td>\n",
       "      <td>2.540474</td>\n",
       "      <td>13.564431</td>\n",
       "      <td>18.266769</td>\n",
       "      <td>1003.185230</td>\n",
       "      <td>79.376366</td>\n",
       "      <td>89.729463</td>\n",
       "      <td>2.903732</td>\n",
       "      <td>188.877796</td>\n",
       "      <td>2.262871</td>\n",
       "      <td>0.740433</td>\n",
       "      <td>53.065426</td>\n",
       "      <td>330.065295</td>\n",
       "      <td>254.365490</td>\n",
       "    </tr>\n",
       "    <tr>\n",
       "      <th>std</th>\n",
       "      <td>2.871908</td>\n",
       "      <td>3.448543</td>\n",
       "      <td>8.799349</td>\n",
       "      <td>6.922206</td>\n",
       "      <td>15.000043</td>\n",
       "      <td>3.021879</td>\n",
       "      <td>8.196787</td>\n",
       "      <td>8.943096</td>\n",
       "      <td>5.935749</td>\n",
       "      <td>19.678235</td>\n",
       "      <td>40.085451</td>\n",
       "      <td>1.546979</td>\n",
       "      <td>99.014733</td>\n",
       "      <td>1.281902</td>\n",
       "      <td>6.575655</td>\n",
       "      <td>64.201407</td>\n",
       "      <td>370.030821</td>\n",
       "      <td>327.705006</td>\n",
       "    </tr>\n",
       "    <tr>\n",
       "      <th>min</th>\n",
       "      <td>2009.000000</td>\n",
       "      <td>1.000000</td>\n",
       "      <td>1.000000</td>\n",
       "      <td>0.000000</td>\n",
       "      <td>0.000000</td>\n",
       "      <td>0.000000</td>\n",
       "      <td>-17.000000</td>\n",
       "      <td>-9.000000</td>\n",
       "      <td>970.000000</td>\n",
       "      <td>7.190000</td>\n",
       "      <td>8.550000</td>\n",
       "      <td>0.122000</td>\n",
       "      <td>0.000000</td>\n",
       "      <td>0.000000</td>\n",
       "      <td>0.000000</td>\n",
       "      <td>0.000000</td>\n",
       "      <td>0.000000</td>\n",
       "      <td>0.000000</td>\n",
       "    </tr>\n",
       "    <tr>\n",
       "      <th>25%</th>\n",
       "      <td>2011.000000</td>\n",
       "      <td>4.000000</td>\n",
       "      <td>8.000000</td>\n",
       "      <td>5.750000</td>\n",
       "      <td>0.000000</td>\n",
       "      <td>0.000000</td>\n",
       "      <td>8.000000</td>\n",
       "      <td>12.000000</td>\n",
       "      <td>1000.000000</td>\n",
       "      <td>65.590000</td>\n",
       "      <td>56.450000</td>\n",
       "      <td>1.534000</td>\n",
       "      <td>97.400000</td>\n",
       "      <td>1.300000</td>\n",
       "      <td>0.000000</td>\n",
       "      <td>0.000000</td>\n",
       "      <td>0.000000</td>\n",
       "      <td>0.000000</td>\n",
       "    </tr>\n",
       "    <tr>\n",
       "      <th>50%</th>\n",
       "      <td>2013.500000</td>\n",
       "      <td>7.000000</td>\n",
       "      <td>16.000000</td>\n",
       "      <td>11.500000</td>\n",
       "      <td>15.000000</td>\n",
       "      <td>1.000000</td>\n",
       "      <td>15.000000</td>\n",
       "      <td>20.000000</td>\n",
       "      <td>1000.000000</td>\n",
       "      <td>84.230000</td>\n",
       "      <td>89.860000</td>\n",
       "      <td>2.866000</td>\n",
       "      <td>200.000000</td>\n",
       "      <td>2.000000</td>\n",
       "      <td>0.000000</td>\n",
       "      <td>0.000000</td>\n",
       "      <td>0.000000</td>\n",
       "      <td>0.000000</td>\n",
       "    </tr>\n",
       "    <tr>\n",
       "      <th>75%</th>\n",
       "      <td>2016.000000</td>\n",
       "      <td>10.000000</td>\n",
       "      <td>23.000000</td>\n",
       "      <td>17.250000</td>\n",
       "      <td>30.000000</td>\n",
       "      <td>6.000000</td>\n",
       "      <td>21.000000</td>\n",
       "      <td>25.000000</td>\n",
       "      <td>1010.000000</td>\n",
       "      <td>97.950000</td>\n",
       "      <td>123.060000</td>\n",
       "      <td>4.223000</td>\n",
       "      <td>272.000000</td>\n",
       "      <td>3.000000</td>\n",
       "      <td>0.000000</td>\n",
       "      <td>103.000000</td>\n",
       "      <td>736.000000</td>\n",
       "      <td>535.000000</td>\n",
       "    </tr>\n",
       "    <tr>\n",
       "      <th>max</th>\n",
       "      <td>2018.000000</td>\n",
       "      <td>12.000000</td>\n",
       "      <td>31.000000</td>\n",
       "      <td>23.000000</td>\n",
       "      <td>30.000000</td>\n",
       "      <td>10.000000</td>\n",
       "      <td>26.900000</td>\n",
       "      <td>40.000000</td>\n",
       "      <td>1024.000000</td>\n",
       "      <td>100.000000</td>\n",
       "      <td>171.550000</td>\n",
       "      <td>7.700000</td>\n",
       "      <td>360.000000</td>\n",
       "      <td>12.900000</td>\n",
       "      <td>100.000000</td>\n",
       "      <td>565.000000</td>\n",
       "      <td>1040.000000</td>\n",
       "      <td>1063.000000</td>\n",
       "    </tr>\n",
       "  </tbody>\n",
       "</table>\n",
       "</div>"
      ],
      "text/plain": [
       "                Year          Month            Day           Hour  \\\n",
       "count  175296.000000  175296.000000  175296.000000  175296.000000   \n",
       "mean     2013.500274       6.523549      15.727820      11.500000   \n",
       "std         2.871908       3.448543       8.799349       6.922206   \n",
       "min      2009.000000       1.000000       1.000000       0.000000   \n",
       "25%      2011.000000       4.000000       8.000000       5.750000   \n",
       "50%      2013.500000       7.000000      16.000000      11.500000   \n",
       "75%      2016.000000      10.000000      23.000000      17.250000   \n",
       "max      2018.000000      12.000000      31.000000      23.000000   \n",
       "\n",
       "              Minute     Cloud Type      Dew Point    Temperature  \\\n",
       "count  175296.000000  175296.000000  175296.000000  175296.000000   \n",
       "mean       15.000000       2.540474      13.564431      18.266769   \n",
       "std        15.000043       3.021879       8.196787       8.943096   \n",
       "min         0.000000       0.000000     -17.000000      -9.000000   \n",
       "25%         0.000000       0.000000       8.000000      12.000000   \n",
       "50%        15.000000       1.000000      15.000000      20.000000   \n",
       "75%        30.000000       6.000000      21.000000      25.000000   \n",
       "max        30.000000      10.000000      26.900000      40.000000   \n",
       "\n",
       "            Pressure  Relative Humidity  Solar Zenith Angle  \\\n",
       "count  175296.000000      175296.000000       175296.000000   \n",
       "mean     1003.185230          79.376366           89.729463   \n",
       "std         5.935749          19.678235           40.085451   \n",
       "min       970.000000           7.190000            8.550000   \n",
       "25%      1000.000000          65.590000           56.450000   \n",
       "50%      1000.000000          84.230000           89.860000   \n",
       "75%      1010.000000          97.950000          123.060000   \n",
       "max      1024.000000         100.000000          171.550000   \n",
       "\n",
       "       Precipitable Water  Wind Direction     Wind Speed      Fill Flag  \\\n",
       "count       175296.000000   175296.000000  175296.000000  175296.000000   \n",
       "mean             2.903732      188.877796       2.262871       0.740433   \n",
       "std              1.546979       99.014733       1.281902       6.575655   \n",
       "min              0.122000        0.000000       0.000000       0.000000   \n",
       "25%              1.534000       97.400000       1.300000       0.000000   \n",
       "50%              2.866000      200.000000       2.000000       0.000000   \n",
       "75%              4.223000      272.000000       3.000000       0.000000   \n",
       "max              7.700000      360.000000      12.900000     100.000000   \n",
       "\n",
       "        Clearsky DHI   Clearsky DNI   Clearsky GHI  \n",
       "count  175296.000000  175296.000000  175296.000000  \n",
       "mean       53.065426     330.065295     254.365490  \n",
       "std        64.201407     370.030821     327.705006  \n",
       "min         0.000000       0.000000       0.000000  \n",
       "25%         0.000000       0.000000       0.000000  \n",
       "50%         0.000000       0.000000       0.000000  \n",
       "75%       103.000000     736.000000     535.000000  \n",
       "max       565.000000    1040.000000    1063.000000  "
      ]
     },
     "execution_count": 10,
     "metadata": {},
     "output_type": "execute_result"
    }
   ],
   "source": [
    "data.describe()"
   ]
  },
  {
   "cell_type": "markdown",
   "id": "cd773dea",
   "metadata": {},
   "source": [
    "<a id=\"preparacion_entrenamiento\"></a>\n",
    "## 4. Preparación y Entrenamiento del DataSet\n",
    "---\n",
    "<a href='#tabla_contenidos'>Volver a la Tabla de Contenidos</a>"
   ]
  },
  {
   "cell_type": "markdown",
   "id": "c8c8b92c",
   "metadata": {},
   "source": [
    "En esta sección trabajaremos el DataSet con profundidad para dejarlo listo y en condiciones, con la intención de enfocarnos en las distintas estrategias de entrenameinto, como veremos más adelante."
   ]
  },
  {
   "cell_type": "markdown",
   "id": "668f59b8",
   "metadata": {},
   "source": [
    "<a id=\"features\"></a> \n",
    "### 4.1 Features y dummies\n",
    "\n",
    "En el DataSet paraeciera no haber Features de clasificación, pero estás si están. Se encuentran establecidas con valores numéricos identificando las categorías que representan. Las columnas categóricas de las que estamos hablando son, **Cloud Type** y **Fill Flag**. Dentro de las mismas hay un total de 22 clasificadores. Por este motivo será necesario identificar dummies que puedan estar relacionadas a nuestros vectores Target de los datos meteorológicos.\n",
    "\n",
    "Para una mayor facilidad de comprensión, cambiaremos los valores por los nombres correspondientes. Nos ayudara a saber de que estamos hablando en cada caso, sin tener que estar recurriendo a las referencias más arriba."
   ]
  },
  {
   "cell_type": "markdown",
   "id": "57ba125b",
   "metadata": {},
   "source": [
    "#### 4.1.1 Creación de columnas con nombres de categoria\n",
    "Primero se necesita renombrar a cada una de las categorias. Para eso crearemos un método condicional que renombre según el número asignado."
   ]
  },
  {
   "cell_type": "code",
   "execution_count": 11,
   "id": "21e9a7f6",
   "metadata": {},
   "outputs": [
    {
     "data": {
      "text/plain": [
       "array(['Year', 'Month', 'Day', 'Hour', 'Minute', 'Cloud Type',\n",
       "       'Dew Point', 'Temperature', 'Pressure', 'Relative Humidity',\n",
       "       'Solar Zenith Angle', 'Precipitable Water', 'Wind Direction',\n",
       "       'Wind Speed', 'Fill Flag', 'Clearsky DHI', 'Clearsky DNI',\n",
       "       'Clearsky GHI'], dtype=object)"
      ]
     },
     "execution_count": 11,
     "metadata": {},
     "output_type": "execute_result"
    }
   ],
   "source": [
    "data.columns.values"
   ]
  },
  {
   "cell_type": "code",
   "execution_count": 12,
   "id": "f52b136c",
   "metadata": {},
   "outputs": [
    {
     "data": {
      "text/plain": [
       "Clear                 82788\n",
       "Cirrus                23163\n",
       "Water                 16255\n",
       "Probably_Clear        15698\n",
       "Overlapping           14276\n",
       "Super_Cooled_Water    11738\n",
       "Opaque_Ice             7902\n",
       "Fog                    3018\n",
       "Overshooting            457\n",
       "Unknown                   1\n",
       "Name: cloud_type_cat, dtype: int64"
      ]
     },
     "execution_count": 12,
     "metadata": {},
     "output_type": "execute_result"
    }
   ],
   "source": [
    "def cloud_type_cat(x):\n",
    "    if x == 0:\n",
    "        return 'Clear'\n",
    "    elif x == 1:\n",
    "        return 'Probably_Clear'\n",
    "    elif x == 2:\n",
    "        return 'Fog'\n",
    "    elif x == 3:\n",
    "        return 'Water'\n",
    "    elif x == 4:\n",
    "        return 'Super_Cooled_Water'\n",
    "    elif x == 5:\n",
    "        return 'Mixed'\n",
    "    elif x == 6:\n",
    "        return 'Opaque_Ice'\n",
    "    elif x == 7:\n",
    "        return 'Cirrus'\n",
    "    elif x == 8:\n",
    "        return 'Overlapping'\n",
    "    elif x == 9:\n",
    "        return 'Overshooting'\n",
    "    elif x == 10:\n",
    "        return 'Unknown'\n",
    "    elif x == 11:\n",
    "        return 'Dust'\n",
    "    elif x == 12:\n",
    "        return 'Smoke'\n",
    "    elif x == -15:\n",
    "        return 'N/A'\n",
    "    else:\n",
    "        return np.nan\n",
    "        \n",
    "data['cloud_type_cat'] = data['Cloud Type'].apply(cloud_type_cat)\n",
    "data['cloud_type_cat'].value_counts()"
   ]
  },
  {
   "cell_type": "code",
   "execution_count": 13,
   "id": "459b77b1",
   "metadata": {},
   "outputs": [
    {
     "data": {
      "text/plain": [
       "N/A                         164285\n",
       "Missing_Cloud_Properties      6864\n",
       "Missing_Image                 2046\n",
       "Other                         1811\n",
       "Exceeds_Clearsky               290\n",
       "Name: fill_flag_cat, dtype: int64"
      ]
     },
     "execution_count": 13,
     "metadata": {},
     "output_type": "execute_result"
    }
   ],
   "source": [
    "def flag_cat(x):\n",
    "    if x == 0:\n",
    "        return 'N/A'\n",
    "    elif x == 1:\n",
    "        return 'Missing_Image'\n",
    "    elif x == 2:\n",
    "        return 'Low_Irradiance'\n",
    "    elif x == 3:\n",
    "        return 'Exceeds_Clearsky'\n",
    "    elif x == 4:\n",
    "        return 'Missing_Cloud_Properties'\n",
    "    elif x == 5:\n",
    "        return 'Rayleigh_Violation'\n",
    "    else:\n",
    "        return 'Other'\n",
    "\n",
    "data['fill_flag_cat'] = data['Fill Flag'].apply(flag_cat)\n",
    "data['fill_flag_cat'].value_counts()"
   ]
  },
  {
   "cell_type": "markdown",
   "id": "81634568",
   "metadata": {},
   "source": [
    "#### 4.1.2 Preparación de las dummies\n",
    "Ahora con las columnas renombradas utilizaremos la librería **OneHotEncoder** de sci-kit learn,  para obtener los dummies. "
   ]
  },
  {
   "cell_type": "code",
   "execution_count": 14,
   "id": "b087d0c8",
   "metadata": {},
   "outputs": [],
   "source": [
    "encoder = OneHotEncoder(sparse=False, handle_unknown='ignore')\n",
    "dummies = encoder.fit_transform(data[['cloud_type_cat', 'fill_flag_cat']])"
   ]
  },
  {
   "cell_type": "code",
   "execution_count": 15,
   "id": "2d98f00a",
   "metadata": {},
   "outputs": [
    {
     "data": {
      "text/html": [
       "<div>\n",
       "<style scoped>\n",
       "    .dataframe tbody tr th:only-of-type {\n",
       "        vertical-align: middle;\n",
       "    }\n",
       "\n",
       "    .dataframe tbody tr th {\n",
       "        vertical-align: top;\n",
       "    }\n",
       "\n",
       "    .dataframe thead th {\n",
       "        text-align: right;\n",
       "    }\n",
       "</style>\n",
       "<table border=\"1\" class=\"dataframe\">\n",
       "  <thead>\n",
       "    <tr style=\"text-align: right;\">\n",
       "      <th></th>\n",
       "      <th>Cirrus</th>\n",
       "      <th>Clear</th>\n",
       "      <th>Fog</th>\n",
       "      <th>Opaque_Ice</th>\n",
       "      <th>Overlapping</th>\n",
       "      <th>Overshooting</th>\n",
       "      <th>Probably_Clear</th>\n",
       "      <th>Super_Cooled_Water</th>\n",
       "      <th>Unknown</th>\n",
       "      <th>Water</th>\n",
       "      <th>Exceeds_Clearsky</th>\n",
       "      <th>Missing_Cloud_Properties</th>\n",
       "      <th>Missing_Image</th>\n",
       "      <th>N/A</th>\n",
       "      <th>Other</th>\n",
       "    </tr>\n",
       "  </thead>\n",
       "  <tbody>\n",
       "    <tr>\n",
       "      <th>112403</th>\n",
       "      <td>0</td>\n",
       "      <td>0</td>\n",
       "      <td>0</td>\n",
       "      <td>0</td>\n",
       "      <td>0</td>\n",
       "      <td>0</td>\n",
       "      <td>0</td>\n",
       "      <td>0</td>\n",
       "      <td>0</td>\n",
       "      <td>1</td>\n",
       "      <td>0</td>\n",
       "      <td>0</td>\n",
       "      <td>0</td>\n",
       "      <td>1</td>\n",
       "      <td>0</td>\n",
       "    </tr>\n",
       "    <tr>\n",
       "      <th>11877</th>\n",
       "      <td>0</td>\n",
       "      <td>0</td>\n",
       "      <td>0</td>\n",
       "      <td>0</td>\n",
       "      <td>0</td>\n",
       "      <td>0</td>\n",
       "      <td>1</td>\n",
       "      <td>0</td>\n",
       "      <td>0</td>\n",
       "      <td>0</td>\n",
       "      <td>0</td>\n",
       "      <td>0</td>\n",
       "      <td>0</td>\n",
       "      <td>1</td>\n",
       "      <td>0</td>\n",
       "    </tr>\n",
       "    <tr>\n",
       "      <th>147924</th>\n",
       "      <td>0</td>\n",
       "      <td>0</td>\n",
       "      <td>0</td>\n",
       "      <td>0</td>\n",
       "      <td>0</td>\n",
       "      <td>0</td>\n",
       "      <td>1</td>\n",
       "      <td>0</td>\n",
       "      <td>0</td>\n",
       "      <td>0</td>\n",
       "      <td>0</td>\n",
       "      <td>0</td>\n",
       "      <td>0</td>\n",
       "      <td>1</td>\n",
       "      <td>0</td>\n",
       "    </tr>\n",
       "    <tr>\n",
       "      <th>84179</th>\n",
       "      <td>0</td>\n",
       "      <td>0</td>\n",
       "      <td>1</td>\n",
       "      <td>0</td>\n",
       "      <td>0</td>\n",
       "      <td>0</td>\n",
       "      <td>0</td>\n",
       "      <td>0</td>\n",
       "      <td>0</td>\n",
       "      <td>0</td>\n",
       "      <td>0</td>\n",
       "      <td>0</td>\n",
       "      <td>0</td>\n",
       "      <td>1</td>\n",
       "      <td>0</td>\n",
       "    </tr>\n",
       "    <tr>\n",
       "      <th>3589</th>\n",
       "      <td>0</td>\n",
       "      <td>0</td>\n",
       "      <td>0</td>\n",
       "      <td>0</td>\n",
       "      <td>1</td>\n",
       "      <td>0</td>\n",
       "      <td>0</td>\n",
       "      <td>0</td>\n",
       "      <td>0</td>\n",
       "      <td>0</td>\n",
       "      <td>0</td>\n",
       "      <td>0</td>\n",
       "      <td>0</td>\n",
       "      <td>1</td>\n",
       "      <td>0</td>\n",
       "    </tr>\n",
       "    <tr>\n",
       "      <th>18181</th>\n",
       "      <td>1</td>\n",
       "      <td>0</td>\n",
       "      <td>0</td>\n",
       "      <td>0</td>\n",
       "      <td>0</td>\n",
       "      <td>0</td>\n",
       "      <td>0</td>\n",
       "      <td>0</td>\n",
       "      <td>0</td>\n",
       "      <td>0</td>\n",
       "      <td>0</td>\n",
       "      <td>0</td>\n",
       "      <td>0</td>\n",
       "      <td>1</td>\n",
       "      <td>0</td>\n",
       "    </tr>\n",
       "    <tr>\n",
       "      <th>100532</th>\n",
       "      <td>0</td>\n",
       "      <td>0</td>\n",
       "      <td>0</td>\n",
       "      <td>0</td>\n",
       "      <td>0</td>\n",
       "      <td>0</td>\n",
       "      <td>0</td>\n",
       "      <td>0</td>\n",
       "      <td>0</td>\n",
       "      <td>1</td>\n",
       "      <td>0</td>\n",
       "      <td>0</td>\n",
       "      <td>0</td>\n",
       "      <td>1</td>\n",
       "      <td>0</td>\n",
       "    </tr>\n",
       "    <tr>\n",
       "      <th>13288</th>\n",
       "      <td>0</td>\n",
       "      <td>0</td>\n",
       "      <td>0</td>\n",
       "      <td>0</td>\n",
       "      <td>0</td>\n",
       "      <td>0</td>\n",
       "      <td>0</td>\n",
       "      <td>1</td>\n",
       "      <td>0</td>\n",
       "      <td>0</td>\n",
       "      <td>0</td>\n",
       "      <td>0</td>\n",
       "      <td>0</td>\n",
       "      <td>1</td>\n",
       "      <td>0</td>\n",
       "    </tr>\n",
       "    <tr>\n",
       "      <th>144988</th>\n",
       "      <td>0</td>\n",
       "      <td>1</td>\n",
       "      <td>0</td>\n",
       "      <td>0</td>\n",
       "      <td>0</td>\n",
       "      <td>0</td>\n",
       "      <td>0</td>\n",
       "      <td>0</td>\n",
       "      <td>0</td>\n",
       "      <td>0</td>\n",
       "      <td>0</td>\n",
       "      <td>0</td>\n",
       "      <td>0</td>\n",
       "      <td>1</td>\n",
       "      <td>0</td>\n",
       "    </tr>\n",
       "    <tr>\n",
       "      <th>65876</th>\n",
       "      <td>1</td>\n",
       "      <td>0</td>\n",
       "      <td>0</td>\n",
       "      <td>0</td>\n",
       "      <td>0</td>\n",
       "      <td>0</td>\n",
       "      <td>0</td>\n",
       "      <td>0</td>\n",
       "      <td>0</td>\n",
       "      <td>0</td>\n",
       "      <td>0</td>\n",
       "      <td>0</td>\n",
       "      <td>0</td>\n",
       "      <td>1</td>\n",
       "      <td>0</td>\n",
       "    </tr>\n",
       "  </tbody>\n",
       "</table>\n",
       "</div>"
      ],
      "text/plain": [
       "        Cirrus  Clear  Fog  Opaque_Ice  Overlapping  Overshooting  \\\n",
       "112403       0      0    0           0            0             0   \n",
       "11877        0      0    0           0            0             0   \n",
       "147924       0      0    0           0            0             0   \n",
       "84179        0      0    1           0            0             0   \n",
       "3589         0      0    0           0            1             0   \n",
       "18181        1      0    0           0            0             0   \n",
       "100532       0      0    0           0            0             0   \n",
       "13288        0      0    0           0            0             0   \n",
       "144988       0      1    0           0            0             0   \n",
       "65876        1      0    0           0            0             0   \n",
       "\n",
       "        Probably_Clear  Super_Cooled_Water  Unknown  Water  Exceeds_Clearsky  \\\n",
       "112403               0                   0        0      1                 0   \n",
       "11877                1                   0        0      0                 0   \n",
       "147924               1                   0        0      0                 0   \n",
       "84179                0                   0        0      0                 0   \n",
       "3589                 0                   0        0      0                 0   \n",
       "18181                0                   0        0      0                 0   \n",
       "100532               0                   0        0      1                 0   \n",
       "13288                0                   1        0      0                 0   \n",
       "144988               0                   0        0      0                 0   \n",
       "65876                0                   0        0      0                 0   \n",
       "\n",
       "        Missing_Cloud_Properties  Missing_Image  N/A  Other  \n",
       "112403                         0              0    1      0  \n",
       "11877                          0              0    1      0  \n",
       "147924                         0              0    1      0  \n",
       "84179                          0              0    1      0  \n",
       "3589                           0              0    1      0  \n",
       "18181                          0              0    1      0  \n",
       "100532                         0              0    1      0  \n",
       "13288                          0              0    1      0  \n",
       "144988                         0              0    1      0  \n",
       "65876                          0              0    1      0  "
      ]
     },
     "execution_count": 15,
     "metadata": {},
     "output_type": "execute_result"
    }
   ],
   "source": [
    "dummies = pd.DataFrame(dummies.astype(int), columns=np.concatenate(encoder.categories_))\n",
    "dummies.sample(10)"
   ]
  },
  {
   "cell_type": "code",
   "execution_count": 16,
   "id": "f1ba837b",
   "metadata": {},
   "outputs": [],
   "source": [
    "data = data.join(dummies)\n",
    "data = data.drop(columns=['Cloud Type','Fill Flag','cloud_type_cat','fill_flag_cat'])"
   ]
  },
  {
   "cell_type": "code",
   "execution_count": 17,
   "id": "46756f08",
   "metadata": {},
   "outputs": [
    {
     "data": {
      "text/html": [
       "<div>\n",
       "<style scoped>\n",
       "    .dataframe tbody tr th:only-of-type {\n",
       "        vertical-align: middle;\n",
       "    }\n",
       "\n",
       "    .dataframe tbody tr th {\n",
       "        vertical-align: top;\n",
       "    }\n",
       "\n",
       "    .dataframe thead th {\n",
       "        text-align: right;\n",
       "    }\n",
       "</style>\n",
       "<table border=\"1\" class=\"dataframe\">\n",
       "  <thead>\n",
       "    <tr style=\"text-align: right;\">\n",
       "      <th></th>\n",
       "      <th>Year</th>\n",
       "      <th>Month</th>\n",
       "      <th>Day</th>\n",
       "      <th>Hour</th>\n",
       "      <th>Minute</th>\n",
       "      <th>Dew Point</th>\n",
       "      <th>Temperature</th>\n",
       "      <th>Pressure</th>\n",
       "      <th>Relative Humidity</th>\n",
       "      <th>Solar Zenith Angle</th>\n",
       "      <th>...</th>\n",
       "      <th>Overshooting</th>\n",
       "      <th>Probably_Clear</th>\n",
       "      <th>Super_Cooled_Water</th>\n",
       "      <th>Unknown</th>\n",
       "      <th>Water</th>\n",
       "      <th>Exceeds_Clearsky</th>\n",
       "      <th>Missing_Cloud_Properties</th>\n",
       "      <th>Missing_Image</th>\n",
       "      <th>N/A</th>\n",
       "      <th>Other</th>\n",
       "    </tr>\n",
       "  </thead>\n",
       "  <tbody>\n",
       "    <tr>\n",
       "      <th>100204</th>\n",
       "      <td>2014</td>\n",
       "      <td>9</td>\n",
       "      <td>19</td>\n",
       "      <td>14</td>\n",
       "      <td>0</td>\n",
       "      <td>21.0</td>\n",
       "      <td>24.0</td>\n",
       "      <td>1000</td>\n",
       "      <td>84.25</td>\n",
       "      <td>57.86</td>\n",
       "      <td>...</td>\n",
       "      <td>0</td>\n",
       "      <td>0</td>\n",
       "      <td>0</td>\n",
       "      <td>0</td>\n",
       "      <td>0</td>\n",
       "      <td>0</td>\n",
       "      <td>0</td>\n",
       "      <td>0</td>\n",
       "      <td>1</td>\n",
       "      <td>0</td>\n",
       "    </tr>\n",
       "    <tr>\n",
       "      <th>31204</th>\n",
       "      <td>2010</td>\n",
       "      <td>10</td>\n",
       "      <td>13</td>\n",
       "      <td>2</td>\n",
       "      <td>0</td>\n",
       "      <td>14.0</td>\n",
       "      <td>20.0</td>\n",
       "      <td>1000</td>\n",
       "      <td>72.09</td>\n",
       "      <td>127.33</td>\n",
       "      <td>...</td>\n",
       "      <td>0</td>\n",
       "      <td>0</td>\n",
       "      <td>1</td>\n",
       "      <td>0</td>\n",
       "      <td>0</td>\n",
       "      <td>0</td>\n",
       "      <td>0</td>\n",
       "      <td>0</td>\n",
       "      <td>1</td>\n",
       "      <td>0</td>\n",
       "    </tr>\n",
       "    <tr>\n",
       "      <th>23643</th>\n",
       "      <td>2010</td>\n",
       "      <td>5</td>\n",
       "      <td>8</td>\n",
       "      <td>13</td>\n",
       "      <td>30</td>\n",
       "      <td>22.0</td>\n",
       "      <td>25.0</td>\n",
       "      <td>1000</td>\n",
       "      <td>85.73</td>\n",
       "      <td>56.25</td>\n",
       "      <td>...</td>\n",
       "      <td>0</td>\n",
       "      <td>0</td>\n",
       "      <td>0</td>\n",
       "      <td>0</td>\n",
       "      <td>1</td>\n",
       "      <td>0</td>\n",
       "      <td>0</td>\n",
       "      <td>0</td>\n",
       "      <td>1</td>\n",
       "      <td>0</td>\n",
       "    </tr>\n",
       "    <tr>\n",
       "      <th>20843</th>\n",
       "      <td>2010</td>\n",
       "      <td>3</td>\n",
       "      <td>11</td>\n",
       "      <td>5</td>\n",
       "      <td>30</td>\n",
       "      <td>13.0</td>\n",
       "      <td>13.0</td>\n",
       "      <td>1000</td>\n",
       "      <td>100.00</td>\n",
       "      <td>151.66</td>\n",
       "      <td>...</td>\n",
       "      <td>0</td>\n",
       "      <td>0</td>\n",
       "      <td>0</td>\n",
       "      <td>0</td>\n",
       "      <td>0</td>\n",
       "      <td>0</td>\n",
       "      <td>0</td>\n",
       "      <td>1</td>\n",
       "      <td>0</td>\n",
       "      <td>0</td>\n",
       "    </tr>\n",
       "    <tr>\n",
       "      <th>161002</th>\n",
       "      <td>2018</td>\n",
       "      <td>3</td>\n",
       "      <td>9</td>\n",
       "      <td>5</td>\n",
       "      <td>0</td>\n",
       "      <td>-0.2</td>\n",
       "      <td>2.4</td>\n",
       "      <td>1009</td>\n",
       "      <td>83.25</td>\n",
       "      <td>150.61</td>\n",
       "      <td>...</td>\n",
       "      <td>0</td>\n",
       "      <td>0</td>\n",
       "      <td>0</td>\n",
       "      <td>0</td>\n",
       "      <td>0</td>\n",
       "      <td>0</td>\n",
       "      <td>0</td>\n",
       "      <td>0</td>\n",
       "      <td>1</td>\n",
       "      <td>0</td>\n",
       "    </tr>\n",
       "    <tr>\n",
       "      <th>100439</th>\n",
       "      <td>2014</td>\n",
       "      <td>9</td>\n",
       "      <td>24</td>\n",
       "      <td>11</td>\n",
       "      <td>30</td>\n",
       "      <td>12.0</td>\n",
       "      <td>14.0</td>\n",
       "      <td>1010</td>\n",
       "      <td>90.73</td>\n",
       "      <td>89.74</td>\n",
       "      <td>...</td>\n",
       "      <td>0</td>\n",
       "      <td>0</td>\n",
       "      <td>0</td>\n",
       "      <td>0</td>\n",
       "      <td>0</td>\n",
       "      <td>0</td>\n",
       "      <td>0</td>\n",
       "      <td>0</td>\n",
       "      <td>1</td>\n",
       "      <td>0</td>\n",
       "    </tr>\n",
       "    <tr>\n",
       "      <th>56230</th>\n",
       "      <td>2012</td>\n",
       "      <td>3</td>\n",
       "      <td>17</td>\n",
       "      <td>11</td>\n",
       "      <td>0</td>\n",
       "      <td>15.0</td>\n",
       "      <td>15.0</td>\n",
       "      <td>1010</td>\n",
       "      <td>100.00</td>\n",
       "      <td>99.84</td>\n",
       "      <td>...</td>\n",
       "      <td>0</td>\n",
       "      <td>0</td>\n",
       "      <td>0</td>\n",
       "      <td>0</td>\n",
       "      <td>0</td>\n",
       "      <td>0</td>\n",
       "      <td>0</td>\n",
       "      <td>0</td>\n",
       "      <td>1</td>\n",
       "      <td>0</td>\n",
       "    </tr>\n",
       "    <tr>\n",
       "      <th>33196</th>\n",
       "      <td>2010</td>\n",
       "      <td>11</td>\n",
       "      <td>23</td>\n",
       "      <td>14</td>\n",
       "      <td>0</td>\n",
       "      <td>15.0</td>\n",
       "      <td>18.0</td>\n",
       "      <td>1010</td>\n",
       "      <td>85.54</td>\n",
       "      <td>71.16</td>\n",
       "      <td>...</td>\n",
       "      <td>0</td>\n",
       "      <td>0</td>\n",
       "      <td>0</td>\n",
       "      <td>0</td>\n",
       "      <td>0</td>\n",
       "      <td>0</td>\n",
       "      <td>0</td>\n",
       "      <td>0</td>\n",
       "      <td>1</td>\n",
       "      <td>0</td>\n",
       "    </tr>\n",
       "    <tr>\n",
       "      <th>56037</th>\n",
       "      <td>2012</td>\n",
       "      <td>3</td>\n",
       "      <td>13</td>\n",
       "      <td>10</td>\n",
       "      <td>30</td>\n",
       "      <td>13.0</td>\n",
       "      <td>13.0</td>\n",
       "      <td>1010</td>\n",
       "      <td>100.00</td>\n",
       "      <td>107.26</td>\n",
       "      <td>...</td>\n",
       "      <td>0</td>\n",
       "      <td>0</td>\n",
       "      <td>0</td>\n",
       "      <td>0</td>\n",
       "      <td>0</td>\n",
       "      <td>0</td>\n",
       "      <td>0</td>\n",
       "      <td>0</td>\n",
       "      <td>1</td>\n",
       "      <td>0</td>\n",
       "    </tr>\n",
       "    <tr>\n",
       "      <th>152531</th>\n",
       "      <td>2017</td>\n",
       "      <td>9</td>\n",
       "      <td>13</td>\n",
       "      <td>17</td>\n",
       "      <td>30</td>\n",
       "      <td>20.0</td>\n",
       "      <td>26.0</td>\n",
       "      <td>1000</td>\n",
       "      <td>71.94</td>\n",
       "      <td>28.32</td>\n",
       "      <td>...</td>\n",
       "      <td>0</td>\n",
       "      <td>0</td>\n",
       "      <td>0</td>\n",
       "      <td>0</td>\n",
       "      <td>0</td>\n",
       "      <td>0</td>\n",
       "      <td>0</td>\n",
       "      <td>0</td>\n",
       "      <td>1</td>\n",
       "      <td>0</td>\n",
       "    </tr>\n",
       "    <tr>\n",
       "      <th>69206</th>\n",
       "      <td>2012</td>\n",
       "      <td>12</td>\n",
       "      <td>12</td>\n",
       "      <td>19</td>\n",
       "      <td>0</td>\n",
       "      <td>7.0</td>\n",
       "      <td>10.0</td>\n",
       "      <td>1010</td>\n",
       "      <td>85.66</td>\n",
       "      <td>59.09</td>\n",
       "      <td>...</td>\n",
       "      <td>0</td>\n",
       "      <td>0</td>\n",
       "      <td>0</td>\n",
       "      <td>0</td>\n",
       "      <td>0</td>\n",
       "      <td>0</td>\n",
       "      <td>0</td>\n",
       "      <td>0</td>\n",
       "      <td>1</td>\n",
       "      <td>0</td>\n",
       "    </tr>\n",
       "    <tr>\n",
       "      <th>156279</th>\n",
       "      <td>2017</td>\n",
       "      <td>11</td>\n",
       "      <td>30</td>\n",
       "      <td>19</td>\n",
       "      <td>30</td>\n",
       "      <td>11.0</td>\n",
       "      <td>25.0</td>\n",
       "      <td>1000</td>\n",
       "      <td>44.17</td>\n",
       "      <td>61.47</td>\n",
       "      <td>...</td>\n",
       "      <td>0</td>\n",
       "      <td>0</td>\n",
       "      <td>1</td>\n",
       "      <td>0</td>\n",
       "      <td>0</td>\n",
       "      <td>0</td>\n",
       "      <td>0</td>\n",
       "      <td>0</td>\n",
       "      <td>1</td>\n",
       "      <td>0</td>\n",
       "    </tr>\n",
       "    <tr>\n",
       "      <th>148913</th>\n",
       "      <td>2017</td>\n",
       "      <td>6</td>\n",
       "      <td>30</td>\n",
       "      <td>8</td>\n",
       "      <td>30</td>\n",
       "      <td>21.0</td>\n",
       "      <td>22.0</td>\n",
       "      <td>1000</td>\n",
       "      <td>100.00</td>\n",
       "      <td>111.49</td>\n",
       "      <td>...</td>\n",
       "      <td>0</td>\n",
       "      <td>0</td>\n",
       "      <td>0</td>\n",
       "      <td>0</td>\n",
       "      <td>0</td>\n",
       "      <td>0</td>\n",
       "      <td>0</td>\n",
       "      <td>0</td>\n",
       "      <td>1</td>\n",
       "      <td>0</td>\n",
       "    </tr>\n",
       "    <tr>\n",
       "      <th>152356</th>\n",
       "      <td>2017</td>\n",
       "      <td>9</td>\n",
       "      <td>10</td>\n",
       "      <td>2</td>\n",
       "      <td>0</td>\n",
       "      <td>11.0</td>\n",
       "      <td>22.0</td>\n",
       "      <td>1000</td>\n",
       "      <td>50.26</td>\n",
       "      <td>117.56</td>\n",
       "      <td>...</td>\n",
       "      <td>0</td>\n",
       "      <td>1</td>\n",
       "      <td>0</td>\n",
       "      <td>0</td>\n",
       "      <td>0</td>\n",
       "      <td>0</td>\n",
       "      <td>0</td>\n",
       "      <td>0</td>\n",
       "      <td>1</td>\n",
       "      <td>0</td>\n",
       "    </tr>\n",
       "    <tr>\n",
       "      <th>46675</th>\n",
       "      <td>2011</td>\n",
       "      <td>8</td>\n",
       "      <td>31</td>\n",
       "      <td>9</td>\n",
       "      <td>30</td>\n",
       "      <td>23.0</td>\n",
       "      <td>23.0</td>\n",
       "      <td>1000</td>\n",
       "      <td>100.00</td>\n",
       "      <td>111.00</td>\n",
       "      <td>...</td>\n",
       "      <td>0</td>\n",
       "      <td>0</td>\n",
       "      <td>0</td>\n",
       "      <td>0</td>\n",
       "      <td>0</td>\n",
       "      <td>0</td>\n",
       "      <td>0</td>\n",
       "      <td>0</td>\n",
       "      <td>1</td>\n",
       "      <td>0</td>\n",
       "    </tr>\n",
       "    <tr>\n",
       "      <th>161232</th>\n",
       "      <td>2018</td>\n",
       "      <td>3</td>\n",
       "      <td>14</td>\n",
       "      <td>0</td>\n",
       "      <td>0</td>\n",
       "      <td>3.2</td>\n",
       "      <td>7.6</td>\n",
       "      <td>1007</td>\n",
       "      <td>73.73</td>\n",
       "      <td>94.64</td>\n",
       "      <td>...</td>\n",
       "      <td>0</td>\n",
       "      <td>0</td>\n",
       "      <td>0</td>\n",
       "      <td>0</td>\n",
       "      <td>0</td>\n",
       "      <td>0</td>\n",
       "      <td>0</td>\n",
       "      <td>0</td>\n",
       "      <td>1</td>\n",
       "      <td>0</td>\n",
       "    </tr>\n",
       "    <tr>\n",
       "      <th>117539</th>\n",
       "      <td>2015</td>\n",
       "      <td>9</td>\n",
       "      <td>15</td>\n",
       "      <td>17</td>\n",
       "      <td>30</td>\n",
       "      <td>13.0</td>\n",
       "      <td>28.0</td>\n",
       "      <td>1010</td>\n",
       "      <td>41.00</td>\n",
       "      <td>28.89</td>\n",
       "      <td>...</td>\n",
       "      <td>0</td>\n",
       "      <td>0</td>\n",
       "      <td>0</td>\n",
       "      <td>0</td>\n",
       "      <td>0</td>\n",
       "      <td>0</td>\n",
       "      <td>0</td>\n",
       "      <td>0</td>\n",
       "      <td>1</td>\n",
       "      <td>0</td>\n",
       "    </tr>\n",
       "    <tr>\n",
       "      <th>28879</th>\n",
       "      <td>2010</td>\n",
       "      <td>8</td>\n",
       "      <td>25</td>\n",
       "      <td>15</td>\n",
       "      <td>30</td>\n",
       "      <td>21.0</td>\n",
       "      <td>32.0</td>\n",
       "      <td>1000</td>\n",
       "      <td>54.89</td>\n",
       "      <td>36.24</td>\n",
       "      <td>...</td>\n",
       "      <td>0</td>\n",
       "      <td>1</td>\n",
       "      <td>0</td>\n",
       "      <td>0</td>\n",
       "      <td>0</td>\n",
       "      <td>0</td>\n",
       "      <td>0</td>\n",
       "      <td>0</td>\n",
       "      <td>1</td>\n",
       "      <td>0</td>\n",
       "    </tr>\n",
       "    <tr>\n",
       "      <th>4302</th>\n",
       "      <td>2009</td>\n",
       "      <td>3</td>\n",
       "      <td>31</td>\n",
       "      <td>15</td>\n",
       "      <td>0</td>\n",
       "      <td>12.0</td>\n",
       "      <td>15.0</td>\n",
       "      <td>1000</td>\n",
       "      <td>85.55</td>\n",
       "      <td>46.36</td>\n",
       "      <td>...</td>\n",
       "      <td>0</td>\n",
       "      <td>0</td>\n",
       "      <td>0</td>\n",
       "      <td>0</td>\n",
       "      <td>0</td>\n",
       "      <td>0</td>\n",
       "      <td>0</td>\n",
       "      <td>0</td>\n",
       "      <td>1</td>\n",
       "      <td>0</td>\n",
       "    </tr>\n",
       "    <tr>\n",
       "      <th>105031</th>\n",
       "      <td>2014</td>\n",
       "      <td>12</td>\n",
       "      <td>29</td>\n",
       "      <td>3</td>\n",
       "      <td>30</td>\n",
       "      <td>16.0</td>\n",
       "      <td>16.0</td>\n",
       "      <td>1000</td>\n",
       "      <td>100.00</td>\n",
       "      <td>150.62</td>\n",
       "      <td>...</td>\n",
       "      <td>0</td>\n",
       "      <td>0</td>\n",
       "      <td>0</td>\n",
       "      <td>0</td>\n",
       "      <td>0</td>\n",
       "      <td>0</td>\n",
       "      <td>0</td>\n",
       "      <td>0</td>\n",
       "      <td>1</td>\n",
       "      <td>0</td>\n",
       "    </tr>\n",
       "    <tr>\n",
       "      <th>35217</th>\n",
       "      <td>2011</td>\n",
       "      <td>1</td>\n",
       "      <td>4</td>\n",
       "      <td>16</td>\n",
       "      <td>30</td>\n",
       "      <td>0.0</td>\n",
       "      <td>11.0</td>\n",
       "      <td>1010</td>\n",
       "      <td>48.22</td>\n",
       "      <td>57.09</td>\n",
       "      <td>...</td>\n",
       "      <td>0</td>\n",
       "      <td>0</td>\n",
       "      <td>1</td>\n",
       "      <td>0</td>\n",
       "      <td>0</td>\n",
       "      <td>0</td>\n",
       "      <td>0</td>\n",
       "      <td>0</td>\n",
       "      <td>1</td>\n",
       "      <td>0</td>\n",
       "    </tr>\n",
       "    <tr>\n",
       "      <th>88013</th>\n",
       "      <td>2014</td>\n",
       "      <td>1</td>\n",
       "      <td>8</td>\n",
       "      <td>14</td>\n",
       "      <td>30</td>\n",
       "      <td>-10.0</td>\n",
       "      <td>0.0</td>\n",
       "      <td>1020</td>\n",
       "      <td>45.75</td>\n",
       "      <td>70.94</td>\n",
       "      <td>...</td>\n",
       "      <td>0</td>\n",
       "      <td>0</td>\n",
       "      <td>0</td>\n",
       "      <td>0</td>\n",
       "      <td>0</td>\n",
       "      <td>0</td>\n",
       "      <td>0</td>\n",
       "      <td>0</td>\n",
       "      <td>1</td>\n",
       "      <td>0</td>\n",
       "    </tr>\n",
       "    <tr>\n",
       "      <th>16659</th>\n",
       "      <td>2009</td>\n",
       "      <td>12</td>\n",
       "      <td>14</td>\n",
       "      <td>1</td>\n",
       "      <td>30</td>\n",
       "      <td>16.0</td>\n",
       "      <td>16.0</td>\n",
       "      <td>1000</td>\n",
       "      <td>100.00</td>\n",
       "      <td>126.75</td>\n",
       "      <td>...</td>\n",
       "      <td>0</td>\n",
       "      <td>0</td>\n",
       "      <td>0</td>\n",
       "      <td>0</td>\n",
       "      <td>0</td>\n",
       "      <td>0</td>\n",
       "      <td>0</td>\n",
       "      <td>0</td>\n",
       "      <td>1</td>\n",
       "      <td>0</td>\n",
       "    </tr>\n",
       "    <tr>\n",
       "      <th>43639</th>\n",
       "      <td>2011</td>\n",
       "      <td>6</td>\n",
       "      <td>29</td>\n",
       "      <td>3</td>\n",
       "      <td>30</td>\n",
       "      <td>22.0</td>\n",
       "      <td>25.0</td>\n",
       "      <td>1000</td>\n",
       "      <td>92.75</td>\n",
       "      <td>116.88</td>\n",
       "      <td>...</td>\n",
       "      <td>0</td>\n",
       "      <td>0</td>\n",
       "      <td>0</td>\n",
       "      <td>0</td>\n",
       "      <td>0</td>\n",
       "      <td>0</td>\n",
       "      <td>0</td>\n",
       "      <td>0</td>\n",
       "      <td>1</td>\n",
       "      <td>0</td>\n",
       "    </tr>\n",
       "    <tr>\n",
       "      <th>59690</th>\n",
       "      <td>2012</td>\n",
       "      <td>5</td>\n",
       "      <td>28</td>\n",
       "      <td>13</td>\n",
       "      <td>0</td>\n",
       "      <td>21.0</td>\n",
       "      <td>25.0</td>\n",
       "      <td>1000</td>\n",
       "      <td>79.37</td>\n",
       "      <td>60.83</td>\n",
       "      <td>...</td>\n",
       "      <td>0</td>\n",
       "      <td>0</td>\n",
       "      <td>0</td>\n",
       "      <td>0</td>\n",
       "      <td>0</td>\n",
       "      <td>0</td>\n",
       "      <td>1</td>\n",
       "      <td>0</td>\n",
       "      <td>0</td>\n",
       "      <td>0</td>\n",
       "    </tr>\n",
       "    <tr>\n",
       "      <th>115491</th>\n",
       "      <td>2015</td>\n",
       "      <td>8</td>\n",
       "      <td>4</td>\n",
       "      <td>1</td>\n",
       "      <td>30</td>\n",
       "      <td>22.0</td>\n",
       "      <td>29.0</td>\n",
       "      <td>1000</td>\n",
       "      <td>68.51</td>\n",
       "      <td>102.23</td>\n",
       "      <td>...</td>\n",
       "      <td>0</td>\n",
       "      <td>0</td>\n",
       "      <td>0</td>\n",
       "      <td>0</td>\n",
       "      <td>0</td>\n",
       "      <td>0</td>\n",
       "      <td>0</td>\n",
       "      <td>0</td>\n",
       "      <td>1</td>\n",
       "      <td>0</td>\n",
       "    </tr>\n",
       "    <tr>\n",
       "      <th>113924</th>\n",
       "      <td>2015</td>\n",
       "      <td>7</td>\n",
       "      <td>2</td>\n",
       "      <td>10</td>\n",
       "      <td>0</td>\n",
       "      <td>22.0</td>\n",
       "      <td>22.0</td>\n",
       "      <td>1000</td>\n",
       "      <td>100.00</td>\n",
       "      <td>97.01</td>\n",
       "      <td>...</td>\n",
       "      <td>0</td>\n",
       "      <td>0</td>\n",
       "      <td>0</td>\n",
       "      <td>0</td>\n",
       "      <td>0</td>\n",
       "      <td>0</td>\n",
       "      <td>0</td>\n",
       "      <td>0</td>\n",
       "      <td>1</td>\n",
       "      <td>0</td>\n",
       "    </tr>\n",
       "    <tr>\n",
       "      <th>133030</th>\n",
       "      <td>2016</td>\n",
       "      <td>8</td>\n",
       "      <td>3</td>\n",
       "      <td>11</td>\n",
       "      <td>0</td>\n",
       "      <td>24.0</td>\n",
       "      <td>24.0</td>\n",
       "      <td>1000</td>\n",
       "      <td>100.00</td>\n",
       "      <td>89.37</td>\n",
       "      <td>...</td>\n",
       "      <td>0</td>\n",
       "      <td>1</td>\n",
       "      <td>0</td>\n",
       "      <td>0</td>\n",
       "      <td>0</td>\n",
       "      <td>0</td>\n",
       "      <td>0</td>\n",
       "      <td>0</td>\n",
       "      <td>1</td>\n",
       "      <td>0</td>\n",
       "    </tr>\n",
       "    <tr>\n",
       "      <th>69072</th>\n",
       "      <td>2012</td>\n",
       "      <td>12</td>\n",
       "      <td>10</td>\n",
       "      <td>0</td>\n",
       "      <td>0</td>\n",
       "      <td>13.0</td>\n",
       "      <td>17.0</td>\n",
       "      <td>1000</td>\n",
       "      <td>79.60</td>\n",
       "      <td>108.28</td>\n",
       "      <td>...</td>\n",
       "      <td>0</td>\n",
       "      <td>0</td>\n",
       "      <td>0</td>\n",
       "      <td>0</td>\n",
       "      <td>0</td>\n",
       "      <td>0</td>\n",
       "      <td>0</td>\n",
       "      <td>0</td>\n",
       "      <td>1</td>\n",
       "      <td>0</td>\n",
       "    </tr>\n",
       "    <tr>\n",
       "      <th>115124</th>\n",
       "      <td>2015</td>\n",
       "      <td>7</td>\n",
       "      <td>27</td>\n",
       "      <td>10</td>\n",
       "      <td>0</td>\n",
       "      <td>22.0</td>\n",
       "      <td>22.0</td>\n",
       "      <td>1000</td>\n",
       "      <td>100.00</td>\n",
       "      <td>99.86</td>\n",
       "      <td>...</td>\n",
       "      <td>0</td>\n",
       "      <td>0</td>\n",
       "      <td>0</td>\n",
       "      <td>0</td>\n",
       "      <td>0</td>\n",
       "      <td>0</td>\n",
       "      <td>0</td>\n",
       "      <td>0</td>\n",
       "      <td>1</td>\n",
       "      <td>0</td>\n",
       "    </tr>\n",
       "  </tbody>\n",
       "</table>\n",
       "<p>30 rows × 31 columns</p>\n",
       "</div>"
      ],
      "text/plain": [
       "        Year  Month  Day  Hour  Minute  Dew Point  Temperature  Pressure  \\\n",
       "100204  2014      9   19    14       0       21.0         24.0      1000   \n",
       "31204   2010     10   13     2       0       14.0         20.0      1000   \n",
       "23643   2010      5    8    13      30       22.0         25.0      1000   \n",
       "20843   2010      3   11     5      30       13.0         13.0      1000   \n",
       "161002  2018      3    9     5       0       -0.2          2.4      1009   \n",
       "100439  2014      9   24    11      30       12.0         14.0      1010   \n",
       "56230   2012      3   17    11       0       15.0         15.0      1010   \n",
       "33196   2010     11   23    14       0       15.0         18.0      1010   \n",
       "56037   2012      3   13    10      30       13.0         13.0      1010   \n",
       "152531  2017      9   13    17      30       20.0         26.0      1000   \n",
       "69206   2012     12   12    19       0        7.0         10.0      1010   \n",
       "156279  2017     11   30    19      30       11.0         25.0      1000   \n",
       "148913  2017      6   30     8      30       21.0         22.0      1000   \n",
       "152356  2017      9   10     2       0       11.0         22.0      1000   \n",
       "46675   2011      8   31     9      30       23.0         23.0      1000   \n",
       "161232  2018      3   14     0       0        3.2          7.6      1007   \n",
       "117539  2015      9   15    17      30       13.0         28.0      1010   \n",
       "28879   2010      8   25    15      30       21.0         32.0      1000   \n",
       "4302    2009      3   31    15       0       12.0         15.0      1000   \n",
       "105031  2014     12   29     3      30       16.0         16.0      1000   \n",
       "35217   2011      1    4    16      30        0.0         11.0      1010   \n",
       "88013   2014      1    8    14      30      -10.0          0.0      1020   \n",
       "16659   2009     12   14     1      30       16.0         16.0      1000   \n",
       "43639   2011      6   29     3      30       22.0         25.0      1000   \n",
       "59690   2012      5   28    13       0       21.0         25.0      1000   \n",
       "115491  2015      8    4     1      30       22.0         29.0      1000   \n",
       "113924  2015      7    2    10       0       22.0         22.0      1000   \n",
       "133030  2016      8    3    11       0       24.0         24.0      1000   \n",
       "69072   2012     12   10     0       0       13.0         17.0      1000   \n",
       "115124  2015      7   27    10       0       22.0         22.0      1000   \n",
       "\n",
       "        Relative Humidity  Solar Zenith Angle  ...  Overshooting  \\\n",
       "100204              84.25               57.86  ...             0   \n",
       "31204               72.09              127.33  ...             0   \n",
       "23643               85.73               56.25  ...             0   \n",
       "20843              100.00              151.66  ...             0   \n",
       "161002              83.25              150.61  ...             0   \n",
       "100439              90.73               89.74  ...             0   \n",
       "56230              100.00               99.84  ...             0   \n",
       "33196               85.54               71.16  ...             0   \n",
       "56037              100.00              107.26  ...             0   \n",
       "152531              71.94               28.32  ...             0   \n",
       "69206               85.66               59.09  ...             0   \n",
       "156279              44.17               61.47  ...             0   \n",
       "148913             100.00              111.49  ...             0   \n",
       "152356              50.26              117.56  ...             0   \n",
       "46675              100.00              111.00  ...             0   \n",
       "161232              73.73               94.64  ...             0   \n",
       "117539              41.00               28.89  ...             0   \n",
       "28879               54.89               36.24  ...             0   \n",
       "4302                85.55               46.36  ...             0   \n",
       "105031             100.00              150.62  ...             0   \n",
       "35217               48.22               57.09  ...             0   \n",
       "88013               45.75               70.94  ...             0   \n",
       "16659              100.00              126.75  ...             0   \n",
       "43639               92.75              116.88  ...             0   \n",
       "59690               79.37               60.83  ...             0   \n",
       "115491              68.51              102.23  ...             0   \n",
       "113924             100.00               97.01  ...             0   \n",
       "133030             100.00               89.37  ...             0   \n",
       "69072               79.60              108.28  ...             0   \n",
       "115124             100.00               99.86  ...             0   \n",
       "\n",
       "        Probably_Clear  Super_Cooled_Water  Unknown  Water  Exceeds_Clearsky  \\\n",
       "100204               0                   0        0      0                 0   \n",
       "31204                0                   1        0      0                 0   \n",
       "23643                0                   0        0      1                 0   \n",
       "20843                0                   0        0      0                 0   \n",
       "161002               0                   0        0      0                 0   \n",
       "100439               0                   0        0      0                 0   \n",
       "56230                0                   0        0      0                 0   \n",
       "33196                0                   0        0      0                 0   \n",
       "56037                0                   0        0      0                 0   \n",
       "152531               0                   0        0      0                 0   \n",
       "69206                0                   0        0      0                 0   \n",
       "156279               0                   1        0      0                 0   \n",
       "148913               0                   0        0      0                 0   \n",
       "152356               1                   0        0      0                 0   \n",
       "46675                0                   0        0      0                 0   \n",
       "161232               0                   0        0      0                 0   \n",
       "117539               0                   0        0      0                 0   \n",
       "28879                1                   0        0      0                 0   \n",
       "4302                 0                   0        0      0                 0   \n",
       "105031               0                   0        0      0                 0   \n",
       "35217                0                   1        0      0                 0   \n",
       "88013                0                   0        0      0                 0   \n",
       "16659                0                   0        0      0                 0   \n",
       "43639                0                   0        0      0                 0   \n",
       "59690                0                   0        0      0                 0   \n",
       "115491               0                   0        0      0                 0   \n",
       "113924               0                   0        0      0                 0   \n",
       "133030               1                   0        0      0                 0   \n",
       "69072                0                   0        0      0                 0   \n",
       "115124               0                   0        0      0                 0   \n",
       "\n",
       "        Missing_Cloud_Properties  Missing_Image  N/A  Other  \n",
       "100204                         0              0    1      0  \n",
       "31204                          0              0    1      0  \n",
       "23643                          0              0    1      0  \n",
       "20843                          0              1    0      0  \n",
       "161002                         0              0    1      0  \n",
       "100439                         0              0    1      0  \n",
       "56230                          0              0    1      0  \n",
       "33196                          0              0    1      0  \n",
       "56037                          0              0    1      0  \n",
       "152531                         0              0    1      0  \n",
       "69206                          0              0    1      0  \n",
       "156279                         0              0    1      0  \n",
       "148913                         0              0    1      0  \n",
       "152356                         0              0    1      0  \n",
       "46675                          0              0    1      0  \n",
       "161232                         0              0    1      0  \n",
       "117539                         0              0    1      0  \n",
       "28879                          0              0    1      0  \n",
       "4302                           0              0    1      0  \n",
       "105031                         0              0    1      0  \n",
       "35217                          0              0    1      0  \n",
       "88013                          0              0    1      0  \n",
       "16659                          0              0    1      0  \n",
       "43639                          0              0    1      0  \n",
       "59690                          1              0    0      0  \n",
       "115491                         0              0    1      0  \n",
       "113924                         0              0    1      0  \n",
       "133030                         0              0    1      0  \n",
       "69072                          0              0    1      0  \n",
       "115124                         0              0    1      0  \n",
       "\n",
       "[30 rows x 31 columns]"
      ]
     },
     "execution_count": 17,
     "metadata": {},
     "output_type": "execute_result"
    }
   ],
   "source": [
    "data.sample(30)"
   ]
  },
  {
   "cell_type": "markdown",
   "id": "3ffc61a6",
   "metadata": {},
   "source": [
    "**Resampleo - downsampling**\n",
    "\n",
    "Con el fin de facilitar el analisis y las pruebas del DataSet bajo estudio, se decidió realizar un recorte en la cantidad de datos."
   ]
  },
  {
   "cell_type": "code",
   "execution_count": 18,
   "id": "def7ddb2",
   "metadata": {},
   "outputs": [],
   "source": [
    "data_resample = resample(data, replace=True, n_samples=1000, random_state=127)"
   ]
  },
  {
   "cell_type": "code",
   "execution_count": 19,
   "id": "04fa4d4b",
   "metadata": {},
   "outputs": [
    {
     "name": "stdout",
     "output_type": "stream",
     "text": [
      "(175296, 31)\n",
      "(17520, 18)\n"
     ]
    }
   ],
   "source": [
    "print(data.shape)\n",
    "print(X_test_.shape)"
   ]
  },
  {
   "cell_type": "code",
   "execution_count": 20,
   "id": "6b704ee0",
   "metadata": {},
   "outputs": [
    {
     "data": {
      "text/plain": [
       "N/A                         15670\n",
       "Other                        1703\n",
       "Missing_Cloud_Properties      147\n",
       "Name: fill_flag_cat, dtype: int64"
      ]
     },
     "execution_count": 20,
     "metadata": {},
     "output_type": "execute_result"
    }
   ],
   "source": [
    "X_test_['fill_flag_cat'] = X_test_['Fill Flag'].apply(flag_cat)\n",
    "X_test_['fill_flag_cat'].value_counts()"
   ]
  },
  {
   "cell_type": "code",
   "execution_count": 21,
   "id": "2fa3d936",
   "metadata": {},
   "outputs": [
    {
     "data": {
      "text/plain": [
       "Clear                 9339\n",
       "Cirrus                4044\n",
       "Water                 1629\n",
       "Super_Cooled_Water     858\n",
       "Opaque_Ice             768\n",
       "Overlapping            661\n",
       "Fog                    133\n",
       "Overshooting            88\n",
       "Name: cloud_type_cat, dtype: int64"
      ]
     },
     "execution_count": 21,
     "metadata": {},
     "output_type": "execute_result"
    }
   ],
   "source": [
    "X_test_['cloud_type_cat'] = X_test_['Cloud Type'].apply(cloud_type_cat)\n",
    "X_test_['cloud_type_cat'].value_counts()"
   ]
  },
  {
   "cell_type": "code",
   "execution_count": 22,
   "id": "95b02ff1",
   "metadata": {},
   "outputs": [],
   "source": [
    "encoder_test = OneHotEncoder(sparse=False, handle_unknown='ignore')\n",
    "dummies = encoder_test.fit_transform(X_test_[['cloud_type_cat', 'fill_flag_cat']])\n",
    "dummies = pd.DataFrame(dummies.astype(int), columns=np.concatenate(encoder_test.categories_))\n",
    "X_test_ = X_test_.join(dummies)\n",
    "X_test_ = X_test_.drop(columns=['Cloud Type','Fill Flag','cloud_type_cat','fill_flag_cat'])"
   ]
  },
  {
   "cell_type": "markdown",
   "id": "40ddd6f3",
   "metadata": {},
   "source": [
    "<a id=\"split\"></a> \n",
    "### 4.2 Split del set de entrenamiento\n",
    "En esta seccion crearemos los datos de entrenamiento y los vectores objetivos multi nivel, para finalemente comenzar con las estrategias de entrenamiento."
   ]
  },
  {
   "cell_type": "code",
   "execution_count": 23,
   "id": "aa681f59",
   "metadata": {},
   "outputs": [],
   "source": [
    "X = data_resample.drop(['Clearsky DHI', 'Clearsky DNI',\n",
    "       'Clearsky GHI'], axis=1)\n",
    "y = data_resample[['Clearsky DHI', 'Clearsky DNI',\n",
    "       'Clearsky GHI']]\n",
    "\n",
    "X_train, X_test, y_train, y_test = train_test_split(X, y, random_state=12,  test_size=0.3)"
   ]
  },
  {
   "cell_type": "code",
   "execution_count": 24,
   "id": "8e123ba6",
   "metadata": {},
   "outputs": [
    {
     "name": "stdout",
     "output_type": "stream",
     "text": [
      "X_train: (700, 28)\n",
      "y_train: (700, 3)\n",
      "X_test: (300, 28)\n",
      "y_test: (300, 3)\n"
     ]
    }
   ],
   "source": [
    "print(f'X_train: {X_train.shape}')\n",
    "print(f'y_train: {y_train.shape}')\n",
    "print(f'X_test: {X_test.shape}')\n",
    "print(f'y_test: {y_test.shape}')"
   ]
  },
  {
   "cell_type": "markdown",
   "id": "abc97fe7",
   "metadata": {},
   "source": [
    "<a id=\"matrix_corr\"></a> \n",
    "### 4.3. Matriz de correlación\n",
    "Escribir aquí...  **# TO-DO**"
   ]
  },
  {
   "cell_type": "code",
   "execution_count": 25,
   "id": "dd959eeb",
   "metadata": {},
   "outputs": [
    {
     "data": {
      "text/plain": [
       "<AxesSubplot:>"
      ]
     },
     "execution_count": 25,
     "metadata": {},
     "output_type": "execute_result"
    },
    {
     "data": {
      "image/png": "[encoded data removed]",
      "text/plain": [
       "<Figure size 1100x900 with 2 Axes>"
      ]
     },
     "metadata": {},
     "output_type": "display_data"
    }
   ],
   "source": [
    "correlacion = data.corr()\n",
    "\n",
    "# Generate a mask for the upper triangle\n",
    "mask = np.triu(np.ones_like(correlacion, dtype=bool))\n",
    "\n",
    "# Set up the matplotlib figure\n",
    "f, ax = plt.subplots(figsize=(11, 9))\n",
    "\n",
    "# Generate a custom diverging colormap\n",
    "cmap = sns.diverging_palette(200, 120, as_cmap=True)\n",
    "\n",
    "# Draw the heatmap with the mask and correct aspect ratio\n",
    "sns.heatmap(correlacion, mask=mask, cmap=cmap, vmax=1, center=0,\n",
    "            square=True, linewidths=.5, cbar_kws={\"shrink\": .5})"
   ]
  },
  {
   "cell_type": "markdown",
   "id": "beb9ab6d",
   "metadata": {},
   "source": [
    "<a id=\"analisis_corr\"></a> \n",
    "### 4.4. Analisis preliminar de correlación\n",
    "\n",
    "En esta seccion podemos observar que antes de comenzar analizar diferentes modelos y métodos, es importante tener en cuenta que ya existe una relación entre las variables. Y puede ser determinante a la hora de utilizar un método u otro:\n",
    "\n",
    "#### Hora\n",
    "- relative humidity/ Hour\n",
    "- Solar Zenith Angle/ Hour\n",
    "- Clearsky DHI/ Hour\n",
    "- Clearsky DNI/ Hour\n",
    "- Clearsky GHI/ Hour\n",
    "\n",
    "#### Punto de rocío\n",
    "- Temperature/ Dew Point\n",
    "- Precipitable Water/ Dew Point\n",
    "\n",
    "#### Temperatura\n",
    "- Solar Zenith Angle/ Temperature\n",
    "- Precipitable Water/ Temperature\n",
    "- Clearsky DHI/ Temperature\n",
    "- Clearsky GHI/ Temperature\n",
    "\n",
    "#### Humedad relativa\n",
    "- Solar Zenith Angle/ Relative Humidity\n",
    "- Clearsky DHI/ Relative Humidity\n",
    "- Clearsky DNI/ Relative Humidity\n",
    "- Clearsky GHI/ Relative Humidity\n",
    "\n",
    "#### Ángulo de incidencia solar\n",
    "- Clearsky DHI/ Solar Zenith Angle\n",
    "- Clearsky DNI/ Solar Zenith Angle\n",
    "- Clearsky GHI/ Solar Zenith Angle\n",
    "\n",
    "#### Correlación entre los vectores objetivos\n",
    "- Clearsky DNI/ Clearsky DHI\n",
    "- Clearsky GHI/ Clearsky DHI\n",
    "- Clearsky GHI/ Clearsky DNI."
   ]
  },
  {
   "cell_type": "markdown",
   "id": "3ff73ace",
   "metadata": {},
   "source": [
    "<a id=\"evaluacion_modelos\"></a>\n",
    "## 5. Evaluación de los Modelos\n",
    "---\n",
    "<a href='#tabla_contenidos'>Volver a la Tabla de Contenidos</a>"
   ]
  },
  {
   "cell_type": "code",
   "execution_count": 26,
   "id": "a0929de4",
   "metadata": {},
   "outputs": [],
   "source": [
    "import warnings\n",
    "#warnings.filterwarnings('ignore')"
   ]
  },
  {
   "cell_type": "markdown",
   "id": "17bc7ed8",
   "metadata": {},
   "source": [
    "<a id=\"pipeline_rfr\"></a> \n",
    "### 5.1. PipeLine [RandomForestRegressor]"
   ]
  },
  {
   "cell_type": "code",
   "execution_count": 27,
   "id": "eebbc13b",
   "metadata": {},
   "outputs": [],
   "source": [
    "steps_rfr = [('scaler', StandardScaler()),\n",
    "             ('ensamble', RandomForestRegressor(bootstrap=True, n_jobs = -1, random_state = 127, max_samples= 0.3))]"
   ]
  },
  {
   "cell_type": "code",
   "execution_count": 28,
   "id": "3737f159",
   "metadata": {},
   "outputs": [],
   "source": [
    "pipe_rfr = Pipeline(steps_rfr)"
   ]
  },
  {
   "cell_type": "code",
   "execution_count": 29,
   "id": "ce03aff5",
   "metadata": {},
   "outputs": [],
   "source": [
    "folds_rfr = StratifiedKFold(n_splits=5,shuffle=True, random_state=42)"
   ]
  },
  {
   "cell_type": "code",
   "execution_count": 30,
   "id": "99a00bc7",
   "metadata": {},
   "outputs": [],
   "source": [
    "params_rfr = {'scaler': [StandardScaler(), MinMaxScaler(), None],\n",
    "              'ensamble__n_estimators': [100, 500, 1000],\n",
    "              'ensamble__max_depth': range(2,10,1),\n",
    "              'ensamble__max_samples': range(1,10,1)}"
   ]
  },
  {
   "cell_type": "code",
   "execution_count": 31,
   "id": "3a376189",
   "metadata": {},
   "outputs": [],
   "source": [
    "grid_rfr = GridSearchCV(pipe_rfr, params_rfr, cv=folds_rfr)"
   ]
  },
  {
   "cell_type": "code",
   "execution_count": null,
   "id": "8a367e94",
   "metadata": {},
   "outputs": [
    {
     "name": "stderr",
     "output_type": "stream",
     "text": [
      "C:\\Users\\ar037895\\Anaconda3\\envs\\dhdsblend2022\\lib\\site-packages\\sklearn\\model_selection\\_split.py:670: UserWarning: The least populated class in y has only 1 members, which is less than n_splits=5.\n",
      "  warnings.warn((\"The least populated class in y has only %d\"\n"
     ]
    }
   ],
   "source": [
    "dhi = grid_rfr.fit(X_train, y_train['Clearsky DHI'])"
   ]
  },
  {
   "cell_type": "code",
   "execution_count": null,
   "id": "cb2072ea",
   "metadata": {},
   "outputs": [],
   "source": [
    "dhi.best_estimator_"
   ]
  },
  {
   "cell_type": "code",
   "execution_count": null,
   "id": "23ff055a",
   "metadata": {},
   "outputs": [],
   "source": [
    "dhi.best_score_"
   ]
  },
  {
   "cell_type": "code",
   "execution_count": null,
   "id": "1bfeeb40",
   "metadata": {},
   "outputs": [],
   "source": [
    "dhi.best_params_"
   ]
  },
  {
   "cell_type": "code",
   "execution_count": null,
   "id": "71146382",
   "metadata": {},
   "outputs": [],
   "source": [
    "dni = grid_rfr.fit(X_train, y_train['Clearsky DNI'])"
   ]
  },
  {
   "cell_type": "code",
   "execution_count": null,
   "id": "4c87a262",
   "metadata": {},
   "outputs": [],
   "source": [
    "dni.best_estimator_"
   ]
  },
  {
   "cell_type": "code",
   "execution_count": null,
   "id": "88734b05",
   "metadata": {},
   "outputs": [],
   "source": [
    "dni.best_score_"
   ]
  },
  {
   "cell_type": "code",
   "execution_count": null,
   "id": "5ec39e15",
   "metadata": {},
   "outputs": [],
   "source": [
    "dni.best_params_"
   ]
  },
  {
   "cell_type": "code",
   "execution_count": null,
   "id": "1f727891",
   "metadata": {},
   "outputs": [],
   "source": [
    "ghi = grid_rfr.fit(X_train, y_train['Clearsky GHI'])"
   ]
  },
  {
   "cell_type": "code",
   "execution_count": null,
   "id": "355da869",
   "metadata": {},
   "outputs": [],
   "source": [
    "ghi.best_estimator_"
   ]
  },
  {
   "cell_type": "code",
   "execution_count": null,
   "id": "9f67616a",
   "metadata": {},
   "outputs": [],
   "source": [
    "ghi.best_score_"
   ]
  },
  {
   "cell_type": "code",
   "execution_count": null,
   "id": "3ac7e223",
   "metadata": {},
   "outputs": [],
   "source": [
    "ghi.best_params_"
   ]
  },
  {
   "cell_type": "markdown",
   "id": "33b78b80",
   "metadata": {},
   "source": [
    "<a id=\"features_imp_rfr\"></a> \n",
    "### 5.2. Features Importance [RandomForestRegressor]"
   ]
  },
  {
   "cell_type": "code",
   "execution_count": null,
   "id": "2a259b3c",
   "metadata": {},
   "outputs": [],
   "source": [
    "dhi_features_rfr = pd.DataFrame({'atributo':X_train.columns, 'importancia': dhi.best_estimator_.steps[1][1].feature_importances_})\n",
    "dhi_features_rfr.sort_values('importancia', ascending = False).iloc[0:5, :]"
   ]
  },
  {
   "cell_type": "code",
   "execution_count": null,
   "id": "c5f234f0",
   "metadata": {},
   "outputs": [],
   "source": [
    "dni_features_rfr = pd.DataFrame({'atributo':X_train.columns, 'importancia': dni.best_estimator_.steps[1][1].feature_importances_})\n",
    "dni_features_rfr.sort_values('importancia', ascending = False).iloc[0:5, :]"
   ]
  },
  {
   "cell_type": "code",
   "execution_count": null,
   "id": "14acf532",
   "metadata": {},
   "outputs": [],
   "source": [
    "ghi_features_rfr = pd.DataFrame({'atributo':X_train.columns, 'importancia': ghi.best_estimator_.steps[1][1].feature_importances_})\n",
    "ghi_features_rfr.sort_values('importancia', ascending = False).iloc[0:5, :]"
   ]
  },
  {
   "cell_type": "markdown",
   "id": "f18079cb",
   "metadata": {},
   "source": [
    "<a id=\"pipeline_ada\"></a> \n",
    "### 5.3. PipeLine [Ada Boost Regressor]"
   ]
  },
  {
   "cell_type": "code",
   "execution_count": null,
   "id": "e0deb048",
   "metadata": {},
   "outputs": [],
   "source": [
    "steps_ada = [('scaler', StandardScaler()),\n",
    "             ('ada', AdaBoostRegressor(random_state = 127, base_estimator=None))]"
   ]
  },
  {
   "cell_type": "code",
   "execution_count": null,
   "id": "e790e0cf",
   "metadata": {},
   "outputs": [],
   "source": [
    "pipe_ada = Pipeline(steps_ada)"
   ]
  },
  {
   "cell_type": "code",
   "execution_count": null,
   "id": "a3c98ff7",
   "metadata": {},
   "outputs": [],
   "source": [
    "folds_ada = StratifiedKFold(n_splits=5,shuffle=True, random_state=42)"
   ]
  },
  {
   "cell_type": "code",
   "execution_count": null,
   "id": "76c915c7",
   "metadata": {},
   "outputs": [],
   "source": [
    "params_ada = {'scaler': [StandardScaler(), MinMaxScaler(), None],\n",
    "              'ada__n_estimators': [100, 500, 1000],\n",
    "              'ada__learning_rate': np.arange(1,10,1.0),\n",
    "              'ada__loss': ['linear', 'square', 'exponential']}"
   ]
  },
  {
   "cell_type": "code",
   "execution_count": null,
   "id": "892e9f36",
   "metadata": {},
   "outputs": [],
   "source": [
    "grid_ada = GridSearchCV(pipe_ada, params_ada, cv=folds_ada)"
   ]
  },
  {
   "cell_type": "code",
   "execution_count": null,
   "id": "16d6987e",
   "metadata": {},
   "outputs": [],
   "source": [
    "dhi_ada = grid_ada.fit(X_train, y_train['Clearsky DHI'])"
   ]
  },
  {
   "cell_type": "code",
   "execution_count": null,
   "id": "ec9b4f37",
   "metadata": {},
   "outputs": [],
   "source": [
    "dni_ada = grid_ada.fit(X_train, y_train['Clearsky DNI'])"
   ]
  },
  {
   "cell_type": "code",
   "execution_count": null,
   "id": "23859d90",
   "metadata": {},
   "outputs": [],
   "source": [
    "ghi_ada = grid_ada.fit(X_train, y_train['Clearsky GHI'])"
   ]
  },
  {
   "cell_type": "markdown",
   "id": "022d174a",
   "metadata": {},
   "source": [
    "**DHI AdaBoost Performance**"
   ]
  },
  {
   "cell_type": "code",
   "execution_count": null,
   "id": "407d1cd4",
   "metadata": {},
   "outputs": [],
   "source": [
    "dhi_ada.best_estimator_"
   ]
  },
  {
   "cell_type": "code",
   "execution_count": null,
   "id": "f915d4fe",
   "metadata": {},
   "outputs": [],
   "source": [
    "dhi_ada.best_score_"
   ]
  },
  {
   "cell_type": "code",
   "execution_count": null,
   "id": "cabe6a71",
   "metadata": {},
   "outputs": [],
   "source": [
    "dhi_ada.best_params_"
   ]
  },
  {
   "cell_type": "markdown",
   "id": "d9082986",
   "metadata": {},
   "source": [
    "**DNI AdaBoost Performance**"
   ]
  },
  {
   "cell_type": "code",
   "execution_count": null,
   "id": "9fc5727a",
   "metadata": {},
   "outputs": [],
   "source": [
    "dni_ada.best_estimator_"
   ]
  },
  {
   "cell_type": "code",
   "execution_count": null,
   "id": "3a3b370c",
   "metadata": {},
   "outputs": [],
   "source": [
    "dni_ada.best_score_"
   ]
  },
  {
   "cell_type": "code",
   "execution_count": null,
   "id": "80d019f7",
   "metadata": {},
   "outputs": [],
   "source": [
    "dni_ada.best_params_"
   ]
  },
  {
   "cell_type": "markdown",
   "id": "853af9ca",
   "metadata": {},
   "source": [
    "**GHI AdaBoost Performance**"
   ]
  },
  {
   "cell_type": "code",
   "execution_count": null,
   "id": "de2c435b",
   "metadata": {},
   "outputs": [],
   "source": [
    "ghi_ada.best_estimator_"
   ]
  },
  {
   "cell_type": "code",
   "execution_count": null,
   "id": "450e1248",
   "metadata": {},
   "outputs": [],
   "source": [
    "ghi_ada.best_score_"
   ]
  },
  {
   "cell_type": "code",
   "execution_count": null,
   "id": "8f4c1b53",
   "metadata": {},
   "outputs": [],
   "source": [
    "ghi_ada.best_params_"
   ]
  },
  {
   "cell_type": "markdown",
   "id": "93dbdc5b",
   "metadata": {},
   "source": [
    "<a id=\"features_imp_ada\"></a> \n",
    "### 5.4. Features Importance [Ada Boost Regressor]"
   ]
  },
  {
   "cell_type": "code",
   "execution_count": null,
   "id": "dba2ba0e",
   "metadata": {},
   "outputs": [],
   "source": [
    "dhi_features_ada = pd.DataFrame({'atributo':X_train.columns, 'importancia': dhi_ada.best_estimator_.steps[1][1].feature_importances_})\n",
    "dhi_features_rfr.sort_values('importancia', ascending = False).iloc[0:5, :]"
   ]
  },
  {
   "cell_type": "code",
   "execution_count": null,
   "id": "2bc377ba",
   "metadata": {},
   "outputs": [],
   "source": [
    "dni_features_rfr = pd.DataFrame({'atributo':X_train.columns, 'importancia': dni_ada.best_estimator_.steps[1][1].feature_importances_})\n",
    "dni_features_rfr.sort_values('importancia', ascending = False).iloc[0:5, :]"
   ]
  },
  {
   "cell_type": "code",
   "execution_count": null,
   "id": "7de345cc",
   "metadata": {},
   "outputs": [],
   "source": [
    "dni_features_rfr = pd.DataFrame({'atributo':X_train.columns, 'importancia': ghi_ada.best_estimator_.steps[1][1].feature_importances_})\n",
    "dni_features_rfr.sort_values('importancia', ascending = False).iloc[0:5, :]"
   ]
  },
  {
   "cell_type": "markdown",
   "id": "c6a2bd1f",
   "metadata": {},
   "source": [
    "<a id=\"best_performance\"></a> \n",
    "### 5.5. Entrenamiento con los parámetros de mejor performance [DataSet Completo]"
   ]
  },
  {
   "cell_type": "markdown",
   "id": "40148a9e",
   "metadata": {},
   "source": []
  },
  {
   "cell_type": "code",
   "execution_count": null,
   "id": "3d410c06",
   "metadata": {},
   "outputs": [],
   "source": [
    "X = data.drop(['Clearsky DHI', 'Clearsky DNI',\n",
    "       'Clearsky GHI'], axis=1)\n",
    "y = data[['Clearsky DHI', 'Clearsky DNI',\n",
    "       'Clearsky GHI']]\n",
    "\n",
    "X_train, X_test, y_train, y_test = train_test_split(X, y, random_state=12,  test_size=0.3)"
   ]
  },
  {
   "cell_type": "code",
   "execution_count": null,
   "id": "09be483b",
   "metadata": {},
   "outputs": [],
   "source": [
    "print(f'X_train: {X_train.shape}')\n",
    "print(f'y_train: {y_train.shape}')\n",
    "print(f'X_test: {X_test.shape}')\n",
    "print(f'y_test: {y_test.shape}')"
   ]
  },
  {
   "cell_type": "markdown",
   "id": "350acc10",
   "metadata": {},
   "source": [
    "**RandomForestRegressor**\n",
    "\n",
    "---"
   ]
  },
  {
   "cell_type": "code",
   "execution_count": null,
   "id": "405f5be8",
   "metadata": {},
   "outputs": [],
   "source": [
    "dhi_steps_rfr = [('scaler', None),\n",
    "             ('ensamble', RandomForestRegressor())]"
   ]
  },
  {
   "cell_type": "code",
   "execution_count": null,
   "id": "3a73a476",
   "metadata": {},
   "outputs": [],
   "source": [
    "dhi_pipe_rfr = Pipeline(dhi_steps_rfr)"
   ]
  },
  {
   "cell_type": "code",
   "execution_count": null,
   "id": "ad7369b6",
   "metadata": {},
   "outputs": [],
   "source": [
    "dhi_pipe_rfr.set_params(ensamble__bootstrap=True,\n",
    "                        ensamble__n_jobs = -1,\n",
    "                        ensamble__random_state = 127,\n",
    "                        ensamble__max_samples= 9,\n",
    "                        ensamble__max_depth=5,\n",
    "                        ensamble__n_estimators=100)"
   ]
  },
  {
   "cell_type": "code",
   "execution_count": null,
   "id": "36fa3b3f",
   "metadata": {},
   "outputs": [],
   "source": [
    "dhi_complet_rfr = dhi_pipe_rfr.fit(X_train, y_train['Clearsky DHI'])"
   ]
  },
  {
   "cell_type": "code",
   "execution_count": null,
   "id": "d619da59",
   "metadata": {},
   "outputs": [],
   "source": [
    "dhi_complet_rfr.score(X_test, y_test['Clearsky DHI'])"
   ]
  },
  {
   "cell_type": "markdown",
   "id": "d9149227",
   "metadata": {},
   "source": [
    "---"
   ]
  },
  {
   "cell_type": "code",
   "execution_count": null,
   "id": "b1652d23",
   "metadata": {},
   "outputs": [],
   "source": [
    "dni_steps_rfr = [('scaler', None),\n",
    "             ('ensamble', RandomForestRegressor())]"
   ]
  },
  {
   "cell_type": "code",
   "execution_count": null,
   "id": "706aa06b",
   "metadata": {},
   "outputs": [],
   "source": [
    "dni_pipe_rfr = Pipeline(dni_steps_rfr)"
   ]
  },
  {
   "cell_type": "code",
   "execution_count": null,
   "id": "bfa8e153",
   "metadata": {},
   "outputs": [],
   "source": [
    "dni_pipe_rfr.set_params(ensamble__bootstrap=True,\n",
    "                        ensamble__n_jobs = -1,\n",
    "                        ensamble__random_state = 127,\n",
    "                        ensamble__max_samples= 9,\n",
    "                        ensamble__max_depth=6,\n",
    "                        ensamble__n_estimators=100)"
   ]
  },
  {
   "cell_type": "code",
   "execution_count": null,
   "id": "14f1281d",
   "metadata": {},
   "outputs": [],
   "source": [
    "dni_complet_rfr = dni_pipe_rfr.fit(X_train, y_train['Clearsky DNI'])"
   ]
  },
  {
   "cell_type": "code",
   "execution_count": null,
   "id": "0160dffc",
   "metadata": {},
   "outputs": [],
   "source": [
    "dni_complet_rfr.score(X_test, y_test['Clearsky DNI'])"
   ]
  },
  {
   "cell_type": "markdown",
   "id": "70213b5e",
   "metadata": {},
   "source": [
    "---"
   ]
  },
  {
   "cell_type": "code",
   "execution_count": null,
   "id": "5844d193",
   "metadata": {},
   "outputs": [],
   "source": [
    "ghi_steps_rfr = [('scaler', MinMaxScaler()),\n",
    "             ('ensamble', RandomForestRegressor())]"
   ]
  },
  {
   "cell_type": "code",
   "execution_count": null,
   "id": "90801bd6",
   "metadata": {},
   "outputs": [],
   "source": [
    "ghi_pipe_rfr = Pipeline(ghi_steps_rfr)"
   ]
  },
  {
   "cell_type": "code",
   "execution_count": null,
   "id": "1ada2e91",
   "metadata": {},
   "outputs": [],
   "source": [
    "ghi_pipe_rfr.set_params(ensamble__bootstrap=True,\n",
    "                        ensamble__n_jobs = -1,\n",
    "                        ensamble__random_state = 127,\n",
    "                        ensamble__max_samples= 9,\n",
    "                        ensamble__max_depth=4,\n",
    "                        ensamble__n_estimators=500)"
   ]
  },
  {
   "cell_type": "code",
   "execution_count": null,
   "id": "016d920f",
   "metadata": {},
   "outputs": [],
   "source": [
    "ghi_complet_rfr = ghi_pipe_rfr.fit(X_train, y_train['Clearsky GHI'])"
   ]
  },
  {
   "cell_type": "code",
   "execution_count": null,
   "id": "b00cc3dc",
   "metadata": {},
   "outputs": [],
   "source": [
    "ghi_complet_rfr.score(X_test, y_test['Clearsky GHI'])"
   ]
  },
  {
   "cell_type": "markdown",
   "id": "b20ab89d",
   "metadata": {},
   "source": [
    "**Ada Boost Regressor**\n",
    "\n",
    "---"
   ]
  },
  {
   "cell_type": "code",
   "execution_count": null,
   "id": "3f3f2f60",
   "metadata": {},
   "outputs": [],
   "source": [
    "dhi_steps_ada = [('scaler', None),\n",
    "             ('ada', AdaBoostRegressor())]"
   ]
  },
  {
   "cell_type": "code",
   "execution_count": null,
   "id": "1790f679",
   "metadata": {},
   "outputs": [],
   "source": [
    "dhi_pipe_ada = Pipeline(dhi_steps_ada)"
   ]
  },
  {
   "cell_type": "code",
   "execution_count": null,
   "id": "6316bc5a",
   "metadata": {},
   "outputs": [],
   "source": [
    "dhi_pipe_ada.set_params(ada__random_state = 127,\n",
    "                    ada__base_estimator=None,\n",
    "                    ada__loss='square',\n",
    "                    ada__learning_rate=2,\n",
    "                    ada__n_estimators=100)"
   ]
  },
  {
   "cell_type": "code",
   "execution_count": null,
   "id": "2c2c4a53",
   "metadata": {},
   "outputs": [],
   "source": [
    "dhi_complet_ada = dhi_pipe_ada.fit(X_train, y_train['Clearsky DHI'])"
   ]
  },
  {
   "cell_type": "code",
   "execution_count": null,
   "id": "ab76fc46",
   "metadata": {},
   "outputs": [],
   "source": [
    "dni_steps_ada = [('scaler', None),\n",
    "             ('ada', AdaBoostRegressor())]"
   ]
  },
  {
   "cell_type": "code",
   "execution_count": null,
   "id": "aa47da1c",
   "metadata": {},
   "outputs": [],
   "source": [
    "dni_pipe_ada = Pipeline(dni_steps_ada)"
   ]
  },
  {
   "cell_type": "code",
   "execution_count": null,
   "id": "c20f895b",
   "metadata": {},
   "outputs": [],
   "source": [
    "dni_pipe_ada.set_params(ada__random_state = 127,\n",
    "                    ada__base_estimator=None,\n",
    "                    ada__loss='square',\n",
    "                    ada__learning_rate=2,\n",
    "                    ada__n_estimators=100)"
   ]
  },
  {
   "cell_type": "code",
   "execution_count": null,
   "id": "6c5e6731",
   "metadata": {},
   "outputs": [],
   "source": [
    "dni_complet_ada = dni_pipe_ada.fit(X_train, y_train['Clearsky DNI'])"
   ]
  },
  {
   "cell_type": "code",
   "execution_count": null,
   "id": "827f0a23",
   "metadata": {},
   "outputs": [],
   "source": [
    "ghi_steps_ada = [('scaler', None),\n",
    "             ('ada', AdaBoostRegressor())]"
   ]
  },
  {
   "cell_type": "code",
   "execution_count": null,
   "id": "17c54e0a",
   "metadata": {},
   "outputs": [],
   "source": [
    "ghi_pipe_ada = Pipeline(ghi_steps_ada)"
   ]
  },
  {
   "cell_type": "code",
   "execution_count": null,
   "id": "7fffaefd",
   "metadata": {},
   "outputs": [],
   "source": [
    "ghi_pipe_ada.set_params(ada__random_state = 127,\n",
    "                    ada__base_estimator=None,\n",
    "                    ada__loss='square',\n",
    "                    ada__learning_rate=2,\n",
    "                    ada__n_estimators=100)"
   ]
  },
  {
   "cell_type": "code",
   "execution_count": null,
   "id": "835fe304",
   "metadata": {},
   "outputs": [],
   "source": [
    "ghi_complet_ada = ghi_pipe_ada.fit(X_train, y_train['Clearsky GHI'])"
   ]
  },
  {
   "cell_type": "markdown",
   "id": "e177eebc",
   "metadata": {},
   "source": [
    "<a id=\"metrics\"></a>\n",
    "### 5.5. Resumen de métricas"
   ]
  },
  {
   "cell_type": "markdown",
   "id": "c95d5a11",
   "metadata": {},
   "source": [
    "**Metrics - RandomForestRegressor**\n",
    "\n",
    "---"
   ]
  },
  {
   "cell_type": "code",
   "execution_count": null,
   "id": "c22088d0",
   "metadata": {},
   "outputs": [],
   "source": [
    "print('Random Forest Regressor')\n",
    "print('-------------------------------')\n",
    "print('DHI score:', dhi_complet_rfr.score(X_test, y_test['Clearsky DHI']))\n",
    "print('DNI score:', dni_complet_rfr.score(X_test, y_test['Clearsky DNI']))\n",
    "print('GHI score:', ghi_complet_rfr.score(X_test, y_test['Clearsky GHI']))"
   ]
  },
  {
   "cell_type": "markdown",
   "id": "cb9b276b",
   "metadata": {},
   "source": [
    "**Metrics - Ada Boost Regressor**\n",
    "\n",
    "---"
   ]
  },
  {
   "cell_type": "code",
   "execution_count": null,
   "id": "dfb8e375",
   "metadata": {},
   "outputs": [],
   "source": [
    "print('Ada Boost Regressor')\n",
    "print('-------------------------------')\n",
    "print('DHI score:', dhi_complet_ada.score(X_test, y_test['Clearsky DHI']))\n",
    "print('DNI score:', dni_complet_ada.score(X_test, y_test['Clearsky DNI']))\n",
    "print('GHI score:', ghi_complet_ada.score(X_test, y_test['Clearsky GHI']))"
   ]
  },
  {
   "cell_type": "markdown",
   "id": "eb73b95f",
   "metadata": {},
   "source": [
    "<a id=\"section_curva_roc\"></a> \n",
    "## 6. Curva ROC\n",
    "---\n",
    "<a href='#tabla_contenidos'>Volver a la Tabla de Contenidos</a>"
   ]
  },
  {
   "cell_type": "code",
   "execution_count": null,
   "id": "a03dc22b",
   "metadata": {},
   "outputs": [],
   "source": []
  },
  {
   "cell_type": "markdown",
   "id": "741e1fea",
   "metadata": {},
   "source": [
    "<a id=\"section_umbrales\"></a> \n",
    "### 6.1 Ajustando los umbrales"
   ]
  },
  {
   "cell_type": "code",
   "execution_count": null,
   "id": "a5e38d04",
   "metadata": {},
   "outputs": [],
   "source": []
  },
  {
   "cell_type": "markdown",
   "id": "644d2b81",
   "metadata": {},
   "source": [
    "<a id=\"section_imp_croc\"></a> \n",
    "### 6.2 Implementación Curva ROC y AUC"
   ]
  },
  {
   "cell_type": "code",
   "execution_count": null,
   "id": "e3bcc5c7",
   "metadata": {},
   "outputs": [],
   "source": []
  },
  {
   "cell_type": "markdown",
   "id": "0cef39ea",
   "metadata": {},
   "source": [
    "<a id=\"export_pickle\"></a> \n",
    "## 7. Exportarndo en Pickle\n",
    "---\n",
    "<a href='#tabla_contenidos'>Volver a la Tabla de Contenidos</a>"
   ]
  },
  {
   "cell_type": "markdown",
   "id": "0498f27a",
   "metadata": {},
   "source": [
    "**TO-DO"
   ]
  },
  {
   "cell_type": "code",
   "execution_count": null,
   "id": "3dbb71c2",
   "metadata": {},
   "outputs": [],
   "source": [
    "model_file_name_dhi = '../predictors/dhi_model.pickle'\n",
    "model_file_name_dni = '../predictors/dni_model.pickle'\n",
    "model_file_name_ghi = '../predictors/ghi_model.pickle'"
   ]
  },
  {
   "cell_type": "code",
   "execution_count": null,
   "id": "8ec37bd5",
   "metadata": {},
   "outputs": [],
   "source": [
    "model_dhi = dhi_complet_rfr\n",
    "model_dni = dni_complet_ada\n",
    "model_ghi = ghi_complet_ada"
   ]
  },
  {
   "cell_type": "code",
   "execution_count": null,
   "id": "7eff155f",
   "metadata": {},
   "outputs": [],
   "source": [
    "pickle.dump(model_dhi, open(model_file_name_dhi, 'wb'))\n",
    "pickle.dump(model_dni, open(model_file_name_dni, 'wb'))\n",
    "pickle.dump(model_ghi, open(model_file_name_ghi, 'wb'))"
   ]
  },
  {
   "cell_type": "markdown",
   "id": "86fb8f17",
   "metadata": {},
   "source": [
    "<a id=\"conclusiones\"></a> \n",
    "## 8. Conclusiones\n",
    "---\n",
    "<a href='#tabla_contenidos'>Volver a la Tabla de Contenidos</a>"
   ]
  },
  {
   "cell_type": "code",
   "execution_count": null,
   "id": "3b42b749",
   "metadata": {},
   "outputs": [],
   "source": []
  }
 ],
 "metadata": {
  "kernelspec": {
   "display_name": "Python [conda env:dhdsblend2022] *",
   "language": "python",
   "name": "conda-env-dhdsblend2022-py"
  },
  "language_info": {
   "codemirror_mode": {
    "name": "ipython",
    "version": 3
   },
   "file_extension": ".py",
   "mimetype": "text/x-python",
   "name": "python",
   "nbconvert_exporter": "python",
   "pygments_lexer": "ipython3",
   "version": "3.8.15"
  }
 },
 "nbformat": 4,
 "nbformat_minor": 5
}
