{
 "cells": [
  {
   "cell_type": "markdown",
   "id": "08524bb6",
   "metadata": {},
   "source": [
    "<div float: center>\n",
    "    <img src=\"../common/../common/logo_DH.png\" width=\"30%\" height=\"30%\" style=\"text-align: left;\">\n",
    "    <img src=\"../common/wipro_logo.png\"  width=\"20%\" height=\"20%\" style=\"text-align: right; margin-left:400px;\">\n",
    "<div/>\n",
    "\n",
    "---\n",
    "\n",
    "# WORKSHOP 4 - Trabajo integrador de DataScience\n",
    "\n",
    "## GRUPO 8\n",
    "\n",
    "Integrantes:\n",
    "- Agustín García \n",
    "- Florencia Mosconi\n",
    "- Ezequiel López Mondo \n",
    "- Pablo Bauer \n",
    "\n",
    "<a id=\"tabla_contenidos\"></a> \n",
    "## Tabla de Contenidos\n",
    "\n",
    "### <a href='#section_repaso'>1. Introducción</a>\n",
    "- #### <a href='#explicacion_dataset'>1.1. Presentación del caso</a>\n",
    "- #### <a href='#metodologia'>1.2. La metodología de trabajo</a>\n",
    "\n",
    "### <a href='#section_import_lib'>2. Importación de librerías para casos de Clasificación</a>\n",
    "\n",
    "\n",
    "### <a href='#importar_dataset'>3. Importando el DataSet</a> \n",
    "- #### <a href='#imputacion'>3.1. Imputación de datos</a>\n",
    "\n",
    "### <a  href='#preparacion_entrenamiento'>4. Preparación y Entrenamiento del DataSet</a>\n",
    "- #### <a href='#features'>4.1. Features y dummies</a>\n",
    "- #### <a href='#split'>4.2. Split del set de entrenamiento</a>\n",
    "- #### <a href='#matrix_corr'>4.3. Matriz de correlación</a>\n",
    "- #### <a href='#analisis_corr'>4.4. Analisis preliminar de correlación</a>\n",
    "\n",
    "### <a  href='#evaluacion_modelos'>5. Evaluación de los Modelos Métricas</a>\n",
    "- #### <a href='#pipeline_rfr'>5.1. PipeLine [RandomForestRegressor]</a>\n",
    "- #### <a href='#features_imp_rfr'>5.2. Features Importance [RandomForestRegressor]</a>\n",
    "    \n",
    "### <a href='#section_curva_roc'>6. Curva ROC</a>\n",
    "- #### <a href='#section_umbrales'>6.1. Ajustando los umbrales</a>\n",
    "- #### <a href='#section_imp_croc'>6.2. Implementación Curva ROC y AUC</a>\n",
    "\n",
    "### <a href='#conclusiones'>7. Conclusuiones</a>\n",
    "---"
   ]
  },
  {
   "cell_type": "markdown",
   "id": "c2b72f3e",
   "metadata": {},
   "source": [
    "<a id=\"section_repaso\"></a> \n",
    "## 1. Introducción\n",
    "---\n",
    "<a href='#tabla_contenidos'>Volver a la Tabla de Contenidos</a>"
   ]
  },
  {
   "cell_type": "markdown",
   "id": "d7c91db1",
   "metadata": {},
   "source": [
    "<a id=\"explicacion_dataset\"></a> \n",
    "### 1.1 Presentación del caso\n",
    "\n",
    "<img src=\"../common/solar_farms.png\"  width=\"100%\" height=\"100%\">\n",
    "\n",
    ":es:\n",
    "\n",
    "**Objetivo del Poryecto**\n",
    "\n",
    "El objetivo de este proyecto es optimizar la producción de energía solar de una empresa de líder en el campo. Para ello, se requiere desarrollar un modelo de predicción capaz de predecir los valores de 'Clearsky DHI', 'Clearsky DNI' y 'Clearsky GHI', que son índices de incidencia solar clave.\n",
    "\n",
    "Utilizando un conjunto de datos recopilados durante 10 años con un intervalo de 30 minutos, se entrenará el modelo de predicción. Este modelo permitirá predecir la capacidad de producción de una granja solar en función de ciertos parámetros meteorológicos relevantes.\n",
    "\n",
    "El objetivo final es proporcionar a la empresa de generación de energía solar una herramienta precisa y confiable para optimizar la producción. Esto permitirá una planificación más eficiente de las operaciones, una mejor gestión de los recursos disponibles y proporcionar valores de entrega de energía, basados en predicciones meteorológicas a través de los servicios de Meteorología Nacionales.\n",
    "\n",
    "Con este proyecto, se busca aprovechar al máximo el potencial de la energía solar y contribuir a un enfoque más sostenible y respetuoso con el medio ambiente en la generación de energía.\n",
    "\n",
    "---\n",
    "\n",
    ":us:\n",
    "\n",
    "**Goal of the Project**\n",
    "\n",
    "*The objective of this project is to optimize the solar energy production of a leading company in the field. For this, it is necessary to develop a prediction model capable of predicting the values of 'Clearsky DHI', 'Clearsky DNI' and 'Clearsky GHI', which are key solar incidence indices.\n",
    "\n",
    "*Using a data set collected over 10 years with an interval of 30 minutes, the prediction model will be trained. This model will make it possible to predict the production capacity of a solar farm based on certain relevant meteorological parameters.\n",
    "\n",
    "*The ultimate goal is to provide the solar power generation company with an accurate and reliable tool to optimize production. This will allow for more efficient planning, better management of available resources and will provide energy delivery values, based on weather predictions through the National Meteorology services.\n",
    "\n",
    "*This project seeks to make the most of the potential of solar energy and contribute to a more sustainable and environmentally friendly approach to power generation.\n",
    "\n",
    "\n",
    ":es:\n",
    "\n",
    "#### Contexto\n",
    "\n",
    "Wipro Limited (NYSE: WIT, BSE: 507685, NSE: WIPRO) es una empresa líder mundial en servicios de tecnología de la información, consultoría y procesos comerciales. Aprovechamos el poder de la computación cognitiva, la hiperautomatización, la robótica, nubes, el análisis y las tecnologías emergentes para ayudar a nuestros clientes a adaptarse al mundo digital y hacerlos exitosos. Una empresa reconocida a nivel mundial por su cartera integral de servicios, fuerte compromiso con la sostenibilidad y capital humano comprometido, tenemos más de 220 000 empleados dedicados, que atienden a clientes en seis continentes. Juntos, descubrimos ideas y conectamos los puntos para construir un futuro mejor y más audaz.\n",
    "\n",
    "Además de ser un líder mundial en servicios de inteligencia artificial según los últimos informes de analistas como Forrester, IDC y Everest Group, Wipro ha sido calificada como la segunda mejor organización para que los científicos de datos trabajen en India en 2021 por Analytics India Magazine. La compañía también se ha comprometido a alcanzar unas emisiones netas de gases de efecto invernadero cero para 2040.\n",
    "\n",
    "Aunque un poco tarde, el mundo se está dando cuenta del efecto nocivo de los combustibles fósiles en nuestro medio ambiente. A medida que avanza el reloj del fin del mundo, los seres humanos recurren a las energías renovables para evitar un posible apocalipsis. Afortunadamente, el sol es un manantial de energía limpia. Siguiendo el ejemplo, Wipro, en asociación con MachineHack, ha diseñado un desafío de pronóstico para optimizar la generación de energía solar utilizando modelos ML.\n",
    "\n",
    "---\n",
    ":us:\n",
    "\n",
    "#### Context\n",
    "\n",
    "*Wipro Limited (NYSE: WIT, BSE: 507685, NSE: WIPRO) is a leading global information technology, consulting and business process services company. We harness the power of cognitive computing, hyper-automation, robotics, cloud, analytics and emerging technologies to help our clients adapt to the digital world and make them successful. A company recognized globally for its comprehensive portfolio of services, strong commitment to sustainability and good corporate citizenship, we have over 220,000 dedicated employees serving clients across six continents. Together, we discover ideas and connect the dots to build a better and a bold new future.*\n",
    "\n",
    "*Along with being a global leader in artificial intelligence services from the latest reports of analysts like Forrester, IDC and Everest Group, Wipro has been rated as the second-best organization for data scientists to work in India in 2021 by Analytics India Magazine. The company has also been committed to reaching a Net-Zero Greenhouse Gas Emissions by 2040.*\n",
    "\n",
    "*Though a little late in the day, the world is waking up to the deleterious effect of fossil fuels on our environment. As the doomsday clock ticks away, human beings are turning to renewable energy to avert a possible apocalypse. Fortunately, the sun is a well-spring of clean energy. Taking the cue, Wipro, in association with MachineHack, has designed a forecasting challenge to optimise solar power generation using ML models.*\n",
    "\n",
    "---\n",
    "\n",
    "['Year', 'Month', 'Day', 'Hour', 'Minute', 'Temperature', 'Clearsky DHI', 'Clearsky DNI', 'Clearsky GHI', 'Cloud Type', 'Dew Point', 'Fill Flag', 'Relative Humidity', 'Solar Zenith Angle', 'Pressure', 'Precipitable Water', 'Wind Direction', 'Wind Speed']\n",
    "\n",
    "#### Columnas\n",
    "- **Year** - Año de toma de datos\n",
    "- **Month** - Mes de toma de datos\n",
    "- **Day** - Día de toma de datos\n",
    "- **Hour** - Hora de toma de datos\n",
    "- **Minute** - Minuto de toma de datos\n",
    "- **Temperature** - Temperatura local\n",
    "- **Clearsky_DHI** - Diffuese Horizontal Irradiance w/m2\n",
    "- **Clearsky_DNI** - Direct Normal Irradiance w/m2\n",
    "- **Clearsky_GHI** - Global Horizontal Irradiance w/m2\n",
    "- **Cloud_Type** - Tipo de Nubosidad en el ambiente\n",
    "    - Cloud Type 0 Clear\n",
    "    - Cloud Type 1 Probably Clear\n",
    "    - Cloud Type 2 Fog\n",
    "    - Cloud Type 3 Water\n",
    "    - Cloud Type 4 Super-Cooled Water\n",
    "    - Cloud Type 5 Mixed\n",
    "    - Cloud Type 6 Opaque Ice\n",
    "    - Cloud Type 7 Cirrus\n",
    "    - Cloud Type 8 Overlapping\n",
    "    - Cloud Type 9 Overshooting\n",
    "    - Cloud Type 10 Unknown\n",
    "    - Cloud Type 11 Dust\n",
    "    - Cloud Type 12 Smoke\n",
    "    - Cloud Type -15 N/A\n",
    "- **Dew_Point** - Punto de rocío\n",
    "- **Fill_Flag** - \n",
    "    - Fill Flag 0 N/A\n",
    "    - Fill Flag 1 Missing Image\n",
    "    - Fill Flag 2 Low Irradiance\n",
    "    - Fill Flag 3 Exceeds Clearsky\n",
    "    - Fill Flag 4 Missing Cloud Properties\n",
    "    - Fill Flag 5 Rayleigh Violation\n",
    "    - Fill Flag any N/A\n",
    "- **Relative_Humidity** - Humedad relativa\n",
    "- **Solar_Zenith_Angle** - Ángulo de zenit solar\n",
    "- **Pressure** - Presión atomsférica\n",
    "- **Precipitable_Water** - Precipitación de lluvia en mm\n",
    "- **Wind_Direction** - Dirección del viento\n",
    "- **Wind_Speed** - Velocidad del viento\n",
    "\n",
    "<a id=\"metodologia\"></a> \n",
    "### 1.2 La metodología de trabajo\n",
    "\n",
    "Hemos estructurado nuestra metodología de trabajo en varias tareas con el fin de cumplir con nuestros objetivos principales. El objetivo primario es desarrollar un sistema predictivo en la notebook y crear una presentación en PowerPoint, tal como se requiere en el curso.\n",
    "\n",
    "Además de esto, hemos definido una serie de tareas complementarias para cumplir con nuestro objetivo secundario. Este objetivo implica poner en producción una pequeña página web en un servidor local, la cual contará con las funcionalidades mínimas necesarias para el funcionamiento del sistema y permitirá realizar consultas.\n",
    "\n",
    "A través de esta metodología, aseguramos un enfoque ordenado y organizado para alcanzar tanto el objetivo primario como el secundario. Cada tarea predictiva se realizará de manera paralela, permitiendo una progresión lógica en el desarrollo del proyecto y permitiendo un proceso comparativo de distintos modelos de aprendizaje. De esta manera, podremos cumplir con los requisitos del curso y también lograr la puesta en funcionamiento del sistema en una página web, brindando una solución más completa y accesible para los usuarios.\n",
    "\n",
    "Esta metodología nos permite maximizar la eficiencia y garantizar la entrega exitosa de los resultados esperados en los plazos establecidos."
   ]
  },
  {
   "cell_type": "markdown",
   "id": "151b908b",
   "metadata": {},
   "source": [
    "<a id=\"section_import_lib\"></a>\n",
    "## 2. Importación de librerías para casos de Clasificación\n",
    "---\n",
    "<a href='#tabla_contenidos'>Volver a la Tabla de Contenidos</a>"
   ]
  },
  {
   "cell_type": "code",
   "execution_count": 1,
   "id": "8563b451",
   "metadata": {},
   "outputs": [],
   "source": [
    "import pandas as pd\n",
    "import numpy as np\n",
    "import seaborn as sns\n",
    "import matplotlib.pyplot as plt\n",
    "\n",
    "from sklearn.model_selection import train_test_split\n",
    "from sklearn.preprocessing import OneHotEncoder, StandardScaler, MinMaxScaler\n",
    "from sklearn.ensemble import BaggingRegressor, RandomForestRegressor\n",
    "from sklearn.model_selection import GridSearchCV, StratifiedKFold\n",
    "from sklearn.pipeline import Pipeline\n",
    "from sklearn.metrics import confusion_matrix"
   ]
  },
  {
   "cell_type": "markdown",
   "id": "cb4eefda",
   "metadata": {},
   "source": [
    "<a id=\"importar_dataset\"></a>\n",
    "## 3. Importando el DataSet\n",
    "---\n",
    "<a href='#tabla_contenidos'>Volver a la Tabla de Contenidos</a>"
   ]
  },
  {
   "cell_type": "code",
   "execution_count": 2,
   "id": "8c847cbb",
   "metadata": {},
   "outputs": [
    {
     "name": "stdout",
     "output_type": "stream",
     "text": [
      "(175296, 18)\n",
      "(17520, 18)\n"
     ]
    }
   ],
   "source": [
    "ruta_X_train = \"../data/train.csv\"\n",
    "ruta_X_test = \"../data/test.csv\"\n",
    "ruta_sample_submission = \"../data/sample_submission.csv\"\n",
    "\n",
    "# Con este data set crearemos los DF de entrenamiento y testeo\n",
    "data = pd.read_csv(ruta_X_train, sep=',')\n",
    "\n",
    "# Este data set quedará como set de prediciones\n",
    "X_test_ = pd.read_csv(ruta_X_test, sep=',')\n",
    "\n",
    "# VER QUE HACEMOS CON ESTO, YO LO ELIMINARÍA\n",
    "sample_submission = pd.read_csv(ruta_sample_submission, sep=',')\n",
    "\n",
    "print(data.shape)\n",
    "print(X_test_.shape)"
   ]
  },
  {
   "cell_type": "code",
   "execution_count": 3,
   "id": "78687626",
   "metadata": {},
   "outputs": [
    {
     "data": {
      "text/plain": [
       "Year                  0.0\n",
       "Month                 0.0\n",
       "Day                   0.0\n",
       "Hour                  0.0\n",
       "Minute                0.0\n",
       "Clearsky DHI          0.0\n",
       "Clearsky DNI          0.0\n",
       "Clearsky GHI          0.0\n",
       "Cloud Type            0.0\n",
       "Dew Point             0.0\n",
       "Temperature           0.0\n",
       "Pressure              0.0\n",
       "Relative Humidity     0.0\n",
       "Solar Zenith Angle    0.0\n",
       "Precipitable Water    0.0\n",
       "Wind Direction        0.0\n",
       "Wind Speed            0.0\n",
       "Fill Flag             0.0\n",
       "dtype: float64"
      ]
     },
     "execution_count": 3,
     "metadata": {},
     "output_type": "execute_result"
    }
   ],
   "source": [
    "data_nan = data.apply(lambda x: x.isnull().sum()/x.shape[0], axis=0)\n",
    "data_nan"
   ]
  },
  {
   "cell_type": "markdown",
   "id": "4692f7a0",
   "metadata": {},
   "source": [
    "Podemos observar que el DataSet no contiene ningún nulo, ya que este fue tomado por una computadore de manera continua de los datos climaticos de la zona."
   ]
  },
  {
   "cell_type": "markdown",
   "id": "67c70524",
   "metadata": {},
   "source": [
    "<a id=\"imputacion\"></a> \n",
    "### 3.1 Imputación de datos"
   ]
  },
  {
   "cell_type": "markdown",
   "id": "5d586545",
   "metadata": {},
   "source": [
    "En esta imputación encontramos una discrepancia en la organización de las columnas y hacemos un arreglo para que tengan el  mismo orden del DataSet que utilizaremos al final de trabajo para realizar predicciones futuras."
   ]
  },
  {
   "cell_type": "code",
   "execution_count": 4,
   "id": "3c3eaf92",
   "metadata": {},
   "outputs": [
    {
     "data": {
      "text/plain": [
       "array(['Year', 'Month', 'Day', 'Hour', 'Minute', 'Cloud Type',\n",
       "       'Dew Point', 'Temperature', 'Pressure', 'Relative Humidity',\n",
       "       'Solar Zenith Angle', 'Precipitable Water', 'Wind Direction',\n",
       "       'Wind Speed', 'Fill Flag', 'Clearsky DHI', 'Clearsky DNI',\n",
       "       'Clearsky GHI'], dtype=object)"
      ]
     },
     "execution_count": 4,
     "metadata": {},
     "output_type": "execute_result"
    }
   ],
   "source": [
    "X_test_.columns.values"
   ]
  },
  {
   "cell_type": "code",
   "execution_count": 5,
   "id": "4574f0f7",
   "metadata": {
    "scrolled": true
   },
   "outputs": [
    {
     "data": {
      "text/html": [
       "<div>\n",
       "<style scoped>\n",
       "    .dataframe tbody tr th:only-of-type {\n",
       "        vertical-align: middle;\n",
       "    }\n",
       "\n",
       "    .dataframe tbody tr th {\n",
       "        vertical-align: top;\n",
       "    }\n",
       "\n",
       "    .dataframe thead th {\n",
       "        text-align: right;\n",
       "    }\n",
       "</style>\n",
       "<table border=\"1\" class=\"dataframe\">\n",
       "  <thead>\n",
       "    <tr style=\"text-align: right;\">\n",
       "      <th></th>\n",
       "      <th>Year</th>\n",
       "      <th>Month</th>\n",
       "      <th>Day</th>\n",
       "      <th>Hour</th>\n",
       "      <th>Minute</th>\n",
       "      <th>Cloud Type</th>\n",
       "      <th>Dew Point</th>\n",
       "      <th>Temperature</th>\n",
       "      <th>Pressure</th>\n",
       "      <th>Relative Humidity</th>\n",
       "      <th>Solar Zenith Angle</th>\n",
       "      <th>Precipitable Water</th>\n",
       "      <th>Wind Direction</th>\n",
       "      <th>Wind Speed</th>\n",
       "      <th>Fill Flag</th>\n",
       "      <th>Clearsky DHI</th>\n",
       "      <th>Clearsky DNI</th>\n",
       "      <th>Clearsky GHI</th>\n",
       "    </tr>\n",
       "  </thead>\n",
       "  <tbody>\n",
       "    <tr>\n",
       "      <th>28905</th>\n",
       "      <td>2010</td>\n",
       "      <td>8</td>\n",
       "      <td>26</td>\n",
       "      <td>4</td>\n",
       "      <td>30</td>\n",
       "      <td>0</td>\n",
       "      <td>21.0</td>\n",
       "      <td>26.0</td>\n",
       "      <td>1000</td>\n",
       "      <td>78.50</td>\n",
       "      <td>134.72</td>\n",
       "      <td>3.622</td>\n",
       "      <td>172.3</td>\n",
       "      <td>0.6</td>\n",
       "      <td>1</td>\n",
       "      <td>0</td>\n",
       "      <td>0</td>\n",
       "      <td>0</td>\n",
       "    </tr>\n",
       "    <tr>\n",
       "      <th>156847</th>\n",
       "      <td>2017</td>\n",
       "      <td>12</td>\n",
       "      <td>12</td>\n",
       "      <td>15</td>\n",
       "      <td>30</td>\n",
       "      <td>0</td>\n",
       "      <td>5.0</td>\n",
       "      <td>10.0</td>\n",
       "      <td>1000</td>\n",
       "      <td>72.05</td>\n",
       "      <td>61.93</td>\n",
       "      <td>0.958</td>\n",
       "      <td>297.4</td>\n",
       "      <td>5.1</td>\n",
       "      <td>0</td>\n",
       "      <td>108</td>\n",
       "      <td>767</td>\n",
       "      <td>469</td>\n",
       "    </tr>\n",
       "    <tr>\n",
       "      <th>175203</th>\n",
       "      <td>2018</td>\n",
       "      <td>12</td>\n",
       "      <td>30</td>\n",
       "      <td>1</td>\n",
       "      <td>30</td>\n",
       "      <td>7</td>\n",
       "      <td>15.5</td>\n",
       "      <td>15.5</td>\n",
       "      <td>1011</td>\n",
       "      <td>100.00</td>\n",
       "      <td>125.12</td>\n",
       "      <td>4.300</td>\n",
       "      <td>92.0</td>\n",
       "      <td>0.9</td>\n",
       "      <td>0</td>\n",
       "      <td>0</td>\n",
       "      <td>0</td>\n",
       "      <td>0</td>\n",
       "    </tr>\n",
       "    <tr>\n",
       "      <th>60387</th>\n",
       "      <td>2012</td>\n",
       "      <td>6</td>\n",
       "      <td>12</td>\n",
       "      <td>1</td>\n",
       "      <td>30</td>\n",
       "      <td>7</td>\n",
       "      <td>23.0</td>\n",
       "      <td>23.0</td>\n",
       "      <td>1000</td>\n",
       "      <td>100.00</td>\n",
       "      <td>99.61</td>\n",
       "      <td>4.727</td>\n",
       "      <td>224.7</td>\n",
       "      <td>1.4</td>\n",
       "      <td>0</td>\n",
       "      <td>0</td>\n",
       "      <td>0</td>\n",
       "      <td>0</td>\n",
       "    </tr>\n",
       "    <tr>\n",
       "      <th>1810</th>\n",
       "      <td>2009</td>\n",
       "      <td>2</td>\n",
       "      <td>7</td>\n",
       "      <td>17</td>\n",
       "      <td>0</td>\n",
       "      <td>0</td>\n",
       "      <td>5.0</td>\n",
       "      <td>15.0</td>\n",
       "      <td>1020</td>\n",
       "      <td>53.08</td>\n",
       "      <td>48.44</td>\n",
       "      <td>0.764</td>\n",
       "      <td>236.0</td>\n",
       "      <td>1.9</td>\n",
       "      <td>0</td>\n",
       "      <td>99</td>\n",
       "      <td>942</td>\n",
       "      <td>724</td>\n",
       "    </tr>\n",
       "  </tbody>\n",
       "</table>\n",
       "</div>"
      ],
      "text/plain": [
       "        Year  Month  Day  Hour  Minute  Cloud Type  Dew Point  Temperature  \\\n",
       "28905   2010      8   26     4      30           0       21.0         26.0   \n",
       "156847  2017     12   12    15      30           0        5.0         10.0   \n",
       "175203  2018     12   30     1      30           7       15.5         15.5   \n",
       "60387   2012      6   12     1      30           7       23.0         23.0   \n",
       "1810    2009      2    7    17       0           0        5.0         15.0   \n",
       "\n",
       "        Pressure  Relative Humidity  Solar Zenith Angle  Precipitable Water  \\\n",
       "28905       1000              78.50              134.72               3.622   \n",
       "156847      1000              72.05               61.93               0.958   \n",
       "175203      1011             100.00              125.12               4.300   \n",
       "60387       1000             100.00               99.61               4.727   \n",
       "1810        1020              53.08               48.44               0.764   \n",
       "\n",
       "        Wind Direction  Wind Speed  Fill Flag  Clearsky DHI  Clearsky DNI  \\\n",
       "28905            172.3         0.6          1             0             0   \n",
       "156847           297.4         5.1          0           108           767   \n",
       "175203            92.0         0.9          0             0             0   \n",
       "60387            224.7         1.4          0             0             0   \n",
       "1810             236.0         1.9          0            99           942   \n",
       "\n",
       "        Clearsky GHI  \n",
       "28905              0  \n",
       "156847           469  \n",
       "175203             0  \n",
       "60387              0  \n",
       "1810             724  "
      ]
     },
     "execution_count": 5,
     "metadata": {},
     "output_type": "execute_result"
    }
   ],
   "source": [
    "data = data[['Year', 'Month', 'Day', 'Hour', 'Minute', 'Cloud Type',\n",
    "       'Dew Point', 'Temperature', 'Pressure', 'Relative Humidity',\n",
    "       'Solar Zenith Angle', 'Precipitable Water', 'Wind Direction',\n",
    "       'Wind Speed', 'Fill Flag', 'Clearsky DHI', 'Clearsky DNI',\n",
    "       'Clearsky GHI']]\n",
    "\n",
    "data.sample(5)"
   ]
  },
  {
   "cell_type": "code",
   "execution_count": 6,
   "id": "dce50318",
   "metadata": {},
   "outputs": [
    {
     "data": {
      "text/plain": [
       "<matplotlib.axes._subplots.AxesSubplot at 0x2b8901fad08>"
      ]
     },
     "execution_count": 6,
     "metadata": {},
     "output_type": "execute_result"
    },
    {
     "data": {
      "image/png": "[encoded data removed]",
      "text/plain": [
       "<Figure size 640x480 with 1 Axes>"
      ]
     },
     "metadata": {},
     "output_type": "display_data"
    }
   ],
   "source": [
    "data.boxplot(column=['Dew Point', 'Temperature', 'Precipitable Water',\n",
    "       'Wind Speed'], \n",
    "                  by=None, \n",
    "                  ax=None, \n",
    "                  fontsize=None, \n",
    "                  rot=0, \n",
    "                  grid=True, \n",
    "                  figsize=None, \n",
    "                  layout=None, \n",
    "                  return_type=None, \n",
    "                  backend=None)\n"
   ]
  },
  {
   "cell_type": "code",
   "execution_count": 7,
   "id": "f57ec85f",
   "metadata": {},
   "outputs": [
    {
     "data": {
      "text/plain": [
       "<matplotlib.axes._subplots.AxesSubplot at 0x2b895ef9f48>"
      ]
     },
     "execution_count": 7,
     "metadata": {},
     "output_type": "execute_result"
    },
    {
     "data": {
      "image/png": "[encoded data removed]",
      "text/plain": [
       "<Figure size 640x480 with 1 Axes>"
      ]
     },
     "metadata": {},
     "output_type": "display_data"
    }
   ],
   "source": [
    "data.boxplot(column=['Pressure'], \n",
    "                  by=None, \n",
    "                  ax=None, \n",
    "                  fontsize=None, \n",
    "                  rot=0, \n",
    "                  grid=True, \n",
    "                  figsize=None, \n",
    "                  layout=None, \n",
    "                  return_type=None, \n",
    "                  backend=None)"
   ]
  },
  {
   "cell_type": "code",
   "execution_count": 8,
   "id": "be7566fd",
   "metadata": {},
   "outputs": [
    {
     "data": {
      "text/plain": [
       "<matplotlib.axes._subplots.AxesSubplot at 0x2b896319b08>"
      ]
     },
     "execution_count": 8,
     "metadata": {},
     "output_type": "execute_result"
    },
    {
     "data": {
      "image/png": "[encoded data removed]",
      "text/plain": [
       "<Figure size 640x480 with 1 Axes>"
      ]
     },
     "metadata": {},
     "output_type": "display_data"
    }
   ],
   "source": [
    "data.boxplot(column=['Clearsky DHI', 'Clearsky DNI',\n",
    "       'Clearsky GHI'], \n",
    "                  by=None, \n",
    "                  ax=None, \n",
    "                  fontsize=None, \n",
    "                  rot=0, \n",
    "                  grid=True, \n",
    "                  figsize=None, \n",
    "                  layout=None, \n",
    "                  return_type=None, \n",
    "                  backend=None)"
   ]
  },
  {
   "cell_type": "code",
   "execution_count": 9,
   "id": "8886a0dd",
   "metadata": {},
   "outputs": [
    {
     "data": {
      "text/plain": [
       "<matplotlib.axes._subplots.AxesSubplot at 0x2b8960b58c8>"
      ]
     },
     "execution_count": 9,
     "metadata": {},
     "output_type": "execute_result"
    },
    {
     "data": {
      "image/png": "[encoded data removed]",
      "text/plain": [
       "<Figure size 640x480 with 1 Axes>"
      ]
     },
     "metadata": {},
     "output_type": "display_data"
    }
   ],
   "source": [
    "data.boxplot(column=['Relative Humidity',\n",
    "       'Solar Zenith Angle', 'Wind Direction'], \n",
    "                  by=None, \n",
    "                  ax=None, \n",
    "                  fontsize=None, \n",
    "                  rot=0, \n",
    "                  grid=True, \n",
    "                  figsize=None, \n",
    "                  layout=None, \n",
    "                  return_type=None, \n",
    "                  backend=None)"
   ]
  },
  {
   "cell_type": "code",
   "execution_count": 10,
   "id": "a49ee4aa",
   "metadata": {
    "scrolled": true
   },
   "outputs": [
    {
     "data": {
      "text/html": [
       "<div>\n",
       "<style scoped>\n",
       "    .dataframe tbody tr th:only-of-type {\n",
       "        vertical-align: middle;\n",
       "    }\n",
       "\n",
       "    .dataframe tbody tr th {\n",
       "        vertical-align: top;\n",
       "    }\n",
       "\n",
       "    .dataframe thead th {\n",
       "        text-align: right;\n",
       "    }\n",
       "</style>\n",
       "<table border=\"1\" class=\"dataframe\">\n",
       "  <thead>\n",
       "    <tr style=\"text-align: right;\">\n",
       "      <th></th>\n",
       "      <th>Year</th>\n",
       "      <th>Month</th>\n",
       "      <th>Day</th>\n",
       "      <th>Hour</th>\n",
       "      <th>Minute</th>\n",
       "      <th>Cloud Type</th>\n",
       "      <th>Dew Point</th>\n",
       "      <th>Temperature</th>\n",
       "      <th>Pressure</th>\n",
       "      <th>Relative Humidity</th>\n",
       "      <th>Solar Zenith Angle</th>\n",
       "      <th>Precipitable Water</th>\n",
       "      <th>Wind Direction</th>\n",
       "      <th>Wind Speed</th>\n",
       "      <th>Fill Flag</th>\n",
       "      <th>Clearsky DHI</th>\n",
       "      <th>Clearsky DNI</th>\n",
       "      <th>Clearsky GHI</th>\n",
       "    </tr>\n",
       "  </thead>\n",
       "  <tbody>\n",
       "    <tr>\n",
       "      <th>count</th>\n",
       "      <td>175296.000000</td>\n",
       "      <td>175296.000000</td>\n",
       "      <td>175296.000000</td>\n",
       "      <td>175296.000000</td>\n",
       "      <td>175296.000000</td>\n",
       "      <td>175296.000000</td>\n",
       "      <td>175296.000000</td>\n",
       "      <td>175296.000000</td>\n",
       "      <td>175296.000000</td>\n",
       "      <td>175296.000000</td>\n",
       "      <td>175296.000000</td>\n",
       "      <td>175296.000000</td>\n",
       "      <td>175296.000000</td>\n",
       "      <td>175296.000000</td>\n",
       "      <td>175296.000000</td>\n",
       "      <td>175296.000000</td>\n",
       "      <td>175296.000000</td>\n",
       "      <td>175296.000000</td>\n",
       "    </tr>\n",
       "    <tr>\n",
       "      <th>mean</th>\n",
       "      <td>2013.500274</td>\n",
       "      <td>6.523549</td>\n",
       "      <td>15.727820</td>\n",
       "      <td>11.500000</td>\n",
       "      <td>15.000000</td>\n",
       "      <td>2.540474</td>\n",
       "      <td>13.564431</td>\n",
       "      <td>18.266769</td>\n",
       "      <td>1003.185230</td>\n",
       "      <td>79.376366</td>\n",
       "      <td>89.729463</td>\n",
       "      <td>2.903732</td>\n",
       "      <td>188.877796</td>\n",
       "      <td>2.262871</td>\n",
       "      <td>0.740433</td>\n",
       "      <td>53.065426</td>\n",
       "      <td>330.065295</td>\n",
       "      <td>254.365490</td>\n",
       "    </tr>\n",
       "    <tr>\n",
       "      <th>std</th>\n",
       "      <td>2.871908</td>\n",
       "      <td>3.448543</td>\n",
       "      <td>8.799349</td>\n",
       "      <td>6.922206</td>\n",
       "      <td>15.000043</td>\n",
       "      <td>3.021879</td>\n",
       "      <td>8.196787</td>\n",
       "      <td>8.943096</td>\n",
       "      <td>5.935749</td>\n",
       "      <td>19.678235</td>\n",
       "      <td>40.085451</td>\n",
       "      <td>1.546979</td>\n",
       "      <td>99.014733</td>\n",
       "      <td>1.281902</td>\n",
       "      <td>6.575655</td>\n",
       "      <td>64.201407</td>\n",
       "      <td>370.030821</td>\n",
       "      <td>327.705006</td>\n",
       "    </tr>\n",
       "    <tr>\n",
       "      <th>min</th>\n",
       "      <td>2009.000000</td>\n",
       "      <td>1.000000</td>\n",
       "      <td>1.000000</td>\n",
       "      <td>0.000000</td>\n",
       "      <td>0.000000</td>\n",
       "      <td>0.000000</td>\n",
       "      <td>-17.000000</td>\n",
       "      <td>-9.000000</td>\n",
       "      <td>970.000000</td>\n",
       "      <td>7.190000</td>\n",
       "      <td>8.550000</td>\n",
       "      <td>0.122000</td>\n",
       "      <td>0.000000</td>\n",
       "      <td>0.000000</td>\n",
       "      <td>0.000000</td>\n",
       "      <td>0.000000</td>\n",
       "      <td>0.000000</td>\n",
       "      <td>0.000000</td>\n",
       "    </tr>\n",
       "    <tr>\n",
       "      <th>25%</th>\n",
       "      <td>2011.000000</td>\n",
       "      <td>4.000000</td>\n",
       "      <td>8.000000</td>\n",
       "      <td>5.750000</td>\n",
       "      <td>0.000000</td>\n",
       "      <td>0.000000</td>\n",
       "      <td>8.000000</td>\n",
       "      <td>12.000000</td>\n",
       "      <td>1000.000000</td>\n",
       "      <td>65.590000</td>\n",
       "      <td>56.450000</td>\n",
       "      <td>1.534000</td>\n",
       "      <td>97.400000</td>\n",
       "      <td>1.300000</td>\n",
       "      <td>0.000000</td>\n",
       "      <td>0.000000</td>\n",
       "      <td>0.000000</td>\n",
       "      <td>0.000000</td>\n",
       "    </tr>\n",
       "    <tr>\n",
       "      <th>50%</th>\n",
       "      <td>2013.500000</td>\n",
       "      <td>7.000000</td>\n",
       "      <td>16.000000</td>\n",
       "      <td>11.500000</td>\n",
       "      <td>15.000000</td>\n",
       "      <td>1.000000</td>\n",
       "      <td>15.000000</td>\n",
       "      <td>20.000000</td>\n",
       "      <td>1000.000000</td>\n",
       "      <td>84.230000</td>\n",
       "      <td>89.860000</td>\n",
       "      <td>2.866000</td>\n",
       "      <td>200.000000</td>\n",
       "      <td>2.000000</td>\n",
       "      <td>0.000000</td>\n",
       "      <td>0.000000</td>\n",
       "      <td>0.000000</td>\n",
       "      <td>0.000000</td>\n",
       "    </tr>\n",
       "    <tr>\n",
       "      <th>75%</th>\n",
       "      <td>2016.000000</td>\n",
       "      <td>10.000000</td>\n",
       "      <td>23.000000</td>\n",
       "      <td>17.250000</td>\n",
       "      <td>30.000000</td>\n",
       "      <td>6.000000</td>\n",
       "      <td>21.000000</td>\n",
       "      <td>25.000000</td>\n",
       "      <td>1010.000000</td>\n",
       "      <td>97.950000</td>\n",
       "      <td>123.060000</td>\n",
       "      <td>4.223000</td>\n",
       "      <td>272.000000</td>\n",
       "      <td>3.000000</td>\n",
       "      <td>0.000000</td>\n",
       "      <td>103.000000</td>\n",
       "      <td>736.000000</td>\n",
       "      <td>535.000000</td>\n",
       "    </tr>\n",
       "    <tr>\n",
       "      <th>max</th>\n",
       "      <td>2018.000000</td>\n",
       "      <td>12.000000</td>\n",
       "      <td>31.000000</td>\n",
       "      <td>23.000000</td>\n",
       "      <td>30.000000</td>\n",
       "      <td>10.000000</td>\n",
       "      <td>26.900000</td>\n",
       "      <td>40.000000</td>\n",
       "      <td>1024.000000</td>\n",
       "      <td>100.000000</td>\n",
       "      <td>171.550000</td>\n",
       "      <td>7.700000</td>\n",
       "      <td>360.000000</td>\n",
       "      <td>12.900000</td>\n",
       "      <td>100.000000</td>\n",
       "      <td>565.000000</td>\n",
       "      <td>1040.000000</td>\n",
       "      <td>1063.000000</td>\n",
       "    </tr>\n",
       "  </tbody>\n",
       "</table>\n",
       "</div>"
      ],
      "text/plain": [
       "                Year          Month            Day           Hour  \\\n",
       "count  175296.000000  175296.000000  175296.000000  175296.000000   \n",
       "mean     2013.500274       6.523549      15.727820      11.500000   \n",
       "std         2.871908       3.448543       8.799349       6.922206   \n",
       "min      2009.000000       1.000000       1.000000       0.000000   \n",
       "25%      2011.000000       4.000000       8.000000       5.750000   \n",
       "50%      2013.500000       7.000000      16.000000      11.500000   \n",
       "75%      2016.000000      10.000000      23.000000      17.250000   \n",
       "max      2018.000000      12.000000      31.000000      23.000000   \n",
       "\n",
       "              Minute     Cloud Type      Dew Point    Temperature  \\\n",
       "count  175296.000000  175296.000000  175296.000000  175296.000000   \n",
       "mean       15.000000       2.540474      13.564431      18.266769   \n",
       "std        15.000043       3.021879       8.196787       8.943096   \n",
       "min         0.000000       0.000000     -17.000000      -9.000000   \n",
       "25%         0.000000       0.000000       8.000000      12.000000   \n",
       "50%        15.000000       1.000000      15.000000      20.000000   \n",
       "75%        30.000000       6.000000      21.000000      25.000000   \n",
       "max        30.000000      10.000000      26.900000      40.000000   \n",
       "\n",
       "            Pressure  Relative Humidity  Solar Zenith Angle  \\\n",
       "count  175296.000000      175296.000000       175296.000000   \n",
       "mean     1003.185230          79.376366           89.729463   \n",
       "std         5.935749          19.678235           40.085451   \n",
       "min       970.000000           7.190000            8.550000   \n",
       "25%      1000.000000          65.590000           56.450000   \n",
       "50%      1000.000000          84.230000           89.860000   \n",
       "75%      1010.000000          97.950000          123.060000   \n",
       "max      1024.000000         100.000000          171.550000   \n",
       "\n",
       "       Precipitable Water  Wind Direction     Wind Speed      Fill Flag  \\\n",
       "count       175296.000000   175296.000000  175296.000000  175296.000000   \n",
       "mean             2.903732      188.877796       2.262871       0.740433   \n",
       "std              1.546979       99.014733       1.281902       6.575655   \n",
       "min              0.122000        0.000000       0.000000       0.000000   \n",
       "25%              1.534000       97.400000       1.300000       0.000000   \n",
       "50%              2.866000      200.000000       2.000000       0.000000   \n",
       "75%              4.223000      272.000000       3.000000       0.000000   \n",
       "max              7.700000      360.000000      12.900000     100.000000   \n",
       "\n",
       "        Clearsky DHI   Clearsky DNI   Clearsky GHI  \n",
       "count  175296.000000  175296.000000  175296.000000  \n",
       "mean       53.065426     330.065295     254.365490  \n",
       "std        64.201407     370.030821     327.705006  \n",
       "min         0.000000       0.000000       0.000000  \n",
       "25%         0.000000       0.000000       0.000000  \n",
       "50%         0.000000       0.000000       0.000000  \n",
       "75%       103.000000     736.000000     535.000000  \n",
       "max       565.000000    1040.000000    1063.000000  "
      ]
     },
     "execution_count": 10,
     "metadata": {},
     "output_type": "execute_result"
    }
   ],
   "source": [
    "data.describe()"
   ]
  },
  {
   "cell_type": "markdown",
   "id": "49c532ff",
   "metadata": {},
   "source": [
    "<a id=\"preparacion_entrenamiento\"></a>\n",
    "## 4. Preparación y Entrenamiento del DataSet\n",
    "---\n",
    "<a href='#tabla_contenidos'>Volver a la Tabla de Contenidos</a>"
   ]
  },
  {
   "cell_type": "markdown",
   "id": "58aa1971",
   "metadata": {},
   "source": [
    "En esta sección trabajaremos el DataSet con profundidad para dejarlo listo y en condiciones, con la intención de enfocarnos en las distintas estrategias de entrenameinto, como veremos más adelante."
   ]
  },
  {
   "cell_type": "markdown",
   "id": "456c7f8d",
   "metadata": {},
   "source": [
    "<a id=\"features\"></a> \n",
    "### 4.1 Features y dummies\n",
    "\n",
    "En el DataSet paraeciera no haber Features de clasificación, pero estás si están. Se encuentran establecidas con valores numéricos identificando las categorías que representan. Las columnas categóricas de las que estamos hablando son, **Cloud Type** y **Fill Flag**. Dentro de las mismas hay un total de 22 clasificadores. Por este motivo será necesario identificar dummies que puedan estar relacionadas a nuestros vectores Target de los datos meteorológicos.\n",
    "\n",
    "Para una mayor facilidad de comprensión, cambiaremos los valores por los nombres correspondientes. Nos ayudara a saber de que estamos hablando en cada caso, sin tener que estar recurriendo a las referencias más arriba."
   ]
  },
  {
   "cell_type": "markdown",
   "id": "7b386c6c",
   "metadata": {},
   "source": [
    "#### 4.1.1 Creación de columnas con nombres de categoria\n",
    "Primero se necesita renombrar a cada una de las categorias. Para eso crearemos un método condicional que renombre según el número asignado."
   ]
  },
  {
   "cell_type": "code",
   "execution_count": 11,
   "id": "74053c8f",
   "metadata": {},
   "outputs": [
    {
     "data": {
      "text/plain": [
       "array(['Year', 'Month', 'Day', 'Hour', 'Minute', 'Cloud Type',\n",
       "       'Dew Point', 'Temperature', 'Pressure', 'Relative Humidity',\n",
       "       'Solar Zenith Angle', 'Precipitable Water', 'Wind Direction',\n",
       "       'Wind Speed', 'Fill Flag', 'Clearsky DHI', 'Clearsky DNI',\n",
       "       'Clearsky GHI'], dtype=object)"
      ]
     },
     "execution_count": 11,
     "metadata": {},
     "output_type": "execute_result"
    }
   ],
   "source": [
    "data.columns.values"
   ]
  },
  {
   "cell_type": "code",
   "execution_count": 12,
   "id": "484fd619",
   "metadata": {},
   "outputs": [
    {
     "data": {
      "text/plain": [
       "Clear                 82788\n",
       "Cirrus                23163\n",
       "Water                 16255\n",
       "Probably_Clear        15698\n",
       "Overlapping           14276\n",
       "Super_Cooled_Water    11738\n",
       "Opaque_Ice             7902\n",
       "Fog                    3018\n",
       "Overshooting            457\n",
       "Unknown                   1\n",
       "Name: cloud_type_cat, dtype: int64"
      ]
     },
     "execution_count": 12,
     "metadata": {},
     "output_type": "execute_result"
    }
   ],
   "source": [
    "def cloud_type_cat(x):\n",
    "    if x == 0:\n",
    "        return 'Clear'\n",
    "    elif x == 1:\n",
    "        return 'Probably_Clear'\n",
    "    elif x == 2:\n",
    "        return 'Fog'\n",
    "    elif x == 3:\n",
    "        return 'Water'\n",
    "    elif x == 4:\n",
    "        return 'Super_Cooled_Water'\n",
    "    elif x == 5:\n",
    "        return 'Mixed'\n",
    "    elif x == 6:\n",
    "        return 'Opaque_Ice'\n",
    "    elif x == 7:\n",
    "        return 'Cirrus'\n",
    "    elif x == 8:\n",
    "        return 'Overlapping'\n",
    "    elif x == 9:\n",
    "        return 'Overshooting'\n",
    "    elif x == 10:\n",
    "        return 'Unknown'\n",
    "    elif x == 11:\n",
    "        return 'Dust'\n",
    "    elif x == 12:\n",
    "        return 'Smoke'\n",
    "    elif x == -15:\n",
    "        return 'N/A'\n",
    "    else:\n",
    "        return np.nan\n",
    "        \n",
    "data['cloud_type_cat'] = data['Cloud Type'].apply(cloud_type_cat)\n",
    "data['cloud_type_cat'].value_counts()"
   ]
  },
  {
   "cell_type": "code",
   "execution_count": 13,
   "id": "17dba5cf",
   "metadata": {},
   "outputs": [
    {
     "data": {
      "text/plain": [
       "N/A                         164285\n",
       "Missing_Cloud_Properties      6864\n",
       "Missing_Image                 2046\n",
       "Other                         1811\n",
       "Exceeds_Clearsky               290\n",
       "Name: fill_flag_cat, dtype: int64"
      ]
     },
     "execution_count": 13,
     "metadata": {},
     "output_type": "execute_result"
    }
   ],
   "source": [
    "def flag_cat(x):\n",
    "    if x == 0:\n",
    "        return 'N/A'\n",
    "    elif x == 1:\n",
    "        return 'Missing_Image'\n",
    "    elif x == 2:\n",
    "        return 'Low_Irradiance'\n",
    "    elif x == 3:\n",
    "        return 'Exceeds_Clearsky'\n",
    "    elif x == 4:\n",
    "        return 'Missing_Cloud_Properties'\n",
    "    elif x == 5:\n",
    "        return 'Rayleigh_Violation'\n",
    "    else:\n",
    "        return 'Other'\n",
    "\n",
    "data['fill_flag_cat'] = data['Fill Flag'].apply(flag_cat)\n",
    "data['fill_flag_cat'].value_counts()"
   ]
  },
  {
   "cell_type": "markdown",
   "id": "dfac2195",
   "metadata": {},
   "source": [
    "#### 4.1.2 Preparación de las dummies\n",
    "Ahora con las columnas renombradas utilizaremos la librería **OneHotEncoder** de sci-kit learn,  para obtener los dummies. "
   ]
  },
  {
   "cell_type": "code",
   "execution_count": 14,
   "id": "51f6933d",
   "metadata": {},
   "outputs": [
    {
     "data": {
      "text/plain": [
       "[array(['Cirrus', 'Clear', 'Fog', 'Opaque_Ice', 'Overlapping',\n",
       "        'Overshooting', 'Probably_Clear', 'Super_Cooled_Water', 'Unknown',\n",
       "        'Water'], dtype=object),\n",
       " array(['Exceeds_Clearsky', 'Missing_Cloud_Properties', 'Missing_Image',\n",
       "        'N/A', 'Other'], dtype=object)]"
      ]
     },
     "execution_count": 14,
     "metadata": {},
     "output_type": "execute_result"
    }
   ],
   "source": [
    "encoder = OneHotEncoder(drop='first', sparse=False)\n",
    "dummies = encoder.fit_transform(data[['cloud_type_cat', 'fill_flag_cat']])\n",
    "encoder.categories_"
   ]
  },
  {
   "cell_type": "code",
   "execution_count": 15,
   "id": "0ff55d91",
   "metadata": {},
   "outputs": [
    {
     "data": {
      "text/html": [
       "<div>\n",
       "<style scoped>\n",
       "    .dataframe tbody tr th:only-of-type {\n",
       "        vertical-align: middle;\n",
       "    }\n",
       "\n",
       "    .dataframe tbody tr th {\n",
       "        vertical-align: top;\n",
       "    }\n",
       "\n",
       "    .dataframe thead th {\n",
       "        text-align: right;\n",
       "    }\n",
       "</style>\n",
       "<table border=\"1\" class=\"dataframe\">\n",
       "  <thead>\n",
       "    <tr style=\"text-align: right;\">\n",
       "      <th></th>\n",
       "      <th>Clear</th>\n",
       "      <th>Fog</th>\n",
       "      <th>Opaque_Ice</th>\n",
       "      <th>Overlapping</th>\n",
       "      <th>Overshooting</th>\n",
       "      <th>Probably_Clear</th>\n",
       "      <th>Super_Cooled_Water</th>\n",
       "      <th>Unknown</th>\n",
       "      <th>Water</th>\n",
       "      <th>Missing_Cloud_Properties</th>\n",
       "      <th>Missing_Image</th>\n",
       "      <th>N/A</th>\n",
       "      <th>Other</th>\n",
       "    </tr>\n",
       "  </thead>\n",
       "  <tbody>\n",
       "    <tr>\n",
       "      <th>120286</th>\n",
       "      <td>1.0</td>\n",
       "      <td>0.0</td>\n",
       "      <td>0.0</td>\n",
       "      <td>0.0</td>\n",
       "      <td>0.0</td>\n",
       "      <td>0.0</td>\n",
       "      <td>0.0</td>\n",
       "      <td>0.0</td>\n",
       "      <td>0.0</td>\n",
       "      <td>0.0</td>\n",
       "      <td>0.0</td>\n",
       "      <td>1.0</td>\n",
       "      <td>0.0</td>\n",
       "    </tr>\n",
       "    <tr>\n",
       "      <th>95617</th>\n",
       "      <td>0.0</td>\n",
       "      <td>0.0</td>\n",
       "      <td>0.0</td>\n",
       "      <td>0.0</td>\n",
       "      <td>0.0</td>\n",
       "      <td>0.0</td>\n",
       "      <td>0.0</td>\n",
       "      <td>0.0</td>\n",
       "      <td>1.0</td>\n",
       "      <td>1.0</td>\n",
       "      <td>0.0</td>\n",
       "      <td>0.0</td>\n",
       "      <td>0.0</td>\n",
       "    </tr>\n",
       "  </tbody>\n",
       "</table>\n",
       "</div>"
      ],
      "text/plain": [
       "        Clear  Fog  Opaque_Ice  Overlapping  Overshooting  Probably_Clear  \\\n",
       "120286    1.0  0.0         0.0          0.0           0.0             0.0   \n",
       "95617     0.0  0.0         0.0          0.0           0.0             0.0   \n",
       "\n",
       "        Super_Cooled_Water  Unknown  Water  Missing_Cloud_Properties  \\\n",
       "120286                 0.0      0.0    0.0                       0.0   \n",
       "95617                  0.0      0.0    1.0                       1.0   \n",
       "\n",
       "        Missing_Image  N/A  Other  \n",
       "120286            0.0  1.0    0.0  \n",
       "95617             0.0  0.0    0.0  "
      ]
     },
     "execution_count": 15,
     "metadata": {},
     "output_type": "execute_result"
    }
   ],
   "source": [
    "dummies = pd.DataFrame(dummies)\n",
    "dummies.columns = [x for cat_list in encoder.categories_ for x in cat_list[1:]]\n",
    "dummies.sample(2)"
   ]
  },
  {
   "cell_type": "code",
   "execution_count": 16,
   "id": "d5de1d2f",
   "metadata": {},
   "outputs": [],
   "source": [
    "data = data.join(dummies)\n",
    "data = data.drop(columns=['Cloud Type','Fill Flag','cloud_type_cat','fill_flag_cat'])"
   ]
  },
  {
   "cell_type": "code",
   "execution_count": 17,
   "id": "90db8e6a",
   "metadata": {},
   "outputs": [
    {
     "data": {
      "text/html": [
       "<div>\n",
       "<style scoped>\n",
       "    .dataframe tbody tr th:only-of-type {\n",
       "        vertical-align: middle;\n",
       "    }\n",
       "\n",
       "    .dataframe tbody tr th {\n",
       "        vertical-align: top;\n",
       "    }\n",
       "\n",
       "    .dataframe thead th {\n",
       "        text-align: right;\n",
       "    }\n",
       "</style>\n",
       "<table border=\"1\" class=\"dataframe\">\n",
       "  <thead>\n",
       "    <tr style=\"text-align: right;\">\n",
       "      <th></th>\n",
       "      <th>Year</th>\n",
       "      <th>Month</th>\n",
       "      <th>Day</th>\n",
       "      <th>Hour</th>\n",
       "      <th>Minute</th>\n",
       "      <th>Dew Point</th>\n",
       "      <th>Temperature</th>\n",
       "      <th>Pressure</th>\n",
       "      <th>Relative Humidity</th>\n",
       "      <th>Solar Zenith Angle</th>\n",
       "      <th>...</th>\n",
       "      <th>Overlapping</th>\n",
       "      <th>Overshooting</th>\n",
       "      <th>Probably_Clear</th>\n",
       "      <th>Super_Cooled_Water</th>\n",
       "      <th>Unknown</th>\n",
       "      <th>Water</th>\n",
       "      <th>Missing_Cloud_Properties</th>\n",
       "      <th>Missing_Image</th>\n",
       "      <th>N/A</th>\n",
       "      <th>Other</th>\n",
       "    </tr>\n",
       "  </thead>\n",
       "  <tbody>\n",
       "    <tr>\n",
       "      <th>154905</th>\n",
       "      <td>2017</td>\n",
       "      <td>11</td>\n",
       "      <td>2</td>\n",
       "      <td>4</td>\n",
       "      <td>30</td>\n",
       "      <td>11.0</td>\n",
       "      <td>13.0</td>\n",
       "      <td>1010</td>\n",
       "      <td>90.75</td>\n",
       "      <td>159.60</td>\n",
       "      <td>...</td>\n",
       "      <td>1.0</td>\n",
       "      <td>0.0</td>\n",
       "      <td>0.0</td>\n",
       "      <td>0.0</td>\n",
       "      <td>0.0</td>\n",
       "      <td>0.0</td>\n",
       "      <td>0.0</td>\n",
       "      <td>0.0</td>\n",
       "      <td>1.0</td>\n",
       "      <td>0.0</td>\n",
       "    </tr>\n",
       "    <tr>\n",
       "      <th>35760</th>\n",
       "      <td>2011</td>\n",
       "      <td>1</td>\n",
       "      <td>16</td>\n",
       "      <td>0</td>\n",
       "      <td>0</td>\n",
       "      <td>-1.0</td>\n",
       "      <td>3.0</td>\n",
       "      <td>1010</td>\n",
       "      <td>76.67</td>\n",
       "      <td>103.98</td>\n",
       "      <td>...</td>\n",
       "      <td>0.0</td>\n",
       "      <td>0.0</td>\n",
       "      <td>0.0</td>\n",
       "      <td>0.0</td>\n",
       "      <td>0.0</td>\n",
       "      <td>0.0</td>\n",
       "      <td>0.0</td>\n",
       "      <td>0.0</td>\n",
       "      <td>1.0</td>\n",
       "      <td>0.0</td>\n",
       "    </tr>\n",
       "    <tr>\n",
       "      <th>70204</th>\n",
       "      <td>2013</td>\n",
       "      <td>1</td>\n",
       "      <td>2</td>\n",
       "      <td>14</td>\n",
       "      <td>0</td>\n",
       "      <td>10.0</td>\n",
       "      <td>11.0</td>\n",
       "      <td>1000</td>\n",
       "      <td>95.13</td>\n",
       "      <td>75.82</td>\n",
       "      <td>...</td>\n",
       "      <td>0.0</td>\n",
       "      <td>0.0</td>\n",
       "      <td>0.0</td>\n",
       "      <td>0.0</td>\n",
       "      <td>0.0</td>\n",
       "      <td>1.0</td>\n",
       "      <td>0.0</td>\n",
       "      <td>0.0</td>\n",
       "      <td>1.0</td>\n",
       "      <td>0.0</td>\n",
       "    </tr>\n",
       "    <tr>\n",
       "      <th>171148</th>\n",
       "      <td>2018</td>\n",
       "      <td>10</td>\n",
       "      <td>6</td>\n",
       "      <td>14</td>\n",
       "      <td>0</td>\n",
       "      <td>17.6</td>\n",
       "      <td>29.3</td>\n",
       "      <td>1009</td>\n",
       "      <td>49.38</td>\n",
       "      <td>60.92</td>\n",
       "      <td>...</td>\n",
       "      <td>0.0</td>\n",
       "      <td>0.0</td>\n",
       "      <td>0.0</td>\n",
       "      <td>0.0</td>\n",
       "      <td>0.0</td>\n",
       "      <td>0.0</td>\n",
       "      <td>0.0</td>\n",
       "      <td>0.0</td>\n",
       "      <td>1.0</td>\n",
       "      <td>0.0</td>\n",
       "    </tr>\n",
       "    <tr>\n",
       "      <th>23191</th>\n",
       "      <td>2010</td>\n",
       "      <td>4</td>\n",
       "      <td>29</td>\n",
       "      <td>3</td>\n",
       "      <td>30</td>\n",
       "      <td>8.0</td>\n",
       "      <td>13.0</td>\n",
       "      <td>1000</td>\n",
       "      <td>72.41</td>\n",
       "      <td>125.16</td>\n",
       "      <td>...</td>\n",
       "      <td>0.0</td>\n",
       "      <td>0.0</td>\n",
       "      <td>0.0</td>\n",
       "      <td>0.0</td>\n",
       "      <td>0.0</td>\n",
       "      <td>0.0</td>\n",
       "      <td>0.0</td>\n",
       "      <td>0.0</td>\n",
       "      <td>1.0</td>\n",
       "      <td>0.0</td>\n",
       "    </tr>\n",
       "  </tbody>\n",
       "</table>\n",
       "<p>5 rows × 29 columns</p>\n",
       "</div>"
      ],
      "text/plain": [
       "        Year  Month  Day  Hour  Minute  Dew Point  Temperature  Pressure  \\\n",
       "154905  2017     11    2     4      30       11.0         13.0      1010   \n",
       "35760   2011      1   16     0       0       -1.0          3.0      1010   \n",
       "70204   2013      1    2    14       0       10.0         11.0      1000   \n",
       "171148  2018     10    6    14       0       17.6         29.3      1009   \n",
       "23191   2010      4   29     3      30        8.0         13.0      1000   \n",
       "\n",
       "        Relative Humidity  Solar Zenith Angle  ...  Overlapping  Overshooting  \\\n",
       "154905              90.75              159.60  ...          1.0           0.0   \n",
       "35760               76.67              103.98  ...          0.0           0.0   \n",
       "70204               95.13               75.82  ...          0.0           0.0   \n",
       "171148              49.38               60.92  ...          0.0           0.0   \n",
       "23191               72.41              125.16  ...          0.0           0.0   \n",
       "\n",
       "        Probably_Clear  Super_Cooled_Water  Unknown  Water  \\\n",
       "154905             0.0                 0.0      0.0    0.0   \n",
       "35760              0.0                 0.0      0.0    0.0   \n",
       "70204              0.0                 0.0      0.0    1.0   \n",
       "171148             0.0                 0.0      0.0    0.0   \n",
       "23191              0.0                 0.0      0.0    0.0   \n",
       "\n",
       "        Missing_Cloud_Properties  Missing_Image  N/A  Other  \n",
       "154905                       0.0            0.0  1.0    0.0  \n",
       "35760                        0.0            0.0  1.0    0.0  \n",
       "70204                        0.0            0.0  1.0    0.0  \n",
       "171148                       0.0            0.0  1.0    0.0  \n",
       "23191                        0.0            0.0  1.0    0.0  \n",
       "\n",
       "[5 rows x 29 columns]"
      ]
     },
     "execution_count": 17,
     "metadata": {},
     "output_type": "execute_result"
    }
   ],
   "source": [
    "data.sample(5)"
   ]
  },
  {
   "cell_type": "markdown",
   "id": "ff5a8e78",
   "metadata": {},
   "source": [
    "<a id=\"split\"></a> \n",
    "### 4.2 Split del set de entrenamiento\n",
    "En esta seccion crearemos los datos de entrenamiento y los vectores objetivos multi nivel, para finalemente comenzar con las estrategias de entrenamiento."
   ]
  },
  {
   "cell_type": "code",
   "execution_count": 18,
   "id": "7901341d",
   "metadata": {},
   "outputs": [],
   "source": [
    "X = data.drop(['Clearsky DHI', 'Clearsky DNI',\n",
    "       'Clearsky GHI'], axis=1)\n",
    "y = data[['Clearsky DHI', 'Clearsky DNI',\n",
    "       'Clearsky GHI']]\n",
    "\n",
    "X_train, X_test, y_train, y_test = train_test_split(X, y, random_state=12,  test_size=0.3)"
   ]
  },
  {
   "cell_type": "markdown",
   "id": "f3026383",
   "metadata": {},
   "source": [
    "<a id=\"matrix_corr\"></a> \n",
    "### 4.3. Matriz de correlación\n",
    "Escribir aquí...  **# TO-DO**"
   ]
  },
  {
   "cell_type": "code",
   "execution_count": 19,
   "id": "4ecad1c3",
   "metadata": {},
   "outputs": [
    {
     "data": {
      "text/plain": [
       "<matplotlib.axes._subplots.AxesSubplot at 0x2b896381dc8>"
      ]
     },
     "execution_count": 19,
     "metadata": {},
     "output_type": "execute_result"
    },
    {
     "data": {
      "image/png": "[encoded data removed]",
      "text/plain": [
       "<Figure size 1100x900 with 2 Axes>"
      ]
     },
     "metadata": {},
     "output_type": "display_data"
    }
   ],
   "source": [
    "correlacion = data.corr()\n",
    "\n",
    "# Generate a mask for the upper triangle\n",
    "mask = np.triu(np.ones_like(correlacion, dtype=bool))\n",
    "\n",
    "# Set up the matplotlib figure\n",
    "f, ax = plt.subplots(figsize=(11, 9))\n",
    "\n",
    "# Generate a custom diverging colormap\n",
    "cmap = sns.diverging_palette(200, 120, as_cmap=True)\n",
    "\n",
    "# Draw the heatmap with the mask and correct aspect ratio\n",
    "sns.heatmap(correlacion, mask=mask, cmap=cmap, vmax=1, center=0,\n",
    "            square=True, linewidths=.5, cbar_kws={\"shrink\": .5})"
   ]
  },
  {
   "cell_type": "markdown",
   "id": "7ca2033a",
   "metadata": {},
   "source": [
    "<a id=\"analisis_corr\"></a> \n",
    "### 4.4. Analisis preliminar de correlación\n",
    "\n",
    "En esta seccion podemos observar que antes de comenzar analizar diferentes modelos y métodos, es importante tener en cuenta que ya existe una relación entre las variables. Y puede ser determinante a la hora de utilizar un método u otro:\n",
    "\n",
    "#### Hora\n",
    "- relative humidity/ Hour\n",
    "- Solar Zenith Angle/ Hour\n",
    "- Clearsky DHI/ Hour\n",
    "- Clearsky DNI/ Hour\n",
    "- Clearsky GHI/ Hour\n",
    "\n",
    "#### Punto de rocío\n",
    "- Temperature/ Dew Point\n",
    "- Precipitable Water/ Dew Point\n",
    "\n",
    "#### Temperatura\n",
    "- Solar Zenith Angle/ Temperature\n",
    "- Precipitable Water/ Temperature\n",
    "- Clearsky DHI/ Temperature\n",
    "- Clearsky GHI/ Temperature\n",
    "\n",
    "#### Humedad relativa\n",
    "- Solar Zenith Angle/ Relative Humidity\n",
    "- Clearsky DHI/ Relative Humidity\n",
    "- Clearsky DNI/ Relative Humidity\n",
    "- Clearsky GHI/ Relative Humidity\n",
    "\n",
    "#### Ángulo de incidencia solar\n",
    "- Clearsky DHI/ Solar Zenith Angle\n",
    "- Clearsky DNI/ Solar Zenith Angle\n",
    "- Clearsky GHI/ Solar Zenith Angle\n",
    "\n",
    "#### Correlación entre los vectores objetivos\n",
    "- Clearsky DNI/ Clearsky DHI\n",
    "- Clearsky GHI/ Clearsky DHI\n",
    "- Clearsky GHI/ Clearsky DNI."
   ]
  },
  {
   "cell_type": "markdown",
   "id": "de3e0eeb",
   "metadata": {},
   "source": [
    "<a id=\"evaluacion_modelos\"></a>\n",
    "## 5. Evaluación de los Modelos\n",
    "---\n",
    "<a href='#tabla_contenidos'>Volver a la Tabla de Contenidos</a>"
   ]
  },
  {
   "cell_type": "markdown",
   "id": "30f08a76",
   "metadata": {},
   "source": [
    "<a id=\"pipeline_rfr\"></a> \n",
    "### 5.10. PipeLine StandardScaler()+ KNeighborsClassifier()+ GridSearch"
   ]
  },
  {
   "cell_type": "code",
   "execution_count": 20,
   "id": "2da19353",
   "metadata": {},
   "outputs": [],
   "source": [
    "from sklearn.preprocessing import StandardScaler\n",
    "from sklearn.neighbors import KNeighborsClassifier\n",
    "from sklearn.pipeline import Pipeline"
   ]
  },
  {
   "cell_type": "markdown",
   "id": "70e5e402",
   "metadata": {},
   "source": [
    "#### Generamos los pasos e instancias del pipeline, es decir operaciones en orden en forma de tuplas:"
   ]
  },
  {
   "cell_type": "code",
   "execution_count": 21,
   "id": "9f6b6e1a",
   "metadata": {},
   "outputs": [],
   "source": [
    "steps_knc = [('scaler', StandardScaler()),\n",
    "             ('knn', KNeighborsClassifier())]"
   ]
  },
  {
   "cell_type": "code",
   "execution_count": 22,
   "id": "70598d5a",
   "metadata": {},
   "outputs": [],
   "source": [
    "pipe_knc = Pipeline(steps_knc)"
   ]
  },
  {
   "cell_type": "code",
   "execution_count": 23,
   "id": "c6c1b969",
   "metadata": {},
   "outputs": [],
   "source": [
    "folds_knc = StratifiedKFold(n_splits=5,shuffle=True, random_state=42)"
   ]
  },
  {
   "cell_type": "markdown",
   "id": "fdbb477b",
   "metadata": {},
   "source": [
    "#### Establezco los parametros del modelo:"
   ]
  },
  {
   "cell_type": "code",
   "execution_count": 24,
   "id": "3acfd982",
   "metadata": {},
   "outputs": [
    {
     "data": {
      "text/plain": [
       "dict_keys(['algorithm', 'leaf_size', 'metric', 'metric_params', 'n_jobs', 'n_neighbors', 'p', 'weights'])"
      ]
     },
     "execution_count": 24,
     "metadata": {},
     "output_type": "execute_result"
    }
   ],
   "source": [
    "KNeighborsClassifier().get_params().keys() #veo que parametros puedo definir del modelo"
   ]
  },
  {
   "cell_type": "code",
   "execution_count": 25,
   "id": "dc01cf10",
   "metadata": {},
   "outputs": [],
   "source": [
    "params_knc = {'knn__n_neighbors':range(0, 4, 1),'knn__weights':['uniform','distance']}"
   ]
  },
  {
   "cell_type": "markdown",
   "id": "64d33f6d",
   "metadata": {},
   "source": [
    "#### Se instancia el metodo GridSearch con el pipeline, la grilla definida, método cross validation"
   ]
  },
  {
   "cell_type": "code",
   "execution_count": 26,
   "id": "da6f9cc6",
   "metadata": {},
   "outputs": [],
   "source": [
    "grid_knc = GridSearchCV(pipe_knc, params_knc, cv=folds_knc)"
   ]
  },
  {
   "cell_type": "markdown",
   "id": "7898a74b",
   "metadata": {},
   "source": [
    "#### Entreno el Pipeline para Clearsky DHI, Clearsky DNI y Clearsky GHI"
   ]
  },
  {
   "cell_type": "code",
   "execution_count": 27,
   "id": "6055cb5a",
   "metadata": {},
   "outputs": [
    {
     "name": "stderr",
     "output_type": "stream",
     "text": [
      "C:\\Users\\Agustin_Garcia\\Anaconda3\\envs\\dhdsblend2021_geopandas\\lib\\site-packages\\sklearn\\model_selection\\_split.py:680: UserWarning: The least populated class in y has only 1 members, which is less than n_splits=5.\n",
      "  UserWarning,\n",
      "C:\\Users\\Agustin_Garcia\\Anaconda3\\envs\\dhdsblend2021_geopandas\\lib\\site-packages\\sklearn\\model_selection\\_validation.py:372: FitFailedWarning: \n",
      "10 fits failed out of a total of 40.\n",
      "The score on these train-test partitions for these parameters will be set to nan.\n",
      "If these failures are not expected, you can try to debug them by setting error_score='raise'.\n",
      "\n",
      "Below are more details about the failures:\n",
      "--------------------------------------------------------------------------------\n",
      "10 fits failed with the following error:\n",
      "Traceback (most recent call last):\n",
      "  File \"C:\\Users\\Agustin_Garcia\\Anaconda3\\envs\\dhdsblend2021_geopandas\\lib\\site-packages\\sklearn\\model_selection\\_validation.py\", line 680, in _fit_and_score\n",
      "    estimator.fit(X_train, y_train, **fit_params)\n",
      "  File \"C:\\Users\\Agustin_Garcia\\Anaconda3\\envs\\dhdsblend2021_geopandas\\lib\\site-packages\\sklearn\\pipeline.py\", line 394, in fit\n",
      "    self._final_estimator.fit(Xt, y, **fit_params_last_step)\n",
      "  File \"C:\\Users\\Agustin_Garcia\\Anaconda3\\envs\\dhdsblend2021_geopandas\\lib\\site-packages\\sklearn\\neighbors\\_classification.py\", line 198, in fit\n",
      "    return self._fit(X, y)\n",
      "  File \"C:\\Users\\Agustin_Garcia\\Anaconda3\\envs\\dhdsblend2021_geopandas\\lib\\site-packages\\sklearn\\neighbors\\_base.py\", line 569, in _fit\n",
      "    raise ValueError(\"Expected n_neighbors > 0. Got %d\" % self.n_neighbors)\n",
      "ValueError: Expected n_neighbors > 0. Got 0\n",
      "\n",
      "  warnings.warn(some_fits_failed_message, FitFailedWarning)\n",
      "C:\\Users\\Agustin_Garcia\\Anaconda3\\envs\\dhdsblend2021_geopandas\\lib\\site-packages\\sklearn\\model_selection\\_search.py:972: UserWarning: One or more of the test scores are non-finite: [       nan        nan 0.49368822 0.49368822 0.50382619 0.49368822\n",
      " 0.50515456 0.50085163]\n",
      "  category=UserWarning,\n"
     ]
    }
   ],
   "source": [
    "dhi_knc = grid_knc.fit(X_train, y_train['Clearsky DHI'])"
   ]
  },
  {
   "cell_type": "code",
   "execution_count": 28,
   "id": "b02e9651",
   "metadata": {},
   "outputs": [
    {
     "data": {
      "text/plain": [
       "Pipeline(steps=[('scaler', StandardScaler()),\n",
       "                ('knn', KNeighborsClassifier(n_neighbors=3))])"
      ]
     },
     "execution_count": 28,
     "metadata": {},
     "output_type": "execute_result"
    }
   ],
   "source": [
    "dhi_knc.best_estimator_"
   ]
  },
  {
   "cell_type": "code",
   "execution_count": 29,
   "id": "a17a7727",
   "metadata": {},
   "outputs": [
    {
     "data": {
      "text/plain": [
       "{'memory': None,\n",
       " 'steps': [('scaler', StandardScaler()),\n",
       "  ('knn', KNeighborsClassifier(n_neighbors=3))],\n",
       " 'verbose': False,\n",
       " 'scaler': StandardScaler(),\n",
       " 'knn': KNeighborsClassifier(n_neighbors=3),\n",
       " 'scaler__copy': True,\n",
       " 'scaler__with_mean': True,\n",
       " 'scaler__with_std': True,\n",
       " 'knn__algorithm': 'auto',\n",
       " 'knn__leaf_size': 30,\n",
       " 'knn__metric': 'minkowski',\n",
       " 'knn__metric_params': None,\n",
       " 'knn__n_jobs': None,\n",
       " 'knn__n_neighbors': 3,\n",
       " 'knn__p': 2,\n",
       " 'knn__weights': 'uniform'}"
      ]
     },
     "execution_count": 29,
     "metadata": {},
     "output_type": "execute_result"
    }
   ],
   "source": [
    "dhi_knc.best_estimator_.get_params()"
   ]
  },
  {
   "cell_type": "code",
   "execution_count": 30,
   "id": "9e8aa6be",
   "metadata": {},
   "outputs": [
    {
     "data": {
      "text/plain": [
       "0.5051545551619063"
      ]
     },
     "execution_count": 30,
     "metadata": {},
     "output_type": "execute_result"
    }
   ],
   "source": [
    "dhi_knc.best_score_"
   ]
  },
  {
   "cell_type": "code",
   "execution_count": 31,
   "id": "eb8db399",
   "metadata": {},
   "outputs": [
    {
     "data": {
      "text/plain": [
       "{'knn__n_neighbors': 3, 'knn__weights': 'uniform'}"
      ]
     },
     "execution_count": 31,
     "metadata": {},
     "output_type": "execute_result"
    }
   ],
   "source": [
    "dhi_knc.best_params_"
   ]
  },
  {
   "cell_type": "code",
   "execution_count": 32,
   "id": "9a9f72a3",
   "metadata": {},
   "outputs": [],
   "source": [
    "# Verificar que el valor 2 es el mejor:\n",
    "#acc = dhi_knc.cv_results_[\"mean_test_score\"]\n",
    "#k_acc = pd.DataFrame({\"k_values\" : range(2,4,6), \"Accuracy\" : acc})\n",
    "#k_acc = k_acc.set_index(\"k_values\").transpose()\n",
    "#round(k_acc, 2)"
   ]
  },
  {
   "cell_type": "code",
   "execution_count": 33,
   "id": "efc21b90",
   "metadata": {},
   "outputs": [
    {
     "name": "stderr",
     "output_type": "stream",
     "text": [
      "C:\\Users\\Agustin_Garcia\\Anaconda3\\envs\\dhdsblend2021_geopandas\\lib\\site-packages\\sklearn\\model_selection\\_split.py:680: UserWarning: The least populated class in y has only 1 members, which is less than n_splits=5.\n",
      "  UserWarning,\n",
      "C:\\Users\\Agustin_Garcia\\Anaconda3\\envs\\dhdsblend2021_geopandas\\lib\\site-packages\\sklearn\\model_selection\\_validation.py:372: FitFailedWarning: \n",
      "10 fits failed out of a total of 40.\n",
      "The score on these train-test partitions for these parameters will be set to nan.\n",
      "If these failures are not expected, you can try to debug them by setting error_score='raise'.\n",
      "\n",
      "Below are more details about the failures:\n",
      "--------------------------------------------------------------------------------\n",
      "10 fits failed with the following error:\n",
      "Traceback (most recent call last):\n",
      "  File \"C:\\Users\\Agustin_Garcia\\Anaconda3\\envs\\dhdsblend2021_geopandas\\lib\\site-packages\\sklearn\\model_selection\\_validation.py\", line 680, in _fit_and_score\n",
      "    estimator.fit(X_train, y_train, **fit_params)\n",
      "  File \"C:\\Users\\Agustin_Garcia\\Anaconda3\\envs\\dhdsblend2021_geopandas\\lib\\site-packages\\sklearn\\pipeline.py\", line 394, in fit\n",
      "    self._final_estimator.fit(Xt, y, **fit_params_last_step)\n",
      "  File \"C:\\Users\\Agustin_Garcia\\Anaconda3\\envs\\dhdsblend2021_geopandas\\lib\\site-packages\\sklearn\\neighbors\\_classification.py\", line 198, in fit\n",
      "    return self._fit(X, y)\n",
      "  File \"C:\\Users\\Agustin_Garcia\\Anaconda3\\envs\\dhdsblend2021_geopandas\\lib\\site-packages\\sklearn\\neighbors\\_base.py\", line 569, in _fit\n",
      "    raise ValueError(\"Expected n_neighbors > 0. Got %d\" % self.n_neighbors)\n",
      "ValueError: Expected n_neighbors > 0. Got 0\n",
      "\n",
      "  warnings.warn(some_fits_failed_message, FitFailedWarning)\n",
      "C:\\Users\\Agustin_Garcia\\Anaconda3\\envs\\dhdsblend2021_geopandas\\lib\\site-packages\\sklearn\\model_selection\\_search.py:972: UserWarning: One or more of the test scores are non-finite: [       nan        nan 0.48379474 0.48379474 0.49590488 0.48379474\n",
      " 0.49905873 0.49132486]\n",
      "  category=UserWarning,\n"
     ]
    }
   ],
   "source": [
    "dni_knc = grid_knc.fit(X_train, y_train['Clearsky DNI'])"
   ]
  },
  {
   "cell_type": "code",
   "execution_count": 34,
   "id": "823c5419",
   "metadata": {},
   "outputs": [
    {
     "data": {
      "text/plain": [
       "{'memory': None,\n",
       " 'steps': [('scaler', StandardScaler()),\n",
       "  ('knn', KNeighborsClassifier(n_neighbors=3))],\n",
       " 'verbose': False,\n",
       " 'scaler': StandardScaler(),\n",
       " 'knn': KNeighborsClassifier(n_neighbors=3),\n",
       " 'scaler__copy': True,\n",
       " 'scaler__with_mean': True,\n",
       " 'scaler__with_std': True,\n",
       " 'knn__algorithm': 'auto',\n",
       " 'knn__leaf_size': 30,\n",
       " 'knn__metric': 'minkowski',\n",
       " 'knn__metric_params': None,\n",
       " 'knn__n_jobs': None,\n",
       " 'knn__n_neighbors': 3,\n",
       " 'knn__p': 2,\n",
       " 'knn__weights': 'uniform'}"
      ]
     },
     "execution_count": 34,
     "metadata": {},
     "output_type": "execute_result"
    }
   ],
   "source": [
    "dni_knc.best_estimator_.get_params()"
   ]
  },
  {
   "cell_type": "code",
   "execution_count": 35,
   "id": "e846d520",
   "metadata": {},
   "outputs": [
    {
     "data": {
      "text/plain": [
       "Pipeline(steps=[('scaler', StandardScaler()),\n",
       "                ('knn', KNeighborsClassifier(n_neighbors=3))])"
      ]
     },
     "execution_count": 35,
     "metadata": {},
     "output_type": "execute_result"
    }
   ],
   "source": [
    "dni_knc.best_estimator_"
   ]
  },
  {
   "cell_type": "code",
   "execution_count": 36,
   "id": "ae36faec",
   "metadata": {},
   "outputs": [
    {
     "data": {
      "text/plain": [
       "0.49905873466707773"
      ]
     },
     "execution_count": 36,
     "metadata": {},
     "output_type": "execute_result"
    }
   ],
   "source": [
    "dni_knc.best_score_"
   ]
  },
  {
   "cell_type": "code",
   "execution_count": 37,
   "id": "4b876b41",
   "metadata": {},
   "outputs": [
    {
     "data": {
      "text/plain": [
       "{'knn__n_neighbors': 3, 'knn__weights': 'uniform'}"
      ]
     },
     "execution_count": 37,
     "metadata": {},
     "output_type": "execute_result"
    }
   ],
   "source": [
    "dni_knc.best_params_"
   ]
  },
  {
   "cell_type": "code",
   "execution_count": 38,
   "id": "a0489067",
   "metadata": {},
   "outputs": [
    {
     "name": "stderr",
     "output_type": "stream",
     "text": [
      "C:\\Users\\Agustin_Garcia\\Anaconda3\\envs\\dhdsblend2021_geopandas\\lib\\site-packages\\sklearn\\model_selection\\_split.py:680: UserWarning: The least populated class in y has only 1 members, which is less than n_splits=5.\n",
      "  UserWarning,\n",
      "C:\\Users\\Agustin_Garcia\\Anaconda3\\envs\\dhdsblend2021_geopandas\\lib\\site-packages\\sklearn\\model_selection\\_validation.py:372: FitFailedWarning: \n",
      "10 fits failed out of a total of 40.\n",
      "The score on these train-test partitions for these parameters will be set to nan.\n",
      "If these failures are not expected, you can try to debug them by setting error_score='raise'.\n",
      "\n",
      "Below are more details about the failures:\n",
      "--------------------------------------------------------------------------------\n",
      "10 fits failed with the following error:\n",
      "Traceback (most recent call last):\n",
      "  File \"C:\\Users\\Agustin_Garcia\\Anaconda3\\envs\\dhdsblend2021_geopandas\\lib\\site-packages\\sklearn\\model_selection\\_validation.py\", line 680, in _fit_and_score\n",
      "    estimator.fit(X_train, y_train, **fit_params)\n",
      "  File \"C:\\Users\\Agustin_Garcia\\Anaconda3\\envs\\dhdsblend2021_geopandas\\lib\\site-packages\\sklearn\\pipeline.py\", line 394, in fit\n",
      "    self._final_estimator.fit(Xt, y, **fit_params_last_step)\n",
      "  File \"C:\\Users\\Agustin_Garcia\\Anaconda3\\envs\\dhdsblend2021_geopandas\\lib\\site-packages\\sklearn\\neighbors\\_classification.py\", line 198, in fit\n",
      "    return self._fit(X, y)\n",
      "  File \"C:\\Users\\Agustin_Garcia\\Anaconda3\\envs\\dhdsblend2021_geopandas\\lib\\site-packages\\sklearn\\neighbors\\_base.py\", line 569, in _fit\n",
      "    raise ValueError(\"Expected n_neighbors > 0. Got %d\" % self.n_neighbors)\n",
      "ValueError: Expected n_neighbors > 0. Got 0\n",
      "\n",
      "  warnings.warn(some_fits_failed_message, FitFailedWarning)\n",
      "C:\\Users\\Agustin_Garcia\\Anaconda3\\envs\\dhdsblend2021_geopandas\\lib\\site-packages\\sklearn\\model_selection\\_search.py:972: UserWarning: One or more of the test scores are non-finite: [       nan        nan 0.48566911 0.48566911 0.49815414 0.48566911\n",
      " 0.50058269 0.49335409]\n",
      "  category=UserWarning,\n"
     ]
    }
   ],
   "source": [
    "ghi_knc = grid_knc.fit(X_train, y_train['Clearsky GHI'])"
   ]
  },
  {
   "cell_type": "code",
   "execution_count": 39,
   "id": "401e78a5",
   "metadata": {},
   "outputs": [
    {
     "data": {
      "text/plain": [
       "{'memory': None,\n",
       " 'steps': [('scaler', StandardScaler()),\n",
       "  ('knn', KNeighborsClassifier(n_neighbors=3))],\n",
       " 'verbose': False,\n",
       " 'scaler': StandardScaler(),\n",
       " 'knn': KNeighborsClassifier(n_neighbors=3),\n",
       " 'scaler__copy': True,\n",
       " 'scaler__with_mean': True,\n",
       " 'scaler__with_std': True,\n",
       " 'knn__algorithm': 'auto',\n",
       " 'knn__leaf_size': 30,\n",
       " 'knn__metric': 'minkowski',\n",
       " 'knn__metric_params': None,\n",
       " 'knn__n_jobs': None,\n",
       " 'knn__n_neighbors': 3,\n",
       " 'knn__p': 2,\n",
       " 'knn__weights': 'uniform'}"
      ]
     },
     "execution_count": 39,
     "metadata": {},
     "output_type": "execute_result"
    }
   ],
   "source": [
    "ghi_knc.best_estimator_.get_params()"
   ]
  },
  {
   "cell_type": "code",
   "execution_count": 40,
   "id": "2a1ed4d3",
   "metadata": {},
   "outputs": [
    {
     "data": {
      "text/plain": [
       "Pipeline(steps=[('scaler', StandardScaler()),\n",
       "                ('knn', KNeighborsClassifier(n_neighbors=3))])"
      ]
     },
     "execution_count": 40,
     "metadata": {},
     "output_type": "execute_result"
    }
   ],
   "source": [
    "ghi_knc.best_estimator_"
   ]
  },
  {
   "cell_type": "code",
   "execution_count": 41,
   "id": "2abb42d3",
   "metadata": {},
   "outputs": [
    {
     "data": {
      "text/plain": [
       "0.5005826897077678"
      ]
     },
     "execution_count": 41,
     "metadata": {},
     "output_type": "execute_result"
    }
   ],
   "source": [
    "ghi_knc.best_score_"
   ]
  },
  {
   "cell_type": "code",
   "execution_count": 42,
   "id": "bd9214e8",
   "metadata": {},
   "outputs": [
    {
     "data": {
      "text/plain": [
       "{'knn__n_neighbors': 3, 'knn__weights': 'uniform'}"
      ]
     },
     "execution_count": 42,
     "metadata": {},
     "output_type": "execute_result"
    }
   ],
   "source": [
    "ghi_knc.best_params_"
   ]
  },
  {
   "cell_type": "markdown",
   "id": "d5822f11",
   "metadata": {},
   "source": [
    "<a id=\"features_imp_rfr\"></a> \n",
    "### 5.2. Features Importance StandardScaler()+ KNeighborsClassifier()+ GridSearch"
   ]
  },
  {
   "cell_type": "code",
   "execution_count": 43,
   "id": "2f86e44b",
   "metadata": {},
   "outputs": [
    {
     "ename": "TypeError",
     "evalue": "'<' not supported between instances of 'KNeighborsClassifier' and 'KNeighborsClassifier'",
     "output_type": "error",
     "traceback": [
      "\u001b[1;31m---------------------------------------------------------------------------\u001b[0m",
      "\u001b[1;31mTypeError\u001b[0m                                 Traceback (most recent call last)",
      "\u001b[1;32m~\\AppData\\Local\\Temp\\ipykernel_5480\\1138305678.py\u001b[0m in \u001b[0;36m<module>\u001b[1;34m\u001b[0m\n\u001b[0;32m      1\u001b[0m \u001b[0mdhi_features_knc\u001b[0m \u001b[1;33m=\u001b[0m \u001b[0mpd\u001b[0m\u001b[1;33m.\u001b[0m\u001b[0mDataFrame\u001b[0m\u001b[1;33m(\u001b[0m\u001b[1;33m{\u001b[0m\u001b[1;34m'atributo'\u001b[0m\u001b[1;33m:\u001b[0m\u001b[0mX_train\u001b[0m\u001b[1;33m.\u001b[0m\u001b[0mcolumns\u001b[0m\u001b[1;33m,\u001b[0m \u001b[1;34m'importancia'\u001b[0m\u001b[1;33m:\u001b[0m \u001b[0mdhi_knc\u001b[0m\u001b[1;33m.\u001b[0m\u001b[0mbest_estimator_\u001b[0m\u001b[1;33m.\u001b[0m\u001b[0msteps\u001b[0m\u001b[1;33m[\u001b[0m\u001b[1;36m1\u001b[0m\u001b[1;33m]\u001b[0m\u001b[1;33m[\u001b[0m\u001b[1;36m1\u001b[0m\u001b[1;33m]\u001b[0m\u001b[1;33m}\u001b[0m\u001b[1;33m)\u001b[0m\u001b[1;33m\u001b[0m\u001b[1;33m\u001b[0m\u001b[0m\n\u001b[1;32m----> 2\u001b[1;33m \u001b[0mdhi_features_knc\u001b[0m\u001b[1;33m.\u001b[0m\u001b[0msort_values\u001b[0m\u001b[1;33m(\u001b[0m\u001b[1;34m'importancia'\u001b[0m\u001b[1;33m,\u001b[0m \u001b[0mascending\u001b[0m \u001b[1;33m=\u001b[0m \u001b[1;32mFalse\u001b[0m\u001b[1;33m)\u001b[0m\u001b[1;33m.\u001b[0m\u001b[0miloc\u001b[0m\u001b[1;33m[\u001b[0m\u001b[1;36m0\u001b[0m\u001b[1;33m:\u001b[0m\u001b[1;36m5\u001b[0m\u001b[1;33m,\u001b[0m \u001b[1;33m:\u001b[0m\u001b[1;33m]\u001b[0m\u001b[1;33m\u001b[0m\u001b[1;33m\u001b[0m\u001b[0m\n\u001b[0m",
      "\u001b[1;32m~\\Anaconda3\\envs\\dhdsblend2021_geopandas\\lib\\site-packages\\pandas\\util\\_decorators.py\u001b[0m in \u001b[0;36mwrapper\u001b[1;34m(*args, **kwargs)\u001b[0m\n\u001b[0;32m    309\u001b[0m                     \u001b[0mstacklevel\u001b[0m\u001b[1;33m=\u001b[0m\u001b[0mstacklevel\u001b[0m\u001b[1;33m,\u001b[0m\u001b[1;33m\u001b[0m\u001b[1;33m\u001b[0m\u001b[0m\n\u001b[0;32m    310\u001b[0m                 )\n\u001b[1;32m--> 311\u001b[1;33m             \u001b[1;32mreturn\u001b[0m \u001b[0mfunc\u001b[0m\u001b[1;33m(\u001b[0m\u001b[1;33m*\u001b[0m\u001b[0margs\u001b[0m\u001b[1;33m,\u001b[0m \u001b[1;33m**\u001b[0m\u001b[0mkwargs\u001b[0m\u001b[1;33m)\u001b[0m\u001b[1;33m\u001b[0m\u001b[1;33m\u001b[0m\u001b[0m\n\u001b[0m\u001b[0;32m    312\u001b[0m \u001b[1;33m\u001b[0m\u001b[0m\n\u001b[0;32m    313\u001b[0m         \u001b[1;32mreturn\u001b[0m \u001b[0mwrapper\u001b[0m\u001b[1;33m\u001b[0m\u001b[1;33m\u001b[0m\u001b[0m\n",
      "\u001b[1;32m~\\Anaconda3\\envs\\dhdsblend2021_geopandas\\lib\\site-packages\\pandas\\core\\frame.py\u001b[0m in \u001b[0;36msort_values\u001b[1;34m(self, by, axis, ascending, inplace, kind, na_position, ignore_index, key)\u001b[0m\n\u001b[0;32m   6269\u001b[0m \u001b[1;33m\u001b[0m\u001b[0m\n\u001b[0;32m   6270\u001b[0m             indexer = nargsort(\n\u001b[1;32m-> 6271\u001b[1;33m                 \u001b[0mk\u001b[0m\u001b[1;33m,\u001b[0m \u001b[0mkind\u001b[0m\u001b[1;33m=\u001b[0m\u001b[0mkind\u001b[0m\u001b[1;33m,\u001b[0m \u001b[0mascending\u001b[0m\u001b[1;33m=\u001b[0m\u001b[0mascending\u001b[0m\u001b[1;33m,\u001b[0m \u001b[0mna_position\u001b[0m\u001b[1;33m=\u001b[0m\u001b[0mna_position\u001b[0m\u001b[1;33m,\u001b[0m \u001b[0mkey\u001b[0m\u001b[1;33m=\u001b[0m\u001b[0mkey\u001b[0m\u001b[1;33m\u001b[0m\u001b[1;33m\u001b[0m\u001b[0m\n\u001b[0m\u001b[0;32m   6272\u001b[0m             )\n\u001b[0;32m   6273\u001b[0m         \u001b[1;32melse\u001b[0m\u001b[1;33m:\u001b[0m\u001b[1;33m\u001b[0m\u001b[1;33m\u001b[0m\u001b[0m\n",
      "\u001b[1;32m~\\Anaconda3\\envs\\dhdsblend2021_geopandas\\lib\\site-packages\\pandas\\core\\sorting.py\u001b[0m in \u001b[0;36mnargsort\u001b[1;34m(items, kind, ascending, na_position, key, mask)\u001b[0m\n\u001b[0;32m    401\u001b[0m         \u001b[0mnon_nans\u001b[0m \u001b[1;33m=\u001b[0m \u001b[0mnon_nans\u001b[0m\u001b[1;33m[\u001b[0m\u001b[1;33m:\u001b[0m\u001b[1;33m:\u001b[0m\u001b[1;33m-\u001b[0m\u001b[1;36m1\u001b[0m\u001b[1;33m]\u001b[0m\u001b[1;33m\u001b[0m\u001b[1;33m\u001b[0m\u001b[0m\n\u001b[0;32m    402\u001b[0m         \u001b[0mnon_nan_idx\u001b[0m \u001b[1;33m=\u001b[0m \u001b[0mnon_nan_idx\u001b[0m\u001b[1;33m[\u001b[0m\u001b[1;33m:\u001b[0m\u001b[1;33m:\u001b[0m\u001b[1;33m-\u001b[0m\u001b[1;36m1\u001b[0m\u001b[1;33m]\u001b[0m\u001b[1;33m\u001b[0m\u001b[1;33m\u001b[0m\u001b[0m\n\u001b[1;32m--> 403\u001b[1;33m     \u001b[0mindexer\u001b[0m \u001b[1;33m=\u001b[0m \u001b[0mnon_nan_idx\u001b[0m\u001b[1;33m[\u001b[0m\u001b[0mnon_nans\u001b[0m\u001b[1;33m.\u001b[0m\u001b[0margsort\u001b[0m\u001b[1;33m(\u001b[0m\u001b[0mkind\u001b[0m\u001b[1;33m=\u001b[0m\u001b[0mkind\u001b[0m\u001b[1;33m)\u001b[0m\u001b[1;33m]\u001b[0m\u001b[1;33m\u001b[0m\u001b[1;33m\u001b[0m\u001b[0m\n\u001b[0m\u001b[0;32m    404\u001b[0m     \u001b[1;32mif\u001b[0m \u001b[1;32mnot\u001b[0m \u001b[0mascending\u001b[0m\u001b[1;33m:\u001b[0m\u001b[1;33m\u001b[0m\u001b[1;33m\u001b[0m\u001b[0m\n\u001b[0;32m    405\u001b[0m         \u001b[0mindexer\u001b[0m \u001b[1;33m=\u001b[0m \u001b[0mindexer\u001b[0m\u001b[1;33m[\u001b[0m\u001b[1;33m:\u001b[0m\u001b[1;33m:\u001b[0m\u001b[1;33m-\u001b[0m\u001b[1;36m1\u001b[0m\u001b[1;33m]\u001b[0m\u001b[1;33m\u001b[0m\u001b[1;33m\u001b[0m\u001b[0m\n",
      "\u001b[1;31mTypeError\u001b[0m: '<' not supported between instances of 'KNeighborsClassifier' and 'KNeighborsClassifier'"
     ]
    }
   ],
   "source": [
    "dhi_features_knc = pd.DataFrame({'atributo':X_train.columns, 'importancia': dhi_knc.best_estimator_.steps[1][1]})\n",
    "dhi_features_knc.sort_values('importancia', ascending = False).iloc[0:5, :]"
   ]
  },
  {
   "cell_type": "code",
   "execution_count": null,
   "id": "c6d12129",
   "metadata": {},
   "outputs": [],
   "source": [
    "dni_features_knc = pd.DataFrame({'atributo':X_train.columns, 'importancia': dni_knc.best_estimator_.steps[1][1].feature_importances_})\n",
    "dni_features_knc.sort_values('importancia', ascending = False).iloc[0:5, :]"
   ]
  },
  {
   "cell_type": "code",
   "execution_count": null,
   "id": "57b85531",
   "metadata": {},
   "outputs": [],
   "source": [
    "ghi_features_knc = pd.DataFrame({'atributo':X_train.columns, 'importancia': ghi_knc.best_estimator_.steps[1][1].feature_importances_})\n",
    "ghi_features_knc.sort_values('importancia', ascending = False).iloc[0:5, :]"
   ]
  },
  {
   "cell_type": "markdown",
   "id": "0e2e9588",
   "metadata": {},
   "source": [
    "#### 5.5. Entrenamiento con parámetros de mejor performance [DataSet Completo]"
   ]
  },
  {
   "cell_type": "code",
   "execution_count": 44,
   "id": "9ca82462",
   "metadata": {},
   "outputs": [],
   "source": [
    "X = data.drop(['Clearsky DHI', 'Clearsky DNI',\n",
    "       'Clearsky GHI'], axis=1)\n",
    "y = data[['Clearsky DHI', 'Clearsky DNI',\n",
    "       'Clearsky GHI']]\n",
    "\n",
    "X_train, X_test, y_train, y_test = train_test_split(X, y, random_state=12,  test_size=0.3)"
   ]
  },
  {
   "cell_type": "code",
   "execution_count": 45,
   "id": "0371f89b",
   "metadata": {},
   "outputs": [
    {
     "name": "stdout",
     "output_type": "stream",
     "text": [
      "X_train: (122707, 26)\n",
      "y_train: (122707, 3)\n",
      "X_test: (52589, 26)\n",
      "y_test: (52589, 3)\n"
     ]
    }
   ],
   "source": [
    "print(f'X_train: {X_train.shape}')\n",
    "print(f'y_train: {y_train.shape}')\n",
    "print(f'X_test: {X_test.shape}')\n",
    "print(f'y_test: {y_test.shape}')"
   ]
  },
  {
   "cell_type": "markdown",
   "id": "67cbce8b",
   "metadata": {},
   "source": [
    "#### StandardScaler()+ KNeighborsClassifier()+ GridSearch"
   ]
  },
  {
   "cell_type": "code",
   "execution_count": 46,
   "id": "bc3ba062",
   "metadata": {},
   "outputs": [],
   "source": [
    "dhi_steps_knc = [('scaler', StandardScaler()),\n",
    "             ('knn', KNeighborsClassifier())]"
   ]
  },
  {
   "cell_type": "code",
   "execution_count": 47,
   "id": "3b256b83",
   "metadata": {},
   "outputs": [],
   "source": [
    "dhi_pipe_knc = Pipeline(dhi_steps_knc)"
   ]
  },
  {
   "cell_type": "code",
   "execution_count": 48,
   "id": "625ce201",
   "metadata": {},
   "outputs": [
    {
     "data": {
      "text/plain": [
       "Pipeline(steps=[('scaler', StandardScaler()),\n",
       "                ('knn', KNeighborsClassifier(n_neighbors=3))])"
      ]
     },
     "execution_count": 48,
     "metadata": {},
     "output_type": "execute_result"
    }
   ],
   "source": [
    "dhi_pipe_knc.set_params(knn__algorithm = \"auto\",\n",
    "                        knn__leaf_size = 30,\n",
    "                        knn__metric = \"minkowski\",\n",
    "                        knn__metric_params = None,\n",
    "                        knn__n_jobs = None,\n",
    "                        knn__n_neighbors = 3,\n",
    "                        knn__p = 2,\n",
    "                        knn__weights = \"uniform\")"
   ]
  },
  {
   "cell_type": "code",
   "execution_count": 49,
   "id": "40692d6f",
   "metadata": {},
   "outputs": [],
   "source": [
    "dhi_complet_knc = dhi_pipe_knc.fit(X_train, y_train['Clearsky DHI'])"
   ]
  },
  {
   "cell_type": "code",
   "execution_count": 50,
   "id": "234b1e03",
   "metadata": {},
   "outputs": [
    {
     "data": {
      "text/plain": [
       "0.5063035996120862"
      ]
     },
     "execution_count": 50,
     "metadata": {},
     "output_type": "execute_result"
    }
   ],
   "source": [
    "dhi_complet_knc.score(X_test, y_test['Clearsky DHI'])"
   ]
  },
  {
   "cell_type": "code",
   "execution_count": 51,
   "id": "f18b7fec",
   "metadata": {},
   "outputs": [],
   "source": [
    "dni_steps_knc = [('scaler', StandardScaler()),\n",
    "             ('knn', KNeighborsClassifier())]"
   ]
  },
  {
   "cell_type": "code",
   "execution_count": 52,
   "id": "d3b02dcd",
   "metadata": {},
   "outputs": [],
   "source": [
    "dni_pipe_knc = Pipeline(dni_steps_knc)"
   ]
  },
  {
   "cell_type": "code",
   "execution_count": 53,
   "id": "91aadfca",
   "metadata": {},
   "outputs": [
    {
     "data": {
      "text/plain": [
       "Pipeline(steps=[('scaler', StandardScaler()),\n",
       "                ('knn', KNeighborsClassifier(n_neighbors=3))])"
      ]
     },
     "execution_count": 53,
     "metadata": {},
     "output_type": "execute_result"
    }
   ],
   "source": [
    "dni_pipe_knc.set_params(knn__algorithm = \"auto\",\n",
    "                        knn__leaf_size = 30,\n",
    "                        knn__metric = \"minkowski\",\n",
    "                        knn__metric_params = None,\n",
    "                        knn__n_jobs = None,\n",
    "                        knn__n_neighbors = 3,\n",
    "                        knn__p = 2,\n",
    "                        knn__weights = \"uniform\")"
   ]
  },
  {
   "cell_type": "code",
   "execution_count": 54,
   "id": "e996e276",
   "metadata": {},
   "outputs": [],
   "source": [
    "dni_complet_knc = dni_pipe_knc.fit(X_train, y_train['Clearsky DNI'])"
   ]
  },
  {
   "cell_type": "code",
   "execution_count": 55,
   "id": "15a3df71",
   "metadata": {},
   "outputs": [
    {
     "data": {
      "text/plain": [
       "0.5017208922017913"
      ]
     },
     "execution_count": 55,
     "metadata": {},
     "output_type": "execute_result"
    }
   ],
   "source": [
    "dni_complet_knc.score(X_test, y_test['Clearsky DNI'])"
   ]
  },
  {
   "cell_type": "code",
   "execution_count": 56,
   "id": "11dc226e",
   "metadata": {},
   "outputs": [],
   "source": [
    "ghi_steps_knc = [('scaler', StandardScaler()),\n",
    "             ('knn', KNeighborsClassifier())]"
   ]
  },
  {
   "cell_type": "code",
   "execution_count": 57,
   "id": "649f211b",
   "metadata": {},
   "outputs": [],
   "source": [
    "ghi_pipe_knc = Pipeline(ghi_steps_knc)"
   ]
  },
  {
   "cell_type": "code",
   "execution_count": 58,
   "id": "6b2dd835",
   "metadata": {},
   "outputs": [
    {
     "data": {
      "text/plain": [
       "Pipeline(steps=[('scaler', StandardScaler()),\n",
       "                ('knn', KNeighborsClassifier(n_neighbors=3))])"
      ]
     },
     "execution_count": 58,
     "metadata": {},
     "output_type": "execute_result"
    }
   ],
   "source": [
    "ghi_pipe_knc.set_params(knn__algorithm = \"auto\",\n",
    "                        knn__leaf_size = 30,\n",
    "                        knn__metric = \"minkowski\",\n",
    "                        knn__metric_params = None,\n",
    "                        knn__n_jobs = None,\n",
    "                        knn__n_neighbors = 3,\n",
    "                        knn__p = 2,\n",
    "                        knn__weights = \"uniform\")"
   ]
  },
  {
   "cell_type": "code",
   "execution_count": 59,
   "id": "52004bce",
   "metadata": {},
   "outputs": [],
   "source": [
    "ghi_complet_knc = ghi_pipe_knc.fit(X_train, y_train['Clearsky GHI'])"
   ]
  },
  {
   "cell_type": "code",
   "execution_count": 60,
   "id": "4b576081",
   "metadata": {},
   "outputs": [
    {
     "data": {
      "text/plain": [
       "0.503070984426401"
      ]
     },
     "execution_count": 60,
     "metadata": {},
     "output_type": "execute_result"
    }
   ],
   "source": [
    "ghi_complet_knc.score(X_test, y_test['Clearsky GHI'])"
   ]
  },
  {
   "cell_type": "markdown",
   "id": "101b7801",
   "metadata": {},
   "source": [
    "#### 5.5. Resumen de métricas:"
   ]
  },
  {
   "cell_type": "markdown",
   "id": "9b09c1cb",
   "metadata": {},
   "source": [
    "#### StandardScaler()+ KNeighborsClassifier()+ GridSearch"
   ]
  },
  {
   "cell_type": "code",
   "execution_count": 61,
   "id": "5f13013a",
   "metadata": {},
   "outputs": [
    {
     "name": "stdout",
     "output_type": "stream",
     "text": [
      "Random Forest Regressor\n",
      "-------------------------------\n",
      "DHI score: 0.5063035996120862\n",
      "DNI score: 0.5017208922017913\n",
      "GHI score: 0.503070984426401\n"
     ]
    }
   ],
   "source": [
    "print('Random Forest Regressor')\n",
    "print('-------------------------------')\n",
    "print('DHI score:', dhi_complet_knc.score(X_test, y_test['Clearsky DHI']))\n",
    "print('DNI score:', dni_complet_knc.score(X_test, y_test['Clearsky DNI']))\n",
    "print('GHI score:', ghi_complet_knc.score(X_test, y_test['Clearsky GHI']))"
   ]
  },
  {
   "cell_type": "code",
   "execution_count": 62,
   "id": "26a7710c",
   "metadata": {},
   "outputs": [],
   "source": [
    "dhi_pred_knc = dhi_complet_knc.predict(X_test)"
   ]
  },
  {
   "cell_type": "code",
   "execution_count": 63,
   "id": "ba307dcf",
   "metadata": {},
   "outputs": [
    {
     "name": "stdout",
     "output_type": "stream",
     "text": [
      "              precision    recall  f1-score   support\n",
      "\n",
      "           0       0.91      0.99      0.95     26565\n",
      "           1       0.00      0.00      0.00         5\n",
      "           2       0.03      0.06      0.04        18\n",
      "           3       0.04      0.07      0.05        14\n",
      "           4       0.06      0.08      0.07        24\n",
      "           5       0.04      0.08      0.05        12\n",
      "           6       0.03      0.06      0.04        16\n",
      "           7       0.05      0.08      0.06        24\n",
      "           8       0.05      0.08      0.06        36\n",
      "           9       0.03      0.05      0.03        43\n",
      "          10       0.06      0.07      0.06        61\n",
      "          11       0.04      0.03      0.04        89\n",
      "          12       0.05      0.04      0.04        75\n",
      "          13       0.03      0.03      0.03        67\n",
      "          14       0.01      0.01      0.01        74\n",
      "          15       0.03      0.04      0.04        47\n",
      "          16       0.01      0.02      0.02        55\n",
      "          17       0.00      0.00      0.00        57\n",
      "          18       0.08      0.10      0.09        51\n",
      "          19       0.00      0.00      0.00        58\n",
      "          20       0.04      0.05      0.04        64\n",
      "          21       0.03      0.04      0.03        57\n",
      "          22       0.02      0.01      0.02        73\n",
      "          23       0.03      0.03      0.03        64\n",
      "          24       0.02      0.03      0.02        72\n",
      "          25       0.05      0.05      0.05        64\n",
      "          26       0.04      0.05      0.04        84\n",
      "          27       0.03      0.03      0.03        65\n",
      "          28       0.04      0.05      0.04        73\n",
      "          29       0.03      0.04      0.03        85\n",
      "          30       0.02      0.03      0.02        76\n",
      "          31       0.01      0.01      0.01        86\n",
      "          32       0.00      0.00      0.00        67\n",
      "          33       0.01      0.02      0.02        61\n",
      "          34       0.00      0.00      0.00        75\n",
      "          35       0.04      0.05      0.04        78\n",
      "          36       0.01      0.02      0.01        62\n",
      "          37       0.02      0.03      0.03        60\n",
      "          38       0.00      0.00      0.00        63\n",
      "          39       0.00      0.00      0.00        86\n",
      "          40       0.00      0.00      0.00        70\n",
      "          41       0.02      0.01      0.01        92\n",
      "          42       0.03      0.03      0.03        99\n",
      "          43       0.02      0.02      0.02        84\n",
      "          44       0.00      0.00      0.00        79\n",
      "          45       0.01      0.01      0.01        85\n",
      "          46       0.02      0.02      0.02       100\n",
      "          47       0.01      0.01      0.01       121\n",
      "          48       0.02      0.02      0.02        98\n",
      "          49       0.01      0.01      0.01       101\n",
      "          50       0.01      0.01      0.01        94\n",
      "          51       0.01      0.01      0.01       102\n",
      "          52       0.01      0.01      0.01       113\n",
      "          53       0.01      0.01      0.01       100\n",
      "          54       0.01      0.01      0.01       114\n",
      "          55       0.00      0.00      0.00        96\n",
      "          56       0.01      0.01      0.01       109\n",
      "          57       0.02      0.02      0.02       110\n",
      "          58       0.01      0.01      0.01       108\n",
      "          59       0.00      0.00      0.00       126\n",
      "          60       0.01      0.01      0.01       126\n",
      "          61       0.01      0.01      0.01       137\n",
      "          62       0.00      0.00      0.00       148\n",
      "          63       0.02      0.02      0.02       144\n",
      "          64       0.03      0.03      0.03       149\n",
      "          65       0.02      0.02      0.02       159\n",
      "          66       0.01      0.01      0.01       170\n",
      "          67       0.01      0.01      0.01       143\n",
      "          68       0.01      0.01      0.01       173\n",
      "          69       0.01      0.01      0.01       176\n",
      "          70       0.02      0.02      0.02       176\n",
      "          71       0.00      0.01      0.00       176\n",
      "          72       0.02      0.03      0.03       163\n",
      "          73       0.01      0.02      0.02       188\n",
      "          74       0.02      0.02      0.02       180\n",
      "          75       0.01      0.02      0.01       180\n",
      "          76       0.02      0.02      0.02       227\n",
      "          77       0.02      0.02      0.02       207\n",
      "          78       0.02      0.02      0.02       234\n",
      "          79       0.00      0.00      0.00       221\n",
      "          80       0.01      0.01      0.01       227\n",
      "          81       0.03      0.04      0.03       218\n",
      "          82       0.04      0.05      0.05       216\n",
      "          83       0.03      0.03      0.03       228\n",
      "          84       0.01      0.01      0.01       248\n",
      "          85       0.01      0.01      0.01       232\n",
      "          86       0.02      0.02      0.02       239\n",
      "          87       0.01      0.02      0.02       199\n",
      "          88       0.01      0.01      0.01       235\n",
      "          89       0.00      0.00      0.00       236\n",
      "          90       0.01      0.01      0.01       247\n",
      "          91       0.01      0.01      0.01       252\n",
      "          92       0.00      0.00      0.00       204\n",
      "          93       0.01      0.01      0.01       203\n",
      "          94       0.01      0.01      0.01       218\n",
      "          95       0.02      0.02      0.02       235\n",
      "          96       0.02      0.02      0.02       229\n",
      "          97       0.00      0.00      0.00       221\n",
      "          98       0.00      0.00      0.00       223\n",
      "          99       0.01      0.01      0.01       206\n",
      "         100       0.01      0.01      0.01       209\n",
      "         101       0.01      0.01      0.01       215\n",
      "         102       0.01      0.00      0.01       217\n",
      "         103       0.00      0.01      0.00       198\n",
      "         104       0.02      0.01      0.01       238\n",
      "         105       0.01      0.01      0.01       202\n",
      "         106       0.01      0.00      0.00       233\n",
      "         107       0.00      0.00      0.00       206\n",
      "         108       0.02      0.02      0.02       247\n",
      "         109       0.02      0.02      0.02       203\n",
      "         110       0.01      0.01      0.01       165\n",
      "         111       0.01      0.02      0.02       173\n",
      "         112       0.00      0.01      0.01       193\n",
      "         113       0.01      0.01      0.01       179\n",
      "         114       0.01      0.01      0.01       193\n",
      "         115       0.00      0.00      0.00       218\n",
      "         116       0.01      0.01      0.01       202\n",
      "         117       0.01      0.00      0.00       202\n",
      "         118       0.02      0.02      0.02       233\n",
      "         119       0.00      0.01      0.01       187\n",
      "         120       0.02      0.02      0.02       194\n",
      "         121       0.02      0.01      0.02       200\n",
      "         122       0.01      0.00      0.00       210\n",
      "         123       0.02      0.02      0.02       181\n",
      "         124       0.01      0.01      0.01       170\n",
      "         125       0.00      0.01      0.01       184\n",
      "         126       0.00      0.00      0.00       206\n",
      "         127       0.02      0.02      0.02       177\n",
      "         128       0.01      0.01      0.01       205\n",
      "         129       0.01      0.01      0.01       191\n",
      "         130       0.02      0.02      0.02       175\n",
      "         131       0.02      0.01      0.02       203\n",
      "         132       0.02      0.02      0.02       163\n",
      "         133       0.00      0.00      0.00       146\n",
      "         134       0.01      0.01      0.01       169\n",
      "         135       0.01      0.01      0.01       151\n",
      "         136       0.02      0.01      0.01       153\n",
      "         137       0.04      0.04      0.04       169\n",
      "         138       0.00      0.00      0.00       162\n",
      "         139       0.01      0.01      0.01       151\n",
      "         140       0.01      0.01      0.01       169\n",
      "         141       0.01      0.01      0.01       139\n",
      "         142       0.01      0.01      0.01       155\n",
      "         143       0.01      0.01      0.01       168\n",
      "         144       0.00      0.00      0.00       129\n",
      "         145       0.01      0.01      0.01       143\n",
      "         146       0.01      0.01      0.01       133\n",
      "         147       0.02      0.02      0.02       132\n",
      "         148       0.00      0.00      0.00       125\n",
      "         149       0.01      0.01      0.01       116\n",
      "         150       0.01      0.01      0.01       111\n",
      "         151       0.03      0.02      0.02       114\n",
      "         152       0.00      0.00      0.00       133\n",
      "         153       0.03      0.02      0.02       121\n",
      "         154       0.00      0.00      0.00       123\n",
      "         155       0.00      0.00      0.00       121\n",
      "         156       0.02      0.01      0.01        93\n",
      "         157       0.00      0.00      0.00        95\n",
      "         158       0.02      0.01      0.01        93\n",
      "         159       0.02      0.01      0.01       102\n",
      "         160       0.00      0.00      0.00        82\n",
      "         161       0.00      0.00      0.00        98\n",
      "         162       0.03      0.02      0.03        88\n",
      "         163       0.00      0.00      0.00        77\n",
      "         164       0.02      0.01      0.01        98\n",
      "         165       0.00      0.00      0.00        85\n",
      "         166       0.00      0.00      0.00        77\n",
      "         167       0.00      0.00      0.00       116\n",
      "         168       0.00      0.00      0.00        88\n",
      "         169       0.03      0.01      0.02        81\n",
      "         170       0.00      0.00      0.00        78\n",
      "         171       0.00      0.00      0.00        84\n",
      "         172       0.00      0.00      0.00        78\n",
      "         173       0.02      0.02      0.02        60\n",
      "         174       0.00      0.00      0.00        79\n",
      "         175       0.00      0.00      0.00        61\n",
      "         176       0.00      0.00      0.00        60\n",
      "         177       0.00      0.00      0.00        64\n",
      "         178       0.00      0.00      0.00        61\n",
      "         179       0.04      0.02      0.02        62\n",
      "         180       0.03      0.03      0.03        40\n",
      "         181       0.00      0.00      0.00        52\n",
      "         182       0.00      0.00      0.00        41\n",
      "         183       0.00      0.00      0.00        49\n",
      "         184       0.00      0.00      0.00        52\n",
      "         185       0.00      0.00      0.00        53\n",
      "         186       0.00      0.00      0.00        47\n",
      "         187       0.00      0.00      0.00        62\n",
      "         188       0.00      0.00      0.00        44\n",
      "         189       0.00      0.00      0.00        55\n",
      "         190       0.00      0.00      0.00        42\n",
      "         191       0.00      0.00      0.00        34\n",
      "         192       0.00      0.00      0.00        52\n",
      "         193       0.00      0.00      0.00        44\n",
      "         194       0.00      0.00      0.00        52\n",
      "         195       0.00      0.00      0.00        37\n",
      "         196       0.00      0.00      0.00        38\n",
      "         197       0.00      0.00      0.00        39\n",
      "         198       0.00      0.00      0.00        35\n",
      "         199       0.00      0.00      0.00        34\n",
      "         200       0.00      0.00      0.00        38\n",
      "         201       0.00      0.00      0.00        31\n",
      "         202       0.00      0.00      0.00        38\n",
      "         203       0.00      0.00      0.00        20\n",
      "         204       0.00      0.00      0.00        24\n",
      "         205       0.00      0.00      0.00        26\n",
      "         206       0.00      0.00      0.00        28\n",
      "         207       0.00      0.00      0.00        20\n",
      "         208       0.00      0.00      0.00        27\n",
      "         209       0.00      0.00      0.00        19\n",
      "         210       0.00      0.00      0.00        26\n",
      "         211       0.00      0.00      0.00        27\n",
      "         212       0.00      0.00      0.00        25\n",
      "         213       0.00      0.00      0.00        28\n",
      "         214       0.00      0.00      0.00        18\n",
      "         215       0.00      0.00      0.00        18\n",
      "         216       0.00      0.00      0.00        21\n",
      "         217       0.00      0.00      0.00        24\n",
      "         218       0.00      0.00      0.00        20\n",
      "         219       0.00      0.00      0.00        24\n",
      "         220       0.00      0.00      0.00        29\n",
      "         221       0.00      0.00      0.00        23\n",
      "         222       0.00      0.00      0.00        25\n",
      "         223       0.00      0.00      0.00        17\n",
      "         224       0.00      0.00      0.00        16\n",
      "         225       0.00      0.00      0.00        16\n",
      "         226       0.00      0.00      0.00        20\n",
      "         227       0.00      0.00      0.00        11\n",
      "         228       0.00      0.00      0.00        19\n",
      "         229       0.00      0.00      0.00        13\n",
      "         230       0.00      0.00      0.00        19\n",
      "         231       0.00      0.00      0.00        20\n",
      "         232       0.00      0.00      0.00        13\n",
      "         233       0.00      0.00      0.00        13\n",
      "         234       0.00      0.00      0.00         9\n",
      "         235       0.00      0.00      0.00         8\n",
      "         236       0.00      0.00      0.00        11\n",
      "         237       0.00      0.00      0.00        13\n",
      "         238       0.00      0.00      0.00         7\n",
      "         239       0.00      0.00      0.00         5\n",
      "         240       0.00      0.00      0.00        11\n",
      "         241       0.00      0.00      0.00         4\n",
      "         242       0.00      0.00      0.00        18\n",
      "         243       0.00      0.00      0.00         5\n",
      "         244       0.00      0.00      0.00        11\n",
      "         245       0.00      0.00      0.00         8\n",
      "         246       0.00      0.00      0.00         4\n",
      "         247       0.00      0.00      0.00         7\n",
      "         248       0.00      0.00      0.00         7\n",
      "         249       0.00      0.00      0.00         5\n",
      "         250       0.00      0.00      0.00         6\n",
      "         251       0.00      0.00      0.00         5\n",
      "         252       0.00      0.00      0.00         4\n",
      "         253       0.00      0.00      0.00         4\n",
      "         254       0.00      0.00      0.00         6\n",
      "         255       0.00      0.00      0.00         4\n",
      "         256       0.00      0.00      0.00        10\n",
      "         257       0.00      0.00      0.00         4\n",
      "         258       0.00      0.00      0.00         9\n",
      "         259       0.00      0.00      0.00         3\n",
      "         260       0.00      0.00      0.00         9\n",
      "         261       0.00      0.00      0.00         3\n",
      "         262       0.00      0.00      0.00         6\n",
      "         263       0.00      0.00      0.00         3\n",
      "         264       0.00      0.00      0.00         5\n",
      "         265       0.00      0.00      0.00         6\n",
      "         266       0.00      0.00      0.00         5\n",
      "         267       0.00      0.00      0.00         2\n",
      "         268       0.00      0.00      0.00         2\n",
      "         269       0.00      0.00      0.00        10\n",
      "         270       0.00      0.00      0.00         2\n",
      "         271       0.00      0.00      0.00         5\n",
      "         272       0.00      0.00      0.00         5\n",
      "         273       0.00      0.00      0.00         1\n",
      "         274       0.00      0.00      0.00         5\n",
      "         275       0.00      0.00      0.00         3\n",
      "         276       0.00      0.00      0.00         2\n",
      "         277       0.00      0.00      0.00         4\n",
      "         278       0.00      0.00      0.00         3\n",
      "         279       0.00      0.00      0.00         1\n",
      "         280       0.00      0.00      0.00         3\n",
      "         281       0.00      0.00      0.00         3\n",
      "         282       0.00      0.00      0.00         4\n",
      "         283       0.00      0.00      0.00         1\n",
      "         284       0.00      0.00      0.00         4\n",
      "         285       0.00      0.00      0.00         3\n",
      "         286       0.00      0.00      0.00         1\n",
      "         287       0.00      0.00      0.00         1\n",
      "         288       0.00      0.00      0.00         2\n",
      "         289       0.00      0.00      0.00         1\n",
      "         290       0.00      0.00      0.00         4\n",
      "         291       0.00      0.00      0.00         2\n",
      "         292       0.00      0.00      0.00         0\n",
      "         293       0.00      0.00      0.00         2\n",
      "         295       0.00      0.00      0.00         2\n",
      "         296       0.00      0.00      0.00         1\n",
      "         297       0.00      0.00      0.00         1\n",
      "         298       0.00      0.00      0.00         2\n",
      "         299       0.00      0.00      0.00         2\n",
      "         300       0.00      0.00      0.00         2\n",
      "         301       0.00      0.00      0.00         2\n",
      "         302       0.00      0.00      0.00         1\n",
      "         303       0.00      0.00      0.00         1\n",
      "         305       0.00      0.00      0.00         2\n",
      "         306       0.00      0.00      0.00         4\n",
      "         307       0.00      0.00      0.00         1\n",
      "         308       0.00      0.00      0.00         1\n",
      "         309       0.00      0.00      0.00         1\n",
      "         311       0.00      0.00      0.00         1\n",
      "         312       0.00      0.00      0.00         1\n",
      "         313       0.00      0.00      0.00         1\n",
      "         314       0.00      0.00      0.00         2\n",
      "         317       0.00      0.00      0.00         0\n",
      "         319       0.00      0.00      0.00         1\n",
      "         320       0.00      0.00      0.00         3\n",
      "         321       0.00      0.00      0.00         1\n",
      "         323       0.00      0.00      0.00         1\n",
      "         324       0.00      0.00      0.00         1\n",
      "         327       0.00      0.00      0.00         1\n",
      "         328       0.00      0.00      0.00         2\n",
      "         329       0.00      0.00      0.00         1\n",
      "         332       0.00      0.00      0.00         1\n",
      "         333       0.00      0.00      0.00         1\n",
      "         336       0.00      0.00      0.00         2\n",
      "         339       0.00      0.00      0.00         2\n",
      "         342       0.00      0.00      0.00         1\n",
      "         343       0.00      0.00      0.00         2\n",
      "         346       0.00      0.00      0.00         1\n",
      "         347       0.00      0.00      0.00         1\n",
      "         351       0.00      0.00      0.00         2\n",
      "         352       0.00      0.00      0.00         3\n",
      "         353       0.00      0.00      0.00         2\n",
      "         356       0.00      0.00      0.00         1\n",
      "         362       0.00      0.00      0.00         1\n",
      "         363       0.00      0.00      0.00         1\n",
      "         366       0.00      0.00      0.00         1\n",
      "         370       0.00      0.00      0.00         1\n",
      "         372       0.00      0.00      0.00         1\n",
      "         374       0.00      0.00      0.00         1\n",
      "         551       0.00      0.00      0.00         1\n",
      "\n",
      "    accuracy                           0.51     52589\n",
      "   macro avg       0.01      0.01      0.01     52589\n",
      "weighted avg       0.46      0.51      0.48     52589\n",
      "\n"
     ]
    },
    {
     "name": "stderr",
     "output_type": "stream",
     "text": [
      "C:\\Users\\Agustin_Garcia\\Anaconda3\\envs\\dhdsblend2021_geopandas\\lib\\site-packages\\sklearn\\metrics\\_classification.py:1318: UndefinedMetricWarning: Precision and F-score are ill-defined and being set to 0.0 in labels with no predicted samples. Use `zero_division` parameter to control this behavior.\n",
      "  _warn_prf(average, modifier, msg_start, len(result))\n",
      "C:\\Users\\Agustin_Garcia\\Anaconda3\\envs\\dhdsblend2021_geopandas\\lib\\site-packages\\sklearn\\metrics\\_classification.py:1318: UndefinedMetricWarning: Recall and F-score are ill-defined and being set to 0.0 in labels with no true samples. Use `zero_division` parameter to control this behavior.\n",
      "  _warn_prf(average, modifier, msg_start, len(result))\n",
      "C:\\Users\\Agustin_Garcia\\Anaconda3\\envs\\dhdsblend2021_geopandas\\lib\\site-packages\\sklearn\\metrics\\_classification.py:1318: UndefinedMetricWarning: Precision and F-score are ill-defined and being set to 0.0 in labels with no predicted samples. Use `zero_division` parameter to control this behavior.\n",
      "  _warn_prf(average, modifier, msg_start, len(result))\n",
      "C:\\Users\\Agustin_Garcia\\Anaconda3\\envs\\dhdsblend2021_geopandas\\lib\\site-packages\\sklearn\\metrics\\_classification.py:1318: UndefinedMetricWarning: Recall and F-score are ill-defined and being set to 0.0 in labels with no true samples. Use `zero_division` parameter to control this behavior.\n",
      "  _warn_prf(average, modifier, msg_start, len(result))\n",
      "C:\\Users\\Agustin_Garcia\\Anaconda3\\envs\\dhdsblend2021_geopandas\\lib\\site-packages\\sklearn\\metrics\\_classification.py:1318: UndefinedMetricWarning: Precision and F-score are ill-defined and being set to 0.0 in labels with no predicted samples. Use `zero_division` parameter to control this behavior.\n",
      "  _warn_prf(average, modifier, msg_start, len(result))\n",
      "C:\\Users\\Agustin_Garcia\\Anaconda3\\envs\\dhdsblend2021_geopandas\\lib\\site-packages\\sklearn\\metrics\\_classification.py:1318: UndefinedMetricWarning: Recall and F-score are ill-defined and being set to 0.0 in labels with no true samples. Use `zero_division` parameter to control this behavior.\n",
      "  _warn_prf(average, modifier, msg_start, len(result))\n"
     ]
    }
   ],
   "source": [
    "from sklearn.metrics import classification_report\n",
    "print(classification_report(y_test['Clearsky DHI'],dhi_pred_knc))"
   ]
  },
  {
   "cell_type": "code",
   "execution_count": 66,
   "id": "dd42f357",
   "metadata": {},
   "outputs": [],
   "source": [
    "from sklearn.metrics import confusion_matrix"
   ]
  },
  {
   "cell_type": "code",
   "execution_count": null,
   "id": "253a2874",
   "metadata": {},
   "outputs": [],
   "source": []
  },
  {
   "cell_type": "markdown",
   "id": "98e27e2a",
   "metadata": {},
   "source": [
    "<a id=\"section_curva_roc\"></a> \n",
    "## 6. Curva ROC\n",
    "---\n",
    "<a href='#tabla_contenidos'>Volver a la Tabla de Contenidos</a>"
   ]
  },
  {
   "cell_type": "code",
   "execution_count": null,
   "id": "608f8acd",
   "metadata": {},
   "outputs": [],
   "source": [
    "Nuevo cambio"
   ]
  },
  {
   "cell_type": "markdown",
   "id": "8065f4ef",
   "metadata": {},
   "source": [
    "<a id=\"section_umbrales\"></a> \n",
    "### 6.1 Ajustando los umbrales"
   ]
  },
  {
   "cell_type": "code",
   "execution_count": null,
   "id": "1f3bc11b",
   "metadata": {},
   "outputs": [],
   "source": []
  },
  {
   "cell_type": "markdown",
   "id": "2a5c2f74",
   "metadata": {},
   "source": [
    "<a id=\"section_imp_croc\"></a> \n",
    "### 6.2 Implementación Curva ROC y AUC"
   ]
  },
  {
   "cell_type": "code",
   "execution_count": null,
   "id": "b6598e6e",
   "metadata": {},
   "outputs": [],
   "source": []
  },
  {
   "cell_type": "markdown",
   "id": "ba030cbc",
   "metadata": {},
   "source": [
    "<a id=\"conclusiones\"></a> \n",
    "## 7. Conclusiones\n",
    "---\n",
    "<a href='#tabla_contenidos'>Volver a la Tabla de Contenidos</a>"
   ]
  },
  {
   "cell_type": "code",
   "execution_count": null,
   "id": "a726108c",
   "metadata": {},
   "outputs": [],
   "source": []
  }
 ],
 "metadata": {
  "kernelspec": {
   "display_name": "Python 3 (ipykernel)",
   "language": "python",
   "name": "python3"
  },
  "language_info": {
   "codemirror_mode": {
    "name": "ipython",
    "version": 3
   },
   "file_extension": ".py",
   "mimetype": "text/x-python",
   "name": "python",
   "nbconvert_exporter": "python",
   "pygments_lexer": "ipython3",
   "version": "3.7.15"
  }
 },
 "nbformat": 4,
 "nbformat_minor": 5
}
